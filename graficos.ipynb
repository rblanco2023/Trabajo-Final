{
 "cells": [
  {
   "cell_type": "code",
   "execution_count": 1,
   "metadata": {},
   "outputs": [],
   "source": [
    "import numpy as np\n",
    "import pandas as pd\n",
    "import seaborn as sns\n",
    "import matplotlib.pyplot as plt\n",
    "import time\n",
    "from sklearn.preprocessing import StandardScaler\n",
    "from sklearn.ensemble import IsolationForest\n",
    "from sklearn.decomposition import PCA\n",
    "import keras.backend as K\n",
    "from sklearn.metrics import confusion_matrix, classification_report, roc_curve, auc\n",
    "#from sklearn.svm import OneClassSVM\n",
    "import joblib\n",
    "from joblib import dump, load\n",
    "import tensorflow as tf\n",
    "from tensorflow.keras.layers import Input, Dense, LSTM, RepeatVector, Dropout\n",
    "from tensorflow.keras.models import Model, Sequential\n",
    "from tensorflow.keras.optimizers import Adam, RMSprop\n",
    "from tensorflow.keras.losses import MeanSquaredError\n",
    "from keras.regularizers import l2, l1\n",
    "from keras.models import model_from_json"
   ]
  },
  {
   "cell_type": "code",
   "execution_count": 2,
   "metadata": {},
   "outputs": [],
   "source": [
    "json_file = open('rbm_u_1.json', 'r')\n",
    "loaded_model_json = json_file.read()\n",
    "json_file.close()\n",
    "rbm_model_u = model_from_json(loaded_model_json)\n",
    "rbm_model_u.load_weights(\"rbm_u_1.h5\")\n",
    "\n",
    "json_file = open('lstm_u_1.json', 'r')\n",
    "loaded_model_json = json_file.read()\n",
    "json_file.close()\n",
    "autoencoder_u = model_from_json(loaded_model_json)\n",
    "autoencoder_u.load_weights(\"lstm_u_1.h5\")\n",
    "model_if_u = load('if_u_1.joblib')"
   ]
  },
  {
   "cell_type": "code",
   "execution_count": 3,
   "metadata": {},
   "outputs": [],
   "source": [
    "json_file = open('rbm_n_1.json', 'r')\n",
    "loaded_model_json = json_file.read()\n",
    "json_file.close()\n",
    "rbm_model_n = model_from_json(loaded_model_json)\n",
    "rbm_model_n.load_weights(\"rbm_n_1.h5\")\n",
    "\n",
    "json_file = open('lstm_n_1.json', 'r')\n",
    "loaded_model_json = json_file.read()\n",
    "json_file.close()\n",
    "autoencoder_n = model_from_json(loaded_model_json)\n",
    "autoencoder_n.load_weights(\"lstm_n_1.h5\")\n",
    "model_if_n = load('if_n_1.joblib')"
   ]
  },
  {
   "cell_type": "code",
   "execution_count": 63,
   "metadata": {},
   "outputs": [],
   "source": [
    "filePath = \"C:/Users/raul.blanco/Documents/4 - Personales/UBA/Repositorios/IA/Trabajo-Final/test_data_u.csv\"\n",
    "test_data_u = pd.read_csv(filepath_or_buffer=filePath, header=0, sep=\",\")\n",
    "filePath = \"C:/Users/raul.blanco/Documents/4 - Personales/UBA/Repositorios/IA/Trabajo-Final/y_test_u.csv\"\n",
    "y_test_u = pd.read_csv(filepath_or_buffer=filePath, header=0, sep=\",\")"
   ]
  },
  {
   "cell_type": "code",
   "execution_count": 64,
   "metadata": {},
   "outputs": [],
   "source": [
    "feature = 'bt'\n",
    "anomaly_percentage_test = 0.01\n",
    "sample_indices_test = test_data_u.sample(frac=anomaly_percentage_test, random_state=42).index\n",
    "num_anomalies_test = int(len(test_data_u) * anomaly_percentage_test)+1\n",
    "test_data_u.loc[sample_indices_test, feature] = np.random.normal(loc=40, scale=1.5, size=len(sample_indices_test))\n",
    "#test_data.loc[sample_indices_test, feature] = np.random.uniform(low=0, high=100, size=len(sample_indices_test))"
   ]
  },
  {
   "cell_type": "code",
   "execution_count": 65,
   "metadata": {},
   "outputs": [],
   "source": [
    "y_test_u = y_test_u.drop(['Unnamed: 0'], axis=1)\n",
    "test_timedelta_u = test_data_u[['timedelta']]\n",
    "test_timedelta_u = test_data_u.drop(['timedelta.1'], axis=1)\n",
    "test_data_u = test_data_u.drop(['timedelta.1', 'timedelta', 'Unnamed: 0'], axis=1)"
   ]
  },
  {
   "cell_type": "code",
   "execution_count": 67,
   "metadata": {},
   "outputs": [],
   "source": [
    "scaler = StandardScaler()\n",
    "X_test_scaled_u = scaler.fit_transform(test_data_u)\n",
    "componentes = 9\n",
    "pca = PCA(n_components = componentes)\n",
    "#X_test_pca_u = pca.fit_transform(test_data_u)\n",
    "X_test_pca_u = pca.fit_transform(X_test_scaled_u)\n",
    "data_test_X_u = X_test_pca_u"
   ]
  },
  {
   "cell_type": "code",
   "execution_count": 68,
   "metadata": {},
   "outputs": [
    {
     "name": "stdout",
     "output_type": "stream",
     "text": [
      "47320/47320 [==============================] - 30s 629us/step\n"
     ]
    }
   ],
   "source": [
    "X_test_pred_RBM_u = rbm_model_u.predict(data_test_X_u)\n",
    "#X_test_3d_u = X_test_pca_u.reshape(X_test_pca_u.shape[0], 1, X_test_pca_u.shape[1])\n",
    "#X_test_pred_LSTM_u = autoencoder_u.predict(X_test_3d_u)\n",
    "#X_test_pred_if_u = model_if_u.predict(data_test_X_u)"
   ]
  },
  {
   "cell_type": "code",
   "execution_count": 24,
   "metadata": {},
   "outputs": [],
   "source": [
    "#X_test_pred_if_u = np.where(X_test_pred_if_u == 1, 0, np.where(X_test_pred_if_u == -1, 1, X_test_pred_if_u))"
   ]
  },
  {
   "cell_type": "code",
   "execution_count": 69,
   "metadata": {},
   "outputs": [
    {
     "name": "stdout",
     "output_type": "stream",
     "text": [
      "47320/47320 [==============================] - 42s 890us/step\n"
     ]
    }
   ],
   "source": [
    "X_test_pred_RBM_n = rbm_model_n.predict(data_test_X_u)"
   ]
  },
  {
   "cell_type": "code",
   "execution_count": 71,
   "metadata": {},
   "outputs": [
    {
     "name": "stdout",
     "output_type": "stream",
     "text": [
      "Threshold_u =  3.5\n",
      "Threshold_n =  3.5\n"
     ]
    },
    {
     "data": {
      "image/png": "[encoded data removed]",
      "text/plain": [
       "<Figure size 432x288 with 1 Axes>"
      ]
     },
     "metadata": {
      "needs_background": "light"
     },
     "output_type": "display_data"
    },
    {
     "name": "stdout",
     "output_type": "stream",
     "text": [
      "AUC_u: 0.8893354235111652\n",
      "AUC_n: 0.8986971966045728\n",
      "Threshold =  3.5\n"
     ]
    }
   ],
   "source": [
    "threshold_u = float(input(\"Ingrese el Threshold a utilizar (uniform): \"))\n",
    "print(\"Threshold_u = \", threshold_u)\n",
    "y_test_pred_u = np.where(np.linalg.norm(data_test_X_u - X_test_pred_RBM_u, axis=1) > threshold_u, 1, 0)\n",
    "fpr_u, tpr_u, thresholds = roc_curve(y_test_u, y_test_pred_u)\n",
    "roc_auc_u = auc(fpr_u, tpr_u)\n",
    "\n",
    "threshold_n = float(input(\"Ingrese el Threshold a utilizar (normal): \"))\n",
    "print(\"Threshold_n = \", threshold_n)\n",
    "y_test_pred_n = np.where(np.linalg.norm(data_test_X_u - X_test_pred_RBM_n, axis=1) > threshold_n, 1, 0)\n",
    "fpr_n, tpr_n, thresholds = roc_curve(y_test_u, y_test_pred_n)\n",
    "roc_auc_n = auc(fpr_n, tpr_n)\n",
    "\n",
    "plt.figure()\n",
    "plt.plot(fpr_u, tpr_u, label='ROC curve_u (area = %0.2f)' % roc_auc_u)\n",
    "plt.plot(fpr_n, tpr_n, label='ROC curve_n (area = %0.2f)' % roc_auc_n)\n",
    "plt.plot([0, 1], [0, 1], 'k--')\n",
    "plt.xlim([0.0, 1.0])\n",
    "plt.ylim([0.0, 1.05])\n",
    "plt.xlabel('False Positive Rate')\n",
    "plt.ylabel('True Positive Rate')\n",
    "plt.title('Receiver Operating Characteristic')\n",
    "plt.legend(loc=\"lower right\")\n",
    "plt.show()\n",
    "print('AUC_u:', roc_auc_u)\n",
    "print('AUC_n:', roc_auc_n)\n",
    "print(\"Threshold = \", threshold_n)"
   ]
  },
  {
   "cell_type": "code",
   "execution_count": 47,
   "metadata": {},
   "outputs": [
    {
     "name": "stdout",
     "output_type": "stream",
     "text": [
      "Número de registros con valor 0: 1178830\n",
      "Número de registros con valor 1: 335387\n"
     ]
    }
   ],
   "source": [
    "# Suponiendo que data_test_X_u es tu ndarray\n",
    "count_zeros = np.count_nonzero(y_test_pred_n == 0)\n",
    "count_ones = np.count_nonzero(y_test_pred_n == 1)\n",
    "\n",
    "print(f\"Número de registros con valor 0: {count_zeros}\")\n",
    "print(f\"Número de registros con valor 1: {count_ones}\")"
   ]
  },
  {
   "cell_type": "code",
   "execution_count": 56,
   "metadata": {},
   "outputs": [
    {
     "name": "stdout",
     "output_type": "stream",
     "text": [
      "Número de registros con valor 0: 1499075\n",
      "Número de registros con valor 1: 15142\n"
     ]
    }
   ],
   "source": [
    "# Suponiendo que data_test_X_u es tu ndarray\n",
    "count_zeros = np.count_nonzero(y_test_u == 0)\n",
    "count_ones = np.count_nonzero(y_test_u == 1)\n",
    "\n",
    "print(f\"Número de registros con valor 0: {count_zeros}\")\n",
    "print(f\"Número de registros con valor 1: {count_ones}\")"
   ]
  }
 ],
 "metadata": {
  "kernelspec": {
   "display_name": "base",
   "language": "python",
   "name": "python3"
  },
  "language_info": {
   "codemirror_mode": {
    "name": "ipython",
    "version": 3
   },
   "file_extension": ".py",
   "mimetype": "text/x-python",
   "name": "python",
   "nbconvert_exporter": "python",
   "pygments_lexer": "ipython3",
   "version": "3.9.12"
  },
  "orig_nbformat": 4
 },
 "nbformat": 4,
 "nbformat_minor": 2
}
