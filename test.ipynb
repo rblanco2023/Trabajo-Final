{
 "cells": [
  {
   "cell_type": "code",
   "execution_count": 65,
   "metadata": {},
   "outputs": [],
   "source": [
    "import numpy as np\n",
    "import pandas as pd\n",
    "from sklearn.preprocessing import StandardScaler\n",
    "from keras.layers import Input, LSTM, RepeatVector\n",
    "from keras.models import Model\n",
    "\n",
    "from keras.models import Sequential\n",
    "from keras.layers import Dense\n",
    "from keras.optimizers import Adam\n",
    "\n",
    "from sklearn.ensemble import IsolationForest\n",
    "\n",
    "from sklearn.svm import OneClassSVM\n",
    "\n",
    "from reportlab.lib.pagesizes import A4\n",
    "from reportlab.lib.units import inch\n",
    "from reportlab.pdfgen import canvas\n",
    "from reportlab.lib import colors\n",
    "from reportlab.lib.styles import getSampleStyleSheet\n",
    "from reportlab.platypus import Table, TableStyle\n",
    "from joblib import load\n",
    "\n",
    "from sklearn.metrics import classification_report\n",
    "\n",
    "import matplotlib.pyplot as plt \n",
    "import seaborn as sns\n",
    "from sklearn.metrics import confusion_matrix"
   ]
  },
  {
   "cell_type": "code",
   "execution_count": 90,
   "metadata": {},
   "outputs": [],
   "source": [
    "class visualization:\n",
    "  labels = [\"Normal\",\"Anomal\"]\n",
    "  def draw_confusion_matrix(self, y, ypred):\n",
    "    matrix = confusion_matrix(y, ypred)\n",
    "\n",
    "    plt.figure(figsize=(10,8))\n",
    "    colors=[\"orange\", \"green\"]\n",
    "    sns.heatmap(matrix, xticklabels=self.labels, yticklabels=self.labels, cmap=colors, annot=True, fmt=\"d\")\n",
    "    plt.title(\"Confusion Matrix\")\n",
    "    plt.ylabel(\"Realidad\")\n",
    "    plt.xlabel(\"Predicción\")\n",
    "    plt.savefig(\"confusion_matrix.jpg\", dpi=300, bbox_inches='tight')\n",
    "    plt.show()"
   ]
  },
  {
   "cell_type": "code",
   "execution_count": null,
   "metadata": {},
   "outputs": [],
   "source": [
    "filePath = \"C:/Users/raul.blanco/Documents/4 - Personales/UBA/Repositorios/IA/Trabajo-Final/test_data.csv\"\n",
    "test_data = pd.read_csv(filepath_or_buffer=filePath, header=0, sep=\",\")\n",
    "test_timedelta = test_data[['timedelta']]\n",
    "\n",
    "filePath = \"C:/Users/raul.blanco/Documents/4 - Personales/UBA/Repositorios/IA/Trabajo-Final/y_full.csv\"\n",
    "y_full = pd.read_csv(filepath_or_buffer=filePath, header=0, sep=\",\")\n",
    "y = y_full['class']\n",
    "y_full = y_full.to_numpy()"
   ]
  },
  {
   "cell_type": "code",
   "execution_count": 102,
   "metadata": {},
   "outputs": [],
   "source": [
    "model_autoencoder = load('model_autoencoder.pkl')"
   ]
  },
  {
   "cell_type": "code",
   "execution_count": 103,
   "metadata": {},
   "outputs": [],
   "source": [
    "test_data = test_data.drop(['Unnamed: 0',\"timedelta\"], axis=1)"
   ]
  },
  {
   "cell_type": "code",
   "execution_count": 104,
   "metadata": {},
   "outputs": [],
   "source": [
    "test_data = test_data.to_numpy()"
   ]
  },
  {
   "cell_type": "code",
   "execution_count": 105,
   "metadata": {},
   "outputs": [],
   "source": [
    "test_data_LSTM = test_data.reshape(test_data.shape[0],1,test_data.shape[1])"
   ]
  },
  {
   "cell_type": "code",
   "execution_count": 106,
   "metadata": {},
   "outputs": [
    {
     "data": {
      "text/plain": [
       "(278911, 1, 14)"
      ]
     },
     "execution_count": 106,
     "metadata": {},
     "output_type": "execute_result"
    }
   ],
   "source": [
    "test_data_LSTM.shape"
   ]
  },
  {
   "cell_type": "code",
   "execution_count": 107,
   "metadata": {},
   "outputs": [
    {
     "name": "stdout",
     "output_type": "stream",
     "text": [
      "8716/8716 [==============================] - 13s 1ms/step\n"
     ]
    }
   ],
   "source": [
    "predictions_LSTM = model_autoencoder.predict(test_data_LSTM)"
   ]
  },
  {
   "cell_type": "code",
   "execution_count": 108,
   "metadata": {},
   "outputs": [],
   "source": [
    "threshold_LSTM = float(input(\"Modelo LSTM Autoencoder. Ingrese el Threshold a utilizar: \"))"
   ]
  },
  {
   "cell_type": "code",
   "execution_count": 109,
   "metadata": {},
   "outputs": [],
   "source": [
    "predictions_LSTM[predictions_LSTM >= threshold_LSTM] = 1\n",
    "predictions_LSTM[predictions_LSTM < threshold_LSTM] = 0\n",
    "predictions_LSTM = predictions_LSTM.reshape(predictions_LSTM.shape[0], predictions_LSTM.shape[2])"
   ]
  },
  {
   "cell_type": "code",
   "execution_count": 110,
   "metadata": {},
   "outputs": [
    {
     "data": {
      "text/plain": [
       "(278911, 14)"
      ]
     },
     "execution_count": 110,
     "metadata": {},
     "output_type": "execute_result"
    }
   ],
   "source": [
    "test_data.shape"
   ]
  },
  {
   "cell_type": "code",
   "execution_count": 111,
   "metadata": {},
   "outputs": [
    {
     "data": {
      "text/plain": [
       "(278911, 19)"
      ]
     },
     "execution_count": 111,
     "metadata": {},
     "output_type": "execute_result"
    }
   ],
   "source": [
    "y_full.shape"
   ]
  },
  {
   "cell_type": "code",
   "execution_count": 112,
   "metadata": {},
   "outputs": [
    {
     "name": "stdout",
     "output_type": "stream",
     "text": [
      "Predicted     0.0   1.0\n",
      "Actual                 \n",
      "0.0        274115  1450\n",
      "1.0          1062  2284\n"
     ]
    }
   ],
   "source": [
    "test_data = test_data.reshape(test_data_LSTM.shape[0], test_data_LSTM.shape[2])\n",
    "confusion_matrix = pd.crosstab(y_full[:, -1], predictions_LSTM[:, 10], rownames=['Actual'], colnames=['Predicted'])\n",
    "print(confusion_matrix)"
   ]
  },
  {
   "cell_type": "code",
   "execution_count": 113,
   "metadata": {},
   "outputs": [],
   "source": [
    "pd_predictions_LSTM = pd.DataFrame(predictions_LSTM)"
   ]
  },
  {
   "cell_type": "code",
   "execution_count": 114,
   "metadata": {},
   "outputs": [],
   "source": [
    "column_10 = predictions_LSTM[:, 10]\n",
    "is_one_LSTM = column_10 ==1"
   ]
  },
  {
   "cell_type": "code",
   "execution_count": 115,
   "metadata": {},
   "outputs": [],
   "source": [
    "# Asignar 1 a los elementos que sean True y 0 a los elementos que sean False\n",
    "has_ones_LSTM = np.where(is_one_LSTM, 1, 0)"
   ]
  },
  {
   "cell_type": "code",
   "execution_count": 116,
   "metadata": {},
   "outputs": [
    {
     "name": "stdout",
     "output_type": "stream",
     "text": [
      "El número de anomalias es 3734 y 275177 son valores normales\n"
     ]
    }
   ],
   "source": [
    "has_ones_LSTM_pd = pd.DataFrame(has_ones_LSTM, columns=['class'])\n",
    "count = (has_ones_LSTM_pd['class'] == 1).sum()\n",
    "count1 = (has_ones_LSTM_pd['class'] == 0).sum()\n",
    "print(f'El número de anomalias es {count} y {count1} son valores normales')"
   ]
  },
  {
   "cell_type": "code",
   "execution_count": 117,
   "metadata": {},
   "outputs": [],
   "source": [
    "new_column_LSTM = has_ones_LSTM"
   ]
  },
  {
   "cell_type": "code",
   "execution_count": 118,
   "metadata": {},
   "outputs": [],
   "source": [
    "# Agregar la nueva columna al final del ndarray original\n",
    "predictions_class_LSTM = np.hstack((predictions_LSTM, new_column_LSTM.reshape(-1, 1)))"
   ]
  },
  {
   "cell_type": "code",
   "execution_count": 119,
   "metadata": {},
   "outputs": [],
   "source": [
    "pd_predictions_LSTM = pd.DataFrame(predictions_class_LSTM)"
   ]
  },
  {
   "cell_type": "code",
   "execution_count": 120,
   "metadata": {},
   "outputs": [],
   "source": [
    "pd_test_data = pd.DataFrame(test_data)"
   ]
  },
  {
   "cell_type": "code",
   "execution_count": 121,
   "metadata": {},
   "outputs": [
    {
     "name": "stdout",
     "output_type": "stream",
     "text": [
      "              precision    recall  f1-score   support\n",
      "\n",
      "         0.0       0.99      1.00      1.00    275177\n",
      "         1.0       0.68      0.61      0.65      3734\n",
      "\n",
      "    accuracy                           0.99    278911\n",
      "   macro avg       0.84      0.80      0.82    278911\n",
      "weighted avg       0.99      0.99      0.99    278911\n",
      "\n"
     ]
    }
   ],
   "source": [
    "print(classification_report(predictions_class_LSTM[:,14], y))"
   ]
  },
  {
   "cell_type": "code",
   "execution_count": 122,
   "metadata": {},
   "outputs": [],
   "source": [
    "y_pd = pd.DataFrame(y, columns = ['class'])"
   ]
  },
  {
   "cell_type": "code",
   "execution_count": 123,
   "metadata": {},
   "outputs": [],
   "source": [
    "predictions_class_LSTM_pd  = pd.DataFrame(predictions_class_LSTM, columns = ['1','2','3','4','5','6','7','8','9','10','11','12','13','14','class'])"
   ]
  },
  {
   "cell_type": "code",
   "execution_count": 130,
   "metadata": {},
   "outputs": [],
   "source": [
    "import matplotlib.pyplot as plt \n",
    "import seaborn as sns\n",
    "from sklearn.metrics import confusion_matrix\n",
    "class visualization:\n",
    "  labels = [\"Normal\",\"Anomal\"]\n",
    "  def draw_confusion_matrix(self, y, ypred):\n",
    "    matrix = confusion_matrix(y, ypred)\n",
    "\n",
    "    plt.figure(figsize=(10,8))\n",
    "    colors=[\"orange\", \"green\"]\n",
    "    sns.heatmap(matrix, xticklabels=self.labels, yticklabels=self.labels, cmap=colors, annot=True, fmt=\"d\")\n",
    "    plt.title(\"Confusion Matrix\")\n",
    "    plt.ylabel(\"Realidad\")\n",
    "    plt.xlabel(\"Predicción\")\n",
    "    plt.savefig(\"confusion_matrix.jpg\", dpi=300, bbox_inches='tight')\n",
    "    plt.show()"
   ]
  },
  {
   "cell_type": "code",
   "execution_count": 131,
   "metadata": {},
   "outputs": [
    {
     "data": {
      "image/png": "[encoded data removed]",
      "text/plain": [
       "<Figure size 720x576 with 2 Axes>"
      ]
     },
     "metadata": {
      "needs_background": "light"
     },
     "output_type": "display_data"
    }
   ],
   "source": [
    "viz = visualization()\n",
    "viz.draw_confusion_matrix(y_pd, predictions_class_LSTM[:,14])"
   ]
  },
  {
   "cell_type": "code",
   "execution_count": 139,
   "metadata": {},
   "outputs": [],
   "source": [
    "from sklearn.metrics import roc_auc_score\n",
    "clase = y_full[:,-1].astype(int)\n",
    "# Calcular el AUC para cada modelo utilizando la función roc_auc_score() de la biblioteca scikit-learn\n",
    "LSTM_auc = roc_auc_score(clase, predictions_class_LSTM[:,14])"
   ]
  },
  {
   "cell_type": "code",
   "execution_count": 132,
   "metadata": {},
   "outputs": [],
   "source": [
    "test_timedelta.reset_index(inplace=True)"
   ]
  },
  {
   "cell_type": "code",
   "execution_count": 133,
   "metadata": {},
   "outputs": [],
   "source": [
    "predictions_class_LSTM_pd = pd.concat([test_timedelta, predictions_class_LSTM_pd], axis = 1 , join = \"inner\")"
   ]
  },
  {
   "cell_type": "code",
   "execution_count": 134,
   "metadata": {},
   "outputs": [],
   "source": [
    "anomalies_LSTM = predictions_class_LSTM_pd.loc[predictions_class_LSTM_pd['class'] == 1.0,['timedelta']]"
   ]
  },
  {
   "cell_type": "code",
   "execution_count": 135,
   "metadata": {},
   "outputs": [],
   "source": [
    "test_data_pd = pd.DataFrame(test_data, columns=['bx_gse', 'by_gse', 'bz_gse', 'theta_gse',\n",
    "       'phi_gse', 'bx_gsm', 'by_gsm', 'bz_gsm', 'theta_gsm', 'phi_gsm', 'bt',\n",
    "       'density', 'speed', 'temperature'])\n",
    "test_data_pd = pd.concat([test_timedelta, test_data_pd], axis = 1 , join = \"inner\")"
   ]
  },
  {
   "cell_type": "code",
   "execution_count": 136,
   "metadata": {},
   "outputs": [],
   "source": [
    "output = test_data_pd[test_data_pd['timedelta'].isin(anomalies_LSTM['timedelta'])]\n",
    "output = output.round(3)"
   ]
  },
  {
   "cell_type": "code",
   "execution_count": 137,
   "metadata": {},
   "outputs": [],
   "source": [
    "output = output.drop(['index'], axis=1)"
   ]
  },
  {
   "cell_type": "code",
   "execution_count": 140,
   "metadata": {},
   "outputs": [],
   "source": [
    "from reportlab.lib.pagesizes import A4\n",
    "from reportlab.lib.units import inch\n",
    "from reportlab.pdfgen import canvas\n",
    "from reportlab.lib import colors\n",
    "from reportlab.lib.styles import getSampleStyleSheet\n",
    "from reportlab.platypus import Table, TableStyle\n",
    "\n",
    "pdf = canvas.Canvas(\"Reporte de Anomalías.pdf\", pagesize=A4)\n",
    "page_width, page_height = A4\n",
    "inch = 72  #32\n",
    "df = output\n",
    "\n",
    "data = [df.columns.tolist()] + df.values.tolist()\n",
    "\n",
    "styles = getSampleStyleSheet()\n",
    "style_table = TableStyle([\n",
    "    ('BACKGROUND', (0, 0), (-1, 0), colors.grey),\n",
    "    ('TEXTCOLOR', (0, 0), (-1, 0), colors.whitesmoke),\n",
    "    ('FONTNAME', (0, 0), (-1, 0), 'Helvetica-Bold'),\n",
    "    ('FONTSIZE', (0, 0), (-1, 0), 6),\n",
    "    ('BOTTOMPADDING', (0, 0), (-1, 0),12),\n",
    "    ('BACKGROUND', (0, 1), (-1, -1), colors.lightgreen),\n",
    "    ('GRID', (0, 0), (-1, -1), 1, colors.black),\n",
    "    ('ALIGN', (0, 0), (-1, -1), 'CENTER'),\n",
    "    ('VALIGN', (0, 0), (-1, -1), 'MIDDLE'),\n",
    "    ('FONTNAME', (0, 1), (-1, -1), 'Helvetica'),\n",
    "    ('FONTSIZE', (0, 1), (-1, -1), 6),\n",
    "    ('BOTTOMPADDING', (0, 1), (-1, -1), 6),\n",
    "])\n",
    "\n",
    "num_rows = len(data)\n",
    "num_cols = len(data[0])\n",
    "\n",
    "max_rows_per_page = int((page_height - 5.5 * inch) / (12 * 1.2)) - 1\n",
    "\n",
    "num_pages = int(num_rows / max_rows_per_page) + 1\n",
    "\n",
    "for page in range(num_pages):\n",
    "    # Título en la primera página\n",
    "    if page == 0:\n",
    "        pdf.setFont(\"Helvetica-Bold\", 16)\n",
    "        pdf.drawString(inch, page_height - inch, \"Reporte de anomalías detectadas\")\n",
    "        pdf.drawString(inch, page_height - inch+18, \"INVAP\")\n",
    "\n",
    "    # Agrego la matriz de confusión\n",
    "        pdf.setFont(\"Helvetica\", 11)\n",
    "        pdf.drawString(inch, page_height - inch-20, \"La matriz de confusión obtenida con el modelo seleccionado es la siguiente:\")\n",
    "        pdf.drawImage(\"confusion_matrix.jpg\", 100, 360, width=5*inch, height=5*inch)\n",
    "        #pdf.drawImage(\"confusion_matrix.jpg\", 100, 400, width=350, height=350) #, width=3*inch, height=3*inch)\n",
    "\n",
    "    # Agrego resultados de AUC\n",
    "        pdf.drawString(inch, 300, f\"AUC de Restricted Bolztmann Machine: {LSTM_auc}\")\n",
    "        pdf.setFont(\"Helvetica\", 8)\n",
    "        pdf.drawString(inch, inch+24, \"Informe de anormalidades detectadas\")\n",
    "        pdf.drawString(inch, inch+12, \"Especialización en Inteligencia Artificial\")\n",
    "        pdf.drawString(inch, inch, \"Ing. Raúl Blanco Elicabe\")\n",
    "        pdf.drawString(inch+420, inch, f\"Página {page+1}\")\n",
    "        pdf.showPage()\n",
    "    if page > 0:\n",
    "    # Pie de página en todas las páginas\n",
    "        pdf.setFont(\"Helvetica\", 8)\n",
    "        pdf.drawString(inch, inch+24, \"Informe de anormalidades detectadas\")\n",
    "        pdf.drawString(inch, inch+12, \"Especialización en Inteligencia Artificial\")\n",
    "        pdf.drawString(inch, inch, \"Ing. Raúl Blanco Elicabe\")\n",
    "        pdf.drawString(inch+420, inch, f\"Página {page+1}\")\n",
    "\n",
    "\n",
    "        start_row = (page-1) * max_rows_per_page\n",
    "        end_row = min((page) * max_rows_per_page, num_rows)\n",
    "\n",
    "        page_data = data[start_row:end_row]\n",
    "\n",
    "        table = Table(page_data,colWidths=[0.75 * inch, 0.4 * inch, 0.4 * inch, 0.4 * inch, 0.4 * inch, 0.4 * inch, 0.4 * inch, 0.4 * inch, 0.4 * inch, 0.4 * inch, 0.4 * inch, 0.4 * inch, 0.4 * inch, 0.4 * inch, 0.4 * inch])\n",
    "        \n",
    "        table.setStyle(style_table)\n",
    "\n",
    "        table.wrapOn(pdf, page_width - 2 * inch, page_height - 2 * inch)\n",
    "        table.drawOn(pdf, inch, page_height - 10 * inch - 12 * 1.2)\n",
    "\n",
    "        if page < num_pages - 1:\n",
    "            pdf.showPage()\n",
    "\n",
    "pdf.save()\n"
   ]
  }
 ],
 "metadata": {
  "kernelspec": {
   "display_name": "base",
   "language": "python",
   "name": "python3"
  },
  "language_info": {
   "codemirror_mode": {
    "name": "ipython",
    "version": 3
   },
   "file_extension": ".py",
   "mimetype": "text/x-python",
   "name": "python",
   "nbconvert_exporter": "python",
   "pygments_lexer": "ipython3",
   "version": "3.9.12"
  },
  "orig_nbformat": 4
 },
 "nbformat": 4,
 "nbformat_minor": 2
}
