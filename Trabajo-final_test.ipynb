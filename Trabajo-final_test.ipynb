{
 "cells": [
  {
   "cell_type": "code",
   "execution_count": 21,
   "metadata": {},
   "outputs": [],
   "source": [
    "import numpy as np\n",
    "import pandas as pd\n",
    "import seaborn as sns\n",
    "import time\n",
    "from sklearn.preprocessing import StandardScaler\n",
    "from sklearn.ensemble import IsolationForest\n",
    "from sklearn.decomposition import PCA\n",
    "import keras.backend as K\n",
    "from sklearn.metrics import confusion_matrix, classification_report, roc_curve, auc\n",
    "import joblib\n",
    "from joblib import load\n",
    "from keras.models import model_from_json\n",
    "import matplotlib.pyplot as plt"
   ]
  },
  {
   "cell_type": "code",
   "execution_count": 4,
   "metadata": {},
   "outputs": [
    {
     "name": "stdout",
     "output_type": "stream",
     "text": [
      "Se está cargando el dataset, aguarde un momento...\n",
      "Dataset test_data_u cargado correctamente.\n"
     ]
    }
   ],
   "source": [
    "print(\"Se está cargando el dataset, aguarde un momento...\")\n",
    "filePath = \"C:/Users/raul.blanco/Documents/4 - Personales/UBA/Repositorios/IA/Trabajo-Final/test_data_u.csv\"\n",
    "test_data_u = pd.read_csv(filepath_or_buffer=filePath, header=0, sep=\",\")\n",
    "test_data_u = test_data_u.dropna()\n",
    "test_data_u = test_data_u.drop(['timedelta', 'Unnamed: 0'], axis=1)\n",
    "print(\"Dataset test_data_u cargado correctamente.\")"
   ]
  },
  {
   "cell_type": "code",
   "execution_count": 5,
   "metadata": {},
   "outputs": [
    {
     "name": "stdout",
     "output_type": "stream",
     "text": [
      "Se está cargando el dataset, aguarde un momento...\n",
      "Dataset test_data_n cargado correctamente.\n"
     ]
    }
   ],
   "source": [
    "print(\"Se está cargando el dataset, aguarde un momento...\")\n",
    "filePath = \"C:/Users/raul.blanco/Documents/4 - Personales/UBA/Repositorios/IA/Trabajo-Final/test_data_n.csv\"\n",
    "test_data_n = pd.read_csv(filepath_or_buffer=filePath, header=0, sep=\",\")\n",
    "test_data_n = test_data_n.dropna()\n",
    "test_data_n = test_data_n.drop(['timedelta', 'Unnamed: 0'], axis=1)\n",
    "print(\"Dataset test_data_n cargado correctamente.\")"
   ]
  },
  {
   "cell_type": "code",
   "execution_count": 6,
   "metadata": {},
   "outputs": [
    {
     "data": {
      "text/html": [
       "<div>\n",
       "<style scoped>\n",
       "    .dataframe tbody tr th:only-of-type {\n",
       "        vertical-align: middle;\n",
       "    }\n",
       "\n",
       "    .dataframe tbody tr th {\n",
       "        vertical-align: top;\n",
       "    }\n",
       "\n",
       "    .dataframe thead th {\n",
       "        text-align: right;\n",
       "    }\n",
       "</style>\n",
       "<table border=\"1\" class=\"dataframe\">\n",
       "  <thead>\n",
       "    <tr style=\"text-align: right;\">\n",
       "      <th></th>\n",
       "      <th>period</th>\n",
       "      <th>bx_gse</th>\n",
       "      <th>by_gse</th>\n",
       "      <th>bz_gse</th>\n",
       "      <th>theta_gse</th>\n",
       "      <th>phi_gse</th>\n",
       "      <th>bx_gsm</th>\n",
       "      <th>by_gsm</th>\n",
       "      <th>bz_gsm</th>\n",
       "      <th>theta_gsm</th>\n",
       "      <th>phi_gsm</th>\n",
       "      <th>bt</th>\n",
       "      <th>density</th>\n",
       "      <th>speed</th>\n",
       "      <th>temperature</th>\n",
       "      <th>source</th>\n",
       "      <th>class</th>\n",
       "    </tr>\n",
       "  </thead>\n",
       "  <tbody>\n",
       "    <tr>\n",
       "      <th>0</th>\n",
       "      <td>train_c</td>\n",
       "      <td>1.17</td>\n",
       "      <td>-2.54</td>\n",
       "      <td>0.65</td>\n",
       "      <td>13.16</td>\n",
       "      <td>294.66</td>\n",
       "      <td>1.16</td>\n",
       "      <td>-2.33</td>\n",
       "      <td>1.21</td>\n",
       "      <td>24.92</td>\n",
       "      <td>296.50</td>\n",
       "      <td>2.87</td>\n",
       "      <td>4.71</td>\n",
       "      <td>353.47</td>\n",
       "      <td>33302.0</td>\n",
       "      <td>ac</td>\n",
       "      <td>0</td>\n",
       "    </tr>\n",
       "    <tr>\n",
       "      <th>1</th>\n",
       "      <td>train_c</td>\n",
       "      <td>1.13</td>\n",
       "      <td>-2.66</td>\n",
       "      <td>-0.17</td>\n",
       "      <td>-3.45</td>\n",
       "      <td>292.94</td>\n",
       "      <td>1.12</td>\n",
       "      <td>-2.63</td>\n",
       "      <td>0.43</td>\n",
       "      <td>8.54</td>\n",
       "      <td>293.04</td>\n",
       "      <td>2.89</td>\n",
       "      <td>5.12</td>\n",
       "      <td>349.25</td>\n",
       "      <td>41200.0</td>\n",
       "      <td>ac</td>\n",
       "      <td>0</td>\n",
       "    </tr>\n",
       "    <tr>\n",
       "      <th>2</th>\n",
       "      <td>train_c</td>\n",
       "      <td>0.63</td>\n",
       "      <td>-2.98</td>\n",
       "      <td>-0.21</td>\n",
       "      <td>-3.86</td>\n",
       "      <td>281.96</td>\n",
       "      <td>0.63</td>\n",
       "      <td>-2.95</td>\n",
       "      <td>0.47</td>\n",
       "      <td>8.88</td>\n",
       "      <td>281.98</td>\n",
       "      <td>3.05</td>\n",
       "      <td>3.55</td>\n",
       "      <td>351.36</td>\n",
       "      <td>34041.0</td>\n",
       "      <td>ac</td>\n",
       "      <td>0</td>\n",
       "    </tr>\n",
       "    <tr>\n",
       "      <th>3</th>\n",
       "      <td>train_c</td>\n",
       "      <td>1.76</td>\n",
       "      <td>-2.01</td>\n",
       "      <td>0.16</td>\n",
       "      <td>3.42</td>\n",
       "      <td>311.17</td>\n",
       "      <td>1.75</td>\n",
       "      <td>-1.92</td>\n",
       "      <td>0.61</td>\n",
       "      <td>13.15</td>\n",
       "      <td>312.32</td>\n",
       "      <td>2.67</td>\n",
       "      <td>4.81</td>\n",
       "      <td>353.56</td>\n",
       "      <td>25111.0</td>\n",
       "      <td>ac</td>\n",
       "      <td>0</td>\n",
       "    </tr>\n",
       "    <tr>\n",
       "      <th>4</th>\n",
       "      <td>train_c</td>\n",
       "      <td>1.61</td>\n",
       "      <td>-2.20</td>\n",
       "      <td>0.16</td>\n",
       "      <td>3.31</td>\n",
       "      <td>306.17</td>\n",
       "      <td>1.60</td>\n",
       "      <td>-2.11</td>\n",
       "      <td>0.65</td>\n",
       "      <td>13.76</td>\n",
       "      <td>307.25</td>\n",
       "      <td>2.73</td>\n",
       "      <td>4.42</td>\n",
       "      <td>348.54</td>\n",
       "      <td>57336.0</td>\n",
       "      <td>ac</td>\n",
       "      <td>0</td>\n",
       "    </tr>\n",
       "  </tbody>\n",
       "</table>\n",
       "</div>"
      ],
      "text/plain": [
       "    period  bx_gse  by_gse  bz_gse  theta_gse  phi_gse  bx_gsm  by_gsm  \\\n",
       "0  train_c    1.17   -2.54    0.65      13.16   294.66    1.16   -2.33   \n",
       "1  train_c    1.13   -2.66   -0.17      -3.45   292.94    1.12   -2.63   \n",
       "2  train_c    0.63   -2.98   -0.21      -3.86   281.96    0.63   -2.95   \n",
       "3  train_c    1.76   -2.01    0.16       3.42   311.17    1.75   -1.92   \n",
       "4  train_c    1.61   -2.20    0.16       3.31   306.17    1.60   -2.11   \n",
       "\n",
       "   bz_gsm  theta_gsm  phi_gsm    bt  density   speed  temperature source  \\\n",
       "0    1.21      24.92   296.50  2.87     4.71  353.47      33302.0     ac   \n",
       "1    0.43       8.54   293.04  2.89     5.12  349.25      41200.0     ac   \n",
       "2    0.47       8.88   281.98  3.05     3.55  351.36      34041.0     ac   \n",
       "3    0.61      13.15   312.32  2.67     4.81  353.56      25111.0     ac   \n",
       "4    0.65      13.76   307.25  2.73     4.42  348.54      57336.0     ac   \n",
       "\n",
       "   class  \n",
       "0      0  \n",
       "1      0  \n",
       "2      0  \n",
       "3      0  \n",
       "4      0  "
      ]
     },
     "execution_count": 6,
     "metadata": {},
     "output_type": "execute_result"
    }
   ],
   "source": [
    "test_data_u.head()"
   ]
  },
  {
   "cell_type": "code",
   "execution_count": 7,
   "metadata": {},
   "outputs": [
    {
     "name": "stdout",
     "output_type": "stream",
     "text": [
      "En el dataset test_data_u el número de anomalias es 15142 y 1499075 son valores normales\n"
     ]
    }
   ],
   "source": [
    "count = (test_data_u['class'] == 1).sum()\n",
    "count1 = (test_data_u['class'] == 0).sum()\n",
    "print(f'En el dataset test_data_u el número de anomalias es {count} y {count1} son valores normales')"
   ]
  },
  {
   "cell_type": "code",
   "execution_count": 8,
   "metadata": {},
   "outputs": [
    {
     "name": "stdout",
     "output_type": "stream",
     "text": [
      "En el datset test_data_n el número de anomalias es 15142 y 1499075 son valores normales\n"
     ]
    }
   ],
   "source": [
    "count = (test_data_n['class'] == 1).sum()\n",
    "count1 = (test_data_n['class'] == 0).sum()\n",
    "print(f'En el datset test_data_n el número de anomalias es {count} y {count1} son valores normales')"
   ]
  },
  {
   "cell_type": "markdown",
   "metadata": {},
   "source": [
    "Se realiza One Hot Encodging"
   ]
  },
  {
   "cell_type": "code",
   "execution_count": 9,
   "metadata": {},
   "outputs": [],
   "source": [
    "test_data_u = pd.get_dummies(test_data_u, columns=['source', 'period'], prefix=['source', 'period'])\n",
    "test_data_n = pd.get_dummies(test_data_n, columns=['source', 'period'], prefix=['source', 'period'])"
   ]
  },
  {
   "cell_type": "code",
   "execution_count": 10,
   "metadata": {},
   "outputs": [],
   "source": [
    "X_test_u = test_data_u.drop('class', axis=1).values\n",
    "y_test_u = test_data_u['class'].values\n",
    "X_test_n = test_data_n.drop('class', axis=1).values\n",
    "y_test_n = test_data_n['class'].values"
   ]
  },
  {
   "cell_type": "markdown",
   "metadata": {},
   "source": [
    "Dataset_u"
   ]
  },
  {
   "cell_type": "code",
   "execution_count": 11,
   "metadata": {},
   "outputs": [],
   "source": [
    "scaler = StandardScaler()\n",
    "X_test_scaled_u = scaler.fit_transform(X_test_u)\n",
    "componentes = 9\n",
    "pca = PCA(n_components = componentes)\n",
    "data_test_X_u = pca.fit_transform(X_test_scaled_u)"
   ]
  },
  {
   "cell_type": "markdown",
   "metadata": {},
   "source": [
    "Dataset_n"
   ]
  },
  {
   "cell_type": "code",
   "execution_count": 26,
   "metadata": {},
   "outputs": [],
   "source": [
    "scaler = StandardScaler()\n",
    "X_test_scaled_n = scaler.fit_transform(X_test_n)\n",
    "componentes = 9\n",
    "pca = PCA(n_components = componentes)\n",
    "data_test_X_n = pca.fit_transform(X_test_scaled_n)"
   ]
  },
  {
   "cell_type": "markdown",
   "metadata": {},
   "source": [
    "### RBM"
   ]
  },
  {
   "cell_type": "markdown",
   "metadata": {},
   "source": [
    "Uniforme"
   ]
  },
  {
   "cell_type": "code",
   "execution_count": 16,
   "metadata": {},
   "outputs": [
    {
     "name": "stdout",
     "output_type": "stream",
     "text": [
      "El archivo rbm-n no fue encontrado. Por favor, ingrese un nombre válido.\n",
      "Modelo rbm_u cargado desde la unidad local\n"
     ]
    }
   ],
   "source": [
    "while True:\n",
    "    name = input(\"Ingrese el nombre de los archivos a cargar sin extensión para el modelo RBM entrenado con anomalías uniformes: \")\n",
    "    \n",
    "    try:\n",
    "        json_file = open(f'{name}.json', 'r')\n",
    "        loaded_model_json = json_file.read()\n",
    "        json_file.close()\n",
    "        \n",
    "        rbm_model_u = model_from_json(loaded_model_json)\n",
    "        rbm_model_u.load_weights(f'{name}.h5')\n",
    "        \n",
    "        print(f'Modelo {name} cargado desde la unidad local')\n",
    "        break\n",
    "        \n",
    "    except FileNotFoundError:\n",
    "        print(f'El archivo {name} no fue encontrado. Por favor, ingrese un nombre válido.')"
   ]
  },
  {
   "cell_type": "code",
   "execution_count": 17,
   "metadata": {},
   "outputs": [
    {
     "name": "stdout",
     "output_type": "stream",
     "text": [
      "47320/47320 [==============================] - 39s 826us/step\n"
     ]
    }
   ],
   "source": [
    "X_test_pred_RBM_u = rbm_model_u.predict(data_test_X_u)"
   ]
  },
  {
   "cell_type": "code",
   "execution_count": 28,
   "metadata": {},
   "outputs": [
    {
     "name": "stdout",
     "output_type": "stream",
     "text": [
      "Threshold =  4.2\n"
     ]
    },
    {
     "data": {
      "image/png": "[encoded data removed]",
      "text/plain": [
       "<Figure size 432x288 with 1 Axes>"
      ]
     },
     "metadata": {
      "needs_background": "light"
     },
     "output_type": "display_data"
    },
    {
     "name": "stdout",
     "output_type": "stream",
     "text": [
      "Classification Report (Test):\n",
      "               precision    recall  f1-score   support\n",
      "\n",
      "           0       1.00      0.90      0.95   1499075\n",
      "           1       0.08      0.80      0.14     15142\n",
      "\n",
      "    accuracy                           0.90   1514217\n",
      "   macro avg       0.54      0.85      0.54   1514217\n",
      "weighted avg       0.99      0.90      0.94   1514217\n",
      "\n"
     ]
    },
    {
     "data": {
      "image/png": "[encoded data removed]",
      "text/plain": [
       "<Figure size 432x288 with 1 Axes>"
      ]
     },
     "metadata": {
      "needs_background": "light"
     },
     "output_type": "display_data"
    },
    {
     "name": "stdout",
     "output_type": "stream",
     "text": [
      "AUC: 0.8490347547412086\n",
      "Threshold =  4.2\n"
     ]
    }
   ],
   "source": [
    "threshold = float(input(\"Ingrese el Threshold a utilizar: \"))\n",
    "print(\"Threshold = \", threshold)\n",
    "#Se etiquetan las anomalías en función del umbral\n",
    "y_test_pred_RBM_u = np.where(np.linalg.norm(data_test_X_u - X_test_pred_RBM_u, axis=1) > threshold, 1, 0)\n",
    "#Matriz de confusión\n",
    "cm_test = confusion_matrix(y_test_u, y_test_pred_RBM_u)\n",
    "plt.figure(figsize=(6, 4))\n",
    "sns.heatmap(cm_test, annot=True, cmap='Blues', fmt='d', cbar=False)\n",
    "plt.title('Matriz de confusión (testeo_u)')\n",
    "plt.xlabel('Predicted')\n",
    "plt.ylabel('Actual')\n",
    "plt.tight_layout()\n",
    "plt.show()\n",
    "\n",
    "# Calcular el reporte de métricas\n",
    "classification_test = classification_report(y_test_u, y_test_pred_RBM_u)\n",
    "print('Classification Report (Test):\\n', classification_test)\n",
    "\n",
    "# Curva ROC y AUC\n",
    "fpr, tpr, thresholds = roc_curve(y_test_u, y_test_pred_RBM_u)\n",
    "roc_auc = auc(fpr, tpr)\n",
    "plt.figure()\n",
    "plt.plot(fpr, tpr, label='ROC curve (area = %0.2f)' % roc_auc)\n",
    "plt.plot([0, 1], [0, 1], 'k--')\n",
    "plt.xlim([0.0, 1.0])\n",
    "plt.ylim([0.0, 1.05])\n",
    "plt.xlabel('False Positive Rate')\n",
    "plt.ylabel('True Positive Rate')\n",
    "plt.title('Receiver Operating Characteristic')\n",
    "plt.legend(loc=\"lower right\")\n",
    "plt.show()\n",
    "print('AUC:', roc_auc)\n",
    "print(\"Threshold = \", threshold)"
   ]
  },
  {
   "cell_type": "markdown",
   "metadata": {},
   "source": [
    "Normal"
   ]
  },
  {
   "cell_type": "code",
   "execution_count": 24,
   "metadata": {},
   "outputs": [
    {
     "name": "stdout",
     "output_type": "stream",
     "text": [
      "Modelo rbm_n cargado desde la unidad local\n"
     ]
    }
   ],
   "source": [
    "while True:\n",
    "    name = input(\"Ingrese el nombre de los archivos a cargar sin extensión para el modelo RBM entrenado con anomalías normales: \")\n",
    "    \n",
    "    try:\n",
    "        json_file = open(f'{name}.json', 'r')\n",
    "        loaded_model_json = json_file.read()\n",
    "        json_file.close()\n",
    "        \n",
    "        rbm_model_n = model_from_json(loaded_model_json)\n",
    "        rbm_model_n.load_weights(f'{name}.h5')\n",
    "        \n",
    "        print(f'Modelo {name} cargado desde la unidad local')\n",
    "        break\n",
    "        \n",
    "    except FileNotFoundError:\n",
    "        print(f'El archivo {name} no fue encontrado. Por favor, ingrese un nombre válido.')"
   ]
  },
  {
   "cell_type": "code",
   "execution_count": 27,
   "metadata": {},
   "outputs": [
    {
     "name": "stdout",
     "output_type": "stream",
     "text": [
      "47320/47320 [==============================] - 38s 792us/step\n"
     ]
    }
   ],
   "source": [
    "X_test_pred_RBM_n = rbm_model_n.predict(data_test_X_n)"
   ]
  },
  {
   "cell_type": "code",
   "execution_count": 46,
   "metadata": {},
   "outputs": [
    {
     "name": "stdout",
     "output_type": "stream",
     "text": [
      "Threshold =  7.6\n"
     ]
    },
    {
     "data": {
      "image/png": "[encoded data removed]",
      "text/plain": [
       "<Figure size 432x288 with 1 Axes>"
      ]
     },
     "metadata": {
      "needs_background": "light"
     },
     "output_type": "display_data"
    },
    {
     "name": "stdout",
     "output_type": "stream",
     "text": [
      "Classification Report (Test):\n",
      "               precision    recall  f1-score   support\n",
      "\n",
      "           0       1.00      0.99      1.00   1499075\n",
      "           1       0.60      0.98      0.74     15142\n",
      "\n",
      "    accuracy                           0.99   1514217\n",
      "   macro avg       0.80      0.98      0.87   1514217\n",
      "weighted avg       1.00      0.99      0.99   1514217\n",
      "\n"
     ]
    },
    {
     "data": {
      "image/png": "[encoded data removed]",
      "text/plain": [
       "<Figure size 432x288 with 1 Axes>"
      ]
     },
     "metadata": {
      "needs_background": "light"
     },
     "output_type": "display_data"
    },
    {
     "name": "stdout",
     "output_type": "stream",
     "text": [
      "AUC: 0.9849385792704515\n",
      "Threshold =  7.6\n"
     ]
    }
   ],
   "source": [
    "threshold = float(input(\"Ingrese el Threshold a utilizar: \"))\n",
    "print(\"Threshold = \", threshold)\n",
    "#Se etiquetan las anomalías en función del umbral\n",
    "y_test_pred_RBM_n = np.where(np.linalg.norm(data_test_X_n - X_test_pred_RBM_n, axis=1) > threshold, 1, 0)\n",
    "#Matriz de confusión\n",
    "cm_test = confusion_matrix(y_test_n, y_test_pred_RBM_n)\n",
    "plt.figure(figsize=(6, 4))\n",
    "sns.heatmap(cm_test, annot=True, cmap='Blues', fmt='d', cbar=False)\n",
    "plt.title('Matriz de confusión (testeo_n)')\n",
    "plt.xlabel('Predicted')\n",
    "plt.ylabel('Actual')\n",
    "plt.tight_layout()\n",
    "plt.show()\n",
    "\n",
    "# Calcular el reporte de métricas\n",
    "classification_test = classification_report(y_test_n, y_test_pred_RBM_n)\n",
    "print('Classification Report (Test):\\n', classification_test)\n",
    "\n",
    "# Curva ROC y AUC\n",
    "fpr, tpr, thresholds = roc_curve(y_test_n, y_test_pred_RBM_n)\n",
    "roc_auc = auc(fpr, tpr)\n",
    "plt.figure()\n",
    "plt.plot(fpr, tpr, label='ROC curve (area = %0.2f)' % roc_auc)\n",
    "plt.plot([0, 1], [0, 1], 'k--')\n",
    "plt.xlim([0.0, 1.0])\n",
    "plt.ylim([0.0, 1.05])\n",
    "plt.xlabel('False Positive Rate')\n",
    "plt.ylabel('True Positive Rate')\n",
    "plt.title('Receiver Operating Characteristic')\n",
    "plt.legend(loc=\"lower right\")\n",
    "plt.show()\n",
    "print('AUC:', roc_auc)\n",
    "print(\"Threshold = \", threshold)"
   ]
  },
  {
   "cell_type": "markdown",
   "metadata": {},
   "source": [
    "### LSTM Autoencoder"
   ]
  },
  {
   "cell_type": "markdown",
   "metadata": {},
   "source": [
    "Uniforme"
   ]
  },
  {
   "cell_type": "code",
   "execution_count": 82,
   "metadata": {},
   "outputs": [
    {
     "name": "stdout",
     "output_type": "stream",
     "text": [
      "Modelo autoencoder_u_1 cargado desde la unidad local\n"
     ]
    }
   ],
   "source": [
    "while True:\n",
    "    name = input(\"Ingrese el nombre de los archivos a cargar sin extensión para el modelo LSTM Autoencoder entrenado con anomalías uniformes: \")\n",
    "    \n",
    "    try:\n",
    "        json_file = open(f'{name}.json', 'r')\n",
    "        loaded_model_json = json_file.read()\n",
    "        json_file.close()\n",
    "        \n",
    "        autoencoder_u = model_from_json(loaded_model_json)\n",
    "        autoencoder_u.load_weights(f'{name}.h5')\n",
    "        \n",
    "        print(f'Modelo {name} cargado desde la unidad local')\n",
    "        break\n",
    "        \n",
    "    except FileNotFoundError:\n",
    "        print(f'El archivo {name} no fue encontrado. Por favor, ingrese un nombre válido.')"
   ]
  },
  {
   "cell_type": "code",
   "execution_count": 83,
   "metadata": {},
   "outputs": [],
   "source": [
    "X_test_3d_u = data_test_X_u.reshape(data_test_X_u.shape[0], 1, data_test_X_u.shape[1])"
   ]
  },
  {
   "cell_type": "code",
   "execution_count": 84,
   "metadata": {},
   "outputs": [
    {
     "name": "stdout",
     "output_type": "stream",
     "text": [
      "47320/47320 [==============================] - 83s 2ms/step\n"
     ]
    }
   ],
   "source": [
    "X_test_3d_pred_u = autoencoder_u.predict(X_test_3d_u)"
   ]
  },
  {
   "cell_type": "code",
   "execution_count": 85,
   "metadata": {},
   "outputs": [
    {
     "name": "stdout",
     "output_type": "stream",
     "text": [
      "47320/47320 [==============================] - 83s 2ms/step\n"
     ]
    }
   ],
   "source": [
    "X_test_3d_pred_u = autoencoder_u.predict(X_test_3d_u)"
   ]
  },
  {
   "cell_type": "code",
   "execution_count": 113,
   "metadata": {},
   "outputs": [
    {
     "name": "stdout",
     "output_type": "stream",
     "text": [
      "Threshold =  9.0\n"
     ]
    },
    {
     "data": {
      "image/png": "[encoded data removed]",
      "text/plain": [
       "<Figure size 432x288 with 1 Axes>"
      ]
     },
     "metadata": {
      "needs_background": "light"
     },
     "output_type": "display_data"
    },
    {
     "name": "stdout",
     "output_type": "stream",
     "text": [
      "Classification Report (Test):\n",
      "               precision    recall  f1-score   support\n",
      "\n",
      "           0       1.00      1.00      1.00   1499075\n",
      "           1       0.75      0.70      0.73     15142\n",
      "\n",
      "    accuracy                           0.99   1514217\n",
      "   macro avg       0.88      0.85      0.86   1514217\n",
      "weighted avg       0.99      0.99      0.99   1514217\n",
      "\n"
     ]
    },
    {
     "data": {
      "image/png": "[encoded data removed]",
      "text/plain": [
       "<Figure size 432x288 with 1 Axes>"
      ]
     },
     "metadata": {
      "needs_background": "light"
     },
     "output_type": "display_data"
    },
    {
     "name": "stdout",
     "output_type": "stream",
     "text": [
      "AUC: 0.8482417088345237\n",
      "Threshold =  9.0\n"
     ]
    }
   ],
   "source": [
    "threshold = float(input(\"Ingrese el Threshold a utilizar: \"))\n",
    "print(\"Threshold = \", threshold)\n",
    "#Se etiquetan las anomalías en función del umbral\n",
    "y_test_pred_lstm_u = np.where(np.linalg.norm(X_test_3d_u - X_test_3d_pred_u, axis=(1, 2)) > threshold, 1, 0)\n",
    "#Matriz de confusión\n",
    "cm_test = confusion_matrix(y_test_u, y_test_pred_lstm_u)\n",
    "plt.figure(figsize=(6, 4))\n",
    "sns.heatmap(cm_test, annot=True, cmap='Blues', fmt='d', cbar=False)\n",
    "plt.title('Matriz de confusión (testeo_u)')\n",
    "plt.xlabel('Predicted')\n",
    "plt.ylabel('Actual')\n",
    "plt.tight_layout()\n",
    "plt.show()\n",
    "# Calcular el reporte de métricas\n",
    "classification_test = classification_report(y_test_u, y_test_pred_lstm_u)\n",
    "print('Classification Report (Test):\\n', classification_test)\n",
    "# Curva ROC y AUC\n",
    "fpr, tpr, thresholds = roc_curve(y_test_u, y_test_pred_lstm_u)\n",
    "roc_auc = auc(fpr, tpr)\n",
    "plt.figure()\n",
    "plt.plot(fpr, tpr, label='ROC curve (area = %0.2f)' % roc_auc)\n",
    "plt.plot([0, 1], [0, 1], 'k--')\n",
    "plt.xlim([0.0, 1.0])\n",
    "plt.ylim([0.0, 1.05])\n",
    "plt.xlabel('False Positive Rate')\n",
    "plt.ylabel('True Positive Rate')\n",
    "plt.title('Receiver Operating Characteristic')\n",
    "plt.legend(loc=\"lower right\")\n",
    "plt.show()\n",
    "print('AUC:', roc_auc)\n",
    "print(\"Threshold = \", threshold)"
   ]
  },
  {
   "cell_type": "markdown",
   "metadata": {},
   "source": [
    "Normal"
   ]
  },
  {
   "cell_type": "code",
   "execution_count": 87,
   "metadata": {},
   "outputs": [
    {
     "name": "stdout",
     "output_type": "stream",
     "text": [
      "Modelo autoencoder_n_1 cargado desde la unidad local\n"
     ]
    }
   ],
   "source": [
    "while True:\n",
    "    name = input(\"Ingrese el nombre de los archivos a cargar sin extensión para el modelo LSTM Autoencoder entrenado con anomalías normal: \")\n",
    "    \n",
    "    try:\n",
    "        json_file = open(f'{name}.json', 'r')\n",
    "        loaded_model_json = json_file.read()\n",
    "        json_file.close()\n",
    "        \n",
    "        autoencoder_n = model_from_json(loaded_model_json)\n",
    "        autoencoder_n.load_weights(f'{name}.h5')\n",
    "        \n",
    "        print(f'Modelo {name} cargado desde la unidad local')\n",
    "        break\n",
    "        \n",
    "    except FileNotFoundError:\n",
    "        print(f'El archivo {name} no fue encontrado. Por favor, ingrese un nombre válido.')"
   ]
  },
  {
   "cell_type": "code",
   "execution_count": 88,
   "metadata": {},
   "outputs": [],
   "source": [
    "X_test_3d_n = data_test_X_n.reshape(data_test_X_n.shape[0], 1, data_test_X_n.shape[1])"
   ]
  },
  {
   "cell_type": "code",
   "execution_count": 89,
   "metadata": {},
   "outputs": [
    {
     "name": "stdout",
     "output_type": "stream",
     "text": [
      "47320/47320 [==============================] - 83s 2ms/step\n"
     ]
    }
   ],
   "source": [
    "X_test_3d_pred_n = autoencoder_n.predict(X_test_3d_n)"
   ]
  },
  {
   "cell_type": "code",
   "execution_count": 109,
   "metadata": {},
   "outputs": [
    {
     "name": "stdout",
     "output_type": "stream",
     "text": [
      "Threshold =  16.0\n"
     ]
    },
    {
     "data": {
      "image/png": "[encoded data removed]",
      "text/plain": [
       "<Figure size 432x288 with 1 Axes>"
      ]
     },
     "metadata": {
      "needs_background": "light"
     },
     "output_type": "display_data"
    },
    {
     "name": "stdout",
     "output_type": "stream",
     "text": [
      "Classification Report (Test):\n",
      "               precision    recall  f1-score   support\n",
      "\n",
      "           0       1.00      1.00      1.00   1499075\n",
      "           1       0.94      1.00      0.97     15142\n",
      "\n",
      "    accuracy                           1.00   1514217\n",
      "   macro avg       0.97      1.00      0.98   1514217\n",
      "weighted avg       1.00      1.00      1.00   1514217\n",
      "\n"
     ]
    },
    {
     "data": {
      "image/png": "[encoded data removed]",
      "text/plain": [
       "<Figure size 432x288 with 1 Axes>"
      ]
     },
     "metadata": {
      "needs_background": "light"
     },
     "output_type": "display_data"
    },
    {
     "name": "stdout",
     "output_type": "stream",
     "text": [
      "AUC: 0.9992311873262275\n",
      "Threshold =  16.0\n"
     ]
    }
   ],
   "source": [
    "threshold = float(input(\"Ingrese el Threshold a utilizar: \"))\n",
    "print(\"Threshold = \", threshold)\n",
    "#Se etiquetan las anomalías en función del umbral\n",
    "y_test_pred_lstm_n = np.where(np.linalg.norm(X_test_3d_n - X_test_3d_pred_n, axis=(1, 2)) > threshold, 1, 0)\n",
    "#Matriz de confusión\n",
    "cm_test = confusion_matrix(y_test_n, y_test_pred_lstm_n)\n",
    "plt.figure(figsize=(6, 4))\n",
    "sns.heatmap(cm_test, annot=True, cmap='Blues', fmt='d', cbar=False)\n",
    "plt.title('Matriz de confusión (testeo_n)')\n",
    "plt.xlabel('Predicted')\n",
    "plt.ylabel('Actual')\n",
    "plt.tight_layout()\n",
    "plt.show()\n",
    "# Calcular el reporte de métricas\n",
    "classification_test = classification_report(y_test_n, y_test_pred_lstm_n)\n",
    "print('Classification Report (Test):\\n', classification_test)\n",
    "# Curva ROC y AUC\n",
    "fpr, tpr, thresholds = roc_curve(y_test_n, y_test_pred_lstm_n)\n",
    "roc_auc = auc(fpr, tpr)\n",
    "plt.figure()\n",
    "plt.plot(fpr, tpr, label='ROC curve (area = %0.2f)' % roc_auc)\n",
    "plt.plot([0, 1], [0, 1], 'k--')\n",
    "plt.xlim([0.0, 1.0])\n",
    "plt.ylim([0.0, 1.05])\n",
    "plt.xlabel('False Positive Rate')\n",
    "plt.ylabel('True Positive Rate')\n",
    "plt.title('Receiver Operating Characteristic')\n",
    "plt.legend(loc=\"lower right\")\n",
    "plt.show()\n",
    "print('AUC:', roc_auc)\n",
    "print(\"Threshold = \", threshold)"
   ]
  },
  {
   "cell_type": "markdown",
   "metadata": {},
   "source": [
    "### Isolation Forest"
   ]
  },
  {
   "cell_type": "markdown",
   "metadata": {},
   "source": [
    "Uniforme"
   ]
  },
  {
   "cell_type": "code",
   "execution_count": 72,
   "metadata": {},
   "outputs": [
    {
     "name": "stdout",
     "output_type": "stream",
     "text": [
      "Modelo if_u cargado desde la unidad local\n"
     ]
    }
   ],
   "source": [
    "while True:\n",
    "    name = input(\"Ingrese el nombre de los archivos a cargar sin extensión para el modelo Isolation Forest entrenado con anomalías uniformes: \")\n",
    "    \n",
    "    try:\n",
    "        model_if_u = load(f'{name}.joblib')\n",
    "        print(f'Modelo {name} cargado desde la unidad local')\n",
    "        break\n",
    "        \n",
    "    except FileNotFoundError:\n",
    "        print(f'El archivo {name} no fue encontrado. Por favor, ingrese un nombre válido.')"
   ]
  },
  {
   "cell_type": "code",
   "execution_count": 73,
   "metadata": {},
   "outputs": [],
   "source": [
    "X_test_pred_if_u = model_if_u.predict(data_test_X_u)"
   ]
  },
  {
   "cell_type": "code",
   "execution_count": 75,
   "metadata": {},
   "outputs": [],
   "source": [
    "X_test_pred_if_u = np.where(X_test_pred_if_u == 1, 0, np.where(X_test_pred_if_u == -1, 1, X_test_pred_if_u))"
   ]
  },
  {
   "cell_type": "code",
   "execution_count": 77,
   "metadata": {},
   "outputs": [
    {
     "data": {
      "image/png": "[encoded data removed]",
      "text/plain": [
       "<Figure size 432x288 with 1 Axes>"
      ]
     },
     "metadata": {
      "needs_background": "light"
     },
     "output_type": "display_data"
    },
    {
     "name": "stdout",
     "output_type": "stream",
     "text": [
      "Classification Report (Test):\n",
      "               precision    recall  f1-score   support\n",
      "\n",
      "           0       1.00      0.91      0.95   1499075\n",
      "           1       0.08      0.80      0.15     15142\n",
      "\n",
      "    accuracy                           0.91   1514217\n",
      "   macro avg       0.54      0.85      0.55   1514217\n",
      "weighted avg       0.99      0.91      0.94   1514217\n",
      "\n"
     ]
    },
    {
     "data": {
      "image/png": "[encoded data removed]",
      "text/plain": [
       "<Figure size 432x288 with 1 Axes>"
      ]
     },
     "metadata": {
      "needs_background": "light"
     },
     "output_type": "display_data"
    },
    {
     "name": "stdout",
     "output_type": "stream",
     "text": [
      "AUC: 0.8549377402244438\n"
     ]
    }
   ],
   "source": [
    "# Matriz de confusión\n",
    "cm_test = confusion_matrix(y_test_u, X_test_pred_if_u)\n",
    "plt.figure(figsize=(6, 4))\n",
    "sns.heatmap(cm_test, annot=True, cmap='Blues', fmt='d', cbar=False)\n",
    "plt.title('Matriz de confusión (testeo_u)')\n",
    "plt.xlabel('Predicho')\n",
    "plt.ylabel('Real')\n",
    "plt.tight_layout()\n",
    "plt.show()\n",
    "# Calcular el reporte de métricas\n",
    "classification_test = classification_report(y_test_u, X_test_pred_if_u)\n",
    "print('Classification Report (Test):\\n', classification_test)\n",
    "# Curva ROC y AUC\n",
    "fpr, tpr, thresholds = roc_curve(y_test_u, X_test_pred_if_u)\n",
    "roc_auc = auc(fpr, tpr)\n",
    "plt.figure()\n",
    "plt.plot(fpr, tpr, label='ROC curve (area = %0.2f)' % roc_auc)\n",
    "plt.plot([0, 1], [0, 1], 'k--')\n",
    "plt.xlim([0.0, 1.0])\n",
    "plt.ylim([0.0, 1.05])\n",
    "plt.xlabel('False Positive Rate')\n",
    "plt.ylabel('True Positive Rate')\n",
    "plt.title('Receiver Operating Characteristic')\n",
    "plt.legend(loc=\"lower right\")\n",
    "plt.show()\n",
    "print('AUC:', roc_auc)"
   ]
  },
  {
   "cell_type": "markdown",
   "metadata": {},
   "source": [
    "Normal"
   ]
  },
  {
   "cell_type": "code",
   "execution_count": 78,
   "metadata": {},
   "outputs": [
    {
     "name": "stdout",
     "output_type": "stream",
     "text": [
      "Modelo if_n cargado desde la unidad local\n"
     ]
    }
   ],
   "source": [
    "while True:\n",
    "    name = input(\"Ingrese el nombre de los archivos a cargar sin extensión para el modelo Isolation Forest entrenado con anomalías normal: \")\n",
    "    \n",
    "    try:\n",
    "        model_if_n = load(f'{name}.joblib')\n",
    "        print(f'Modelo {name} cargado desde la unidad local')\n",
    "        break\n",
    "        \n",
    "    except FileNotFoundError:\n",
    "        print(f'El archivo {name} no fue encontrado. Por favor, ingrese un nombre válido.')"
   ]
  },
  {
   "cell_type": "code",
   "execution_count": 79,
   "metadata": {},
   "outputs": [],
   "source": [
    "X_test_pred_if_n = model_if_n.predict(data_test_X_n)"
   ]
  },
  {
   "cell_type": "code",
   "execution_count": 80,
   "metadata": {},
   "outputs": [],
   "source": [
    "X_test_pred_if_n = np.where(X_test_pred_if_n == 1, 0, np.where(X_test_pred_if_n == -1, 1, X_test_pred_if_n))"
   ]
  },
  {
   "cell_type": "code",
   "execution_count": 81,
   "metadata": {},
   "outputs": [
    {
     "data": {
      "image/png": "[encoded data removed]",
      "text/plain": [
       "<Figure size 432x288 with 1 Axes>"
      ]
     },
     "metadata": {
      "needs_background": "light"
     },
     "output_type": "display_data"
    },
    {
     "name": "stdout",
     "output_type": "stream",
     "text": [
      "Classification Report (Test):\n",
      "               precision    recall  f1-score   support\n",
      "\n",
      "           0       1.00      0.91      0.95   1499075\n",
      "           1       0.10      1.00      0.18     15142\n",
      "\n",
      "    accuracy                           0.91   1514217\n",
      "   macro avg       0.55      0.96      0.57   1514217\n",
      "weighted avg       0.99      0.91      0.95   1514217\n",
      "\n"
     ]
    },
    {
     "data": {
      "image/png": "[encoded data removed]",
      "text/plain": [
       "<Figure size 432x288 with 1 Axes>"
      ]
     },
     "metadata": {
      "needs_background": "light"
     },
     "output_type": "display_data"
    },
    {
     "name": "stdout",
     "output_type": "stream",
     "text": [
      "AUC: 0.9550649567233127\n"
     ]
    }
   ],
   "source": [
    "# Matriz de confusión\n",
    "cm_test = confusion_matrix(y_test_n, X_test_pred_if_n)\n",
    "plt.figure(figsize=(6, 4))\n",
    "sns.heatmap(cm_test, annot=True, cmap='Blues', fmt='d', cbar=False)\n",
    "plt.title('Matriz de confusión (testeo_n)')\n",
    "plt.xlabel('Predicho')\n",
    "plt.ylabel('Real')\n",
    "plt.tight_layout()\n",
    "plt.show()\n",
    "# Calcular el reporte de métricas\n",
    "classification_test = classification_report(y_test_n, X_test_pred_if_n)\n",
    "print('Classification Report (Test):\\n', classification_test)\n",
    "# Curva ROC y AUC\n",
    "fpr, tpr, thresholds = roc_curve(y_test_n, X_test_pred_if_n)\n",
    "roc_auc = auc(fpr, tpr)\n",
    "plt.figure()\n",
    "plt.plot(fpr, tpr, label='ROC curve (area = %0.2f)' % roc_auc)\n",
    "plt.plot([0, 1], [0, 1], 'k--')\n",
    "plt.xlim([0.0, 1.0])\n",
    "plt.ylim([0.0, 1.05])\n",
    "plt.xlabel('False Positive Rate')\n",
    "plt.ylabel('True Positive Rate')\n",
    "plt.title('Receiver Operating Characteristic')\n",
    "plt.legend(loc=\"lower right\")\n",
    "plt.show()\n",
    "print('AUC:', roc_auc)"
   ]
  }
 ],
 "metadata": {
  "kernelspec": {
   "display_name": "base",
   "language": "python",
   "name": "python3"
  },
  "language_info": {
   "codemirror_mode": {
    "name": "ipython",
    "version": 3
   },
   "file_extension": ".py",
   "mimetype": "text/x-python",
   "name": "python",
   "nbconvert_exporter": "python",
   "pygments_lexer": "ipython3",
   "version": "3.9.12"
  },
  "orig_nbformat": 4
 },
 "nbformat": 4,
 "nbformat_minor": 2
}
