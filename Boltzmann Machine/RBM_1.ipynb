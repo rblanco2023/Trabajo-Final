{
 "cells": [
  {
   "cell_type": "code",
   "execution_count": 67,
   "metadata": {},
   "outputs": [],
   "source": [
    "import numpy as np\n",
    "import pandas as pd\n",
    "from sklearn.preprocessing import StandardScaler\n",
    "from keras.models import Sequential\n",
    "from keras.layers import Dense\n",
    "from keras.optimizers import Adam"
   ]
  },
  {
   "cell_type": "code",
   "execution_count": 68,
   "metadata": {},
   "outputs": [],
   "source": [
    "# Cargar el dataset\n",
    "\n",
    "filePath = \"C:/Users/raul.blanco/Documents/4 - Personales/UBA/Repositorios/IA/Trabajo-Final/solar_wind.csv\"\n",
    "dF = pd.read_csv(filepath_or_buffer=filePath, header=0, sep=\",\")\n",
    "\n",
    "df_A = dF.loc[dF['period']=='train_a']\n",
    "df_A = df_A.dropna()"
   ]
  },
  {
   "cell_type": "code",
   "execution_count": 69,
   "metadata": {},
   "outputs": [],
   "source": [
    "# Calcular el número de valores a reemplazar\n",
    "#features = ['bx_gse', 'by_gse', 'bz_gse', 'theta_gse', 'phi_gse', 'bx_gsm', 'by_gsm', 'bz_gsm', 'theta_gsm', 'phi_gsm', 'bt', 'density', 'speed', 'temperature']\n",
    "features = ['bt']\n",
    "anomaly_factor = 0.17\n",
    "# Crear una copia del DataFrame para no modificar el original\n",
    "df_new = df_A.copy()\n",
    "\n",
    "for a in features:\n",
    "  num_replace = int(df_A[a].size * anomaly_factor)\n",
    "\n",
    "  # Obtener una muestra aleatoria de índices de fila para reemplazar\n",
    "  replace_idx = np.random.choice(df_A.index, size=num_replace, replace=False)\n",
    "\n",
    "  # Reemplazar los valores seleccionados con valores aleatorios entre -90 y 1050\n",
    "  #new_values = np.random.uniform(-90, 1050, size=num_replace)\n",
    "  new_values = np.random.uniform(0, 75, size=num_replace)\n",
    "  df_new.loc[replace_idx, a] = new_values\n",
    "\n",
    "  # Crear la columna \"class\" con los valores correspondientes\n",
    "  df_new.loc[df_A[a] != df_new[a], 'class'] = 1\n",
    "  df_new.loc[df_A[a] == df_new[a], 'class'] = 0"
   ]
  },
  {
   "cell_type": "code",
   "execution_count": 70,
   "metadata": {},
   "outputs": [
    {
     "name": "stdout",
     "output_type": "stream",
     "text": [
      "En el todo el dataset:\n",
      "El número de anomalias es 237074 de 1157481 valores normales\n",
      "La relacion de anomalias es 0.20481891279424888\n"
     ]
    }
   ],
   "source": [
    "print('En el todo el dataset:')\n",
    "count = (df_new['class'] == 1).sum()\n",
    "count2 = (df_new['class'] != 1).sum()\n",
    "print(f'El número de anomalias es {count} de {count2} valores normales')\n",
    "cociente = count / count2\n",
    "print(f'La relacion de anomalias es {cociente}')"
   ]
  },
  {
   "cell_type": "code",
   "execution_count": 71,
   "metadata": {},
   "outputs": [],
   "source": [
    "# Dividir el conjunto de datos en conjuntos de entrenamiento y prueba\n",
    "train_data = df_new.sample(frac=0.8, random_state=0)\n",
    "test_data = df_new.drop(train_data.index)"
   ]
  },
  {
   "cell_type": "code",
   "execution_count": 72,
   "metadata": {},
   "outputs": [
    {
     "name": "stdout",
     "output_type": "stream",
     "text": [
      "En el train set:\n",
      "El número de anomalias es 189419 de 926225 valores normales\n",
      "La relacion de anomalias es 0.20450646441199494\n"
     ]
    }
   ],
   "source": [
    "train_df = pd.DataFrame(train_data, columns = ['1','2','3','4','5','6','7','8','9','10','11','12','13','14','class'])\n",
    "print('En el train set:')\n",
    "count = (train_df['class'] == 1).sum()\n",
    "count2 = (train_df['class'] != 1).sum()\n",
    "print(f'El número de anomalias es {count} de {count2} valores normales')\n",
    "cociente = count / count2\n",
    "print(f'La relacion de anomalias es {cociente}')"
   ]
  },
  {
   "cell_type": "code",
   "execution_count": 73,
   "metadata": {},
   "outputs": [
    {
     "name": "stdout",
     "output_type": "stream",
     "text": [
      "En el test:\n",
      "El número de anomalias es 47655 de 231256 valores normales\n",
      "La relacion de anomalias es 0.20607032898605873\n"
     ]
    }
   ],
   "source": [
    "test_df = pd.DataFrame(test_data, columns = ['1','2','3','4','5','6','7','8','9','10','11','12','13','14','class'])\n",
    "print('En el test:')\n",
    "count = (test_df['class'] == 1).sum()\n",
    "count2 = (test_df['class'] != 1).sum()\n",
    "print(f'El número de anomalias es {count} de {count2} valores normales')\n",
    "cociente = count / count2\n",
    "print(f'La relacion de anomalias es {cociente}')"
   ]
  },
  {
   "cell_type": "code",
   "execution_count": 74,
   "metadata": {},
   "outputs": [],
   "source": [
    "# Preparo el dataset en X e y y elimino columnas no necesarias\n",
    "y = test_data['class']\n",
    "y_full = test_data\n",
    "train_data = train_data.drop([\"timedelta\", \"period\", \"source\", 'class'], axis=1)\n",
    "test_data = test_data.drop([\"timedelta\", \"period\", \"source\", 'class'], axis=1)"
   ]
  },
  {
   "cell_type": "code",
   "execution_count": 75,
   "metadata": {},
   "outputs": [],
   "source": [
    "# Normalizar los datos utilizando StandardScaler()\n",
    "scaler = StandardScaler()\n",
    "train_data = scaler.fit_transform(train_data)\n",
    "test_data = scaler.transform(test_data)"
   ]
  },
  {
   "cell_type": "code",
   "execution_count": 76,
   "metadata": {},
   "outputs": [],
   "source": [
    "# Crear un modelo de RBM utilizando Keras\n",
    "model = Sequential()\n",
    "model.add(Dense(20, input_shape=(train_data.shape[1],), activation='sigmoid'))\n",
    "model.add(Dense(train_data.shape[1], activation='sigmoid'))\n",
    "model.compile(optimizer=Adam(learning_rate=0.01), loss='mse')"
   ]
  },
  {
   "cell_type": "code",
   "execution_count": 77,
   "metadata": {},
   "outputs": [
    {
     "name": "stdout",
     "output_type": "stream",
     "text": [
      "Epoch 1/20\n",
      "31378/31378 [==============================] - 27s 859us/step - loss: 0.5775 - val_loss: 0.5752\n",
      "Epoch 2/20\n",
      "31378/31378 [==============================] - 33s 1ms/step - loss: 0.5740 - val_loss: 0.5748\n",
      "Epoch 3/20\n",
      "31378/31378 [==============================] - 31s 992us/step - loss: 0.5737 - val_loss: 0.5746\n",
      "Epoch 4/20\n",
      "31378/31378 [==============================] - 34s 1ms/step - loss: 0.5736 - val_loss: 0.5746\n",
      "Epoch 5/20\n",
      "31378/31378 [==============================] - 32s 1ms/step - loss: 0.5735 - val_loss: 0.5744\n",
      "Epoch 6/20\n",
      "31378/31378 [==============================] - 35s 1ms/step - loss: 0.5734 - val_loss: 0.5744\n",
      "Epoch 7/20\n",
      "31378/31378 [==============================] - 39s 1ms/step - loss: 0.5734 - val_loss: 0.5743\n",
      "Epoch 8/20\n",
      "31378/31378 [==============================] - 36s 1ms/step - loss: 0.5733 - val_loss: 0.5743\n",
      "Epoch 9/20\n",
      "31378/31378 [==============================] - 39s 1ms/step - loss: 0.5733 - val_loss: 0.5743\n",
      "Epoch 10/20\n",
      "31378/31378 [==============================] - 37s 1ms/step - loss: 0.5733 - val_loss: 0.5743\n",
      "Epoch 11/20\n",
      "31378/31378 [==============================] - 35s 1ms/step - loss: 0.5733 - val_loss: 0.5745\n",
      "Epoch 12/20\n",
      "31378/31378 [==============================] - 34s 1ms/step - loss: 0.5733 - val_loss: 0.5744\n",
      "Epoch 13/20\n",
      "31378/31378 [==============================] - 34s 1ms/step - loss: 0.5733 - val_loss: 0.5743\n",
      "Epoch 14/20\n",
      "31378/31378 [==============================] - 33s 1ms/step - loss: 0.5733 - val_loss: 0.5743\n",
      "Epoch 15/20\n",
      "31378/31378 [==============================] - 35s 1ms/step - loss: 0.5733 - val_loss: 0.5743\n",
      "Epoch 16/20\n",
      "31378/31378 [==============================] - 34s 1ms/step - loss: 0.5733 - val_loss: 0.5743\n",
      "Epoch 17/20\n",
      "31378/31378 [==============================] - 35s 1ms/step - loss: 0.5733 - val_loss: 0.5743\n",
      "Epoch 18/20\n",
      "31378/31378 [==============================] - 36s 1ms/step - loss: 0.5733 - val_loss: 0.5743\n",
      "Epoch 19/20\n",
      "31378/31378 [==============================] - 38s 1ms/step - loss: 0.5733 - val_loss: 0.5743\n",
      "Epoch 20/20\n",
      "31378/31378 [==============================] - 40s 1ms/step - loss: 0.5733 - val_loss: 0.5743\n"
     ]
    },
    {
     "data": {
      "text/plain": [
       "<keras.callbacks.History at 0x208d341b460>"
      ]
     },
     "execution_count": 77,
     "metadata": {},
     "output_type": "execute_result"
    }
   ],
   "source": [
    "# Entrenar el modelo utilizando los datos de entrenamiento\n",
    "model.fit(train_data, train_data, epochs=20, batch_size=32, verbose=1, validation_split=0.1)"
   ]
  },
  {
   "cell_type": "code",
   "execution_count": 78,
   "metadata": {},
   "outputs": [
    {
     "name": "stdout",
     "output_type": "stream",
     "text": [
      "8716/8716 [==============================] - 7s 805us/step\n"
     ]
    }
   ],
   "source": [
    "# Utilizar el modelo para hacer predicciones en los datos de prueba\n",
    "predictions = model.predict(test_data)"
   ]
  },
  {
   "cell_type": "code",
   "execution_count": 79,
   "metadata": {},
   "outputs": [],
   "source": [
    "# Comparar las predicciones con los valores reales de \"class\" y generar una matriz de confusión para evaluar el modelo\n",
    "threshold = 0.05\n",
    "predictions[predictions >= threshold] = 1\n",
    "predictions[predictions < threshold] = 0"
   ]
  },
  {
   "cell_type": "code",
   "execution_count": 80,
   "metadata": {},
   "outputs": [
    {
     "data": {
      "text/plain": [
       "(278911, 14)"
      ]
     },
     "execution_count": 80,
     "metadata": {},
     "output_type": "execute_result"
    }
   ],
   "source": [
    "predictions.shape"
   ]
  },
  {
   "cell_type": "code",
   "execution_count": 81,
   "metadata": {},
   "outputs": [
    {
     "name": "stdout",
     "output_type": "stream",
     "text": [
      "Predicted     0.0    1.0\n",
      "Actual                  \n",
      "0.0        218476  12780\n",
      "1.0          8389  39266\n"
     ]
    }
   ],
   "source": [
    "#predictions = predictions.reshape(predictions.shape[0], predictions.shape[2])\n",
    "#test_data = test_data.reshape(test_data.shape[0], test_data.shape[2])\n",
    "y_full = y_full.to_numpy()\n",
    "confusion_matrix = pd.crosstab(y_full[:, -1], predictions[:, 10], rownames=['Actual'], colnames=['Predicted'])\n",
    "print(confusion_matrix)"
   ]
  },
  {
   "cell_type": "code",
   "execution_count": 82,
   "metadata": {},
   "outputs": [],
   "source": [
    "pd_predictions = pd.DataFrame(predictions)\n",
    "column_10 = predictions[:, 10]\n",
    "is_one = column_10 ==1\n",
    "# Asignar 1 a los elementos que sean True y 0 a los elementos que sean False\n",
    "has_ones = np.where(is_one, 1, 0)"
   ]
  },
  {
   "cell_type": "code",
   "execution_count": 83,
   "metadata": {},
   "outputs": [
    {
     "name": "stdout",
     "output_type": "stream",
     "text": [
      "El número de anomalias predecidas es 52046 de 226865 valores normales\n"
     ]
    }
   ],
   "source": [
    "has_ones_pd = pd.DataFrame(has_ones, columns=['class'])\n",
    "count = (has_ones_pd['class'] == 1).sum()\n",
    "count1 = (has_ones_pd['class'] == 0).sum()\n",
    "print(f'El número de anomalias predecidas es {count} de {count1} valores normales')"
   ]
  },
  {
   "cell_type": "code",
   "execution_count": 84,
   "metadata": {},
   "outputs": [],
   "source": [
    "new_column = has_ones\n",
    "# Agregar la nueva columna al final del ndarray original\n",
    "predictions_class = np.hstack((predictions, new_column.reshape(-1, 1)))"
   ]
  },
  {
   "cell_type": "code",
   "execution_count": 85,
   "metadata": {},
   "outputs": [],
   "source": [
    "pd_predictions = pd.DataFrame(predictions_class)"
   ]
  },
  {
   "cell_type": "code",
   "execution_count": 86,
   "metadata": {},
   "outputs": [],
   "source": [
    "pd_test_data = pd.DataFrame(test_data)"
   ]
  },
  {
   "cell_type": "code",
   "execution_count": 87,
   "metadata": {},
   "outputs": [
    {
     "data": {
      "text/plain": [
       "array([0., 0., 0., ..., 1., 0., 1.])"
      ]
     },
     "execution_count": 87,
     "metadata": {},
     "output_type": "execute_result"
    }
   ],
   "source": [
    "predictions_class[:,14]"
   ]
  },
  {
   "cell_type": "code",
   "execution_count": 88,
   "metadata": {},
   "outputs": [
    {
     "name": "stdout",
     "output_type": "stream",
     "text": [
      "              precision    recall  f1-score   support\n",
      "\n",
      "         0.0       0.94      0.96      0.95    226865\n",
      "         1.0       0.82      0.75      0.79     52046\n",
      "\n",
      "    accuracy                           0.92    278911\n",
      "   macro avg       0.88      0.86      0.87    278911\n",
      "weighted avg       0.92      0.92      0.92    278911\n",
      "\n"
     ]
    }
   ],
   "source": [
    "from sklearn.metrics import classification_report\n",
    " \n",
    "print(classification_report(predictions_class[:,14], y))"
   ]
  },
  {
   "cell_type": "code",
   "execution_count": 89,
   "metadata": {},
   "outputs": [],
   "source": [
    "import matplotlib.pyplot as plt \n",
    "import seaborn as sns\n",
    "from sklearn.metrics import confusion_matrix\n",
    "class visualization:\n",
    "  labels = [\"Normal\",\"Anomal\"]\n",
    "  def draw_confusion_matrix(self, y, ypred):\n",
    "    matrix = confusion_matrix(y, ypred)\n",
    "\n",
    "    plt.figure(figsize=(10,8))\n",
    "    colors=[\"orange\", \"green\"]\n",
    "    sns.heatmap(matrix, xticklabels=self.labels, yticklabels=self.labels, cmap=colors, annot=True, fmt=\"d\")\n",
    "    plt.title(\"Confusion Matrix\")\n",
    "    plt.ylabel(\"Realidad\")\n",
    "    plt.xlabel(\"Predicción\")\n",
    "    plt.show()"
   ]
  },
  {
   "cell_type": "code",
   "execution_count": 90,
   "metadata": {},
   "outputs": [
    {
     "name": "stdout",
     "output_type": "stream",
     "text": [
      "El número de anomalias reales es 47655\n"
     ]
    }
   ],
   "source": [
    "y_pd = pd.DataFrame(y, columns = ['class'])\n",
    "count = (y_pd['class'] == 1).sum()\n",
    "print(f'El número de anomalias reales es {count}')"
   ]
  },
  {
   "cell_type": "code",
   "execution_count": 91,
   "metadata": {},
   "outputs": [
    {
     "name": "stdout",
     "output_type": "stream",
     "text": [
      "El número de anomalias predecidas es 52046\n"
     ]
    }
   ],
   "source": [
    "predictions_class_pd  = pd.DataFrame(predictions_class, columns = ['1','2','3','4','5','6','7','8','9','10','11','12','13','14','class'])\n",
    "count = (predictions_class_pd['class'] == 1).sum()\n",
    "print(f'El número de anomalias predecidas es {count}')"
   ]
  },
  {
   "cell_type": "code",
   "execution_count": 92,
   "metadata": {},
   "outputs": [
    {
     "data": {
      "image/png": "[encoded data removed]",
      "text/plain": [
       "<Figure size 720x576 with 2 Axes>"
      ]
     },
     "metadata": {
      "needs_background": "light"
     },
     "output_type": "display_data"
    }
   ],
   "source": [
    "viz = visualization()\n",
    "viz.draw_confusion_matrix(y_pd, predictions_class[:,14])"
   ]
  }
 ],
 "metadata": {
  "kernelspec": {
   "display_name": "base",
   "language": "python",
   "name": "python3"
  },
  "language_info": {
   "codemirror_mode": {
    "name": "ipython",
    "version": 3
   },
   "file_extension": ".py",
   "mimetype": "text/x-python",
   "name": "python",
   "nbconvert_exporter": "python",
   "pygments_lexer": "ipython3",
   "version": "3.9.12"
  },
  "orig_nbformat": 4
 },
 "nbformat": 4,
 "nbformat_minor": 2
}
