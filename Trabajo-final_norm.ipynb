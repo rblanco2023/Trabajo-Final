{
 "cells": [
  {
   "cell_type": "code",
   "execution_count": 1,
   "metadata": {},
   "outputs": [],
   "source": [
    "import numpy as np\n",
    "import pandas as pd\n",
    "import seaborn as sns\n",
    "import matplotlib.pyplot as plt\n",
    "import time\n",
    "from sklearn.preprocessing import StandardScaler\n",
    "from sklearn.ensemble import IsolationForest\n",
    "from sklearn.decomposition import PCA\n",
    "import keras.backend as K\n",
    "from sklearn.metrics import confusion_matrix, classification_report, roc_curve, auc\n",
    "#from sklearn.svm import OneClassSVM\n",
    "import joblib\n",
    "from joblib import dump\n",
    "import tensorflow as tf\n",
    "from tensorflow.keras.layers import Input, Dense, LSTM, RepeatVector, Dropout\n",
    "from tensorflow.keras.models import Model, Sequential\n",
    "from tensorflow.keras.optimizers import Adam, RMSprop\n",
    "from tensorflow.keras.losses import MeanSquaredError\n",
    "from keras.regularizers import l2, l1\n",
    "from keras.models import model_from_json"
   ]
  },
  {
   "cell_type": "markdown",
   "metadata": {},
   "source": [
    "Se carga el dataset"
   ]
  },
  {
   "cell_type": "code",
   "execution_count": 2,
   "metadata": {},
   "outputs": [
    {
     "name": "stdout",
     "output_type": "stream",
     "text": [
      "Se está cargando el dataset, aguarde un momento...\n",
      "Dataset cargado correctamente.\n"
     ]
    }
   ],
   "source": [
    "print(\"Se está cargando el dataset, aguarde un momento...\")\n",
    "filePath = \"C:/Users/raul.blanco/Documents/4 - Personales/UBA/Repositorios/IA/Trabajo-Final/solar_wind.csv\"\n",
    "dataset = pd.read_csv(filepath_or_buffer=filePath, header=0, sep=\",\")\n",
    "dataset = dataset.dropna()\n",
    "print(\"Dataset cargado correctamente.\")"
   ]
  },
  {
   "cell_type": "markdown",
   "metadata": {},
   "source": [
    "Se realiza One Hot Encodding"
   ]
  },
  {
   "cell_type": "code",
   "execution_count": 3,
   "metadata": {},
   "outputs": [],
   "source": [
    "#dataset_org = dataset\n",
    "dataset = pd.get_dummies(dataset, columns=['source', 'period'], prefix=['source', 'period'])"
   ]
  },
  {
   "cell_type": "markdown",
   "metadata": {},
   "source": [
    "Matriz de correlación"
   ]
  },
  {
   "cell_type": "code",
   "execution_count": null,
   "metadata": {},
   "outputs": [],
   "source": [
    "data = dataset.drop({'timedelta'},axis=1)\n",
    "correlation_matrix = data.corr()\n",
    "correlation_array = correlation_matrix.to_numpy()\n",
    "correlation_matrix = np.corrcoef(correlation_array, rowvar=False)\n",
    "plt.figure(figsize=(15, 10))\n",
    "plt.imshow(correlation_matrix, cmap='coolwarm', interpolation='nearest')\n",
    "plt.xticks(range(len(data.columns)), data.columns, rotation=90, fontsize=24)\n",
    "plt.yticks(range(len(data.columns)), data.columns, fontsize=24)\n",
    "\n",
    "plt.colorbar()\n",
    "plt.title('Matriz de Correlación', fontsize=24)\n",
    "plt.tight_layout()\n",
    "plt.show()"
   ]
  },
  {
   "cell_type": "code",
   "execution_count": null,
   "metadata": {},
   "outputs": [],
   "source": [
    "data = dataset.drop({'timedelta'}, axis=1)\n",
    "correlation_matrix = data.corr()\n",
    "correlation_array = correlation_matrix.to_numpy()\n",
    "correlation_matrix = np.corrcoef(correlation_array, rowvar=False)\n",
    "plt.figure(figsize=(15, 10))\n",
    "plt.imshow(correlation_matrix, cmap='coolwarm', interpolation='nearest')\n",
    "for i in range(len(data.columns)):\n",
    "    for j in range(len(data.columns)):\n",
    "        plt.text(j, i, f'{correlation_matrix[i, j]:.2f}', ha='center', va='center', color='black')\n",
    "plt.xticks(range(len(data.columns)), data.columns, rotation=90, fontsize=24)\n",
    "plt.yticks(range(len(data.columns)), data.columns, fontsize=24)\n",
    "plt.colorbar()\n",
    "plt.title('Matriz de Correlación', fontsize=24)\n",
    "plt.tight_layout()\n",
    "plt.show()"
   ]
  },
  {
   "cell_type": "markdown",
   "metadata": {},
   "source": [
    "Se divide el dataset en train y test"
   ]
  },
  {
   "cell_type": "code",
   "execution_count": 4,
   "metadata": {},
   "outputs": [],
   "source": [
    "train_size = int(len(dataset) * 0.8)\n",
    "train_data = dataset[:train_size]\n",
    "test_data = dataset[train_size:]"
   ]
  },
  {
   "cell_type": "code",
   "execution_count": 5,
   "metadata": {},
   "outputs": [
    {
     "data": {
      "text/html": [
       "<div>\n",
       "<style scoped>\n",
       "    .dataframe tbody tr th:only-of-type {\n",
       "        vertical-align: middle;\n",
       "    }\n",
       "\n",
       "    .dataframe tbody tr th {\n",
       "        vertical-align: top;\n",
       "    }\n",
       "\n",
       "    .dataframe thead th {\n",
       "        text-align: right;\n",
       "    }\n",
       "</style>\n",
       "<table border=\"1\" class=\"dataframe\">\n",
       "  <thead>\n",
       "    <tr style=\"text-align: right;\">\n",
       "      <th></th>\n",
       "      <th>bx_gse</th>\n",
       "      <th>by_gse</th>\n",
       "      <th>bz_gse</th>\n",
       "      <th>theta_gse</th>\n",
       "      <th>phi_gse</th>\n",
       "      <th>bx_gsm</th>\n",
       "      <th>by_gsm</th>\n",
       "      <th>bz_gsm</th>\n",
       "      <th>theta_gsm</th>\n",
       "      <th>phi_gsm</th>\n",
       "      <th>bt</th>\n",
       "      <th>density</th>\n",
       "      <th>speed</th>\n",
       "      <th>temperature</th>\n",
       "      <th>source_ac</th>\n",
       "      <th>source_ds</th>\n",
       "      <th>period_train_a</th>\n",
       "      <th>period_train_b</th>\n",
       "      <th>period_train_c</th>\n",
       "    </tr>\n",
       "    <tr>\n",
       "      <th>timedelta</th>\n",
       "      <th></th>\n",
       "      <th></th>\n",
       "      <th></th>\n",
       "      <th></th>\n",
       "      <th></th>\n",
       "      <th></th>\n",
       "      <th></th>\n",
       "      <th></th>\n",
       "      <th></th>\n",
       "      <th></th>\n",
       "      <th></th>\n",
       "      <th></th>\n",
       "      <th></th>\n",
       "      <th></th>\n",
       "      <th></th>\n",
       "      <th></th>\n",
       "      <th></th>\n",
       "      <th></th>\n",
       "      <th></th>\n",
       "    </tr>\n",
       "  </thead>\n",
       "  <tbody>\n",
       "    <tr>\n",
       "      <th>0 days 00:00:00</th>\n",
       "      <td>-5.55</td>\n",
       "      <td>3.00</td>\n",
       "      <td>1.25</td>\n",
       "      <td>11.09</td>\n",
       "      <td>153.37</td>\n",
       "      <td>-5.55</td>\n",
       "      <td>3.00</td>\n",
       "      <td>1.25</td>\n",
       "      <td>11.09</td>\n",
       "      <td>153.37</td>\n",
       "      <td>6.80</td>\n",
       "      <td>1.53</td>\n",
       "      <td>383.92</td>\n",
       "      <td>110237.0</td>\n",
       "      <td>1</td>\n",
       "      <td>0</td>\n",
       "      <td>1</td>\n",
       "      <td>0</td>\n",
       "      <td>0</td>\n",
       "    </tr>\n",
       "    <tr>\n",
       "      <th>0 days 00:01:00</th>\n",
       "      <td>-5.58</td>\n",
       "      <td>3.16</td>\n",
       "      <td>1.17</td>\n",
       "      <td>10.10</td>\n",
       "      <td>151.91</td>\n",
       "      <td>-5.58</td>\n",
       "      <td>3.16</td>\n",
       "      <td>1.17</td>\n",
       "      <td>10.10</td>\n",
       "      <td>151.91</td>\n",
       "      <td>6.83</td>\n",
       "      <td>1.69</td>\n",
       "      <td>381.79</td>\n",
       "      <td>123825.0</td>\n",
       "      <td>1</td>\n",
       "      <td>0</td>\n",
       "      <td>1</td>\n",
       "      <td>0</td>\n",
       "      <td>0</td>\n",
       "    </tr>\n",
       "    <tr>\n",
       "      <th>0 days 00:02:00</th>\n",
       "      <td>-5.15</td>\n",
       "      <td>3.66</td>\n",
       "      <td>0.85</td>\n",
       "      <td>7.87</td>\n",
       "      <td>146.04</td>\n",
       "      <td>-5.15</td>\n",
       "      <td>3.66</td>\n",
       "      <td>0.85</td>\n",
       "      <td>7.87</td>\n",
       "      <td>146.04</td>\n",
       "      <td>6.77</td>\n",
       "      <td>1.97</td>\n",
       "      <td>389.11</td>\n",
       "      <td>82548.0</td>\n",
       "      <td>1</td>\n",
       "      <td>0</td>\n",
       "      <td>1</td>\n",
       "      <td>0</td>\n",
       "      <td>0</td>\n",
       "    </tr>\n",
       "    <tr>\n",
       "      <th>0 days 00:03:00</th>\n",
       "      <td>-5.20</td>\n",
       "      <td>3.68</td>\n",
       "      <td>0.68</td>\n",
       "      <td>6.17</td>\n",
       "      <td>146.17</td>\n",
       "      <td>-5.20</td>\n",
       "      <td>3.68</td>\n",
       "      <td>0.68</td>\n",
       "      <td>6.17</td>\n",
       "      <td>146.17</td>\n",
       "      <td>6.74</td>\n",
       "      <td>1.97</td>\n",
       "      <td>389.11</td>\n",
       "      <td>82548.0</td>\n",
       "      <td>1</td>\n",
       "      <td>0</td>\n",
       "      <td>1</td>\n",
       "      <td>0</td>\n",
       "      <td>0</td>\n",
       "    </tr>\n",
       "    <tr>\n",
       "      <th>0 days 00:04:00</th>\n",
       "      <td>-5.12</td>\n",
       "      <td>3.68</td>\n",
       "      <td>0.49</td>\n",
       "      <td>4.62</td>\n",
       "      <td>145.72</td>\n",
       "      <td>-5.12</td>\n",
       "      <td>3.68</td>\n",
       "      <td>0.49</td>\n",
       "      <td>4.62</td>\n",
       "      <td>145.72</td>\n",
       "      <td>6.65</td>\n",
       "      <td>1.77</td>\n",
       "      <td>384.26</td>\n",
       "      <td>94269.0</td>\n",
       "      <td>1</td>\n",
       "      <td>0</td>\n",
       "      <td>1</td>\n",
       "      <td>0</td>\n",
       "      <td>0</td>\n",
       "    </tr>\n",
       "    <tr>\n",
       "      <th>...</th>\n",
       "      <td>...</td>\n",
       "      <td>...</td>\n",
       "      <td>...</td>\n",
       "      <td>...</td>\n",
       "      <td>...</td>\n",
       "      <td>...</td>\n",
       "      <td>...</td>\n",
       "      <td>...</td>\n",
       "      <td>...</td>\n",
       "      <td>...</td>\n",
       "      <td>...</td>\n",
       "      <td>...</td>\n",
       "      <td>...</td>\n",
       "      <td>...</td>\n",
       "      <td>...</td>\n",
       "      <td>...</td>\n",
       "      <td>...</td>\n",
       "      <td>...</td>\n",
       "      <td>...</td>\n",
       "    </tr>\n",
       "    <tr>\n",
       "      <th>1233 days 22:15:00</th>\n",
       "      <td>1.85</td>\n",
       "      <td>-1.95</td>\n",
       "      <td>0.55</td>\n",
       "      <td>11.46</td>\n",
       "      <td>313.59</td>\n",
       "      <td>1.85</td>\n",
       "      <td>-1.78</td>\n",
       "      <td>0.97</td>\n",
       "      <td>20.74</td>\n",
       "      <td>316.17</td>\n",
       "      <td>2.74</td>\n",
       "      <td>4.46</td>\n",
       "      <td>355.14</td>\n",
       "      <td>28303.0</td>\n",
       "      <td>1</td>\n",
       "      <td>0</td>\n",
       "      <td>0</td>\n",
       "      <td>0</td>\n",
       "      <td>1</td>\n",
       "    </tr>\n",
       "    <tr>\n",
       "      <th>1233 days 22:16:00</th>\n",
       "      <td>0.78</td>\n",
       "      <td>-2.77</td>\n",
       "      <td>0.56</td>\n",
       "      <td>10.93</td>\n",
       "      <td>285.72</td>\n",
       "      <td>0.77</td>\n",
       "      <td>-2.58</td>\n",
       "      <td>1.17</td>\n",
       "      <td>23.46</td>\n",
       "      <td>286.73</td>\n",
       "      <td>2.93</td>\n",
       "      <td>4.38</td>\n",
       "      <td>356.59</td>\n",
       "      <td>46966.0</td>\n",
       "      <td>1</td>\n",
       "      <td>0</td>\n",
       "      <td>0</td>\n",
       "      <td>0</td>\n",
       "      <td>1</td>\n",
       "    </tr>\n",
       "    <tr>\n",
       "      <th>1233 days 22:17:00</th>\n",
       "      <td>0.53</td>\n",
       "      <td>-2.79</td>\n",
       "      <td>0.64</td>\n",
       "      <td>12.76</td>\n",
       "      <td>280.70</td>\n",
       "      <td>0.52</td>\n",
       "      <td>-2.58</td>\n",
       "      <td>1.26</td>\n",
       "      <td>25.56</td>\n",
       "      <td>281.46</td>\n",
       "      <td>2.91</td>\n",
       "      <td>5.03</td>\n",
       "      <td>356.57</td>\n",
       "      <td>29625.0</td>\n",
       "      <td>1</td>\n",
       "      <td>0</td>\n",
       "      <td>0</td>\n",
       "      <td>0</td>\n",
       "      <td>1</td>\n",
       "    </tr>\n",
       "    <tr>\n",
       "      <th>1233 days 22:18:00</th>\n",
       "      <td>0.81</td>\n",
       "      <td>-2.71</td>\n",
       "      <td>0.70</td>\n",
       "      <td>13.89</td>\n",
       "      <td>286.58</td>\n",
       "      <td>0.80</td>\n",
       "      <td>-2.48</td>\n",
       "      <td>1.29</td>\n",
       "      <td>26.37</td>\n",
       "      <td>287.90</td>\n",
       "      <td>2.91</td>\n",
       "      <td>4.82</td>\n",
       "      <td>360.49</td>\n",
       "      <td>27442.0</td>\n",
       "      <td>1</td>\n",
       "      <td>0</td>\n",
       "      <td>0</td>\n",
       "      <td>0</td>\n",
       "      <td>1</td>\n",
       "    </tr>\n",
       "    <tr>\n",
       "      <th>1233 days 22:19:00</th>\n",
       "      <td>1.10</td>\n",
       "      <td>-2.61</td>\n",
       "      <td>0.70</td>\n",
       "      <td>13.97</td>\n",
       "      <td>292.85</td>\n",
       "      <td>1.09</td>\n",
       "      <td>-2.38</td>\n",
       "      <td>1.27</td>\n",
       "      <td>25.91</td>\n",
       "      <td>294.65</td>\n",
       "      <td>2.91</td>\n",
       "      <td>4.14</td>\n",
       "      <td>351.77</td>\n",
       "      <td>36267.0</td>\n",
       "      <td>1</td>\n",
       "      <td>0</td>\n",
       "      <td>0</td>\n",
       "      <td>0</td>\n",
       "      <td>1</td>\n",
       "    </tr>\n",
       "  </tbody>\n",
       "</table>\n",
       "<p>6056864 rows × 19 columns</p>\n",
       "</div>"
      ],
      "text/plain": [
       "                    bx_gse  by_gse  bz_gse  theta_gse  phi_gse  bx_gsm  \\\n",
       "timedelta                                                                \n",
       "0 days 00:00:00      -5.55    3.00    1.25      11.09   153.37   -5.55   \n",
       "0 days 00:01:00      -5.58    3.16    1.17      10.10   151.91   -5.58   \n",
       "0 days 00:02:00      -5.15    3.66    0.85       7.87   146.04   -5.15   \n",
       "0 days 00:03:00      -5.20    3.68    0.68       6.17   146.17   -5.20   \n",
       "0 days 00:04:00      -5.12    3.68    0.49       4.62   145.72   -5.12   \n",
       "...                    ...     ...     ...        ...      ...     ...   \n",
       "1233 days 22:15:00    1.85   -1.95    0.55      11.46   313.59    1.85   \n",
       "1233 days 22:16:00    0.78   -2.77    0.56      10.93   285.72    0.77   \n",
       "1233 days 22:17:00    0.53   -2.79    0.64      12.76   280.70    0.52   \n",
       "1233 days 22:18:00    0.81   -2.71    0.70      13.89   286.58    0.80   \n",
       "1233 days 22:19:00    1.10   -2.61    0.70      13.97   292.85    1.09   \n",
       "\n",
       "                    by_gsm  bz_gsm  theta_gsm  phi_gsm    bt  density   speed  \\\n",
       "timedelta                                                                       \n",
       "0 days 00:00:00       3.00    1.25      11.09   153.37  6.80     1.53  383.92   \n",
       "0 days 00:01:00       3.16    1.17      10.10   151.91  6.83     1.69  381.79   \n",
       "0 days 00:02:00       3.66    0.85       7.87   146.04  6.77     1.97  389.11   \n",
       "0 days 00:03:00       3.68    0.68       6.17   146.17  6.74     1.97  389.11   \n",
       "0 days 00:04:00       3.68    0.49       4.62   145.72  6.65     1.77  384.26   \n",
       "...                    ...     ...        ...      ...   ...      ...     ...   \n",
       "1233 days 22:15:00   -1.78    0.97      20.74   316.17  2.74     4.46  355.14   \n",
       "1233 days 22:16:00   -2.58    1.17      23.46   286.73  2.93     4.38  356.59   \n",
       "1233 days 22:17:00   -2.58    1.26      25.56   281.46  2.91     5.03  356.57   \n",
       "1233 days 22:18:00   -2.48    1.29      26.37   287.90  2.91     4.82  360.49   \n",
       "1233 days 22:19:00   -2.38    1.27      25.91   294.65  2.91     4.14  351.77   \n",
       "\n",
       "                    temperature  source_ac  source_ds  period_train_a  \\\n",
       "timedelta                                                               \n",
       "0 days 00:00:00        110237.0          1          0               1   \n",
       "0 days 00:01:00        123825.0          1          0               1   \n",
       "0 days 00:02:00         82548.0          1          0               1   \n",
       "0 days 00:03:00         82548.0          1          0               1   \n",
       "0 days 00:04:00         94269.0          1          0               1   \n",
       "...                         ...        ...        ...             ...   \n",
       "1233 days 22:15:00      28303.0          1          0               0   \n",
       "1233 days 22:16:00      46966.0          1          0               0   \n",
       "1233 days 22:17:00      29625.0          1          0               0   \n",
       "1233 days 22:18:00      27442.0          1          0               0   \n",
       "1233 days 22:19:00      36267.0          1          0               0   \n",
       "\n",
       "                    period_train_b  period_train_c  \n",
       "timedelta                                           \n",
       "0 days 00:00:00                  0               0  \n",
       "0 days 00:01:00                  0               0  \n",
       "0 days 00:02:00                  0               0  \n",
       "0 days 00:03:00                  0               0  \n",
       "0 days 00:04:00                  0               0  \n",
       "...                            ...             ...  \n",
       "1233 days 22:15:00               0               1  \n",
       "1233 days 22:16:00               0               1  \n",
       "1233 days 22:17:00               0               1  \n",
       "1233 days 22:18:00               0               1  \n",
       "1233 days 22:19:00               0               1  \n",
       "\n",
       "[6056864 rows x 19 columns]"
      ]
     },
     "execution_count": 5,
     "metadata": {},
     "output_type": "execute_result"
    }
   ],
   "source": [
    "train_data.set_index(['timedelta'])"
   ]
  },
  {
   "cell_type": "markdown",
   "metadata": {},
   "source": [
    "Gráfico de la variable bt vs el tiempo"
   ]
  },
  {
   "cell_type": "code",
   "execution_count": null,
   "metadata": {},
   "outputs": [],
   "source": [
    "plt.figure(figsize=(20, 6))\n",
    "plt.plot(train_data.index, train_data['bt'], linestyle='-')\n",
    "plt.xlabel('Timedelta')\n",
    "plt.ylabel('Valor de bt')\n",
    "plt.title('Gráfica de bt en función de timedelta')\n",
    "plt.grid(True)\n",
    "plt.show()"
   ]
  },
  {
   "cell_type": "markdown",
   "metadata": {},
   "source": [
    "Gráfico de la distribución de bt"
   ]
  },
  {
   "cell_type": "code",
   "execution_count": null,
   "metadata": {},
   "outputs": [],
   "source": [
    "plt.hist(train_data['bt'], bins=70, edgecolor='black', alpha=0.7)\n",
    "plt.xlabel('Valor de bt')\n",
    "plt.ylabel('Frecuencia')\n",
    "plt.title('Distribución de la variable bt')\n",
    "plt.grid(True)\n",
    "plt.show()"
   ]
  },
  {
   "cell_type": "markdown",
   "metadata": {},
   "source": [
    "Agrego media y desvío standard"
   ]
  },
  {
   "cell_type": "code",
   "execution_count": null,
   "metadata": {},
   "outputs": [],
   "source": [
    "bt_values = train_data['bt']\n",
    "mean_value = 7.069\n",
    "std_deviation = 3.693\n",
    "plt.hist(bt_values, bins=70, edgecolor='black', alpha=0.7)\n",
    "plt.axvline(x=mean_value, color='red', linestyle='dashed', linewidth=2, label='Media')\n",
    "plt.axvline(x=mean_value - std_deviation, color='orange', linestyle='dotted', linewidth=3, label='Desvío Estándar')\n",
    "plt.axvline(x=mean_value + std_deviation, color='orange', linestyle='dotted', linewidth=3)\n",
    "plt.xlabel('Valor de bt')\n",
    "plt.ylabel('Frecuencia')\n",
    "plt.xlim(left=-5, right=76)\n",
    "plt.legend()\n",
    "plt.grid(True)\n",
    "plt.show()"
   ]
  },
  {
   "cell_type": "markdown",
   "metadata": {},
   "source": [
    "Se preparan los dataset para ser guardados localmente"
   ]
  },
  {
   "cell_type": "code",
   "execution_count": 6,
   "metadata": {},
   "outputs": [],
   "source": [
    "test_data_pd = pd.DataFrame(test_data)\n",
    "test_data_pd.reset_index()\n",
    "test_timedelta = test_data[['timedelta']]\n",
    "test_timedelta.reset_index(drop=True, inplace = True)\n",
    "test_data_out = pd.concat([test_timedelta, test_data_pd], axis = 'columns')\n",
    "test_data = test_data.drop(['timedelta'], axis=1)\n",
    "train_data = train_data.drop(['timedelta'], axis=1)"
   ]
  },
  {
   "cell_type": "markdown",
   "metadata": {},
   "source": [
    "Se introduce las anomalías en los dataset de entrenamiento y de testeo"
   ]
  },
  {
   "cell_type": "code",
   "execution_count": 7,
   "metadata": {},
   "outputs": [],
   "source": [
    "feature = 'bt'\n",
    "anomaly_percentage_train = 0.2\n",
    "sample_indices_train = train_data.sample(frac=anomaly_percentage_train, random_state=42).index \n",
    "num_anomalies_train = int(len(train_data) * anomaly_percentage_train)+1\n",
    "train_data.loc[sample_indices_train, feature] = np.random.normal(loc=40, scale=1.5, size=len(sample_indices_train))\n",
    "#train_data.loc[sample_indices_train, feature] = np.random.uniform(low=0, high=100, size=num_anomalies_train)"
   ]
  },
  {
   "cell_type": "code",
   "execution_count": 8,
   "metadata": {},
   "outputs": [],
   "source": [
    "anomaly_percentage_test = 0.01\n",
    "sample_indices_test = test_data.sample(frac=anomaly_percentage_test, random_state=42).index\n",
    "num_anomalies_test = int(len(test_data) * anomaly_percentage_test)+1\n",
    "test_data.loc[sample_indices_test, feature] = np.random.normal(loc=40, scale=1.5, size=len(sample_indices_test))\n",
    "#test_data.loc[sample_indices_test, feature] = np.random.uniform(low=0, high=100, size=len(sample_indices_test))"
   ]
  },
  {
   "cell_type": "markdown",
   "metadata": {},
   "source": [
    "Etiqueto los registros que tienen anomalías"
   ]
  },
  {
   "cell_type": "code",
   "execution_count": 9,
   "metadata": {},
   "outputs": [],
   "source": [
    "train_data['class'] = 0\n",
    "train_data.loc[sample_indices_train, 'class'] = 1\n",
    "test_data['class'] = 0\n",
    "test_data.loc[sample_indices_test, 'class'] = 1"
   ]
  },
  {
   "cell_type": "code",
   "execution_count": 10,
   "metadata": {},
   "outputs": [
    {
     "name": "stdout",
     "output_type": "stream",
     "text": [
      "En el dataset TEST el número de anomalias es 15142 y 1499075 son valores normales\n"
     ]
    }
   ],
   "source": [
    "count = (test_data['class'] == 1).sum()\n",
    "count1 = (test_data['class'] == 0).sum()\n",
    "print(f'En el dataset TEST el número de anomalias es {count} y {count1} son valores normales')"
   ]
  },
  {
   "cell_type": "code",
   "execution_count": 11,
   "metadata": {},
   "outputs": [],
   "source": [
    "test_timedelta.index = test_data_pd.index\n",
    "test_data_out = pd.concat([test_timedelta, test_data_pd], axis = 'columns')"
   ]
  },
  {
   "cell_type": "markdown",
   "metadata": {},
   "source": [
    "Grafico train con anomalías"
   ]
  },
  {
   "cell_type": "code",
   "execution_count": null,
   "metadata": {},
   "outputs": [],
   "source": [
    "bt_values.describe()"
   ]
  },
  {
   "cell_type": "code",
   "execution_count": null,
   "metadata": {},
   "outputs": [],
   "source": [
    "bt_values = train_data['bt']\n",
    "plt.hist(bt_values, bins=70, edgecolor='black', alpha=0.7)\n",
    "media1 = 14.738\n",
    "plt.axvline(x=media1, color='r', linestyle='dashed', linewidth=2, label=f'Media br: {media1}')\n",
    "plt.xlabel('Valor de bt')\n",
    "plt.ylabel('Frecuencia')\n",
    "plt.xlim(left=-5, right=76)\n",
    "plt.grid(True)\n",
    "plt.legend()\n",
    "plt.show()"
   ]
  },
  {
   "cell_type": "markdown",
   "metadata": {},
   "source": [
    "Grafico test con anomalías"
   ]
  },
  {
   "cell_type": "code",
   "execution_count": null,
   "metadata": {},
   "outputs": [],
   "source": [
    "plt.hist(test_data_out['bt'], bins=70, edgecolor='black', alpha=0.7)\n",
    "plt.xlabel('Valor de bt')\n",
    "plt.ylabel('Frecuencia')\n",
    "#plt.title('Distribución de la variable bt') \n",
    "plt.grid(True)\n",
    "plt.show()"
   ]
  },
  {
   "cell_type": "code",
   "execution_count": null,
   "metadata": {},
   "outputs": [],
   "source": [
    "bt_values.describe()"
   ]
  },
  {
   "cell_type": "code",
   "execution_count": null,
   "metadata": {},
   "outputs": [],
   "source": [
    "bt_values = test_data_out['bt']\n",
    "plt.hist(bt_values, bins=70, edgecolor='black', alpha=0.7)\n",
    "media1 = 4.296\n",
    "plt.axvline(x=media1, color='r', linestyle='dashed', linewidth=2, label=f'Media br: {media1}')\n",
    "plt.xlabel('Valor de bt')\n",
    "plt.ylabel('Frecuencia')\n",
    "plt.grid(True)\n",
    "plt.legend()\n",
    "plt.show()"
   ]
  },
  {
   "cell_type": "markdown",
   "metadata": {},
   "source": [
    "A partir de ahora, comienzo a prepara el dataset para el entrenamiento"
   ]
  },
  {
   "cell_type": "code",
   "execution_count": 12,
   "metadata": {},
   "outputs": [],
   "source": [
    "X_train = train_data.drop('class', axis=1).values\n",
    "y_train = train_data['class'].values\n",
    "X_test = test_data.drop('class', axis=1).values\n",
    "y_test = test_data['class'].values"
   ]
  },
  {
   "cell_type": "code",
   "execution_count": 13,
   "metadata": {},
   "outputs": [],
   "source": [
    "X_train = pd.DataFrame(X_train, columns=['bx_gse', 'by_gse', 'bz_gse', 'theta_gse',\n",
    "       'phi_gse', 'bx_gsm', 'by_gsm', 'bz_gsm', 'theta_gsm', 'phi_gsm', 'bt',\n",
    "       'density', 'speed', 'temperature', 'source_ac', 'source_ds', 'period_train_a',\n",
    "       'period_train_b', 'period_train_c'])\n",
    "y_train = pd.DataFrame(y_train, columns = ['Class'])"
   ]
  },
  {
   "cell_type": "markdown",
   "metadata": {},
   "source": [
    "Aplico PCA a train"
   ]
  },
  {
   "cell_type": "code",
   "execution_count": 14,
   "metadata": {},
   "outputs": [],
   "source": [
    "scaler = StandardScaler()\n",
    "X_train_scaled = scaler.fit_transform(X_train)\n",
    "#X_test_scaled = scaler.transform(X_test)\n",
    "\n",
    "componentes = 9\n",
    "pca = PCA(n_components = componentes)\n",
    "X_train_pca = pca.fit_transform(X_train)\n",
    "#X_test_pca = pca.transform(X_test)\n",
    "\n",
    "X_train_pca = pca.fit_transform(X_train_scaled)\n",
    "#X_test_pca = pca.transform(X_test_scaled)\n",
    "data_train_X = X_train_pca\n",
    "#data_test_X = X_test_pca  "
   ]
  },
  {
   "cell_type": "code",
   "execution_count": 15,
   "metadata": {},
   "outputs": [
    {
     "data": {
      "image/png": "[encoded data removed]",
      "text/plain": [
       "<Figure size 720x432 with 1 Axes>"
      ]
     },
     "metadata": {
      "needs_background": "light"
     },
     "output_type": "display_data"
    }
   ],
   "source": [
    "explained_variance_ratio = pca.explained_variance_ratio_\n",
    "cumulative_variance_ratio = np.cumsum(explained_variance_ratio)\n",
    "plt.figure(figsize=(10, 6))\n",
    "plt.plot(range(1, componentes + 1), cumulative_variance_ratio, marker='o', linestyle='--')\n",
    "plt.xlabel('Número de Componentes')\n",
    "plt.ylabel('Varianza Acumulada Explicada')\n",
    "plt.title('Scree Plot')\n",
    "plt.xticks(range(1, componentes + 1))\n",
    "plt.grid(True)\n",
    "plt.show()"
   ]
  },
  {
   "cell_type": "markdown",
   "metadata": {},
   "source": [
    "### RBM"
   ]
  },
  {
   "cell_type": "code",
   "execution_count": 16,
   "metadata": {},
   "outputs": [],
   "source": [
    "def weighted_mean_squared_error(y_true, y_pred):\n",
    "    weights = K.cast(K.not_equal(y_true, 0), K.floatx())\n",
    "    return K.mean(K.square((y_pred - y_true) * weights), axis=-1)  \n",
    "\n",
    "visible = Input(shape=(data_train_X.shape[1],))\n",
    "#hidden = Dense(64, activation='sigmoid')(visible)\n",
    "hidden = Dense(16, activation='sigmoid', kernel_regularizer=l1(0.001))(visible)\n",
    "hidden = Dropout(0.5)(hidden)\n",
    "hidden = Dense(12, activation='sigmoid', kernel_regularizer=l1(0.001))(visible)\n",
    "#hidden = Dense(32, activation='sigmoid')(visible)\n",
    "hidden = Dropout(0.5)(hidden)\n",
    "visible_recon = Dense(data_train_X.shape[1], activation='sigmoid')(hidden)\n",
    "\n",
    "rbm_model = Model(inputs=visible, outputs=visible_recon)\n",
    "rbm_model.compile(optimizer=Adam(learning_rate=0.0001), loss=weighted_mean_squared_error)"
   ]
  },
  {
   "cell_type": "code",
   "execution_count": 17,
   "metadata": {},
   "outputs": [
    {
     "name": "stdout",
     "output_type": "stream",
     "text": [
      "Epoch 1/50\n",
      "17035/17035 [==============================] - 19s 1ms/step - loss: 1.8409 - val_loss: 1.4145\n",
      "Epoch 2/50\n",
      "17035/17035 [==============================] - 19s 1ms/step - loss: 1.6910 - val_loss: 1.3216\n",
      "Epoch 3/50\n",
      "17035/17035 [==============================] - 22s 1ms/step - loss: 1.6418 - val_loss: 1.2858\n",
      "Epoch 4/50\n",
      "17035/17035 [==============================] - 23s 1ms/step - loss: 1.6170 - val_loss: 1.2665\n",
      "Epoch 5/50\n",
      "17035/17035 [==============================] - 24s 1ms/step - loss: 1.6055 - val_loss: 1.2550\n",
      "Epoch 6/50\n",
      "17035/17035 [==============================] - 24s 1ms/step - loss: 1.5992 - val_loss: 1.2667\n",
      "Epoch 7/50\n",
      "17035/17035 [==============================] - 23s 1ms/step - loss: 1.5949 - val_loss: 1.2868\n",
      "Epoch 8/50\n",
      "17035/17035 [==============================] - 24s 1ms/step - loss: 1.5924 - val_loss: 1.3073\n",
      "Epoch 9/50\n",
      "17035/17035 [==============================] - 25s 1ms/step - loss: 1.5908 - val_loss: 1.3190\n",
      "Epoch 10/50\n",
      "17035/17035 [==============================] - 25s 1ms/step - loss: 1.5896 - val_loss: 1.3286\n",
      "Epoch 11/50\n",
      "17035/17035 [==============================] - 23s 1ms/step - loss: 1.5881 - val_loss: 1.3375\n",
      "Epoch 12/50\n",
      "17035/17035 [==============================] - 24s 1ms/step - loss: 1.5865 - val_loss: 1.3461\n",
      "Epoch 13/50\n",
      "17035/17035 [==============================] - 24s 1ms/step - loss: 1.5847 - val_loss: 1.3524\n",
      "Epoch 14/50\n",
      "17035/17035 [==============================] - 24s 1ms/step - loss: 1.5821 - val_loss: 1.3523\n",
      "Epoch 15/50\n",
      "17035/17035 [==============================] - 24s 1ms/step - loss: 1.5791 - val_loss: 1.3482\n",
      "Epoch 16/50\n",
      "17035/17035 [==============================] - 25s 1ms/step - loss: 1.5759 - val_loss: 1.3439\n",
      "Epoch 17/50\n",
      "17035/17035 [==============================] - 25s 1ms/step - loss: 1.5734 - val_loss: 1.3428\n",
      "Epoch 18/50\n",
      "17035/17035 [==============================] - 23s 1ms/step - loss: 1.5717 - val_loss: 1.3476\n",
      "Epoch 19/50\n",
      "17035/17035 [==============================] - 24s 1ms/step - loss: 1.5706 - val_loss: 1.3559\n",
      "Epoch 20/50\n",
      "17035/17035 [==============================] - 23s 1ms/step - loss: 1.5694 - val_loss: 1.3665\n",
      "Epoch 21/50\n",
      "17035/17035 [==============================] - 23s 1ms/step - loss: 1.5689 - val_loss: 1.3740\n",
      "Epoch 22/50\n",
      "17035/17035 [==============================] - 23s 1ms/step - loss: 1.5681 - val_loss: 1.3784\n",
      "Epoch 23/50\n",
      "17035/17035 [==============================] - 23s 1ms/step - loss: 1.5677 - val_loss: 1.3834\n",
      "Epoch 24/50\n",
      "17035/17035 [==============================] - 26s 1ms/step - loss: 1.5668 - val_loss: 1.3875\n",
      "Epoch 25/50\n",
      "17035/17035 [==============================] - 24s 1ms/step - loss: 1.5661 - val_loss: 1.3907\n",
      "Epoch 26/50\n",
      "17035/17035 [==============================] - 24s 1ms/step - loss: 1.5654 - val_loss: 1.3928\n",
      "Epoch 27/50\n",
      "17035/17035 [==============================] - 24s 1ms/step - loss: 1.5651 - val_loss: 1.3949\n",
      "Epoch 28/50\n",
      "17035/17035 [==============================] - 23s 1ms/step - loss: 1.5649 - val_loss: 1.3964\n",
      "Epoch 29/50\n",
      "17035/17035 [==============================] - 23s 1ms/step - loss: 1.5644 - val_loss: 1.3977\n",
      "Epoch 30/50\n",
      "17035/17035 [==============================] - 24s 1ms/step - loss: 1.5643 - val_loss: 1.3985\n",
      "Epoch 31/50\n",
      "17035/17035 [==============================] - 24s 1ms/step - loss: 1.5640 - val_loss: 1.3995\n",
      "Epoch 32/50\n",
      "17035/17035 [==============================] - 24s 1ms/step - loss: 1.5641 - val_loss: 1.4001\n",
      "Epoch 33/50\n",
      "17035/17035 [==============================] - 23s 1ms/step - loss: 1.5638 - val_loss: 1.4005\n",
      "Epoch 34/50\n",
      "17035/17035 [==============================] - 24s 1ms/step - loss: 1.5637 - val_loss: 1.4008\n",
      "Epoch 35/50\n",
      "17035/17035 [==============================] - 24s 1ms/step - loss: 1.5635 - val_loss: 1.4014\n",
      "Epoch 36/50\n",
      "17035/17035 [==============================] - 24s 1ms/step - loss: 1.5635 - val_loss: 1.4022\n",
      "Epoch 37/50\n",
      "17035/17035 [==============================] - 23s 1ms/step - loss: 1.5635 - val_loss: 1.4020\n",
      "Epoch 38/50\n",
      "17035/17035 [==============================] - 23s 1ms/step - loss: 1.5635 - val_loss: 1.4024\n",
      "Epoch 39/50\n",
      "17035/17035 [==============================] - 23s 1ms/step - loss: 1.5631 - val_loss: 1.4024\n",
      "Epoch 40/50\n",
      "17035/17035 [==============================] - 28s 2ms/step - loss: 1.5632 - val_loss: 1.4026\n",
      "Epoch 41/50\n",
      "17035/17035 [==============================] - 24s 1ms/step - loss: 1.5630 - val_loss: 1.4027\n",
      "Epoch 42/50\n",
      "17035/17035 [==============================] - 28s 2ms/step - loss: 1.5629 - val_loss: 1.4038\n",
      "Epoch 43/50\n",
      "17035/17035 [==============================] - 28s 2ms/step - loss: 1.5629 - val_loss: 1.4031\n",
      "Epoch 44/50\n",
      "17035/17035 [==============================] - 28s 2ms/step - loss: 1.5630 - val_loss: 1.4033\n",
      "Epoch 45/50\n",
      "17035/17035 [==============================] - 28s 2ms/step - loss: 1.5627 - val_loss: 1.4035\n",
      "Epoch 46/50\n",
      "17035/17035 [==============================] - 28s 2ms/step - loss: 1.5627 - val_loss: 1.4036\n",
      "Epoch 47/50\n",
      "17035/17035 [==============================] - 25s 1ms/step - loss: 1.5625 - val_loss: 1.4042\n",
      "Epoch 48/50\n",
      "17035/17035 [==============================] - 24s 1ms/step - loss: 1.5624 - val_loss: 1.4042\n",
      "Epoch 49/50\n",
      "17035/17035 [==============================] - 24s 1ms/step - loss: 1.5625 - val_loss: 1.4043\n",
      "Epoch 50/50\n",
      "17035/17035 [==============================] - 24s 1ms/step - loss: 1.5623 - val_loss: 1.4045\n",
      "Tiempo total de entrenamiento: 1203.52 segundos\n"
     ]
    }
   ],
   "source": [
    "start_time = time.time()\n",
    "hist_rbm = rbm_model.fit(data_train_X, data_train_X, epochs=50, batch_size=320, validation_split=0.1)\n",
    "end_time = time.time()\n",
    "total_time = end_time - start_time\n",
    "print(f\"Tiempo total de entrenamiento: {total_time:.2f} segundos\")"
   ]
  },
  {
   "cell_type": "code",
   "execution_count": 18,
   "metadata": {},
   "outputs": [],
   "source": [
    "scaler = StandardScaler()\n",
    "X_test_scaled = scaler.fit_transform(X_test)\n",
    "componentes = 9\n",
    "pca = PCA(n_components = componentes)\n",
    "X_test_pca = pca.fit_transform(X_test)\n",
    "X_test_pca = pca.fit_transform(X_test_scaled)\n",
    "data_test_X = X_test_pca"
   ]
  },
  {
   "cell_type": "code",
   "execution_count": 19,
   "metadata": {},
   "outputs": [
    {
     "data": {
      "image/png": "[encoded data removed]",
      "text/plain": [
       "<Figure size 432x288 with 1 Axes>"
      ]
     },
     "metadata": {
      "needs_background": "light"
     },
     "output_type": "display_data"
    },
    {
     "name": "stdout",
     "output_type": "stream",
     "text": [
      "47320/47320 [==============================] - 28s 584us/step\n"
     ]
    }
   ],
   "source": [
    "loss = hist_rbm.history['loss']\n",
    "val_loss = hist_rbm.history['val_loss']\n",
    "epochs = range(1, len(loss) + 1)\n",
    "plt.plot(epochs, loss, 'b', label='Training Loss')\n",
    "plt.plot(epochs, val_loss, 'r', label='Validation Loss')\n",
    "plt.xlabel('Épocas')\n",
    "plt.ylabel('Pérdida')\n",
    "plt.legend()\n",
    "plt.show()\n",
    "#X_train_pred = rbm_model.predict(data_train_X)\n",
    "X_test_pred_RBM = rbm_model.predict(data_test_X)"
   ]
  },
  {
   "cell_type": "markdown",
   "metadata": {},
   "source": [
    "Train"
   ]
  },
  {
   "cell_type": "code",
   "execution_count": 21,
   "metadata": {},
   "outputs": [
    {
     "name": "stdout",
     "output_type": "stream",
     "text": [
      "189277/189277 [==============================] - 124s 652us/step\n"
     ]
    }
   ],
   "source": [
    "X_train_pred_RBM = rbm_model.predict(data_train_X)"
   ]
  },
  {
   "cell_type": "code",
   "execution_count": 84,
   "metadata": {},
   "outputs": [
    {
     "name": "stdout",
     "output_type": "stream",
     "text": [
      "Threshold =  3.5\n"
     ]
    },
    {
     "data": {
      "image/png": "[encoded data removed]",
      "text/plain": [
       "<Figure size 576x432 with 1 Axes>"
      ]
     },
     "metadata": {
      "needs_background": "light"
     },
     "output_type": "display_data"
    },
    {
     "name": "stdout",
     "output_type": "stream",
     "text": [
      "Classification Report (Test):\n",
      "               precision    recall  f1-score   support\n",
      "\n",
      "           0       0.87      0.66      0.75   4845491\n",
      "           1       0.31      0.62      0.42   1211373\n",
      "\n",
      "    accuracy                           0.65   6056864\n",
      "   macro avg       0.59      0.64      0.58   6056864\n",
      "weighted avg       0.76      0.65      0.69   6056864\n",
      "\n"
     ]
    },
    {
     "data": {
      "image/png": "[encoded data removed]",
      "text/plain": [
       "<Figure size 432x288 with 1 Axes>"
      ]
     },
     "metadata": {
      "needs_background": "light"
     },
     "output_type": "display_data"
    },
    {
     "name": "stdout",
     "output_type": "stream",
     "text": [
      "AUC: 0.6400587041664658\n",
      "Threshold =  3.5\n"
     ]
    }
   ],
   "source": [
    "threshold = float(input(\"Ingrese el Threshold a utilizar: \"))\n",
    "print(\"Threshold = \", threshold)\n",
    "\n",
    "# Calcular la matriz de confusión\n",
    "y_train_pred_RBM = np.where(np.linalg.norm(data_train_X - X_train_pred_RBM, axis=1) > threshold, 1, 0)\n",
    "\n",
    "cm_test = confusion_matrix(y_train, y_train_pred_RBM)\n",
    "\n",
    "# Visualizar la matriz de confusión\n",
    "plt.figure(figsize=(8, 6))\n",
    "sns.heatmap(cm_test, annot=True, cmap='Blues', fmt='d', cbar=False)\n",
    "plt.title('Confusion Matrix (Test)')\n",
    "plt.xlabel('Predicted')\n",
    "plt.ylabel('Actual')\n",
    "\n",
    "plt.tight_layout()\n",
    "plt.show()\n",
    "\n",
    "# Calcular el classification report\n",
    "classification_test = classification_report(y_train, y_train_pred_RBM)\n",
    "print('Classification Report (Test):\\n', classification_test)\n",
    "\n",
    "# Calcular la curva ROC y el AUC\n",
    "fpr, tpr, thresholds = roc_curve(y_train, y_train_pred_RBM)\n",
    "roc_auc = auc(fpr, tpr)\n",
    "# Graficar la curva ROC\n",
    "plt.figure()\n",
    "plt.plot(fpr, tpr, label='ROC curve (area = %0.2f)' % roc_auc)\n",
    "plt.plot([0, 1], [0, 1], 'k--')\n",
    "plt.xlim([0.0, 1.0])\n",
    "plt.ylim([0.0, 1.05])\n",
    "plt.xlabel('False Positive Rate')\n",
    "plt.ylabel('True Positive Rate')\n",
    "plt.title('Receiver Operating Characteristic')\n",
    "plt.legend(loc=\"lower right\")\n",
    "plt.show()\n",
    "\n",
    "# Imprimir el AUC\n",
    "print('AUC:', roc_auc)\n",
    "print(\"Threshold = \", threshold)"
   ]
  },
  {
   "cell_type": "markdown",
   "metadata": {},
   "source": [
    "Test"
   ]
  },
  {
   "cell_type": "code",
   "execution_count": 87,
   "metadata": {},
   "outputs": [
    {
     "name": "stdout",
     "output_type": "stream",
     "text": [
      "Threshold =  4.2\n"
     ]
    },
    {
     "data": {
      "image/png": "[encoded data removed]",
      "text/plain": [
       "<Figure size 576x432 with 1 Axes>"
      ]
     },
     "metadata": {
      "needs_background": "light"
     },
     "output_type": "display_data"
    },
    {
     "name": "stdout",
     "output_type": "stream",
     "text": [
      "Classification Report (Test):\n",
      "               precision    recall  f1-score   support\n",
      "\n",
      "           0       1.00      0.90      0.95   1499075\n",
      "           1       0.08      0.79      0.14     15142\n",
      "\n",
      "    accuracy                           0.90   1514217\n",
      "   macro avg       0.54      0.85      0.54   1514217\n",
      "weighted avg       0.99      0.90      0.94   1514217\n",
      "\n"
     ]
    },
    {
     "data": {
      "image/png": "[encoded data removed]",
      "text/plain": [
       "<Figure size 432x288 with 1 Axes>"
      ]
     },
     "metadata": {
      "needs_background": "light"
     },
     "output_type": "display_data"
    },
    {
     "name": "stdout",
     "output_type": "stream",
     "text": [
      "AUC: 0.8478569981449376\n",
      "Threshold =  4.2\n"
     ]
    }
   ],
   "source": [
    "threshold = float(input(\"Ingrese el Threshold a utilizar: \"))\n",
    "print(\"Threshold = \", threshold)\n",
    "\n",
    "# Calcular la matriz de confusión\n",
    "y_test_pred_RBM = np.where(np.linalg.norm(data_test_X - X_test_pred_RBM, axis=1) > threshold, 1, 0)\n",
    "\n",
    "cm_test = confusion_matrix(y_test, y_test_pred_RBM)\n",
    "\n",
    "# Visualizar la matriz de confusión\n",
    "plt.figure(figsize=(8, 6))\n",
    "sns.heatmap(cm_test, annot=True, cmap='Blues', fmt='d', cbar=False)\n",
    "plt.title('Confusion Matrix (Test)')\n",
    "plt.xlabel('Predicted')\n",
    "plt.ylabel('Actual')\n",
    "\n",
    "plt.tight_layout()\n",
    "plt.show()\n",
    "\n",
    "# Calcular el classification report\n",
    "classification_test = classification_report(y_test, y_test_pred_RBM)\n",
    "print('Classification Report (Test):\\n', classification_test)\n",
    "\n",
    "# Calcular la curva ROC y el AUC\n",
    "fpr, tpr, thresholds = roc_curve(y_test, y_test_pred_RBM)\n",
    "roc_auc = auc(fpr, tpr)\n",
    "# Graficar la curva ROC\n",
    "plt.figure()\n",
    "plt.plot(fpr, tpr, label='ROC curve (area = %0.2f)' % roc_auc)\n",
    "plt.plot([0, 1], [0, 1], 'k--')\n",
    "plt.xlim([0.0, 1.0])\n",
    "plt.ylim([0.0, 1.05])\n",
    "plt.xlabel('False Positive Rate')\n",
    "plt.ylabel('True Positive Rate')\n",
    "plt.title('Receiver Operating Characteristic')\n",
    "plt.legend(loc=\"lower right\")\n",
    "plt.show()\n",
    "\n",
    "# Imprimir el AUC\n",
    "print('AUC:', roc_auc)\n",
    "print(\"Threshold = \", threshold)"
   ]
  },
  {
   "cell_type": "code",
   "execution_count": 71,
   "metadata": {},
   "outputs": [
    {
     "name": "stdout",
     "output_type": "stream",
     "text": [
      "Modelo guardado en el PC\n"
     ]
    }
   ],
   "source": [
    "name = input(\"Ingrese el nombre de los archivos a generar sin extención: \")\n",
    "# serializa el modelo para JSON\n",
    "model_json = rbm_model.to_json()\n",
    "with open(f\"{name}.json\", \"w\") as json_file:\n",
    "    json_file.write(model_json)\n",
    "#serializan los pesos (weights) para HDF5\n",
    "rbm_model.save_weights(f\"{name}.h5\")\n",
    "print(\"Modelo guardado en el PC\")"
   ]
  },
  {
   "cell_type": "markdown",
   "metadata": {},
   "source": [
    "### LSTM Autoencoder"
   ]
  },
  {
   "cell_type": "code",
   "execution_count": 44,
   "metadata": {},
   "outputs": [],
   "source": [
    "X_train_3d = X_train_pca.reshape(X_train_pca.shape[0], 1, X_train_pca.shape[1])\n",
    "#X_test_3d = X_test_pca.reshape(X_test_pca.shape[0], 1, X_test_pca.shape[1])"
   ]
  },
  {
   "cell_type": "code",
   "execution_count": 45,
   "metadata": {},
   "outputs": [],
   "source": [
    "def weighted_mean_squared_error(y_true, y_pred):\n",
    "    weights = K.cast(K.not_equal(y_true, 0), K.floatx())\n",
    "    return K.mean(K.square((y_pred - y_true) * weights), axis=-1)   \n",
    "\n",
    "\n",
    "input_dim = X_train_3d.shape[2]\n",
    "timesteps = X_train_3d.shape[1]\n",
    "\n",
    "inputs = Input(shape=(timesteps, input_dim))\n",
    "encoded = LSTM(64, activation='relu', return_sequences=True)(inputs)\n",
    "encoded = LSTM(32, activation='relu', return_sequences=True)(encoded)\n",
    "encoded = LSTM(8, activation='relu', return_sequences=False)(encoded) \n",
    "decoded = RepeatVector(timesteps)(encoded)\n",
    "decoded = LSTM(8, activation='relu', return_sequences=True)(decoded)\n",
    "decoded = LSTM(32, activation='relu', return_sequences=True)(decoded)\n",
    "decoded = LSTM(64, activation='relu', return_sequences=True)(decoded)\n",
    "decoded = LSTM(input_dim, activation='linear', return_sequences=True)(decoded)\n",
    "autoencoder = Model(inputs, decoded)\n",
    "autoencoder.compile(optimizer='adam', loss=weighted_mean_squared_error)"
   ]
  },
  {
   "cell_type": "code",
   "execution_count": 46,
   "metadata": {},
   "outputs": [
    {
     "name": "stdout",
     "output_type": "stream",
     "text": [
      "Epoch 1/25\n",
      "17035/17035 [==============================] - 184s 10ms/step - loss: 0.2263 - val_loss: 0.0344\n",
      "Epoch 2/25\n",
      "17035/17035 [==============================] - 190s 11ms/step - loss: 0.0914 - val_loss: 0.0292\n",
      "Epoch 3/25\n",
      "17035/17035 [==============================] - 194s 11ms/step - loss: 0.0839 - val_loss: 0.0065\n",
      "Epoch 4/25\n",
      "17035/17035 [==============================] - 196s 11ms/step - loss: 0.0747 - val_loss: 0.0025\n",
      "Epoch 5/25\n",
      "17035/17035 [==============================] - 200s 12ms/step - loss: 0.0639 - val_loss: 0.0016\n",
      "Epoch 6/25\n",
      "17035/17035 [==============================] - 206s 12ms/step - loss: 0.0636 - val_loss: 0.0018\n",
      "Epoch 7/25\n",
      "17035/17035 [==============================] - 224s 13ms/step - loss: 0.0635 - val_loss: 0.0013\n",
      "Epoch 8/25\n",
      "17035/17035 [==============================] - 207s 12ms/step - loss: 0.0340 - val_loss: 0.0013\n",
      "Epoch 9/25\n",
      "17035/17035 [==============================] - 208s 12ms/step - loss: 6.2189e-04 - val_loss: 6.8370e-04\n",
      "Epoch 10/25\n",
      "17035/17035 [==============================] - 212s 12ms/step - loss: 5.2884e-04 - val_loss: 6.9788e-04\n",
      "Epoch 11/25\n",
      "17035/17035 [==============================] - 219s 13ms/step - loss: 4.9976e-04 - val_loss: 8.5291e-04\n",
      "Epoch 12/25\n",
      "17035/17035 [==============================] - 232s 14ms/step - loss: 4.4196e-04 - val_loss: 4.5638e-04\n",
      "Epoch 13/25\n",
      "17035/17035 [==============================] - 239s 14ms/step - loss: 4.2593e-04 - val_loss: 5.3193e-04\n",
      "Epoch 14/25\n",
      "17035/17035 [==============================] - 211s 12ms/step - loss: 3.9312e-04 - val_loss: 5.1827e-04\n",
      "Epoch 15/25\n",
      "17035/17035 [==============================] - 213s 13ms/step - loss: 3.9783e-04 - val_loss: 4.8495e-04\n",
      "Epoch 16/25\n",
      "17035/17035 [==============================] - 213s 12ms/step - loss: 3.6093e-04 - val_loss: 4.2423e-04\n",
      "Epoch 17/25\n",
      "17035/17035 [==============================] - 212s 12ms/step - loss: 3.5022e-04 - val_loss: 5.8513e-04\n",
      "Epoch 18/25\n",
      "17035/17035 [==============================] - 212s 12ms/step - loss: 3.3549e-04 - val_loss: 4.5999e-04\n",
      "Epoch 19/25\n",
      "17035/17035 [==============================] - 222s 13ms/step - loss: 3.1542e-04 - val_loss: 5.3254e-04\n",
      "Epoch 20/25\n",
      "17035/17035 [==============================] - 232s 14ms/step - loss: 2.9258e-04 - val_loss: 4.6201e-04\n",
      "Epoch 21/25\n",
      "17035/17035 [==============================] - 213s 13ms/step - loss: 2.4771e-04 - val_loss: 2.8438e-04\n",
      "Epoch 22/25\n",
      "17035/17035 [==============================] - 212s 12ms/step - loss: 2.2981e-04 - val_loss: 4.9600e-04\n",
      "Epoch 23/25\n",
      "17035/17035 [==============================] - 213s 12ms/step - loss: 2.1743e-04 - val_loss: 2.7331e-04\n",
      "Epoch 24/25\n",
      "17035/17035 [==============================] - 211s 12ms/step - loss: 2.2358e-04 - val_loss: 5.1631e-04\n",
      "Epoch 25/25\n",
      "17035/17035 [==============================] - 215s 13ms/step - loss: 2.2925e-04 - val_loss: 2.3852e-04\n",
      "Tiempo total de entrenamiento: 5289.75 segundos\n"
     ]
    }
   ],
   "source": [
    "start_time = time.time()\n",
    "hist = autoencoder.fit(X_train_3d, X_train_3d, epochs=25, batch_size=320, validation_split=0.1)\n",
    "end_time = time.time()\n",
    "total_time = end_time - start_time\n",
    "print(f\"Tiempo total de entrenamiento: {total_time:.2f} segundos\")"
   ]
  },
  {
   "cell_type": "code",
   "execution_count": 47,
   "metadata": {},
   "outputs": [],
   "source": [
    "scaler = StandardScaler()\n",
    "X_test_scaled = scaler.fit_transform(X_test)\n",
    "componentes = 9\n",
    "pca = PCA(n_components = componentes)\n",
    "X_test_pca = pca.fit_transform(X_test)\n",
    "X_test_pca = pca.fit_transform(X_test_scaled)\n",
    "data_test_X = X_test_pca\n",
    "X_test_3d = X_test_pca.reshape(X_test_pca.shape[0], 1, X_test_pca.shape[1])"
   ]
  },
  {
   "cell_type": "markdown",
   "metadata": {},
   "source": [
    "Train"
   ]
  },
  {
   "cell_type": "code",
   "execution_count": 48,
   "metadata": {},
   "outputs": [
    {
     "name": "stdout",
     "output_type": "stream",
     "text": [
      "189277/189277 [==============================] - 316s 2ms/step\n"
     ]
    }
   ],
   "source": [
    "X_train_pred_LSTM = autoencoder.predict(X_train_3d)"
   ]
  },
  {
   "cell_type": "code",
   "execution_count": 62,
   "metadata": {},
   "outputs": [
    {
     "name": "stdout",
     "output_type": "stream",
     "text": [
      "Threshold =  0.028\n"
     ]
    },
    {
     "data": {
      "image/png": "[encoded data removed]",
      "text/plain": [
       "<Figure size 576x432 with 1 Axes>"
      ]
     },
     "metadata": {
      "needs_background": "light"
     },
     "output_type": "display_data"
    },
    {
     "name": "stdout",
     "output_type": "stream",
     "text": [
      "Classification Report (Test):\n",
      "               precision    recall  f1-score   support\n",
      "\n",
      "           0       0.89      0.70      0.78   4845491\n",
      "           1       0.35      0.66      0.46   1211373\n",
      "\n",
      "    accuracy                           0.69   6056864\n",
      "   macro avg       0.62      0.68      0.62   6056864\n",
      "weighted avg       0.78      0.69      0.72   6056864\n",
      "\n"
     ]
    },
    {
     "data": {
      "image/png": "[encoded data removed]",
      "text/plain": [
       "<Figure size 432x288 with 1 Axes>"
      ]
     },
     "metadata": {
      "needs_background": "light"
     },
     "output_type": "display_data"
    },
    {
     "name": "stdout",
     "output_type": "stream",
     "text": [
      "AUC: 0.6776935858598989\n",
      "Threshold =  0.028\n"
     ]
    }
   ],
   "source": [
    "threshold = float(input(\"Ingrese el Threshold a utilizar: \"))\n",
    "print(\"Threshold = \", threshold)\n",
    "y_train_pred_lstm = np.where(np.linalg.norm(X_train_3d - X_train_pred_LSTM, axis=(1, 2)) > threshold, 1, 0)\n",
    "cm_test = confusion_matrix(y_train, y_train_pred_lstm)\n",
    "plt.figure(figsize=(8, 6))\n",
    "sns.heatmap(cm_test, annot=True, cmap='Blues', fmt='d', cbar=False)\n",
    "plt.title('Confusion Matrix (Test)')\n",
    "plt.xlabel('Predicted')\n",
    "plt.ylabel('Actual')\n",
    "plt.tight_layout()\n",
    "plt.show()\n",
    "classification_test = classification_report(y_train, y_train_pred_lstm)\n",
    "print('Classification Report (Test):\\n', classification_test)\n",
    "fpr, tpr, thresholds = roc_curve(y_train, y_train_pred_lstm)\n",
    "roc_auc = auc(fpr, tpr)\n",
    "plt.figure()\n",
    "plt.plot(fpr, tpr, label='ROC curve (area = %0.2f)' % roc_auc)\n",
    "plt.plot([0, 1], [0, 1], 'k--')\n",
    "plt.xlim([0.0, 1.0])\n",
    "plt.ylim([0.0, 1.05])\n",
    "plt.xlabel('False Positive Rate')\n",
    "plt.ylabel('True Positive Rate')\n",
    "plt.title('Receiver Operating Characteristic')\n",
    "plt.legend(loc=\"lower right\")\n",
    "plt.show()\n",
    "print('AUC:', roc_auc)\n",
    "print(\"Threshold = \", threshold)"
   ]
  },
  {
   "cell_type": "code",
   "execution_count": 82,
   "metadata": {},
   "outputs": [
    {
     "data": {
      "image/png": "[encoded data removed]",
      "text/plain": [
       "<Figure size 432x288 with 1 Axes>"
      ]
     },
     "metadata": {
      "needs_background": "light"
     },
     "output_type": "display_data"
    }
   ],
   "source": [
    "loss = hist.history['loss']\n",
    "val_loss = hist.history['val_loss']\n",
    "epochs = range(1, len(loss) + 1)\n",
    "plt.plot(epochs, loss, 'b', label='Training Loss')\n",
    "plt.plot(epochs, val_loss, 'r', label='Validation Loss')\n",
    "plt.xlabel('Épocas')\n",
    "plt.ylabel('Pérdida')\n",
    "plt.legend()\n",
    "plt.show()\n"
   ]
  },
  {
   "cell_type": "markdown",
   "metadata": {},
   "source": [
    "Test"
   ]
  },
  {
   "cell_type": "code",
   "execution_count": null,
   "metadata": {},
   "outputs": [],
   "source": [
    "X_test_pred = autoencoder.predict(X_test_3d)"
   ]
  },
  {
   "cell_type": "code",
   "execution_count": 92,
   "metadata": {},
   "outputs": [
    {
     "name": "stdout",
     "output_type": "stream",
     "text": [
      "Threshold =  4.3\n"
     ]
    },
    {
     "data": {
      "image/png": "[encoded data removed]",
      "text/plain": [
       "<Figure size 576x432 with 1 Axes>"
      ]
     },
     "metadata": {
      "needs_background": "light"
     },
     "output_type": "display_data"
    },
    {
     "name": "stdout",
     "output_type": "stream",
     "text": [
      "Classification Report (Test):\n",
      "               precision    recall  f1-score   support\n",
      "\n",
      "           0       1.00      0.88      0.93   1499075\n",
      "           1       0.06      0.78      0.11     15142\n",
      "\n",
      "    accuracy                           0.88   1514217\n",
      "   macro avg       0.53      0.83      0.52   1514217\n",
      "weighted avg       0.99      0.88      0.93   1514217\n",
      "\n"
     ]
    },
    {
     "data": {
      "image/png": "[encoded data removed]",
      "text/plain": [
       "<Figure size 432x288 with 1 Axes>"
      ]
     },
     "metadata": {
      "needs_background": "light"
     },
     "output_type": "display_data"
    },
    {
     "name": "stdout",
     "output_type": "stream",
     "text": [
      "AUC: 0.8283518951510874\n",
      "Threshold =  4.3\n"
     ]
    }
   ],
   "source": [
    "threshold = float(input(\"Ingrese el Threshold a utilizar: \"))\n",
    "print(\"Threshold = \", threshold)\n",
    "y_test_pred = np.where(np.linalg.norm(X_test_3d - X_test_pred, axis=(1, 2)) > threshold, 1, 0)\n",
    "cm_test = confusion_matrix(y_test, y_test_pred)\n",
    "plt.figure(figsize=(8, 6))\n",
    "sns.heatmap(cm_test, annot=True, cmap='Blues', fmt='d', cbar=False)\n",
    "plt.title('Confusion Matrix (Test)')\n",
    "plt.xlabel('Predicted')\n",
    "plt.ylabel('Actual')\n",
    "plt.tight_layout()\n",
    "plt.show()\n",
    "classification_test = classification_report(y_test, y_test_pred)\n",
    "print('Classification Report (Test):\\n', classification_test)\n",
    "fpr, tpr, thresholds = roc_curve(y_test, y_test_pred)\n",
    "roc_auc = auc(fpr, tpr)\n",
    "plt.figure()\n",
    "plt.plot(fpr, tpr, label='ROC curve (area = %0.2f)' % roc_auc)\n",
    "plt.plot([0, 1], [0, 1], 'k--')\n",
    "plt.xlim([0.0, 1.0])\n",
    "plt.ylim([0.0, 1.05])\n",
    "plt.xlabel('False Positive Rate')\n",
    "plt.ylabel('True Positive Rate')\n",
    "plt.title('Receiver Operating Characteristic')\n",
    "plt.legend(loc=\"lower right\")\n",
    "plt.show()\n",
    "print('AUC:', roc_auc)\n",
    "print(\"Threshold = \", threshold)"
   ]
  },
  {
   "cell_type": "markdown",
   "metadata": {},
   "source": [
    "Se guarda los dataset de train y test y seguidamente el modelo entrenado"
   ]
  },
  {
   "cell_type": "code",
   "execution_count": 72,
   "metadata": {},
   "outputs": [
    {
     "name": "stdout",
     "output_type": "stream",
     "text": [
      "Se guardó dataset de train con el nombre X_train.csv e y_train.csv\n",
      "Se guardó dataset de test con el nombre test_data_LSTM.csv\n"
     ]
    }
   ],
   "source": [
    "# guardo el dataset train\n",
    "X_train.to_csv('X_train.csv')\n",
    "y_train_pd = pd.DataFrame(y_train, columns = ['class'])\n",
    "y_train_pd.to_csv('y_train.csv')\n",
    "print(\"Se guardó dataset de train con el nombre X_train.csv e y_train.csv\")\n",
    "# guardo el dataset test\n",
    "test_data_out.to_csv('test_data.csv')\n",
    "y_test_pd = pd.DataFrame(y_test, columns = ['class'])\n",
    "y_test_pd.to_csv('y_test.csv')\n",
    "print(\"Se guardó dataset de test con el nombre test_data.csv\")"
   ]
  },
  {
   "cell_type": "code",
   "execution_count": 73,
   "metadata": {},
   "outputs": [
    {
     "name": "stdout",
     "output_type": "stream",
     "text": [
      "Modelo guardado en el PC\n"
     ]
    }
   ],
   "source": [
    "name = input(\"Ingrese el nombre de los archivos a generar sin extención: \")\n",
    "# serializa el modelo para JSON\n",
    "model_json = autoencoder.to_json()\n",
    "with open(f\"{name}.json\", \"w\") as json_file:\n",
    "    json_file.write(model_json)\n",
    "#serializan los pesos (weights) para HDF5\n",
    "autoencoder.save_weights(f\"{name}.h5\")\n",
    "print(\"Modelo guardado en el PC\")"
   ]
  },
  {
   "cell_type": "markdown",
   "metadata": {},
   "source": [
    "### Isolation Forest"
   ]
  },
  {
   "cell_type": "code",
   "execution_count": 63,
   "metadata": {},
   "outputs": [],
   "source": [
    "scaler = StandardScaler()\n",
    "X_test_scaled = scaler.fit_transform(X_test)\n",
    "componentes = 9\n",
    "pca = PCA(n_components = componentes)\n",
    "X_test_pca = pca.fit_transform(X_test)\n",
    "X_test_pca = pca.fit_transform(X_test_scaled)\n",
    "data_test_X = X_test_pca"
   ]
  },
  {
   "cell_type": "code",
   "execution_count": 93,
   "metadata": {},
   "outputs": [
    {
     "name": "stdout",
     "output_type": "stream",
     "text": [
      "Tiempo total de entrenamiento: 295.13 segundos\n",
      "i = 3\n"
     ]
    },
    {
     "data": {
      "image/png": "[encoded data removed]",
      "text/plain": [
       "<Figure size 576x432 with 1 Axes>"
      ]
     },
     "metadata": {
      "needs_background": "light"
     },
     "output_type": "display_data"
    },
    {
     "name": "stdout",
     "output_type": "stream",
     "text": [
      "Classification Report (Test):\n",
      "               precision    recall  f1-score   support\n",
      "\n",
      "           0       0.87      0.87      0.87   4845491\n",
      "           1       0.49      0.49      0.49   1211373\n",
      "\n",
      "    accuracy                           0.79   6056864\n",
      "   macro avg       0.68      0.68      0.68   6056864\n",
      "weighted avg       0.79      0.79      0.79   6056864\n",
      "\n"
     ]
    },
    {
     "data": {
      "image/png": "[encoded data removed]",
      "text/plain": [
       "<Figure size 432x288 with 1 Axes>"
      ]
     },
     "metadata": {
      "needs_background": "light"
     },
     "output_type": "display_data"
    },
    {
     "name": "stdout",
     "output_type": "stream",
     "text": [
      "AUC: 0.67931015794929\n"
     ]
    }
   ],
   "source": [
    "for i in range(3,4):\n",
    "    #Modelo\n",
    "    model_if = IsolationForest(n_estimators=112 , contamination=0.2, random_state=0)\n",
    "    #Entreno el modelo\n",
    "    start_time = time.time()\n",
    "    model_if.fit(data_train_X,data_train_X)\n",
    "    end_time = time.time()\n",
    "    total_time = end_time - start_time\n",
    "    print(f\"Tiempo total de entrenamiento: {total_time:.2f} segundos\")\n",
    "    \n",
    "    #Guardo el modelo.\n",
    "    #joblib.dump(model_if, 'model_if.joblib')\n",
    "    # serializa el modelo para JSON\n",
    "    #model_json = model_if.to_json()\n",
    "    #with open(\"model_if.json\", \"w\") as json_file:\n",
    "    #    json_file.write(model_json)\n",
    "    #serializan los pesos (weights) para HDF5\n",
    "    #model_if.save_weights(\"model_if.h5\")\n",
    "    #print(\"Modelo guardado localmente\")\n",
    "    print(\"i =\", i)\n",
    "    X_train_pred_if = model_if.predict(data_train_X)\n",
    "    X_train_pred_if = np.where(X_train_pred_if == 1, 0, np.where(X_train_pred_if == -1, 1, X_train_pred_if))\n",
    "    threshold = 5\n",
    "\n",
    "    # Calcular la matriz de confusión\n",
    "    #y_test_pred_if = np.where(np.linalg.norm(data_test_X - X_test_pred_if, axis=1) > threshold, 1, 0)\n",
    "\n",
    "    cm_test = confusion_matrix(y_train, X_train_pred_if)\n",
    "\n",
    "    # Visualizar la matriz de confusión\n",
    "    plt.figure(figsize=(8, 6))\n",
    "    sns.heatmap(cm_test, annot=True, cmap='Blues', fmt='d', cbar=False)\n",
    "    plt.title('Confusion Matrix (Train)')\n",
    "    plt.xlabel('Predicted')\n",
    "    plt.ylabel('Actual')\n",
    "\n",
    "    plt.tight_layout()\n",
    "    plt.show()\n",
    "\n",
    "    # Calcular el classification report\n",
    "    classification_test = classification_report(y_train, X_train_pred_if)\n",
    "    print('Classification Report (Test):\\n', classification_test)\n",
    "\n",
    "    # Calcular la curva ROC y el AUC\n",
    "    fpr, tpr, thresholds = roc_curve(y_train, X_train_pred_if)\n",
    "    roc_auc = auc(fpr, tpr)\n",
    "    # Graficar la curva ROC\n",
    "    plt.figure()\n",
    "    plt.plot(fpr, tpr, label='ROC curve (area = %0.2f)' % roc_auc)\n",
    "    plt.plot([0, 1], [0, 1], 'k--')\n",
    "    plt.xlim([0.0, 1.0])\n",
    "    plt.ylim([0.0, 1.05])\n",
    "    plt.xlabel('False Positive Rate')\n",
    "    plt.ylabel('True Positive Rate')\n",
    "    plt.title('Receiver Operating Characteristic')\n",
    "    plt.legend(loc=\"lower right\")\n",
    "    plt.show()\n",
    "\n",
    "    # Imprimir el AUC\n",
    "    print('AUC:', roc_auc)\n"
   ]
  },
  {
   "cell_type": "code",
   "execution_count": 76,
   "metadata": {},
   "outputs": [],
   "source": [
    "X_test_pred_if = model_if.predict(data_test_X)"
   ]
  },
  {
   "cell_type": "code",
   "execution_count": 77,
   "metadata": {},
   "outputs": [],
   "source": [
    "X_test_pred_if = np.where(X_test_pred_if == 1, 0, np.where(X_test_pred_if == -1, 1, X_test_pred_if))"
   ]
  },
  {
   "cell_type": "code",
   "execution_count": 78,
   "metadata": {},
   "outputs": [
    {
     "data": {
      "image/png": "[encoded data removed]",
      "text/plain": [
       "<Figure size 576x432 with 1 Axes>"
      ]
     },
     "metadata": {
      "needs_background": "light"
     },
     "output_type": "display_data"
    }
   ],
   "source": [
    "plt.figure(figsize=(8, 6))  # Tamaño de la figura\n",
    "\n",
    "# Generar el histograma de la distribución de valores\n",
    "plt.hist(X_test_pred_if, bins=50, edgecolor='black', alpha=0.7)\n",
    "\n",
    "plt.xlabel('Valores')\n",
    "plt.ylabel('Frecuencia')\n",
    "plt.title('Distribución de Valores')\n",
    "plt.grid(True)\n",
    "plt.show()"
   ]
  },
  {
   "cell_type": "code",
   "execution_count": 79,
   "metadata": {},
   "outputs": [
    {
     "name": "stdout",
     "output_type": "stream",
     "text": [
      "Cantidad de 0: 15142\n",
      "Cantidad de 1: 1499075\n"
     ]
    }
   ],
   "source": [
    "count_0 = np.bincount(y_test == 0)[0]\n",
    "count_1 = np.bincount(y_test == 1)[0]\n",
    "\n",
    "print(f\"Cantidad de 0: {count_0}\")\n",
    "print(f\"Cantidad de 1: {count_1}\")"
   ]
  },
  {
   "cell_type": "code",
   "execution_count": 94,
   "metadata": {},
   "outputs": [
    {
     "name": "stdout",
     "output_type": "stream",
     "text": [
      "Threshold =  1.0\n"
     ]
    },
    {
     "data": {
      "image/png": "[encoded data removed]",
      "text/plain": [
       "<Figure size 576x432 with 1 Axes>"
      ]
     },
     "metadata": {
      "needs_background": "light"
     },
     "output_type": "display_data"
    },
    {
     "name": "stdout",
     "output_type": "stream",
     "text": [
      "Classification Report (Test):\n",
      "               precision    recall  f1-score   support\n",
      "\n",
      "           0       1.00      0.92      0.96   1499075\n",
      "           1       0.09      0.80      0.16     15142\n",
      "\n",
      "    accuracy                           0.92   1514217\n",
      "   macro avg       0.54      0.86      0.56   1514217\n",
      "weighted avg       0.99      0.92      0.95   1514217\n",
      "\n"
     ]
    },
    {
     "data": {
      "image/png": "[encoded data removed]",
      "text/plain": [
       "<Figure size 432x288 with 1 Axes>"
      ]
     },
     "metadata": {
      "needs_background": "light"
     },
     "output_type": "display_data"
    },
    {
     "name": "stdout",
     "output_type": "stream",
     "text": [
      "AUC: 0.8598898089695708\n",
      "Threshold =  1.0\n"
     ]
    }
   ],
   "source": [
    "threshold = float(input(\"Ingrese el Threshold a utilizar: \"))\n",
    "print(\"Threshold = \", threshold)\n",
    "\n",
    "# Calcular la matriz de confusión\n",
    "#y_test_pred_if = np.where(np.linalg.norm(data_test_X - X_test_pred_if, axis=1) > threshold, 1, 0)\n",
    "\n",
    "cm_test = confusion_matrix(y_test, X_test_pred_if)\n",
    "\n",
    "# Visualizar la matriz de confusión\n",
    "plt.figure(figsize=(8, 6))\n",
    "sns.heatmap(cm_test, annot=True, cmap='Blues', fmt='d', cbar=False)\n",
    "plt.title('Confusion Matrix (Test)')\n",
    "plt.xlabel('Predicted')\n",
    "plt.ylabel('Actual')\n",
    "\n",
    "plt.tight_layout()\n",
    "plt.show()\n",
    "\n",
    "# Calcular el classification report\n",
    "classification_test = classification_report(y_test, X_test_pred_if)\n",
    "print('Classification Report (Test):\\n', classification_test)\n",
    "\n",
    "# Calcular la curva ROC y el AUC\n",
    "fpr, tpr, thresholds = roc_curve(y_test, X_test_pred_if)\n",
    "roc_auc = auc(fpr, tpr)\n",
    "# Graficar la curva ROC\n",
    "plt.figure()\n",
    "plt.plot(fpr, tpr, label='ROC curve (area = %0.2f)' % roc_auc)\n",
    "plt.plot([0, 1], [0, 1], 'k--')\n",
    "plt.xlim([0.0, 1.0])\n",
    "plt.ylim([0.0, 1.05])\n",
    "plt.xlabel('False Positive Rate')\n",
    "plt.ylabel('True Positive Rate')\n",
    "plt.title('Receiver Operating Characteristic')\n",
    "plt.legend(loc=\"lower right\")\n",
    "plt.show()\n",
    "\n",
    "# Imprimir el AUC\n",
    "print('AUC:', roc_auc)\n",
    "print(\"Threshold = \", threshold)"
   ]
  },
  {
   "cell_type": "code",
   "execution_count": 81,
   "metadata": {},
   "outputs": [
    {
     "name": "stdout",
     "output_type": "stream",
     "text": [
      "Modelo guardado en el PC\n"
     ]
    }
   ],
   "source": [
    "name = input(\"Ingrese el nombre de los archivos a generar sin extención: \")\n",
    "joblib.dump(model_if, f'{name}.joblib')\n",
    "print(\"Modelo guardado en el PC\")"
   ]
  },
  {
   "cell_type": "markdown",
   "metadata": {},
   "source": [
    "Anomalías con distribución normal"
   ]
  },
  {
   "cell_type": "code",
   "execution_count": null,
   "metadata": {},
   "outputs": [],
   "source": []
  }
 ],
 "metadata": {
  "kernelspec": {
   "display_name": "base",
   "language": "python",
   "name": "python3"
  },
  "language_info": {
   "codemirror_mode": {
    "name": "ipython",
    "version": 3
   },
   "file_extension": ".py",
   "mimetype": "text/x-python",
   "name": "python",
   "nbconvert_exporter": "python",
   "pygments_lexer": "ipython3",
   "version": "3.9.12"
  },
  "orig_nbformat": 4
 },
 "nbformat": 4,
 "nbformat_minor": 2
}
