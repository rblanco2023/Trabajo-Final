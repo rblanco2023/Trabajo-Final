{
 "cells": [
  {
   "cell_type": "code",
   "execution_count": 5,
   "metadata": {},
   "outputs": [],
   "source": [
    "import numpy as np\n",
    "import pandas as pd\n",
    "import seaborn as sns\n",
    "import matplotlib.pyplot as plt\n",
    "import time\n",
    "from sklearn.preprocessing import StandardScaler\n",
    "from sklearn.ensemble import IsolationForest\n",
    "from sklearn.decomposition import PCA\n",
    "import keras.backend as K\n",
    "from sklearn.metrics import confusion_matrix, classification_report, roc_curve, auc\n",
    "import joblib\n",
    "from joblib import dump, load\n",
    "import tensorflow as tf\n",
    "from tensorflow.keras.layers import Input, Dense, LSTM, RepeatVector, Dropout\n",
    "from tensorflow.keras.models import Model, Sequential\n",
    "from tensorflow.keras.optimizers import Adam, RMSprop\n",
    "from tensorflow.keras.losses import MeanSquaredError\n",
    "from keras.regularizers import l2, l1\n",
    "from keras.models import model_from_json"
   ]
  },
  {
   "cell_type": "code",
   "execution_count": 6,
   "metadata": {},
   "outputs": [
    {
     "name": "stdout",
     "output_type": "stream",
     "text": [
      "Se está cargando el dataset, aguarde un momento...\n",
      "El dataset train se cargado correctamente.\n"
     ]
    }
   ],
   "source": [
    "print(\"Se está cargando el dataset, aguarde un momento...\")\n",
    "filePath = \"C:/Users/raul.blanco/Documents/4 - Personales/UBA/Repositorios/IA/Trabajo-Final/train_data_n.csv\"\n",
    "train_data_n = pd.read_csv(filepath_or_buffer=filePath, header=0, sep=\",\")\n",
    "train_data_n = train_data_n.dropna()\n",
    "print(\"El dataset train se cargado correctamente.\")"
   ]
  },
  {
   "cell_type": "code",
   "execution_count": 7,
   "metadata": {},
   "outputs": [
    {
     "name": "stdout",
     "output_type": "stream",
     "text": [
      "Se está cargando el dataset, aguarde un momento...\n",
      "El dataset train se cargado correctamente.\n"
     ]
    }
   ],
   "source": [
    "print(\"Se está cargando el dataset, aguarde un momento...\")\n",
    "filePath = \"C:/Users/raul.blanco/Documents/4 - Personales/UBA/Repositorios/IA/Trabajo-Final/train_data_u.csv\"\n",
    "train_data_u = pd.read_csv(filepath_or_buffer=filePath, header=0, sep=\",\")\n",
    "train_data_u = train_data_u.dropna()\n",
    "print(\"El dataset train se cargado correctamente.\")"
   ]
  },
  {
   "cell_type": "code",
   "execution_count": 8,
   "metadata": {},
   "outputs": [],
   "source": [
    "#dataset_org = dataset\n",
    "train_data_n = pd.get_dummies(train_data_n, columns=['source', 'period'], prefix=['source', 'period'])"
   ]
  },
  {
   "cell_type": "code",
   "execution_count": 9,
   "metadata": {},
   "outputs": [],
   "source": [
    "train_data_n = train_data_n.drop(['timedelta', 'Unnamed: 0'], axis=1)"
   ]
  },
  {
   "cell_type": "code",
   "execution_count": 67,
   "metadata": {},
   "outputs": [
    {
     "name": "stdout",
     "output_type": "stream",
     "text": [
      "En el dataset TRAIN el número de anomalias es 1211373 y 4845491 son valores normales\n"
     ]
    }
   ],
   "source": [
    "count = (train_data_n['class'] == 1).sum()\n",
    "count1 = (train_data_n['class'] == 0).sum()\n",
    "print(f'En el dataset TRAIN el número de anomalias es {count} y {count1} son valores normales')"
   ]
  },
  {
   "cell_type": "code",
   "execution_count": 68,
   "metadata": {},
   "outputs": [
    {
     "name": "stdout",
     "output_type": "stream",
     "text": [
      "En el dataset TRAIN el número de anomalias es 1211373 y 4845491 son valores normales\n"
     ]
    }
   ],
   "source": [
    "count = (train_data_u['class'] == 1).sum()\n",
    "count1 = (train_data_u['class'] == 0).sum()\n",
    "print(f'En el dataset TRAIN el número de anomalias es {count} y {count1} son valores normales')"
   ]
  },
  {
   "cell_type": "code",
   "execution_count": 11,
   "metadata": {},
   "outputs": [
    {
     "data": {
      "image/png": "[encoded data removed]",
      "text/plain": [
       "<Figure size 432x288 with 1 Axes>"
      ]
     },
     "metadata": {
      "needs_background": "light"
     },
     "output_type": "display_data"
    }
   ],
   "source": [
    "bt_values = train_data_n['bt']\n",
    "plt.hist(bt_values, bins=70, edgecolor='black', alpha=0.7)\n",
    "media1 = 12.745\n",
    "plt.axvline(x=media1, color='r', linestyle='dashed', linewidth=2, label=f'Media br: {media1}')\n",
    "plt.xlabel('Valor de bt')\n",
    "plt.ylabel('Frecuencia')\n",
    "plt.xlim(left=-5, right=76)\n",
    "plt.grid(True)\n",
    "plt.legend()\n",
    "plt.show()"
   ]
  },
  {
   "cell_type": "code",
   "execution_count": 12,
   "metadata": {},
   "outputs": [],
   "source": [
    "X_train_n = train_data_n.drop('class', axis=1).values\n",
    "y_train_n = train_data_n['class'].values"
   ]
  },
  {
   "cell_type": "markdown",
   "metadata": {},
   "source": [
    "Etiqueto los registros que tienen anomalías"
   ]
  },
  {
   "cell_type": "code",
   "execution_count": 13,
   "metadata": {},
   "outputs": [],
   "source": [
    "X_train_n = pd.DataFrame(X_train_n, columns=['bx_gse', 'by_gse', 'bz_gse', 'theta_gse',\n",
    "       'phi_gse', 'bx_gsm', 'by_gsm', 'bz_gsm', 'theta_gsm', 'phi_gsm', 'bt',\n",
    "       'density', 'speed', 'temperature', 'source_ac', 'source_ds', 'period_train_a',\n",
    "       'period_train_b', 'period_train_c'])\n",
    "y_train_n = pd.DataFrame(y_train_n, columns = ['Class'])"
   ]
  },
  {
   "cell_type": "markdown",
   "metadata": {},
   "source": [
    "Undersample"
   ]
  },
  {
   "cell_type": "code",
   "execution_count": null,
   "metadata": {},
   "outputs": [],
   "source": [
    "#X_n = pd.concat([X_train_n, y_train_n], axis=1)\n",
    "\n",
    "# separate minority and majority classes\n",
    "#not_anomal = X_n[X_n.Class==0]\n",
    "#anomal = X_n[X_n.Class==1]\n",
    "\n",
    "#not_anomal_downsampled_n = resample(not_anomal,\n",
    "#                                replace = False,\n",
    "#                                n_samples = len(anomal),\n",
    "#                                random_state = 27) \n",
    "\n",
    "#downsampled_n = pd.concat([not_anomal_downsampled_n, anomal])"
   ]
  },
  {
   "cell_type": "code",
   "execution_count": null,
   "metadata": {},
   "outputs": [],
   "source": [
    "#count = (downsampled_n['Class'] == 1).sum()\n",
    "#count1 = (downsampled_n['Class'] == 0).sum()\n",
    "#print(f'En el dataset TRAIN el número de anomalias es {count} y {count1} son valores normales')"
   ]
  },
  {
   "cell_type": "code",
   "execution_count": null,
   "metadata": {},
   "outputs": [],
   "source": [
    "#downsampled.Class.value_counts()"
   ]
  },
  {
   "cell_type": "code",
   "execution_count": null,
   "metadata": {},
   "outputs": [],
   "source": [
    "#y_train_n = downsampled_n.Class\n",
    "#X_train_n = downsampled_n.drop('Class', axis=1)"
   ]
  },
  {
   "cell_type": "markdown",
   "metadata": {},
   "source": [
    "upsample"
   ]
  },
  {
   "cell_type": "code",
   "execution_count": null,
   "metadata": {},
   "outputs": [],
   "source": [
    "#X_n = pd.concat([X_train_n, y_train_n], axis=1)\n",
    "\n",
    "#not_anomal_n = X_n[X_n.Class==0]\n",
    "#anomal_n = X_n[X_n.Class==1]\n",
    "\n",
    "# upsample minority\n",
    "#anomal_upsampled_n = resample(anomal_n,\n",
    "#                          replace=True,\n",
    "#                          n_samples=len(not_anomal),\n",
    "#                          random_state=27)\n",
    "\n",
    "#upsampled_n = pd.concat([not_anomal_n, anomal_upsampled_n])"
   ]
  },
  {
   "cell_type": "code",
   "execution_count": null,
   "metadata": {},
   "outputs": [],
   "source": [
    "#count = (upsampled_n['Class'] == 1).sum()\n",
    "#count1 = (upsampled_n['Class'] == 0).sum()\n",
    "#print(f'En el dataset TRAIN el número de anomalias es {count} y {count1} son valores normales')"
   ]
  },
  {
   "cell_type": "code",
   "execution_count": null,
   "metadata": {},
   "outputs": [],
   "source": [
    "#y_train_n = upsampled_n.Class\n",
    "#X_train_n = upsampled_n.drop('Class', axis=1)"
   ]
  },
  {
   "cell_type": "markdown",
   "metadata": {},
   "source": [
    "Aplico PCA"
   ]
  },
  {
   "cell_type": "code",
   "execution_count": 14,
   "metadata": {},
   "outputs": [],
   "source": [
    "scaler = StandardScaler()\n",
    "X_train_scaled_n = scaler.fit_transform(X_train_n)\n",
    "componentes = 9\n",
    "pca = PCA(n_components = componentes)\n",
    "X_train_pca_n = pca.fit_transform(X_train_scaled_n)\n",
    "data_train_X_n = X_train_pca_n\n",
    " "
   ]
  },
  {
   "cell_type": "code",
   "execution_count": 15,
   "metadata": {},
   "outputs": [
    {
     "data": {
      "image/png": "[encoded data removed]",
      "text/plain": [
       "<Figure size 720x432 with 1 Axes>"
      ]
     },
     "metadata": {
      "needs_background": "light"
     },
     "output_type": "display_data"
    }
   ],
   "source": [
    "explained_variance_ratio = pca.explained_variance_ratio_\n",
    "cumulative_variance_ratio = np.cumsum(explained_variance_ratio)\n",
    "plt.figure(figsize=(10, 6))\n",
    "plt.plot(range(1, componentes + 1), cumulative_variance_ratio, marker='o', linestyle='--')\n",
    "plt.xlabel('Número de Componentes')\n",
    "plt.ylabel('Varianza Acumulada Explicada')\n",
    "plt.title('Scree Plot')\n",
    "plt.xticks(range(1, componentes + 1))\n",
    "plt.grid(True)\n",
    "plt.show()"
   ]
  },
  {
   "cell_type": "markdown",
   "metadata": {},
   "source": [
    "### RBM"
   ]
  },
  {
   "cell_type": "markdown",
   "metadata": {},
   "source": [
    "Normal"
   ]
  },
  {
   "cell_type": "code",
   "execution_count": 16,
   "metadata": {},
   "outputs": [],
   "source": [
    "def weighted_mean_squared_error(y_true, y_pred):\n",
    "    weights = K.cast(K.not_equal(y_true, 0), K.floatx())\n",
    "    return K.mean(K.square((y_pred - y_true) * weights), axis=-1)  \n",
    "\n",
    "visible = Input(shape=(data_train_X_n.shape[1],))\n",
    "#hidden = Dense(64, activation='sigmoid')(visible)\n",
    "hidden = Dense(16, activation='sigmoid', kernel_regularizer=l1(0.001))(visible)\n",
    "hidden = Dropout(0.5)(hidden)\n",
    "hidden = Dense(12, activation='sigmoid', kernel_regularizer=l1(0.001))(visible)\n",
    "#hidden = Dense(32, activation='sigmoid')(visible)\n",
    "hidden = Dropout(0.5)(hidden)\n",
    "visible_recon = Dense(data_train_X_n.shape[1], activation='sigmoid')(hidden)\n",
    "\n",
    "rbm_model_n = Model(inputs=visible, outputs=visible_recon)\n",
    "rbm_model_n.compile(optimizer=Adam(learning_rate=0.0001), loss=weighted_mean_squared_error)"
   ]
  },
  {
   "cell_type": "code",
   "execution_count": 17,
   "metadata": {},
   "outputs": [
    {
     "name": "stdout",
     "output_type": "stream",
     "text": [
      "Epoch 1/50\n",
      "17035/17035 [==============================] - 19s 1ms/step - loss: 1.8294 - val_loss: 1.4926\n",
      "Epoch 2/50\n",
      "17035/17035 [==============================] - 17s 1ms/step - loss: 1.7071 - val_loss: 1.4126\n",
      "Epoch 3/50\n",
      "17035/17035 [==============================] - 17s 1ms/step - loss: 1.6798 - val_loss: 1.3896\n",
      "Epoch 4/50\n",
      "17035/17035 [==============================] - 17s 993us/step - loss: 1.6545 - val_loss: 1.3741\n",
      "Epoch 5/50\n",
      "17035/17035 [==============================] - 17s 1ms/step - loss: 1.6374 - val_loss: 1.3434\n",
      "Epoch 6/50\n",
      "17035/17035 [==============================] - 19s 1ms/step - loss: 1.6249 - val_loss: 1.3165\n",
      "Epoch 7/50\n",
      "17035/17035 [==============================] - 19s 1ms/step - loss: 1.6165 - val_loss: 1.2964\n",
      "Epoch 8/50\n",
      "17035/17035 [==============================] - 18s 1ms/step - loss: 1.6098 - val_loss: 1.2857\n",
      "Epoch 9/50\n",
      "17035/17035 [==============================] - 19s 1ms/step - loss: 1.6033 - val_loss: 1.2821\n",
      "Epoch 10/50\n",
      "17035/17035 [==============================] - 18s 1ms/step - loss: 1.5975 - val_loss: 1.2841\n",
      "Epoch 11/50\n",
      "17035/17035 [==============================] - 18s 1ms/step - loss: 1.5934 - val_loss: 1.2872\n",
      "Epoch 12/50\n",
      "17035/17035 [==============================] - 18s 1ms/step - loss: 1.5904 - val_loss: 1.2907\n",
      "Epoch 13/50\n",
      "17035/17035 [==============================] - 19s 1ms/step - loss: 1.5887 - val_loss: 1.2935\n",
      "Epoch 14/50\n",
      "17035/17035 [==============================] - 18s 1ms/step - loss: 1.5874 - val_loss: 1.2959\n",
      "Epoch 15/50\n",
      "17035/17035 [==============================] - 19s 1ms/step - loss: 1.5862 - val_loss: 1.2977\n",
      "Epoch 16/50\n",
      "17035/17035 [==============================] - 18s 1ms/step - loss: 1.5856 - val_loss: 1.2990\n",
      "Epoch 17/50\n",
      "17035/17035 [==============================] - 19s 1ms/step - loss: 1.5848 - val_loss: 1.3007\n",
      "Epoch 18/50\n",
      "17035/17035 [==============================] - 18s 1ms/step - loss: 1.5843 - val_loss: 1.3023\n",
      "Epoch 19/50\n",
      "17035/17035 [==============================] - 19s 1ms/step - loss: 1.5838 - val_loss: 1.3038\n",
      "Epoch 20/50\n",
      "17035/17035 [==============================] - 20s 1ms/step - loss: 1.5834 - val_loss: 1.3051\n",
      "Epoch 21/50\n",
      "17035/17035 [==============================] - 18s 1ms/step - loss: 1.5828 - val_loss: 1.3061\n",
      "Epoch 22/50\n",
      "17035/17035 [==============================] - 20s 1ms/step - loss: 1.5825 - val_loss: 1.3069\n",
      "Epoch 23/50\n",
      "17035/17035 [==============================] - 19s 1ms/step - loss: 1.5820 - val_loss: 1.3070\n",
      "Epoch 24/50\n",
      "17035/17035 [==============================] - 19s 1ms/step - loss: 1.5815 - val_loss: 1.3068\n",
      "Epoch 25/50\n",
      "17035/17035 [==============================] - 20s 1ms/step - loss: 1.5812 - val_loss: 1.3065\n",
      "Epoch 26/50\n",
      "17035/17035 [==============================] - 18s 1ms/step - loss: 1.5806 - val_loss: 1.3063\n",
      "Epoch 27/50\n",
      "17035/17035 [==============================] - 20s 1ms/step - loss: 1.5805 - val_loss: 1.3060\n",
      "Epoch 28/50\n",
      "17035/17035 [==============================] - 19s 1ms/step - loss: 1.5803 - val_loss: 1.3057\n",
      "Epoch 29/50\n",
      "17035/17035 [==============================] - 19s 1ms/step - loss: 1.5801 - val_loss: 1.3055\n",
      "Epoch 30/50\n",
      "17035/17035 [==============================] - 20s 1ms/step - loss: 1.5799 - val_loss: 1.3052\n",
      "Epoch 31/50\n",
      "17035/17035 [==============================] - 18s 1ms/step - loss: 1.5796 - val_loss: 1.3048\n",
      "Epoch 32/50\n",
      "17035/17035 [==============================] - 19s 1ms/step - loss: 1.5795 - val_loss: 1.3047\n",
      "Epoch 33/50\n",
      "17035/17035 [==============================] - 21s 1ms/step - loss: 1.5794 - val_loss: 1.3046\n",
      "Epoch 34/50\n",
      "17035/17035 [==============================] - 19s 1ms/step - loss: 1.5793 - val_loss: 1.3042\n",
      "Epoch 35/50\n",
      "17035/17035 [==============================] - 19s 1ms/step - loss: 1.5792 - val_loss: 1.3039\n",
      "Epoch 36/50\n",
      "17035/17035 [==============================] - 20s 1ms/step - loss: 1.5789 - val_loss: 1.3037\n",
      "Epoch 37/50\n",
      "17035/17035 [==============================] - 20s 1ms/step - loss: 1.5786 - val_loss: 1.3034\n",
      "Epoch 38/50\n",
      "17035/17035 [==============================] - 19s 1ms/step - loss: 1.5784 - val_loss: 1.3034\n",
      "Epoch 39/50\n",
      "17035/17035 [==============================] - 31s 2ms/step - loss: 1.5776 - val_loss: 1.3034\n",
      "Epoch 40/50\n",
      "17035/17035 [==============================] - 51s 3ms/step - loss: 1.5775 - val_loss: 1.3032\n",
      "Epoch 41/50\n",
      "17035/17035 [==============================] - 30s 2ms/step - loss: 1.5774 - val_loss: 1.3030\n",
      "Epoch 42/50\n",
      "17035/17035 [==============================] - 26s 2ms/step - loss: 1.5771 - val_loss: 1.3030\n",
      "Epoch 43/50\n",
      "17035/17035 [==============================] - 25s 1ms/step - loss: 1.5770 - val_loss: 1.3028\n",
      "Epoch 44/50\n",
      "17035/17035 [==============================] - 24s 1ms/step - loss: 1.5770 - val_loss: 1.3026\n",
      "Epoch 45/50\n",
      "17035/17035 [==============================] - 23s 1ms/step - loss: 1.5766 - val_loss: 1.3022\n",
      "Epoch 46/50\n",
      "17035/17035 [==============================] - 28s 2ms/step - loss: 1.5765 - val_loss: 1.3019\n",
      "Epoch 47/50\n",
      "17035/17035 [==============================] - 21s 1ms/step - loss: 1.5760 - val_loss: 1.3018\n",
      "Epoch 48/50\n",
      "17035/17035 [==============================] - 20s 1ms/step - loss: 1.5758 - val_loss: 1.3014\n",
      "Epoch 49/50\n",
      "17035/17035 [==============================] - 24s 1ms/step - loss: 1.5754 - val_loss: 1.3012\n",
      "Epoch 50/50\n",
      "17035/17035 [==============================] - 22s 1ms/step - loss: 1.5752 - val_loss: 1.3011\n",
      "Tiempo total de entrenamiento: 1044.03 segundos\n"
     ]
    }
   ],
   "source": [
    "start_time = time.time()\n",
    "hist_rbm_n = rbm_model_n.fit(data_train_X_n, data_train_X_n, epochs=50, batch_size=320, validation_split=0.1)\n",
    "end_time = time.time()\n",
    "total_time = end_time - start_time\n",
    "print(f\"Tiempo total de entrenamiento: {total_time:.2f} segundos\")"
   ]
  },
  {
   "cell_type": "markdown",
   "metadata": {},
   "source": [
    "Uniforme"
   ]
  },
  {
   "cell_type": "code",
   "execution_count": null,
   "metadata": {},
   "outputs": [],
   "source": [
    "train_data_u = pd.get_dummies(train_data_u, columns=['source', 'period'], prefix=['source', 'period'])\n",
    "train_data_u = train_data_u.drop(['timedelta', 'Unnamed: 0'], axis=1)\n",
    "count = (train_data_u['class'] == 1).sum()\n",
    "count1 = (train_data_u['class'] == 0).sum()\n",
    "print(f'En el dataset Train el número de anomalias es {count} y {count1} son valores normales')"
   ]
  },
  {
   "cell_type": "code",
   "execution_count": 19,
   "metadata": {},
   "outputs": [
    {
     "data": {
      "image/png": "[encoded data removed]",
      "text/plain": [
       "<Figure size 432x288 with 1 Axes>"
      ]
     },
     "metadata": {
      "needs_background": "light"
     },
     "output_type": "display_data"
    }
   ],
   "source": [
    "bt_values = train_data_u['bt']\n",
    "plt.hist(bt_values, bins=70, edgecolor='black', alpha=0.7)\n",
    "media1 = 12.745\n",
    "plt.axvline(x=media1, color='r', linestyle='dashed', linewidth=2, label=f'Media br: {media1}')\n",
    "plt.xlabel('Valor de bt')\n",
    "plt.ylabel('Frecuencia')\n",
    "plt.xlim(left=-5, right=76)\n",
    "plt.grid(True)\n",
    "plt.legend()\n",
    "plt.show()"
   ]
  },
  {
   "cell_type": "code",
   "execution_count": 20,
   "metadata": {},
   "outputs": [],
   "source": [
    "X_train_u = train_data_u.drop('class', axis=1).values\n",
    "y_train_u = train_data_u['class'].values\n",
    "X_train_u = pd.DataFrame(X_train_u, columns=['bx_gse', 'by_gse', 'bz_gse', 'theta_gse',\n",
    "       'phi_gse', 'bx_gsm', 'by_gsm', 'bz_gsm', 'theta_gsm', 'phi_gsm', 'bt',\n",
    "       'density', 'speed', 'temperature', 'source_ac', 'source_ds', 'period_train_a',\n",
    "       'period_train_b', 'period_train_c'])\n",
    "y_train_u = pd.DataFrame(y_train_u, columns = ['Class'])"
   ]
  },
  {
   "cell_type": "code",
   "execution_count": 21,
   "metadata": {},
   "outputs": [],
   "source": [
    "scaler = StandardScaler()\n",
    "X_train_scaled_u = scaler.fit_transform(X_train_u)\n",
    "componentes = 9\n",
    "pca = PCA(n_components = componentes)\n",
    "#X_train_pca = pca.fit_transform(X_train)\n",
    "X_train_pca_u = pca.fit_transform(X_train_scaled_u)\n",
    "data_train_X_u = X_train_pca_u"
   ]
  },
  {
   "cell_type": "code",
   "execution_count": 22,
   "metadata": {},
   "outputs": [
    {
     "data": {
      "image/png": "[encoded data removed]",
      "text/plain": [
       "<Figure size 720x432 with 1 Axes>"
      ]
     },
     "metadata": {
      "needs_background": "light"
     },
     "output_type": "display_data"
    }
   ],
   "source": [
    "explained_variance_ratio = pca.explained_variance_ratio_\n",
    "cumulative_variance_ratio = np.cumsum(explained_variance_ratio)\n",
    "plt.figure(figsize=(10, 6))\n",
    "plt.plot(range(1, componentes + 1), cumulative_variance_ratio, marker='o', linestyle='--')\n",
    "plt.xlabel('Número de Componentes')\n",
    "plt.ylabel('Varianza Acumulada Explicada')\n",
    "plt.title('Scree Plot')\n",
    "plt.xticks(range(1, componentes + 1))\n",
    "plt.grid(True)\n",
    "plt.show()"
   ]
  },
  {
   "cell_type": "code",
   "execution_count": 23,
   "metadata": {},
   "outputs": [],
   "source": [
    "def weighted_mean_squared_error(y_true, y_pred):\n",
    "    weights = K.cast(K.not_equal(y_true, 0), K.floatx())\n",
    "    return K.mean(K.square((y_pred - y_true) * weights), axis=-1)  \n",
    "\n",
    "visible = Input(shape=(data_train_X_u.shape[1],))\n",
    "#hidden = Dense(64, activation='sigmoid')(visible)\n",
    "hidden = Dense(16, activation='sigmoid', kernel_regularizer=l1(0.001))(visible)\n",
    "hidden = Dropout(0.5)(hidden)\n",
    "hidden = Dense(12, activation='sigmoid', kernel_regularizer=l1(0.001))(visible)\n",
    "#hidden = Dense(32, activation='sigmoid')(visible)\n",
    "hidden = Dropout(0.5)(hidden)\n",
    "visible_recon = Dense(data_train_X_u.shape[1], activation='sigmoid')(hidden)\n",
    "\n",
    "rbm_model_u = Model(inputs=visible, outputs=visible_recon)\n",
    "rbm_model_u.compile(optimizer=Adam(learning_rate=0.0001), loss=weighted_mean_squared_error)"
   ]
  },
  {
   "cell_type": "code",
   "execution_count": 24,
   "metadata": {},
   "outputs": [
    {
     "name": "stdout",
     "output_type": "stream",
     "text": [
      "Epoch 1/50\n",
      "17035/17035 [==============================] - 19s 1ms/step - loss: 1.8420 - val_loss: 1.4501\n",
      "Epoch 2/50\n",
      "17035/17035 [==============================] - 19s 1ms/step - loss: 1.6867 - val_loss: 1.3919\n",
      "Epoch 3/50\n",
      "17035/17035 [==============================] - 22s 1ms/step - loss: 1.6400 - val_loss: 1.3705\n",
      "Epoch 4/50\n",
      "17035/17035 [==============================] - 23s 1ms/step - loss: 1.6186 - val_loss: 1.3606\n",
      "Epoch 5/50\n",
      "17035/17035 [==============================] - 24s 1ms/step - loss: 1.6087 - val_loss: 1.3614\n",
      "Epoch 6/50\n",
      "17035/17035 [==============================] - 21s 1ms/step - loss: 1.6032 - val_loss: 1.3667\n",
      "Epoch 7/50\n",
      "17035/17035 [==============================] - 19s 1ms/step - loss: 1.5982 - val_loss: 1.3669\n",
      "Epoch 8/50\n",
      "17035/17035 [==============================] - 21s 1ms/step - loss: 1.5929 - val_loss: 1.3594\n",
      "Epoch 9/50\n",
      "17035/17035 [==============================] - 20s 1ms/step - loss: 1.5890 - val_loss: 1.3553\n",
      "Epoch 10/50\n",
      "17035/17035 [==============================] - 18s 1ms/step - loss: 1.5868 - val_loss: 1.3614\n",
      "Epoch 11/50\n",
      "17035/17035 [==============================] - 21s 1ms/step - loss: 1.5857 - val_loss: 1.3671\n",
      "Epoch 12/50\n",
      "17035/17035 [==============================] - 21s 1ms/step - loss: 1.5849 - val_loss: 1.3716\n",
      "Epoch 13/50\n",
      "17035/17035 [==============================] - 19s 1ms/step - loss: 1.5843 - val_loss: 1.3759\n",
      "Epoch 14/50\n",
      "17035/17035 [==============================] - 20s 1ms/step - loss: 1.5833 - val_loss: 1.3792\n",
      "Epoch 15/50\n",
      "17035/17035 [==============================] - 20s 1ms/step - loss: 1.5828 - val_loss: 1.3823\n",
      "Epoch 16/50\n",
      "17035/17035 [==============================] - 19s 1ms/step - loss: 1.5822 - val_loss: 1.3842\n",
      "Epoch 17/50\n",
      "17035/17035 [==============================] - 21s 1ms/step - loss: 1.5818 - val_loss: 1.3863\n",
      "Epoch 18/50\n",
      "17035/17035 [==============================] - 20s 1ms/step - loss: 1.5813 - val_loss: 1.3883\n",
      "Epoch 19/50\n",
      "17035/17035 [==============================] - 19s 1ms/step - loss: 1.5810 - val_loss: 1.3905\n",
      "Epoch 20/50\n",
      "17035/17035 [==============================] - 22s 1ms/step - loss: 1.5802 - val_loss: 1.3937\n",
      "Epoch 21/50\n",
      "17035/17035 [==============================] - 20s 1ms/step - loss: 1.5789 - val_loss: 1.3984\n",
      "Epoch 22/50\n",
      "17035/17035 [==============================] - 19s 1ms/step - loss: 1.5781 - val_loss: 1.3995\n",
      "Epoch 23/50\n",
      "17035/17035 [==============================] - 20s 1ms/step - loss: 1.5776 - val_loss: 1.3999\n",
      "Epoch 24/50\n",
      "17035/17035 [==============================] - 19s 1ms/step - loss: 1.5770 - val_loss: 1.4003\n",
      "Epoch 25/50\n",
      "17035/17035 [==============================] - 21s 1ms/step - loss: 1.5767 - val_loss: 1.4008\n",
      "Epoch 26/50\n",
      "17035/17035 [==============================] - 20s 1ms/step - loss: 1.5764 - val_loss: 1.4008\n",
      "Epoch 27/50\n",
      "17035/17035 [==============================] - 22s 1ms/step - loss: 1.5760 - val_loss: 1.4012\n",
      "Epoch 28/50\n",
      "17035/17035 [==============================] - 21s 1ms/step - loss: 1.5757 - val_loss: 1.4014\n",
      "Epoch 29/50\n",
      "17035/17035 [==============================] - 20s 1ms/step - loss: 1.5755 - val_loss: 1.4014\n",
      "Epoch 30/50\n",
      "17035/17035 [==============================] - 20s 1ms/step - loss: 1.5750 - val_loss: 1.4017\n",
      "Epoch 31/50\n",
      "17035/17035 [==============================] - 21s 1ms/step - loss: 1.5750 - val_loss: 1.4021\n",
      "Epoch 32/50\n",
      "17035/17035 [==============================] - 19s 1ms/step - loss: 1.5746 - val_loss: 1.4022\n",
      "Epoch 33/50\n",
      "17035/17035 [==============================] - 21s 1ms/step - loss: 1.5744 - val_loss: 1.4027\n",
      "Epoch 34/50\n",
      "17035/17035 [==============================] - 20s 1ms/step - loss: 1.5743 - val_loss: 1.4029\n",
      "Epoch 35/50\n",
      "17035/17035 [==============================] - 20s 1ms/step - loss: 1.5740 - val_loss: 1.4028\n",
      "Epoch 36/50\n",
      "17035/17035 [==============================] - 23s 1ms/step - loss: 1.5739 - val_loss: 1.4031\n",
      "Epoch 37/50\n",
      "17035/17035 [==============================] - 19s 1ms/step - loss: 1.5737 - val_loss: 1.4035\n",
      "Epoch 38/50\n",
      "17035/17035 [==============================] - 19s 1ms/step - loss: 1.5736 - val_loss: 1.4036\n",
      "Epoch 39/50\n",
      "17035/17035 [==============================] - 21s 1ms/step - loss: 1.5732 - val_loss: 1.4039\n",
      "Epoch 40/50\n",
      "17035/17035 [==============================] - 20s 1ms/step - loss: 1.5733 - val_loss: 1.4038\n",
      "Epoch 41/50\n",
      "17035/17035 [==============================] - 20s 1ms/step - loss: 1.5730 - val_loss: 1.4039\n",
      "Epoch 42/50\n",
      "17035/17035 [==============================] - 21s 1ms/step - loss: 1.5729 - val_loss: 1.4040\n",
      "Epoch 43/50\n",
      "17035/17035 [==============================] - 19s 1ms/step - loss: 1.5728 - val_loss: 1.4042\n",
      "Epoch 44/50\n",
      "17035/17035 [==============================] - 21s 1ms/step - loss: 1.5728 - val_loss: 1.4041\n",
      "Epoch 45/50\n",
      "17035/17035 [==============================] - 19s 1ms/step - loss: 1.5727 - val_loss: 1.4044\n",
      "Epoch 46/50\n",
      "17035/17035 [==============================] - 20s 1ms/step - loss: 1.5726 - val_loss: 1.4040\n",
      "Epoch 47/50\n",
      "17035/17035 [==============================] - 21s 1ms/step - loss: 1.5724 - val_loss: 1.4042\n",
      "Epoch 48/50\n",
      "17035/17035 [==============================] - 20s 1ms/step - loss: 1.5723 - val_loss: 1.4045\n",
      "Epoch 49/50\n",
      "17035/17035 [==============================] - 20s 1ms/step - loss: 1.5723 - val_loss: 1.4043\n",
      "Epoch 50/50\n",
      "17035/17035 [==============================] - 21s 1ms/step - loss: 1.5722 - val_loss: 1.4041\n",
      "Tiempo total de entrenamiento: 1017.00 segundos\n"
     ]
    }
   ],
   "source": [
    "start_time = time.time()\n",
    "hist_rbm_U = rbm_model_u.fit(data_train_X_u, data_train_X_u, epochs=50, batch_size=320, validation_split=0.1)\n",
    "end_time = time.time()\n",
    "total_time = end_time - start_time\n",
    "print(f\"Tiempo total de entrenamiento: {total_time:.2f} segundos\")"
   ]
  },
  {
   "cell_type": "code",
   "execution_count": 125,
   "metadata": {},
   "outputs": [
    {
     "data": {
      "image/png": "[encoded data removed]",
      "text/plain": [
       "<Figure size 432x288 with 1 Axes>"
      ]
     },
     "metadata": {
      "needs_background": "light"
     },
     "output_type": "display_data"
    }
   ],
   "source": [
    "loss = hist_rbm_U.history['loss']\n",
    "val_loss = hist_rbm_U.history['val_loss']\n",
    "epochs = range(1, len(loss) + 1)\n",
    "plt.plot(epochs, loss, 'b', label='Pérdida entrenamiento')\n",
    "plt.plot(epochs, val_loss, 'r', label='Pérdida validación')\n",
    "plt.xlabel('Épocas')\n",
    "plt.ylabel('Pérdida')\n",
    "plt.legend()\n",
    "plt.show()"
   ]
  },
  {
   "cell_type": "code",
   "execution_count": 128,
   "metadata": {},
   "outputs": [
    {
     "data": {
      "image/png": "[encoded data removed]",
      "text/plain": [
       "<Figure size 432x288 with 1 Axes>"
      ]
     },
     "metadata": {
      "needs_background": "light"
     },
     "output_type": "display_data"
    }
   ],
   "source": [
    "loss = hist_rbm_n.history['loss']\n",
    "val_loss = hist_rbm_n.history['val_loss']\n",
    "epochs = range(1, len(loss) + 1)\n",
    "plt.plot(epochs, loss, 'b', label='Pérdida entrenamiento')\n",
    "plt.plot(epochs, val_loss, 'r', label='Pérdida validación')\n",
    "plt.xlabel('Épocas')\n",
    "plt.ylabel('Pérdida')\n",
    "plt.legend()\n",
    "plt.show()"
   ]
  },
  {
   "cell_type": "code",
   "execution_count": 25,
   "metadata": {},
   "outputs": [
    {
     "name": "stdout",
     "output_type": "stream",
     "text": [
      "189277/189277 [==============================] - 131s 693us/step\n",
      "189277/189277 [==============================] - 141s 744us/step\n"
     ]
    }
   ],
   "source": [
    "X_train_pred_RBM_n = rbm_model_n.predict(data_train_X_n)\n",
    "X_train_pred_RBM_u = rbm_model_u.predict(data_train_X_u)"
   ]
  },
  {
   "cell_type": "code",
   "execution_count": 57,
   "metadata": {},
   "outputs": [
    {
     "name": "stdout",
     "output_type": "stream",
     "text": [
      "Threshold_u =  3.5\n",
      "Threshold_n =  3.5\n"
     ]
    },
    {
     "data": {
      "image/png": "[encoded data removed]",
      "text/plain": [
       "<Figure size 432x288 with 1 Axes>"
      ]
     },
     "metadata": {
      "needs_background": "light"
     },
     "output_type": "display_data"
    },
    {
     "name": "stdout",
     "output_type": "stream",
     "text": [
      "AUC_u: 0.6370836670980616\n",
      "AUC_n: 0.646445674294069\n",
      "Threshold =  3.5\n"
     ]
    }
   ],
   "source": [
    "threshold_u = float(input(\"Ingrese el Threshold a utilizar (uniform): \"))\n",
    "print(\"Threshold_u = \", threshold_u)\n",
    "y_train_pred_u = np.where(np.linalg.norm(data_train_X_u - X_train_pred_RBM_u, axis=1) > threshold_u, 1, 0)\n",
    "fpr_u, tpr_u, thresholds = roc_curve(y_train_u, y_train_pred_u)\n",
    "roc_auc_u = auc(fpr_u, tpr_u)\n",
    "\n",
    "threshold_n = float(input(\"Ingrese el Threshold a utilizar (normal): \"))\n",
    "print(\"Threshold_n = \", threshold_n)\n",
    "y_train_pred_n = np.where(np.linalg.norm(data_train_X_n - X_train_pred_RBM_n, axis=1) > threshold_n, 1, 0)\n",
    "fpr_n, tpr_n, thresholds = roc_curve(y_train_n, y_train_pred_n)\n",
    "roc_auc_n = auc(fpr_n, tpr_n)\n",
    "\n",
    "#threshold_n = float(input(\"Ingrese el Threshold a utilizar (normal): \"))\n",
    "#print(\"Threshold_n = \", threshold_n)\n",
    "#y_train_pred_n = np.where(np.linalg.norm(data_train_X - X_test_pred_RBM_n, axis=1) > threshold_n, 1, 0)\n",
    "#fpr_n, tpr_n, thresholds = roc_curve(y_train, y_train_pred_n)\n",
    "#roc_auc_n = auc(fpr_n, tpr_n)\n",
    "\n",
    "\n",
    "plt.figure()\n",
    "plt.plot(fpr_u, tpr_u, label='ROC curve_u (area = %0.2f)' % roc_auc_u)\n",
    "plt.plot(fpr_n, tpr_n, label='ROC curve_n (area = %0.2f)' % roc_auc_n)\n",
    "plt.plot([0, 1], [0, 1], 'k--')\n",
    "plt.xlim([0.0, 1.0])\n",
    "plt.ylim([0.0, 1.05])\n",
    "plt.xlabel('False Positive Rate')\n",
    "plt.ylabel('True Positive Rate')\n",
    "plt.title('Receiver Operating Characteristic')\n",
    "plt.legend(loc=\"lower right\")\n",
    "plt.show()\n",
    "print('AUC_u:', roc_auc_u)\n",
    "print('AUC_n:', roc_auc_n)\n",
    "print(\"Threshold = \", threshold_n)"
   ]
  },
  {
   "cell_type": "code",
   "execution_count": 66,
   "metadata": {},
   "outputs": [
    {
     "data": {
      "image/png": "[encoded data removed]",
      "text/plain": [
       "<Figure size 432x288 with 1 Axes>"
      ]
     },
     "metadata": {
      "needs_background": "light"
     },
     "output_type": "display_data"
    }
   ],
   "source": [
    "y_train_pred_RBM_u = np.where(np.linalg.norm(data_train_X_u - X_train_pred_RBM_u, axis=1) > threshold_u, 1, 0)\n",
    "\n",
    "cm_test = confusion_matrix(y_train_u, y_train_pred_RBM_u)\n",
    "plt.figure(figsize=(6, 4))\n",
    "sns.heatmap(cm_test, annot=True, cmap='Blues', fmt='d', cbar=False)\n",
    "plt.title('Matriz de confusión (Entrenamiento_u)')\n",
    "plt.xlabel('Predicho')\n",
    "plt.ylabel('Real')\n",
    "\n",
    "plt.tight_layout()\n",
    "plt.show()"
   ]
  },
  {
   "cell_type": "code",
   "execution_count": 60,
   "metadata": {},
   "outputs": [
    {
     "name": "stdout",
     "output_type": "stream",
     "text": [
      "Classification Report (Train):\n",
      "               precision    recall  f1-score   support\n",
      "\n",
      "           0       0.88      0.62      0.73   4845491\n",
      "           1       0.30      0.65      0.41   1211373\n",
      "\n",
      "    accuracy                           0.63   6056864\n",
      "   macro avg       0.59      0.64      0.57   6056864\n",
      "weighted avg       0.76      0.63      0.67   6056864\n",
      "\n"
     ]
    }
   ],
   "source": [
    "classification_test = classification_report(y_train_u, y_train_pred_RBM_u)\n",
    "print('Classification Report (Train):\\n', classification_test)"
   ]
  },
  {
   "cell_type": "code",
   "execution_count": 69,
   "metadata": {},
   "outputs": [
    {
     "data": {
      "image/png": "[encoded data removed]",
      "text/plain": [
       "<Figure size 432x288 with 1 Axes>"
      ]
     },
     "metadata": {
      "needs_background": "light"
     },
     "output_type": "display_data"
    }
   ],
   "source": [
    "y_train_pred_RBM_n = np.where(np.linalg.norm(data_train_X_n - X_train_pred_RBM_n, axis=1) > threshold_n, 1, 0)\n",
    "\n",
    "cm_test = confusion_matrix(y_train_n, y_train_pred_RBM_n)\n",
    "plt.figure(figsize=(6, 4))\n",
    "sns.heatmap(cm_test, annot=True, cmap='Blues', fmt='d', cbar=False)\n",
    "plt.title('Matriz de confusión (Entrenamiento_n)')\n",
    "plt.xlabel('Predicho')\n",
    "plt.ylabel('Real')\n",
    "\n",
    "plt.tight_layout()\n",
    "plt.show()"
   ]
  },
  {
   "cell_type": "code",
   "execution_count": 70,
   "metadata": {},
   "outputs": [
    {
     "name": "stdout",
     "output_type": "stream",
     "text": [
      "Classification Report (Train):\n",
      "               precision    recall  f1-score   support\n",
      "\n",
      "           0       0.87      0.69      0.77   4845491\n",
      "           1       0.33      0.61      0.42   1211373\n",
      "\n",
      "    accuracy                           0.67   6056864\n",
      "   macro avg       0.60      0.65      0.60   6056864\n",
      "weighted avg       0.76      0.67      0.70   6056864\n",
      "\n"
     ]
    }
   ],
   "source": [
    "classification_test = classification_report(y_train_n, y_train_pred_RBM_n)\n",
    "print('Classification Report (Train):\\n', classification_test)"
   ]
  },
  {
   "cell_type": "code",
   "execution_count": 81,
   "metadata": {},
   "outputs": [
    {
     "name": "stdout",
     "output_type": "stream",
     "text": [
      "Modelo guardado en el PC\n"
     ]
    }
   ],
   "source": [
    "name = input(\"Ingrese el nombre de los archivos a generar sin extención para el modelo RBM: \")\n",
    "model_json = rbm_model_u.to_json()\n",
    "with open(f\"{name}.json\", \"w\") as json_file:\n",
    "    json_file.write(model_json)\n",
    "rbm_model_u.save_weights(f\"{name}.h5\")\n",
    "print(\"Modelo guardado localmente\")"
   ]
  },
  {
   "cell_type": "code",
   "execution_count": 82,
   "metadata": {},
   "outputs": [
    {
     "name": "stdout",
     "output_type": "stream",
     "text": [
      "Modelo guardado en el PC\n"
     ]
    }
   ],
   "source": [
    "name = input(\"Ingrese el nombre de los archivos a generar sin extención para el modelo RBM: \")\n",
    "model_json = rbm_model_n.to_json()\n",
    "with open(f\"{name}.json\", \"w\") as json_file:\n",
    "    json_file.write(model_json)\n",
    "rbm_model_n.save_weights(f\"{name}.h5\")\n",
    "print(\"Modelo guardado localmente\")"
   ]
  },
  {
   "cell_type": "markdown",
   "metadata": {},
   "source": [
    "### LSTM"
   ]
  },
  {
   "cell_type": "markdown",
   "metadata": {},
   "source": [
    "Uniforme"
   ]
  },
  {
   "cell_type": "code",
   "execution_count": 27,
   "metadata": {},
   "outputs": [],
   "source": [
    "X_train_3d_u = X_train_pca_u.reshape(X_train_pca_u.shape[0], 1, X_train_pca_u.shape[1])"
   ]
  },
  {
   "cell_type": "code",
   "execution_count": 28,
   "metadata": {},
   "outputs": [],
   "source": [
    "def weighted_mean_squared_error(y_true, y_pred):\n",
    "    weights = K.cast(K.not_equal(y_true, 0), K.floatx())\n",
    "    return K.mean(K.square((y_pred - y_true) * weights), axis=-1)   \n",
    "\n",
    "\n",
    "input_dim = X_train_3d_u.shape[2]\n",
    "timesteps = X_train_3d_u.shape[1]\n",
    "\n",
    "inputs = Input(shape=(timesteps, input_dim))\n",
    "encoded = LSTM(64, activation='relu', return_sequences=True)(inputs)\n",
    "encoded = LSTM(32, activation='relu', return_sequences=True)(encoded)\n",
    "encoded = LSTM(8, activation='relu', return_sequences=False)(encoded) \n",
    "decoded = RepeatVector(timesteps)(encoded)\n",
    "decoded = LSTM(8, activation='relu', return_sequences=True)(decoded)\n",
    "decoded = LSTM(32, activation='relu', return_sequences=True)(decoded)\n",
    "decoded = LSTM(64, activation='relu', return_sequences=True)(decoded)\n",
    "decoded = LSTM(input_dim, activation='linear', return_sequences=True)(decoded)\n",
    "autoencoder_u = Model(inputs, decoded)\n",
    "autoencoder_u.compile(optimizer='adam', loss=weighted_mean_squared_error)"
   ]
  },
  {
   "cell_type": "code",
   "execution_count": 29,
   "metadata": {},
   "outputs": [
    {
     "name": "stdout",
     "output_type": "stream",
     "text": [
      "Epoch 1/25\n",
      "17035/17035 [==============================] - 292s 17ms/step - loss: 0.1515 - val_loss: 0.0125\n",
      "Epoch 2/25\n",
      "17035/17035 [==============================] - 275s 16ms/step - loss: 0.0412 - val_loss: 0.0089\n",
      "Epoch 3/25\n",
      "17035/17035 [==============================] - 273s 16ms/step - loss: 0.0392 - val_loss: 0.0084\n",
      "Epoch 4/25\n",
      "17035/17035 [==============================] - 288s 17ms/step - loss: 0.0386 - val_loss: 0.0081\n",
      "Epoch 5/25\n",
      "17035/17035 [==============================] - 308s 18ms/step - loss: 0.0382 - val_loss: 0.0085\n",
      "Epoch 6/25\n",
      "17035/17035 [==============================] - 329s 19ms/step - loss: 0.0349 - val_loss: 0.0083\n",
      "Epoch 7/25\n",
      "17035/17035 [==============================] - 389s 23ms/step - loss: 0.0317 - val_loss: 0.0079\n",
      "Epoch 8/25\n",
      "17035/17035 [==============================] - 389s 23ms/step - loss: 0.0315 - val_loss: 0.0077\n",
      "Epoch 9/25\n",
      "17035/17035 [==============================] - 370s 22ms/step - loss: 0.0314 - val_loss: 0.0079\n",
      "Epoch 10/25\n",
      "17035/17035 [==============================] - 366s 21ms/step - loss: 0.0315 - val_loss: 0.0075\n",
      "Epoch 11/25\n",
      "17035/17035 [==============================] - 353s 21ms/step - loss: 0.0305 - val_loss: 0.0065\n",
      "Epoch 12/25\n",
      "17035/17035 [==============================] - 342s 20ms/step - loss: 0.0291 - val_loss: 0.0064\n",
      "Epoch 13/25\n",
      "17035/17035 [==============================] - 334s 20ms/step - loss: 0.0290 - val_loss: 0.0064\n",
      "Epoch 14/25\n",
      "17035/17035 [==============================] - 342s 20ms/step - loss: 0.0289 - val_loss: 0.0078\n",
      "Epoch 15/25\n",
      "17035/17035 [==============================] - 313s 18ms/step - loss: 0.0289 - val_loss: 0.0063\n",
      "Epoch 16/25\n",
      "17035/17035 [==============================] - 296s 17ms/step - loss: 0.0289 - val_loss: 0.0064\n",
      "Epoch 17/25\n",
      "17035/17035 [==============================] - 288s 17ms/step - loss: 0.0289 - val_loss: 0.0064\n",
      "Epoch 18/25\n",
      "17035/17035 [==============================] - 288s 17ms/step - loss: 0.0288 - val_loss: 0.0063\n",
      "Epoch 19/25\n",
      "17035/17035 [==============================] - 293s 17ms/step - loss: 0.0284 - val_loss: 0.0012\n",
      "Epoch 20/25\n",
      "17035/17035 [==============================] - 305s 18ms/step - loss: 0.0148 - val_loss: 6.7025e-04\n",
      "Epoch 21/25\n",
      "17035/17035 [==============================] - 303s 18ms/step - loss: 0.0146 - val_loss: 8.9987e-04\n",
      "Epoch 22/25\n",
      "17035/17035 [==============================] - 306s 18ms/step - loss: 0.0146 - val_loss: 3.2236e-04\n",
      "Epoch 23/25\n",
      "17035/17035 [==============================] - 303s 18ms/step - loss: 0.0145 - val_loss: 2.9663e-04\n",
      "Epoch 24/25\n",
      "17035/17035 [==============================] - 326s 19ms/step - loss: 0.0145 - val_loss: 3.6576e-04\n",
      "Epoch 25/25\n",
      "17035/17035 [==============================] - 298s 17ms/step - loss: 0.0065 - val_loss: 3.3525e-04\n",
      "Tiempo total de entrenamiento: 7966.94 segundos\n"
     ]
    }
   ],
   "source": [
    "start_time = time.time()\n",
    "hist_LSTM_u = autoencoder_u.fit(X_train_3d_u, X_train_3d_u, epochs=25, batch_size=320, validation_split=0.1)\n",
    "end_time = time.time()\n",
    "total_time = end_time - start_time\n",
    "print(f\"Tiempo total de entrenamiento: {total_time:.2f} segundos\")"
   ]
  },
  {
   "cell_type": "code",
   "execution_count": 55,
   "metadata": {},
   "outputs": [
    {
     "data": {
      "image/png": "[encoded data removed]",
      "text/plain": [
       "<Figure size 432x288 with 1 Axes>"
      ]
     },
     "metadata": {
      "needs_background": "light"
     },
     "output_type": "display_data"
    }
   ],
   "source": [
    "loss = hist_LSTM_u.history['loss']\n",
    "val_loss = hist_LSTM_u.history['val_loss']\n",
    "epochs = range(1, len(loss) + 1)\n",
    "plt.plot(epochs, loss, 'b', label='Training Loss')\n",
    "plt.plot(epochs, val_loss, 'r', label='Validation Loss')\n",
    "plt.xlabel('Épocas')\n",
    "plt.ylabel('Pérdida')\n",
    "plt.legend()\n",
    "plt.show()\n"
   ]
  },
  {
   "cell_type": "markdown",
   "metadata": {},
   "source": [
    "Normal"
   ]
  },
  {
   "cell_type": "code",
   "execution_count": 30,
   "metadata": {},
   "outputs": [],
   "source": [
    "X_train_3d_n = X_train_pca_n.reshape(X_train_pca_n.shape[0], 1, X_train_pca_n.shape[1])"
   ]
  },
  {
   "cell_type": "code",
   "execution_count": 88,
   "metadata": {},
   "outputs": [],
   "source": [
    "def weighted_mean_squared_error(y_true, y_pred):\n",
    "    weights = K.cast(K.not_equal(y_true, 0), K.floatx())\n",
    "    return K.mean(K.square((y_pred - y_true) * weights), axis=-1)   \n",
    "\n",
    "\n",
    "input_dim = X_train_3d_n.shape[2]\n",
    "timesteps = X_train_3d_n.shape[1]\n",
    "\n",
    "inputs = Input(shape=(timesteps, input_dim))\n",
    "encoded = LSTM(64, activation='relu', return_sequences=True)(inputs)\n",
    "encoded = LSTM(32, activation='relu', return_sequences=True)(encoded)\n",
    "encoded = LSTM(8, activation='relu', return_sequences=False)(encoded) \n",
    "decoded = RepeatVector(timesteps)(encoded)\n",
    "decoded = LSTM(8, activation='relu', return_sequences=True)(decoded)\n",
    "decoded = LSTM(32, activation='relu', return_sequences=True)(decoded)\n",
    "decoded = LSTM(64, activation='relu', return_sequences=True)(decoded)\n",
    "decoded = LSTM(input_dim, activation='linear', return_sequences=True)(decoded)\n",
    "autoencoder_n = Model(inputs, decoded)\n",
    "autoencoder_n.compile(optimizer='adam', loss=weighted_mean_squared_error)"
   ]
  },
  {
   "cell_type": "code",
   "execution_count": 89,
   "metadata": {},
   "outputs": [
    {
     "name": "stdout",
     "output_type": "stream",
     "text": [
      "Epoch 1/25\n",
      "17035/17035 [==============================] - 155s 9ms/step - loss: 0.1960 - val_loss: 0.0329\n",
      "Epoch 2/25\n",
      "17035/17035 [==============================] - 153s 9ms/step - loss: 0.0189 - val_loss: 0.0141\n",
      "Epoch 3/25\n",
      "17035/17035 [==============================] - 164s 10ms/step - loss: 0.0140 - val_loss: 0.0043\n",
      "Epoch 4/25\n",
      "17035/17035 [==============================] - 167s 10ms/step - loss: 0.0119 - val_loss: 0.0035\n",
      "Epoch 5/25\n",
      "17035/17035 [==============================] - 168s 10ms/step - loss: 0.0109 - val_loss: 0.0028\n",
      "Epoch 6/25\n",
      "17035/17035 [==============================] - 170s 10ms/step - loss: 0.0106 - val_loss: 0.0024\n",
      "Epoch 7/25\n",
      "17035/17035 [==============================] - 169s 10ms/step - loss: 0.0091 - val_loss: 0.0037\n",
      "Epoch 8/25\n",
      "17035/17035 [==============================] - 174s 10ms/step - loss: 0.0080 - val_loss: 0.0018\n",
      "Epoch 9/25\n",
      "17035/17035 [==============================] - 182s 11ms/step - loss: 0.0079 - val_loss: 0.0015\n",
      "Epoch 10/25\n",
      "17035/17035 [==============================] - 178s 10ms/step - loss: 0.0079 - val_loss: 0.0035\n",
      "Epoch 11/25\n",
      "17035/17035 [==============================] - 176s 10ms/step - loss: 0.0077 - val_loss: 0.0016\n",
      "Epoch 12/25\n",
      "17035/17035 [==============================] - 180s 11ms/step - loss: 0.0076 - val_loss: 0.0021\n",
      "Epoch 13/25\n",
      "17035/17035 [==============================] - 180s 11ms/step - loss: 0.0076 - val_loss: 0.0019\n",
      "Epoch 14/25\n",
      "17035/17035 [==============================] - 180s 11ms/step - loss: 0.0076 - val_loss: 0.0014\n",
      "Epoch 15/25\n",
      "17035/17035 [==============================] - 181s 11ms/step - loss: 0.0075 - val_loss: 0.0014\n",
      "Epoch 16/25\n",
      "17035/17035 [==============================] - 182s 11ms/step - loss: 0.0077 - val_loss: 0.0025\n",
      "Epoch 17/25\n",
      "17035/17035 [==============================] - 181s 11ms/step - loss: 0.0074 - val_loss: 0.0018\n",
      "Epoch 18/25\n",
      "17035/17035 [==============================] - 190s 11ms/step - loss: 0.0071 - val_loss: 0.0013\n",
      "Epoch 19/25\n",
      "17035/17035 [==============================] - 187s 11ms/step - loss: 6.9948e-04 - val_loss: 0.0012\n",
      "Epoch 20/25\n",
      "17035/17035 [==============================] - 220s 13ms/step - loss: 6.3061e-04 - val_loss: 0.0010\n",
      "Epoch 21/25\n",
      "17035/17035 [==============================] - 228s 13ms/step - loss: 6.8355e-04 - val_loss: 9.6585e-04\n",
      "Epoch 22/25\n",
      "17035/17035 [==============================] - 235s 14ms/step - loss: 6.6564e-04 - val_loss: 0.0016\n",
      "Epoch 23/25\n",
      "17035/17035 [==============================] - 169s 10ms/step - loss: 6.5840e-04 - val_loss: 0.0017\n",
      "Epoch 24/25\n",
      "17035/17035 [==============================] - 206s 12ms/step - loss: 5.8373e-04 - val_loss: 0.0019\n",
      "Epoch 25/25\n",
      "17035/17035 [==============================] - 188s 11ms/step - loss: 5.5676e-04 - val_loss: 0.0016\n",
      "Tiempo total de entrenamiento: 4565.48 segundos\n"
     ]
    }
   ],
   "source": [
    "start_time = time.time()\n",
    "hist_LSTM_n = autoencoder_n.fit(X_train_3d_n, X_train_3d_n, epochs=25, batch_size=320, validation_split=0.1)\n",
    "end_time = time.time()\n",
    "total_time = end_time - start_time\n",
    "print(f\"Tiempo total de entrenamiento: {total_time:.2f} segundos\")"
   ]
  },
  {
   "cell_type": "code",
   "execution_count": 90,
   "metadata": {},
   "outputs": [
    {
     "data": {
      "image/png": "[encoded data removed]",
      "text/plain": [
       "<Figure size 432x288 with 1 Axes>"
      ]
     },
     "metadata": {
      "needs_background": "light"
     },
     "output_type": "display_data"
    }
   ],
   "source": [
    "loss = hist_LSTM_n.history['loss']\n",
    "val_loss = hist_LSTM_n.history['val_loss']\n",
    "epochs = range(1, len(loss) + 1)\n",
    "plt.plot(epochs, loss, 'b', label='Training Loss')\n",
    "plt.plot(epochs, val_loss, 'r', label='Validation Loss')\n",
    "plt.xlabel('Épocas')\n",
    "plt.ylabel('Pérdida')\n",
    "plt.legend()\n",
    "plt.show()"
   ]
  },
  {
   "cell_type": "code",
   "execution_count": 94,
   "metadata": {},
   "outputs": [
    {
     "name": "stdout",
     "output_type": "stream",
     "text": [
      "189277/189277 [==============================] - 399s 2ms/step\n",
      "189277/189277 [==============================] - 409s 2ms/step\n"
     ]
    }
   ],
   "source": [
    "X_train_pred_LSTM_u = autoencoder_u.predict(X_train_3d_u)\n",
    "X_train_pred_LSTM_n = autoencoder_n.predict(X_train_3d_n)"
   ]
  },
  {
   "cell_type": "code",
   "execution_count": 123,
   "metadata": {},
   "outputs": [
    {
     "name": "stdout",
     "output_type": "stream",
     "text": [
      "Threshold_u =  0.045\n",
      "Threshold_n =  0.3\n"
     ]
    },
    {
     "data": {
      "image/png": "[encoded data removed]",
      "text/plain": [
       "<Figure size 432x288 with 1 Axes>"
      ]
     },
     "metadata": {
      "needs_background": "light"
     },
     "output_type": "display_data"
    },
    {
     "name": "stdout",
     "output_type": "stream",
     "text": [
      "AUC_u: 0.6453515541233412\n",
      "AUC_n: 0.9417866071485818\n"
     ]
    }
   ],
   "source": [
    "threshold_u = float(input(\"Ingrese el Threshold a utilizar (uniform): \"))\n",
    "print(\"Threshold_u = \", threshold_u)\n",
    "y_train_pred_lstm_u = np.where(np.linalg.norm(X_train_3d_u - X_train_pred_LSTM_u, axis=(1, 2)) > threshold_u, 1, 0)\n",
    "\n",
    "fpr_u, tpr_u, thresholds = roc_curve(y_train_u, y_train_pred_lstm_u)\n",
    "roc_auc_u = auc(fpr_u, tpr_u)\n",
    "\n",
    "#threshold_n = float(input(\"Ingrese el Threshold a utilizar (normal): \"))\n",
    "#print(\"Threshold_n = \", threshold_n)\n",
    "#y_train_pred_n = np.where(np.linalg.norm(data_train_X_n - X_train_pred_RBM_n, axis=1) > threshold_n, 1, 0)\n",
    "#fpr_n, tpr_n, thresholds = roc_curve(y_train_n, y_train_pred_n)\n",
    "#roc_auc_n = auc(fpr_n, tpr_n)\n",
    "\n",
    "threshold_n = float(input(\"Ingrese el Threshold a utilizar (normal): \"))\n",
    "print(\"Threshold_n = \", threshold_n)\n",
    "y_train_pred_lstm_n = np.where(np.linalg.norm(X_train_3d_u - X_train_pred_LSTM_n, axis=(1, 2)) > threshold_n, 1, 0)\n",
    "fpr_n, tpr_n, thresholds = roc_curve(y_train_n, y_train_pred_lstm_n)\n",
    "roc_auc_n = auc(fpr_n, tpr_n)\n",
    "\n",
    "\n",
    "plt.figure()\n",
    "plt.plot(fpr_u, tpr_u, label='ROC curve_u (area = %0.2f)' % roc_auc_u)\n",
    "plt.plot(fpr_n, tpr_n, label='ROC curve_n (area = %0.2f)' % roc_auc_n)\n",
    "plt.plot([0, 1], [0, 1], 'k--')\n",
    "plt.xlim([0.0, 1.0])\n",
    "plt.ylim([0.0, 1.05])\n",
    "plt.xlabel('False Positive Rate')\n",
    "plt.ylabel('True Positive Rate')\n",
    "plt.title('Receiver Operating Characteristic')\n",
    "plt.legend(loc=\"lower right\")\n",
    "plt.show()\n",
    "print('AUC_u:', roc_auc_u)\n",
    "print('AUC_n:', roc_auc_n)"
   ]
  },
  {
   "cell_type": "code",
   "execution_count": 113,
   "metadata": {},
   "outputs": [
    {
     "data": {
      "image/png": "[encoded data removed]",
      "text/plain": [
       "<Figure size 432x288 with 1 Axes>"
      ]
     },
     "metadata": {
      "needs_background": "light"
     },
     "output_type": "display_data"
    }
   ],
   "source": [
    "y_train_pred_LSTM_u = np.where(np.linalg.norm(X_train_3d_u - X_train_pred_LSTM_u, axis=(1, 2)) > threshold_u, 1, 0)\n",
    "\n",
    "cm_test = confusion_matrix(y_train_u, y_train_pred_LSTM_u)\n",
    "plt.figure(figsize=(6, 4))\n",
    "sns.heatmap(cm_test, annot=True, cmap='Blues', fmt='d', cbar=False)\n",
    "plt.title('Matriz de confusión (Entrenamiento_u)')\n",
    "plt.xlabel('Predicho')\n",
    "plt.ylabel('Real')\n",
    "\n",
    "plt.tight_layout()\n",
    "plt.show()"
   ]
  },
  {
   "cell_type": "code",
   "execution_count": 114,
   "metadata": {},
   "outputs": [
    {
     "name": "stdout",
     "output_type": "stream",
     "text": [
      "Classification Report (Train):\n",
      "               precision    recall  f1-score   support\n",
      "\n",
      "           0       0.90      0.42      0.58   4845491\n",
      "           1       0.26      0.82      0.40   1211373\n",
      "\n",
      "    accuracy                           0.50   6056864\n",
      "   macro avg       0.58      0.62      0.49   6056864\n",
      "weighted avg       0.78      0.50      0.54   6056864\n",
      "\n"
     ]
    }
   ],
   "source": [
    "classification_train = classification_report(y_train_u, y_train_pred_LSTM_u)\n",
    "print('Classification Report (Train):\\n', classification_train)"
   ]
  },
  {
   "cell_type": "code",
   "execution_count": 115,
   "metadata": {},
   "outputs": [
    {
     "data": {
      "image/png": "[encoded data removed]",
      "text/plain": [
       "<Figure size 432x288 with 1 Axes>"
      ]
     },
     "metadata": {
      "needs_background": "light"
     },
     "output_type": "display_data"
    }
   ],
   "source": [
    "y_train_pred_LSTM_n = np.where(np.linalg.norm(X_train_3d_n - X_train_pred_LSTM_n, axis=(1, 2)) > threshold_u, 1, 0)\n",
    "\n",
    "cm_test = confusion_matrix(y_train_n, y_train_pred_LSTM_n)\n",
    "plt.figure(figsize=(6, 4))\n",
    "sns.heatmap(cm_test, annot=True, cmap='Blues', fmt='d', cbar=False)\n",
    "plt.title('Matriz de confusión (Entrenamiento_n)')\n",
    "plt.xlabel('Predicho')\n",
    "plt.ylabel('Real')\n",
    "\n",
    "plt.tight_layout()\n",
    "plt.show()"
   ]
  },
  {
   "cell_type": "code",
   "execution_count": 116,
   "metadata": {},
   "outputs": [
    {
     "name": "stdout",
     "output_type": "stream",
     "text": [
      "Classification Report (Train):\n",
      "               precision    recall  f1-score   support\n",
      "\n",
      "           0       0.93      0.45      0.61   4845491\n",
      "           1       0.28      0.87      0.43   1211373\n",
      "\n",
      "    accuracy                           0.53   6056864\n",
      "   macro avg       0.61      0.66      0.52   6056864\n",
      "weighted avg       0.80      0.53      0.57   6056864\n",
      "\n"
     ]
    }
   ],
   "source": [
    "classification_train = classification_report(y_train_n, y_train_pred_LSTM_n)\n",
    "print('Classification Report (Train):\\n', classification_train)"
   ]
  },
  {
   "cell_type": "code",
   "execution_count": 117,
   "metadata": {},
   "outputs": [
    {
     "name": "stdout",
     "output_type": "stream",
     "text": [
      "Modelo guardado localmente\n"
     ]
    }
   ],
   "source": [
    "name = input(\"Ingrese el nombre de los archivos a generar sin extención para el autoencoder_u: \")\n",
    "model_json = autoencoder_u.to_json()\n",
    "with open(f\"{name}.json\", \"w\") as json_file:\n",
    "    json_file.write(model_json)\n",
    "autoencoder_u.save_weights(f\"{name}.h5\")\n",
    "print(\"Modelo guardado localmente\")"
   ]
  },
  {
   "cell_type": "code",
   "execution_count": 118,
   "metadata": {},
   "outputs": [
    {
     "name": "stdout",
     "output_type": "stream",
     "text": [
      "Modelo guardado localmente\n"
     ]
    }
   ],
   "source": [
    "name = input(\"Ingrese el nombre de los archivos a generar sin extención para el autoencoder_n: \")\n",
    "model_json = autoencoder_n.to_json()\n",
    "with open(f\"{name}.json\", \"w\") as json_file:\n",
    "    json_file.write(model_json)\n",
    "autoencoder_n.save_weights(f\"{name}.h5\")\n",
    "print(\"Modelo guardado localmente\")"
   ]
  },
  {
   "cell_type": "markdown",
   "metadata": {},
   "source": [
    "### IF"
   ]
  },
  {
   "cell_type": "code",
   "execution_count": 85,
   "metadata": {},
   "outputs": [
    {
     "name": "stdout",
     "output_type": "stream",
     "text": [
      "Tiempo total de entrenamiento: 332.98 segundos\n",
      "i = 3\n"
     ]
    },
    {
     "data": {
      "image/png": "[encoded data removed]",
      "text/plain": [
       "<Figure size 432x288 with 1 Axes>"
      ]
     },
     "metadata": {
      "needs_background": "light"
     },
     "output_type": "display_data"
    },
    {
     "name": "stdout",
     "output_type": "stream",
     "text": [
      "Classification Report (Train uniform):\n",
      "               precision    recall  f1-score   support\n",
      "\n",
      "           0       0.88      0.88      0.88   4845491\n",
      "           1       0.51      0.51      0.51   1211373\n",
      "\n",
      "    accuracy                           0.80   6056864\n",
      "   macro avg       0.70      0.70      0.70   6056864\n",
      "weighted avg       0.80      0.80      0.80   6056864\n",
      "\n",
      "Tiempo total de entrenamiento: 301.95 segundos\n",
      "i = 3\n"
     ]
    },
    {
     "data": {
      "image/png": "[encoded data removed]",
      "text/plain": [
       "<Figure size 432x288 with 1 Axes>"
      ]
     },
     "metadata": {
      "needs_background": "light"
     },
     "output_type": "display_data"
    },
    {
     "name": "stdout",
     "output_type": "stream",
     "text": [
      "Classification Report (Train normal):\n",
      "               precision    recall  f1-score   support\n",
      "\n",
      "           0       0.86      0.86      0.86   4845491\n",
      "           1       0.45      0.45      0.45   1211373\n",
      "\n",
      "    accuracy                           0.78   6056864\n",
      "   macro avg       0.65      0.65      0.65   6056864\n",
      "weighted avg       0.78      0.78      0.78   6056864\n",
      "\n"
     ]
    },
    {
     "data": {
      "image/png": "[encoded data removed]",
      "text/plain": [
       "<Figure size 432x288 with 1 Axes>"
      ]
     },
     "metadata": {
      "needs_background": "light"
     },
     "output_type": "display_data"
    },
    {
     "name": "stdout",
     "output_type": "stream",
     "text": [
      "AUC_n: 0.6547171950636648\n",
      "AUC_u: 0.6952259830467549\n"
     ]
    }
   ],
   "source": [
    "for i in range(3,4):\n",
    "    # Modelo uniforme\n",
    "    model_if_u = IsolationForest(n_estimators=120 , contamination=0.2, random_state=0)\n",
    "    start_time = time.time()\n",
    "    model_if_u.fit(data_train_X_u,data_train_X_u)\n",
    "    end_time = time.time()\n",
    "    total_time = end_time - start_time\n",
    "    print(f\"Tiempo total de entrenamiento: {total_time:.2f} segundos\")\n",
    "\n",
    "    print(\"i =\", i)\n",
    "    X_train_pred_if_u = model_if_u.predict(data_train_X_u)\n",
    "    X_train_pred_if_u = np.where(X_train_pred_if_u == 1, 0, np.where(X_train_pred_if_u == -1, 1, X_train_pred_if_u))\n",
    "    cm_test = confusion_matrix(y_train_u, X_train_pred_if_u)\n",
    "\n",
    "    # Matriz de confusión\n",
    "    plt.figure(figsize=(6, 4))\n",
    "    sns.heatmap(cm_test, annot=True, cmap='Blues', fmt='d', cbar=False)\n",
    "    plt.title('Matriz de confusión (Entrenamiento_n)')\n",
    "    plt.xlabel('Predicho')\n",
    "    plt.ylabel('Real')\n",
    "    plt.tight_layout()\n",
    "    plt.show()\n",
    "\n",
    "    # Cálculo de métricas\n",
    "    classification_test = classification_report(y_train_u, X_train_pred_if_u)\n",
    "    print('Classification Report (Train uniform):\\n', classification_test)\n",
    "    # ROC y AUC\n",
    "    fpr_u, tpr_u, thresholds = roc_curve(y_train_u, X_train_pred_if_u)\n",
    "    roc_auc_u = auc(fpr_u, tpr_u)\n",
    "\n",
    "######################################################################################\n",
    "\n",
    "    # Modelo normal\n",
    "    model_if_n = IsolationForest(n_estimators=120 , contamination=0.2, random_state=0)\n",
    "    start_time = time.time()\n",
    "    model_if_n.fit(data_train_X_n,data_train_X_n)\n",
    "    end_time = time.time()\n",
    "    total_time = end_time - start_time\n",
    "    print(f\"Tiempo total de entrenamiento: {total_time:.2f} segundos\")\n",
    "    \n",
    "    print(\"i =\", i)\n",
    "    X_train_pred_if_n = model_if_n.predict(data_train_X_n)\n",
    "    X_train_pred_if_n = np.where(X_train_pred_if_n == 1, 0, np.where(X_train_pred_if_n == -1, 1, X_train_pred_if_n))\n",
    "    threshold = 5\n",
    "\n",
    "    cm_test = confusion_matrix(y_train_n, X_train_pred_if_n)\n",
    "\n",
    "    # Matriz de confusión\n",
    "    plt.figure(figsize=(6, 4))\n",
    "    sns.heatmap(cm_test, annot=True, cmap='Blues', fmt='d', cbar=False)\n",
    "    plt.title('Confusion Matrix (Train normal)')\n",
    "    plt.xlabel('Predicted')\n",
    "    plt.ylabel('Actual')\n",
    "\n",
    "    plt.tight_layout()\n",
    "    plt.show()\n",
    "\n",
    "    # Calculo de las métricas\n",
    "    classification_test = classification_report(y_train_n, X_train_pred_if_n)\n",
    "    print('Classification Report (Train normal):\\n', classification_test)\n",
    "\n",
    "    # Curva ROC y AUC\n",
    "    fpr_n, tpr_n, thresholds = roc_curve(y_train_n, X_train_pred_if_n)\n",
    "    roc_auc_n = auc(fpr_n, tpr_n)\n",
    "    plt.figure()\n",
    "    plt.plot(fpr_u, tpr_u, label='ROC curve_u (area = %0.2f)' % roc_auc_u)\n",
    "    plt.plot(fpr_n, tpr_n, label='ROC curve_n (area = %0.2f)' % roc_auc_n)\n",
    "    plt.plot([0, 1], [0, 1], 'k--')\n",
    "    plt.xlim([0.0, 1.0])\n",
    "    plt.ylim([0.0, 1.05])\n",
    "    plt.xlabel('False Positive Rate')\n",
    "    plt.ylabel('True Positive Rate')\n",
    "    plt.title('Receiver Operating Characteristic')\n",
    "    plt.legend(loc=\"lower right\")\n",
    "    plt.show()\n",
    "    print('AUC_n:', roc_auc_n)\n",
    "    print('AUC_u:', roc_auc_u)"
   ]
  },
  {
   "cell_type": "code",
   "execution_count": 86,
   "metadata": {},
   "outputs": [
    {
     "name": "stdout",
     "output_type": "stream",
     "text": [
      "Modelo guardado localmente\n"
     ]
    }
   ],
   "source": [
    "name = input(\"Ingrese el nombre de los archivos a generar sin extención para el modelo IF: \")\n",
    "joblib.dump(model_if_u, f'{name}.joblib')\n",
    "print(\"Modelo guardado localmente\")"
   ]
  },
  {
   "cell_type": "code",
   "execution_count": 87,
   "metadata": {},
   "outputs": [
    {
     "name": "stdout",
     "output_type": "stream",
     "text": [
      "Modelo guardado localmente\n"
     ]
    }
   ],
   "source": [
    "name = input(\"Ingrese el nombre de los archivos a generar sin extención para el modelo IF: \")\n",
    "joblib.dump(model_if_n, f'{name}.joblib')\n",
    "print(\"Modelo guardado localmente\")"
   ]
  }
 ],
 "metadata": {
  "kernelspec": {
   "display_name": "base",
   "language": "python",
   "name": "python3"
  },
  "language_info": {
   "codemirror_mode": {
    "name": "ipython",
    "version": 3
   },
   "file_extension": ".py",
   "mimetype": "text/x-python",
   "name": "python",
   "nbconvert_exporter": "python",
   "pygments_lexer": "ipython3",
   "version": "3.9.12"
  },
  "orig_nbformat": 4
 },
 "nbformat": 4,
 "nbformat_minor": 2
}
