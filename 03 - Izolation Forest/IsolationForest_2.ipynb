{
 "cells": [
  {
   "cell_type": "code",
   "execution_count": 59,
   "metadata": {},
   "outputs": [],
   "source": [
    "import numpy as np\n",
    "import pandas as pd\n",
    "from sklearn.preprocessing import StandardScaler\n",
    "from keras.models import Sequential\n",
    "from keras.layers import Dense\n",
    "from keras.optimizers import Adam\n",
    "from sklearn.ensemble import IsolationForest"
   ]
  },
  {
   "cell_type": "code",
   "execution_count": 60,
   "metadata": {},
   "outputs": [],
   "source": [
    "# Cargar el dataset\n",
    "\n",
    "filePath = \"C:/Users/raul.blanco/Documents/4 - Personales/UBA/Repositorios/IA/Trabajo-Final/solar_wind.csv\"\n",
    "dF = pd.read_csv(filepath_or_buffer=filePath, header=0, sep=\",\")\n",
    "\n",
    "df_A = dF.loc[dF['period']=='train_a']\n",
    "df_A = df_A.dropna()"
   ]
  },
  {
   "cell_type": "code",
   "execution_count": 61,
   "metadata": {},
   "outputs": [],
   "source": [
    "# Calcular el número de valores a reemplazar\n",
    "#features = ['bx_gse', 'by_gse', 'bz_gse', 'theta_gse', 'phi_gse', 'bx_gsm', 'by_gsm', 'bz_gsm', 'theta_gsm', 'phi_gsm', 'bt', 'density', 'speed', 'temperature']\n",
    "features = ['bt']\n",
    "anomaly_factor = 0.17\n",
    "# Crear una copia del DataFrame para no modificar el original\n",
    "df_new = df_A.copy()\n",
    "\n",
    "for a in features:\n",
    "  num_replace = int(df_A[a].size * anomaly_factor)\n",
    "\n",
    "  # Obtener una muestra aleatoria de índices de fila para reemplazar\n",
    "  replace_idx = np.random.choice(df_A.index, size=num_replace, replace=False)\n",
    "\n",
    "  # Reemplazar los valores seleccionados con valores aleatorios entre -90 y 1050\n",
    "  #new_values = np.random.uniform(-90, 1050, size=num_replace)\n",
    "  new_values = np.random.uniform(0, 75, size=num_replace)\n",
    "  df_new.loc[replace_idx, a] = new_values\n",
    "\n",
    "  # Crear la columna \"class\" con los valores correspondientes\n",
    "  df_new.loc[df_A[a] != df_new[a], 'class'] = 1\n",
    "  df_new.loc[df_A[a] == df_new[a], 'class'] = 0"
   ]
  },
  {
   "cell_type": "code",
   "execution_count": 62,
   "metadata": {},
   "outputs": [
    {
     "name": "stdout",
     "output_type": "stream",
     "text": [
      "En el todo el dataset:\n",
      "El número de anomalias es 237074 de 1157481 valores normales\n",
      "La relacion de anomalias es 0.20481891279424888\n"
     ]
    }
   ],
   "source": [
    "print('En el todo el dataset:')\n",
    "count = (df_new['class'] == 1).sum()\n",
    "count2 = (df_new['class'] != 1).sum()\n",
    "print(f'El número de anomalias es {count} de {count2} valores normales')\n",
    "cociente = count / count2\n",
    "print(f'La relacion de anomalias es {cociente}')"
   ]
  },
  {
   "cell_type": "code",
   "execution_count": 63,
   "metadata": {},
   "outputs": [],
   "source": [
    "# Dividir el conjunto de datos en conjuntos de entrenamiento y prueba\n",
    "train_data = df_new.sample(frac=0.8, random_state=0)\n",
    "test_data = df_new.drop(train_data.index)"
   ]
  },
  {
   "cell_type": "code",
   "execution_count": 64,
   "metadata": {},
   "outputs": [
    {
     "name": "stdout",
     "output_type": "stream",
     "text": [
      "En el train set:\n",
      "El número de anomalias es 189379 de 926265 valores normales\n",
      "La relacion de anomalias es 0.20445444878085645\n"
     ]
    }
   ],
   "source": [
    "train_df = pd.DataFrame(train_data, columns = ['1','2','3','4','5','6','7','8','9','10','11','12','13','14','class'])\n",
    "print('En el train set:')\n",
    "count = (train_df['class'] == 1).sum()\n",
    "count2 = (train_df['class'] != 1).sum()\n",
    "print(f'El número de anomalias es {count} de {count2} valores normales')\n",
    "cociente = count / count2\n",
    "print(f'La relacion de anomalias es {cociente}')"
   ]
  },
  {
   "cell_type": "code",
   "execution_count": 65,
   "metadata": {},
   "outputs": [
    {
     "name": "stdout",
     "output_type": "stream",
     "text": [
      "En el test:\n",
      "El número de anomalias es 47695 de 231216 valores normales\n",
      "La relacion de anomalias es 0.20627897723340946\n"
     ]
    }
   ],
   "source": [
    "test_df = pd.DataFrame(test_data, columns = ['1','2','3','4','5','6','7','8','9','10','11','12','13','14','class'])\n",
    "print('En el test:')\n",
    "count = (test_df['class'] == 1).sum()\n",
    "count2 = (test_df['class'] != 1).sum()\n",
    "print(f'El número de anomalias es {count} de {count2} valores normales')\n",
    "cociente = count / count2\n",
    "print(f'La relacion de anomalias es {cociente}')"
   ]
  },
  {
   "cell_type": "code",
   "execution_count": 66,
   "metadata": {},
   "outputs": [],
   "source": [
    "# Preparo el dataset en X e y y elimino columnas no necesarias\n",
    "y = test_data['class']\n",
    "y_full = test_data\n",
    "train_data = train_data.drop([\"timedelta\", \"period\", \"source\", 'class'], axis=1)\n",
    "test_data = test_data.drop([\"timedelta\", \"period\", \"source\", 'class'], axis=1)"
   ]
  },
  {
   "cell_type": "code",
   "execution_count": 67,
   "metadata": {},
   "outputs": [],
   "source": [
    "# Normalizar los datos utilizando StandardScaler()\n",
    "scaler = StandardScaler()\n",
    "train_data = scaler.fit_transform(train_data)\n",
    "test_data = scaler.transform(test_data)"
   ]
  },
  {
   "attachments": {},
   "cell_type": "markdown",
   "metadata": {},
   "source": [
    "Este modelo aprende del dataset de training si el registro es o no es una anomalía. El modelo entrenado, se alimenta por registros de test (que no ha visto antes) y predice si el registro es o no una anomalía.\n",
    "Por este motivo, las predicciones tiene una única dimensión."
   ]
  },
  {
   "cell_type": "code",
   "execution_count": 68,
   "metadata": {},
   "outputs": [],
   "source": [
    "model = IsolationForest(n_estimators=100, contamination='auto', random_state=0)"
   ]
  },
  {
   "cell_type": "code",
   "execution_count": 69,
   "metadata": {},
   "outputs": [
    {
     "data": {
      "text/html": [
       "<style>#sk-container-id-4 {color: black;background-color: white;}#sk-container-id-4 pre{padding: 0;}#sk-container-id-4 div.sk-toggleable {background-color: white;}#sk-container-id-4 label.sk-toggleable__label {cursor: pointer;display: block;width: 100%;margin-bottom: 0;padding: 0.3em;box-sizing: border-box;text-align: center;}#sk-container-id-4 label.sk-toggleable__label-arrow:before {content: \"▸\";float: left;margin-right: 0.25em;color: #696969;}#sk-container-id-4 label.sk-toggleable__label-arrow:hover:before {color: black;}#sk-container-id-4 div.sk-estimator:hover label.sk-toggleable__label-arrow:before {color: black;}#sk-container-id-4 div.sk-toggleable__content {max-height: 0;max-width: 0;overflow: hidden;text-align: left;background-color: #f0f8ff;}#sk-container-id-4 div.sk-toggleable__content pre {margin: 0.2em;color: black;border-radius: 0.25em;background-color: #f0f8ff;}#sk-container-id-4 input.sk-toggleable__control:checked~div.sk-toggleable__content {max-height: 200px;max-width: 100%;overflow: auto;}#sk-container-id-4 input.sk-toggleable__control:checked~label.sk-toggleable__label-arrow:before {content: \"▾\";}#sk-container-id-4 div.sk-estimator input.sk-toggleable__control:checked~label.sk-toggleable__label {background-color: #d4ebff;}#sk-container-id-4 div.sk-label input.sk-toggleable__control:checked~label.sk-toggleable__label {background-color: #d4ebff;}#sk-container-id-4 input.sk-hidden--visually {border: 0;clip: rect(1px 1px 1px 1px);clip: rect(1px, 1px, 1px, 1px);height: 1px;margin: -1px;overflow: hidden;padding: 0;position: absolute;width: 1px;}#sk-container-id-4 div.sk-estimator {font-family: monospace;background-color: #f0f8ff;border: 1px dotted black;border-radius: 0.25em;box-sizing: border-box;margin-bottom: 0.5em;}#sk-container-id-4 div.sk-estimator:hover {background-color: #d4ebff;}#sk-container-id-4 div.sk-parallel-item::after {content: \"\";width: 100%;border-bottom: 1px solid gray;flex-grow: 1;}#sk-container-id-4 div.sk-label:hover label.sk-toggleable__label {background-color: #d4ebff;}#sk-container-id-4 div.sk-serial::before {content: \"\";position: absolute;border-left: 1px solid gray;box-sizing: border-box;top: 0;bottom: 0;left: 50%;z-index: 0;}#sk-container-id-4 div.sk-serial {display: flex;flex-direction: column;align-items: center;background-color: white;padding-right: 0.2em;padding-left: 0.2em;position: relative;}#sk-container-id-4 div.sk-item {position: relative;z-index: 1;}#sk-container-id-4 div.sk-parallel {display: flex;align-items: stretch;justify-content: center;background-color: white;position: relative;}#sk-container-id-4 div.sk-item::before, #sk-container-id-4 div.sk-parallel-item::before {content: \"\";position: absolute;border-left: 1px solid gray;box-sizing: border-box;top: 0;bottom: 0;left: 50%;z-index: -1;}#sk-container-id-4 div.sk-parallel-item {display: flex;flex-direction: column;z-index: 1;position: relative;background-color: white;}#sk-container-id-4 div.sk-parallel-item:first-child::after {align-self: flex-end;width: 50%;}#sk-container-id-4 div.sk-parallel-item:last-child::after {align-self: flex-start;width: 50%;}#sk-container-id-4 div.sk-parallel-item:only-child::after {width: 0;}#sk-container-id-4 div.sk-dashed-wrapped {border: 1px dashed gray;margin: 0 0.4em 0.5em 0.4em;box-sizing: border-box;padding-bottom: 0.4em;background-color: white;}#sk-container-id-4 div.sk-label label {font-family: monospace;font-weight: bold;display: inline-block;line-height: 1.2em;}#sk-container-id-4 div.sk-label-container {text-align: center;}#sk-container-id-4 div.sk-container {/* jupyter's `normalize.less` sets `[hidden] { display: none; }` but bootstrap.min.css set `[hidden] { display: none !important; }` so we also need the `!important` here to be able to override the default hidden behavior on the sphinx rendered scikit-learn.org. See: https://github.com/scikit-learn/scikit-learn/issues/21755 */display: inline-block !important;position: relative;}#sk-container-id-4 div.sk-text-repr-fallback {display: none;}</style><div id=\"sk-container-id-4\" class=\"sk-top-container\"><div class=\"sk-text-repr-fallback\"><pre>IsolationForest(random_state=0)</pre><b>In a Jupyter environment, please rerun this cell to show the HTML representation or trust the notebook. <br />On GitHub, the HTML representation is unable to render, please try loading this page with nbviewer.org.</b></div><div class=\"sk-container\" hidden><div class=\"sk-item\"><div class=\"sk-estimator sk-toggleable\"><input class=\"sk-toggleable__control sk-hidden--visually\" id=\"sk-estimator-id-4\" type=\"checkbox\" checked><label for=\"sk-estimator-id-4\" class=\"sk-toggleable__label sk-toggleable__label-arrow\">IsolationForest</label><div class=\"sk-toggleable__content\"><pre>IsolationForest(random_state=0)</pre></div></div></div></div></div>"
      ],
      "text/plain": [
       "IsolationForest(random_state=0)"
      ]
     },
     "execution_count": 69,
     "metadata": {},
     "output_type": "execute_result"
    }
   ],
   "source": [
    "model.fit(train_data,train_data)"
   ]
  },
  {
   "cell_type": "code",
   "execution_count": 70,
   "metadata": {},
   "outputs": [],
   "source": [
    "# Utilizar el modelo para hacer predicciones en los datos de prueba\n",
    "predictions = model.predict(test_data)"
   ]
  },
  {
   "cell_type": "code",
   "execution_count": 71,
   "metadata": {},
   "outputs": [
    {
     "data": {
      "text/plain": [
       "(278911,)"
      ]
     },
     "execution_count": 71,
     "metadata": {},
     "output_type": "execute_result"
    }
   ],
   "source": [
    "predictions.shape"
   ]
  },
  {
   "cell_type": "code",
   "execution_count": 72,
   "metadata": {},
   "outputs": [],
   "source": [
    "# Comparar las predicciones con los valores reales de \"class\" y generar una matriz de confusión para evaluar el modelo\n",
    "threshold = 0.05\n",
    "predictions[predictions >= threshold] = 1\n",
    "predictions[predictions < threshold] = 0"
   ]
  },
  {
   "cell_type": "code",
   "execution_count": 73,
   "metadata": {},
   "outputs": [
    {
     "data": {
      "text/plain": [
       "(278911,)"
      ]
     },
     "execution_count": 73,
     "metadata": {},
     "output_type": "execute_result"
    }
   ],
   "source": [
    "predictions.shape"
   ]
  },
  {
   "attachments": {},
   "cell_type": "markdown",
   "metadata": {},
   "source": [
    "y_full tiene en su última feature a \"class\". "
   ]
  },
  {
   "cell_type": "code",
   "execution_count": 74,
   "metadata": {},
   "outputs": [
    {
     "name": "stdout",
     "output_type": "stream",
     "text": [
      "Predicted      0       1\n",
      "Actual                  \n",
      "0.0        20419  210797\n",
      "1.0         9812   37883\n"
     ]
    }
   ],
   "source": [
    "#predictions = predictions.reshape(predictions.shape[0], predictions.shape[2])\n",
    "#test_data = test_data.reshape(test_data.shape[0], test_data.shape[2])\n",
    "\n",
    "\n",
    "y_full = y_full.to_numpy()\n",
    "confusion_matrix = pd.crosstab(y_full[:, -1], predictions, rownames=['Actual'], colnames=['Predicted'])\n",
    "print(confusion_matrix)"
   ]
  },
  {
   "cell_type": "code",
   "execution_count": 81,
   "metadata": {},
   "outputs": [
    {
     "name": "stdout",
     "output_type": "stream",
     "text": [
      "El número de anomalias predecidas es 248680 y 30231 valores normales\n"
     ]
    }
   ],
   "source": [
    "#BORRAR\n",
    "pd_predictions = pd.DataFrame(predictions, columns=['class'])\n",
    "#has_ones_pd = pd.DataFrame(has_ones, columns=['class'])\n",
    "count = (pd_predictions['class'] == 1).sum()\n",
    "count1 = (pd_predictions['class'] == 0).sum()\n",
    "print(f'El número de anomalias predecidas es {count} y {count1} valores normales')"
   ]
  },
  {
   "cell_type": "code",
   "execution_count": 79,
   "metadata": {},
   "outputs": [],
   "source": [
    "#pd_predictions = pd.DataFrame(predictions, columns=['class'])\n",
    "\n",
    "#pd_predictions['class'] = pd_predictions['class'].replace({0: 1, 1: 0})\n",
    "\n",
    "#clase = predictions\n",
    "#is_one = clase ==1\n",
    "# Asignar 1 a los elementos que sean True y 0 a los elementos que sean False\n",
    "#has_ones = np.where(is_one, 1, 0)"
   ]
  },
  {
   "cell_type": "code",
   "execution_count": 82,
   "metadata": {},
   "outputs": [
    {
     "name": "stdout",
     "output_type": "stream",
     "text": [
      "El número de anomalias predecidas es 248680 de 30231 valores normales\n"
     ]
    }
   ],
   "source": [
    "#has_ones_pd = pd.DataFrame(has_ones, columns=['class'])\n",
    "count = (pd_predictions['class'] == 1).sum()\n",
    "count1 = (pd_predictions['class'] == 0).sum()\n",
    "print(f'El número de anomalias predecidas es {count} de {count1} valores normales')"
   ]
  },
  {
   "cell_type": "code",
   "execution_count": 83,
   "metadata": {},
   "outputs": [
    {
     "name": "stdout",
     "output_type": "stream",
     "text": [
      "              precision    recall  f1-score   support\n",
      "\n",
      "           0       0.09      0.68      0.16     30231\n",
      "           1       0.79      0.15      0.26    248680\n",
      "\n",
      "    accuracy                           0.21    278911\n",
      "   macro avg       0.44      0.41      0.21    278911\n",
      "weighted avg       0.72      0.21      0.24    278911\n",
      "\n"
     ]
    }
   ],
   "source": [
    "from sklearn.metrics import classification_report\n",
    " \n",
    "print(classification_report(pd_predictions, y))"
   ]
  },
  {
   "cell_type": "code",
   "execution_count": 84,
   "metadata": {},
   "outputs": [],
   "source": [
    "import matplotlib.pyplot as plt \n",
    "import seaborn as sns\n",
    "from sklearn.metrics import confusion_matrix\n",
    "class visualization:\n",
    "  labels = [\"Normal\",\"Anomal\"]\n",
    "  def draw_confusion_matrix(self, y, ypred):\n",
    "    matrix = confusion_matrix(y, ypred)\n",
    "\n",
    "    plt.figure(figsize=(10,8))\n",
    "    colors=[\"orange\", \"green\"]\n",
    "    sns.heatmap(matrix, xticklabels=self.labels, yticklabels=self.labels, cmap=colors, annot=True, fmt=\"d\")\n",
    "    plt.title(\"Confusion Matrix\")\n",
    "    plt.ylabel(\"Realidad\")\n",
    "    plt.xlabel(\"Predicción\")\n",
    "    plt.show()"
   ]
  },
  {
   "cell_type": "code",
   "execution_count": 85,
   "metadata": {},
   "outputs": [
    {
     "name": "stdout",
     "output_type": "stream",
     "text": [
      "El número de anomalias reales es 47695\n"
     ]
    }
   ],
   "source": [
    "y_pd = pd.DataFrame(y, columns = ['class'])\n",
    "count = (y_pd['class'] == 1).sum()\n",
    "print(f'El número de anomalias reales es {count}')"
   ]
  },
  {
   "cell_type": "code",
   "execution_count": 86,
   "metadata": {},
   "outputs": [
    {
     "name": "stdout",
     "output_type": "stream",
     "text": [
      "El número de anomalias predecidas es 248680\n"
     ]
    }
   ],
   "source": [
    "#predictions_class_pd  = pd.DataFrame(predictions_class, columns = ['1','class'])\n",
    "count = (pd_predictions['class'] == 1).sum()\n",
    "print(f'El número de anomalias predecidas es {count}')"
   ]
  },
  {
   "cell_type": "code",
   "execution_count": 87,
   "metadata": {},
   "outputs": [
    {
     "data": {
      "image/png": "[encoded data removed]",
      "text/plain": [
       "<Figure size 720x576 with 2 Axes>"
      ]
     },
     "metadata": {
      "needs_background": "light"
     },
     "output_type": "display_data"
    }
   ],
   "source": [
    "viz = visualization()\n",
    "viz.draw_confusion_matrix(y_pd, pd_predictions)"
   ]
  }
 ],
 "metadata": {
  "kernelspec": {
   "display_name": "base",
   "language": "python",
   "name": "python3"
  },
  "language_info": {
   "codemirror_mode": {
    "name": "ipython",
    "version": 3
   },
   "file_extension": ".py",
   "mimetype": "text/x-python",
   "name": "python",
   "nbconvert_exporter": "python",
   "pygments_lexer": "ipython3",
   "version": "3.9.12"
  },
  "orig_nbformat": 4
 },
 "nbformat": 4,
 "nbformat_minor": 2
}
