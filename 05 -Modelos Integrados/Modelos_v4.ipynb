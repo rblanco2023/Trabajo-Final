{
 "cells": [
  {
   "cell_type": "code",
   "execution_count": 1,
   "metadata": {},
   "outputs": [],
   "source": [
    "import numpy as np\n",
    "import pandas as pd\n",
    "from sklearn.preprocessing import StandardScaler\n",
    "from keras.layers import Input, LSTM, RepeatVector\n",
    "from keras.models import Model\n",
    "\n",
    "from keras.models import Sequential\n",
    "from keras.layers import Dense\n",
    "from keras.optimizers import Adam\n",
    "\n",
    "from sklearn.ensemble import IsolationForest\n",
    "\n",
    "from sklearn.svm import OneClassSVM"
   ]
  },
  {
   "attachments": {},
   "cell_type": "markdown",
   "metadata": {},
   "source": [
    "### Cargar el Dataset"
   ]
  },
  {
   "cell_type": "code",
   "execution_count": 2,
   "metadata": {},
   "outputs": [],
   "source": [
    "filePath = \"C:/Users/raul.blanco/Documents/4 - Personales/UBA/Repositorios/IA/Trabajo-Final/solar_wind.csv\"\n",
    "dF = pd.read_csv(filepath_or_buffer=filePath, header=0, sep=\",\")\n",
    "\n",
    "df_A = dF.loc[dF['period']=='train_a']\n",
    "df_A = df_A.dropna()"
   ]
  },
  {
   "attachments": {},
   "cell_type": "markdown",
   "metadata": {},
   "source": [
    "### Preprocesamiento"
   ]
  },
  {
   "attachments": {},
   "cell_type": "markdown",
   "metadata": {},
   "source": [
    "Partiendo de la hipótesis de que el dataset no contiene valores anómalos, se deben ingresar manualmente.\n",
    "Para esto, se selecciona la variable \"bt\" que corresponde con la magnitud total del campo magnético interplanetario [nT].\n",
    "\n",
    "Se define la variable \"anomaly_factor\" para determinar la cantidad de valores anómalos a incorporar al dataset.\n",
    "\n",
    "Al dataset se le agrega un feature \"class\" cuyo valor será 1 si el registro contiene un valor anómalo y 0 si el valor del registro es el original del dataset."
   ]
  },
  {
   "attachments": {},
   "cell_type": "markdown",
   "metadata": {},
   "source": [
    "Se divide el Dataset en Train y Test"
   ]
  },
  {
   "cell_type": "code",
   "execution_count": 3,
   "metadata": {},
   "outputs": [],
   "source": [
    "train_data = df_A.sample(frac=0.8, random_state=0)\n",
    "test_data = df_A.drop(train_data.index)"
   ]
  },
  {
   "cell_type": "code",
   "execution_count": 4,
   "metadata": {},
   "outputs": [],
   "source": [
    "features = ['bt']\n",
    "anomaly_factor = 0.17\n",
    "# Crear una copia del DataFrame para no modificar el original\n",
    "df_new = train_data.copy()\n",
    "\n",
    "for a in features:\n",
    "  num_replace = int(train_data[a].size * anomaly_factor)\n",
    "\n",
    "  # Obtener una muestra aleatoria de índices de fila para reemplazar\n",
    "  replace_idx = np.random.choice(train_data.index, size=num_replace, replace=False)\n",
    "\n",
    "  # Reemplazar los valores seleccionados con valores aleatorios entre -90 y 1050\n",
    "  #new_values = np.random.uniform(-90, 1050, size=num_replace)\n",
    "  new_values = np.random.uniform(0, 75, size=num_replace)\n",
    "  df_new.loc[replace_idx, a] = new_values\n",
    "\n",
    "  # Crear la columna \"class\" con los valores correspondientes\n",
    "  df_new.loc[train_data[a] != df_new[a], 'class'] = 1\n",
    "  df_new.loc[train_data[a] == df_new[a], 'class'] = 0\n",
    "  train_data = df_new\n",
    "  "
   ]
  },
  {
   "attachments": {},
   "cell_type": "markdown",
   "metadata": {},
   "source": [
    "Ingreso anomalías en test (ingreso menor cantidad de anomalías)"
   ]
  },
  {
   "cell_type": "code",
   "execution_count": 9,
   "metadata": {},
   "outputs": [],
   "source": [
    "features = ['bt']\n",
    "anomaly_factor = 0.012\n",
    "# Crear una copia del DataFrame para no modificar el original\n",
    "df_new_test = test_data.copy()\n",
    "\n",
    "for a in features:\n",
    "  num_replace = int(test_data[a].size * anomaly_factor)\n",
    "\n",
    "  # Obtener una muestra aleatoria de índices de fila para reemplazar\n",
    "  replace_idx = np.random.choice(test_data.index, size=num_replace, replace=False)\n",
    "\n",
    "  # Reemplazar los valores seleccionados con valores aleatorios entre -90 y 1050\n",
    "  new_values = np.random.uniform(0, 75, size=num_replace)\n",
    "  df_new_test.loc[replace_idx, a] = new_values\n",
    "\n",
    "  # Crear la columna \"class\" con los valores correspondientes\n",
    "  df_new_test.loc[test_data[a] != df_new_test[a], 'class'] = 1\n",
    "  df_new_test.loc[test_data[a] == df_new_test[a], 'class'] = 0\n",
    "  test_data = df_new_test"
   ]
  },
  {
   "cell_type": "code",
   "execution_count": 12,
   "metadata": {},
   "outputs": [
    {
     "name": "stdout",
     "output_type": "stream",
     "text": [
      "El número de anomalias en test es 3346 y 275565 son valores normales\n",
      "La relación es:  1.2142325767060402 %\n"
     ]
    }
   ],
   "source": [
    "count = (test_data['class'] == 1).sum()\n",
    "count1 = (test_data['class'] == 0).sum()\n",
    "relacion = 100* count/count1\n",
    "print(f'El número de anomalias en test es {count} y {count1} son valores normales')\n",
    "print('La relación es: ', relacion,'%')"
   ]
  },
  {
   "attachments": {},
   "cell_type": "markdown",
   "metadata": {},
   "source": [
    "#### Verificación de registros con anomalidades introducidas"
   ]
  },
  {
   "cell_type": "code",
   "execution_count": 13,
   "metadata": {},
   "outputs": [],
   "source": [
    "train_timedelta = train_data[['timedelta']]\n",
    "test_timedelta = test_data[['timedelta']]"
   ]
  },
  {
   "attachments": {},
   "cell_type": "markdown",
   "metadata": {},
   "source": [
    "Se eliminan los features que no se tendran en cuenta en el entrenamiento del modelo"
   ]
  },
  {
   "cell_type": "code",
   "execution_count": 14,
   "metadata": {},
   "outputs": [],
   "source": [
    "y = test_data['class']\n",
    "y_full = test_data\n",
    "train_data = train_data.drop([\"timedelta\", \"period\", \"source\", 'class'], axis=1)\n",
    "test_data = test_data.drop([\"timedelta\", \"period\", \"source\", 'class'], axis=1)\n",
    "y_full = y_full.to_numpy()"
   ]
  },
  {
   "attachments": {},
   "cell_type": "markdown",
   "metadata": {},
   "source": [
    "Normalización del dataset"
   ]
  },
  {
   "cell_type": "code",
   "execution_count": 15,
   "metadata": {},
   "outputs": [],
   "source": [
    "scaler = StandardScaler()\n",
    "train_data = scaler.fit_transform(train_data)\n",
    "test_data = scaler.transform(test_data)"
   ]
  },
  {
   "cell_type": "code",
   "execution_count": 24,
   "metadata": {},
   "outputs": [
    {
     "name": "stdout",
     "output_type": "stream",
     "text": [
      "Epoch 1/10\n",
      "31378/31378 [==============================] - 27s 847us/step - loss: 0.5779 - val_loss: 0.5762\n",
      "Epoch 2/10\n",
      "31378/31378 [==============================] - 26s 834us/step - loss: 0.5746 - val_loss: 0.5761\n",
      "Epoch 3/10\n",
      "31378/31378 [==============================] - 28s 876us/step - loss: 0.5744 - val_loss: 0.5757\n",
      "Epoch 4/10\n",
      "31378/31378 [==============================] - 34s 1ms/step - loss: 0.5743 - val_loss: 0.5756\n",
      "Epoch 5/10\n",
      "31378/31378 [==============================] - 34s 1ms/step - loss: 0.5740 - val_loss: 0.5753\n",
      "Epoch 6/10\n",
      "31378/31378 [==============================] - 31s 972us/step - loss: 0.5739 - val_loss: 0.5752\n",
      "Epoch 7/10\n",
      "31378/31378 [==============================] - 34s 1ms/step - loss: 0.5739 - val_loss: 0.5753\n",
      "Epoch 8/10\n",
      "31378/31378 [==============================] - 33s 1ms/step - loss: 0.5739 - val_loss: 0.5755\n",
      "Epoch 9/10\n",
      "31378/31378 [==============================] - 32s 1ms/step - loss: 0.5739 - val_loss: 0.5753\n",
      "Epoch 10/10\n",
      "31378/31378 [==============================] - 34s 1ms/step - loss: 0.5738 - val_loss: 0.5753\n"
     ]
    }
   ],
   "source": [
    "select = int(input(\"Presione 1 para LSTM Autoencoder, 2 para Restricted Boltzmann Machine, 3 para Isolation Fores, 4 para Support Vector Machines\"))\n",
    "if select == 1: ### LSTM AUTOENCODER ###\n",
    "    train_data_LSTM = train_data.reshape(train_data.shape[0],1,train_data.shape[1])\n",
    "    test_data_LSTM = test_data.reshape(test_data.shape[0],1,test_data.shape[1])\n",
    "\n",
    "    #Modelo\n",
    "    input_dim = train_data_LSTM.shape[2]\n",
    "    timesteps = 1\n",
    "    inputs = Input(shape=(timesteps, input_dim))\n",
    "    encoded = LSTM(64, activation='relu', return_sequences=True)(inputs)\n",
    "    encoded = LSTM(32, activation='relu', return_sequences=True)(inputs)\n",
    "    encoded = LSTM(16, activation='relu', return_sequences=False)(encoded)\n",
    "    decoded = RepeatVector(timesteps)(encoded)\n",
    "    decoded = LSTM(16, activation='relu', return_sequences=True)(decoded)\n",
    "    decoded = LSTM(32, activation='relu', return_sequences=True)(decoded)\n",
    "    decoded = LSTM(64, activation='relu', return_sequences=True)(decoded)\n",
    "    decoded = LSTM(input_dim, activation='linear', return_sequences=True)(decoded)\n",
    "    autoencoder = Model(inputs, decoded)\n",
    "    autoencoder.compile(optimizer='adam', loss='mse')\n",
    "\n",
    "    #Entreno el modelo\n",
    "    autoencoder.fit(train_data_LSTM, train_data_LSTM, epochs=10, batch_size=320, validation_split=0.1)\n",
    "\n",
    "elif select == 2: ### RBM ###\n",
    "    #Modelo\n",
    "    model_rbm = Sequential()\n",
    "    model_rbm.add(Dense(20, input_shape=(train_data.shape[1],), activation='sigmoid'))\n",
    "    model_rbm.add(Dense(train_data.shape[1], activation='sigmoid'))\n",
    "    model_rbm.compile(optimizer=Adam(learning_rate=0.01), loss='mse')\n",
    "    #Entreno el modelo\n",
    "    model_rbm.fit(train_data, train_data, epochs=10, batch_size=32, verbose=1, validation_split=0.1)\n",
    "\n",
    "elif select == 3: ### Isolation Forest ###\n",
    "    #Modelo\n",
    "    model_if = IsolationForest(n_estimators=100, contamination='auto', random_state=0)\n",
    "    #Entreno el modelo\n",
    "    model_if.fit(train_data,train_data)\n",
    "\n",
    "elif select == 4: ### Support Vector Machines ###\n",
    "    #Modelo\n",
    "    model_svm = OneClassSVM(kernel='rbf', nu=0.01)\n",
    "    #Entreno el modelo\n",
    "    model_svm.fit(train_data)\n",
    "else:\n",
    "    print('Debe seleccionar un modelo')"
   ]
  },
  {
   "attachments": {},
   "cell_type": "markdown",
   "metadata": {},
   "source": [
    "## Modelos"
   ]
  },
  {
   "attachments": {},
   "cell_type": "markdown",
   "metadata": {},
   "source": [
    "### LSTM Autoencoder"
   ]
  },
  {
   "cell_type": "code",
   "execution_count": null,
   "metadata": {},
   "outputs": [],
   "source": [
    "\n"
   ]
  },
  {
   "cell_type": "code",
   "execution_count": 237,
   "metadata": {},
   "outputs": [
    {
     "name": "stdout",
     "output_type": "stream",
     "text": [
      "8716/8716 [==============================] - 15s 2ms/step\n"
     ]
    }
   ],
   "source": [
    "predictions_LSTM = autoencoder.predict(test_data_LSTM)"
   ]
  },
  {
   "attachments": {},
   "cell_type": "markdown",
   "metadata": {},
   "source": [
    "Evaluación del modelo LSTM Autoencoder"
   ]
  },
  {
   "attachments": {},
   "cell_type": "markdown",
   "metadata": {},
   "source": [
    "Se comparan las predicciones con los valores reales de \"class\" para generar una matriz de confusión para evaluar el modelo"
   ]
  },
  {
   "cell_type": "code",
   "execution_count": 402,
   "metadata": {},
   "outputs": [],
   "source": [
    "#threshold_LSTM = 0.4\n",
    "threshold_LSTM = float(input(\"Modelo LSTM Autoencoder. Ingrese el Threshold a utilizar: \"))\n",
    "predictions_LSTM[predictions_LSTM >= threshold_LSTM] = 1\n",
    "predictions_LSTM[predictions_LSTM < threshold_LSTM] = 0"
   ]
  },
  {
   "cell_type": "code",
   "execution_count": 239,
   "metadata": {},
   "outputs": [
    {
     "name": "stdout",
     "output_type": "stream",
     "text": [
      "Predicted     0.0   1.0\n",
      "Actual                 \n",
      "0.0        265396  5148\n",
      "1.0          2072  6295\n"
     ]
    }
   ],
   "source": [
    "predictions_LSTM = predictions_LSTM.reshape(predictions_LSTM.shape[0], predictions_LSTM.shape[2])\n",
    "test_data = test_data.reshape(test_data_LSTM.shape[0], test_data_LSTM.shape[2])\n",
    "confusion_matrix = pd.crosstab(y_full[:, -1], predictions_LSTM[:, 10], rownames=['Actual'], colnames=['Predicted'])\n",
    "print(confusion_matrix)"
   ]
  },
  {
   "cell_type": "code",
   "execution_count": 240,
   "metadata": {},
   "outputs": [],
   "source": [
    "pd_predictions_LSTM = pd.DataFrame(predictions_LSTM)\n",
    "column_10 = predictions_LSTM[:, 10]\n",
    "is_one_LSTM = column_10 ==1\n",
    "# Asignar 1 a los elementos que sean True y 0 a los elementos que sean False\n",
    "has_ones_LSTM = np.where(is_one_LSTM, 1, 0)"
   ]
  },
  {
   "cell_type": "code",
   "execution_count": 241,
   "metadata": {},
   "outputs": [
    {
     "name": "stdout",
     "output_type": "stream",
     "text": [
      "El número de anomalias es 11443 y 267468 son valores normales\n"
     ]
    }
   ],
   "source": [
    "has_ones_LSTM_pd = pd.DataFrame(has_ones_LSTM, columns=['class'])\n",
    "count = (has_ones_LSTM_pd['class'] == 1).sum()\n",
    "count1 = (has_ones_LSTM_pd['class'] == 0).sum()\n",
    "print(f'El número de anomalias es {count} y {count1} son valores normales')"
   ]
  },
  {
   "cell_type": "code",
   "execution_count": 242,
   "metadata": {},
   "outputs": [],
   "source": [
    "new_column_LSTM = has_ones_LSTM\n",
    "# Agregar la nueva columna al final del ndarray original\n",
    "predictions_class_LSTM = np.hstack((predictions_LSTM, new_column_LSTM.reshape(-1, 1)))"
   ]
  },
  {
   "cell_type": "code",
   "execution_count": 243,
   "metadata": {},
   "outputs": [],
   "source": [
    "pd_predictions_LSTM = pd.DataFrame(predictions_class_LSTM)"
   ]
  },
  {
   "cell_type": "code",
   "execution_count": 244,
   "metadata": {},
   "outputs": [],
   "source": [
    "pd_test_data = pd.DataFrame(test_data)"
   ]
  },
  {
   "cell_type": "code",
   "execution_count": 245,
   "metadata": {},
   "outputs": [
    {
     "name": "stdout",
     "output_type": "stream",
     "text": [
      "              precision    recall  f1-score   support\n",
      "\n",
      "         0.0       0.98      0.99      0.99    267468\n",
      "         1.0       0.75      0.55      0.64     11443\n",
      "\n",
      "    accuracy                           0.97    278911\n",
      "   macro avg       0.87      0.77      0.81    278911\n",
      "weighted avg       0.97      0.97      0.97    278911\n",
      "\n"
     ]
    }
   ],
   "source": [
    "from sklearn.metrics import classification_report\n",
    " \n",
    "print(classification_report(predictions_class_LSTM[:,14], y))"
   ]
  },
  {
   "cell_type": "code",
   "execution_count": 246,
   "metadata": {},
   "outputs": [],
   "source": [
    "import matplotlib.pyplot as plt \n",
    "import seaborn as sns\n",
    "from sklearn.metrics import confusion_matrix\n",
    "class visualization:\n",
    "  labels = [\"Normal\",\"Anomal\"]\n",
    "  def draw_confusion_matrix(self, y, ypred):\n",
    "    matrix = confusion_matrix(y, ypred)\n",
    "\n",
    "    plt.figure(figsize=(10,8))\n",
    "    colors=[\"orange\", \"green\"]\n",
    "    sns.heatmap(matrix, xticklabels=self.labels, yticklabels=self.labels, cmap=colors, annot=True, fmt=\"d\")\n",
    "    plt.title(\"Confusion Matrix\")\n",
    "    plt.ylabel(\"Realidad\")\n",
    "    plt.xlabel(\"Predicción\")\n",
    "    plt.savefig(\"confusion_matrix.jpg\", dpi=300, bbox_inches='tight')\n",
    "    plt.show()"
   ]
  },
  {
   "cell_type": "code",
   "execution_count": 247,
   "metadata": {},
   "outputs": [
    {
     "name": "stdout",
     "output_type": "stream",
     "text": [
      "El número de anomalias reales es 8367\n"
     ]
    }
   ],
   "source": [
    "y_pd = pd.DataFrame(y, columns = ['class'])\n",
    "count = (y_pd['class'] == 1).sum()\n",
    "print(f'El número de anomalias reales es {count}')"
   ]
  },
  {
   "cell_type": "code",
   "execution_count": 248,
   "metadata": {},
   "outputs": [
    {
     "name": "stdout",
     "output_type": "stream",
     "text": [
      "El número de anomalias predecidas es 11443\n"
     ]
    }
   ],
   "source": [
    "predictions_class_LSTM_pd  = pd.DataFrame(predictions_class_LSTM, columns = ['1','2','3','4','5','6','7','8','9','10','11','12','13','14','class'])\n",
    "count = (predictions_class_LSTM_pd['class'] == 1).sum()\n",
    "print(f'El número de anomalias predecidas es {count}')"
   ]
  },
  {
   "cell_type": "code",
   "execution_count": 249,
   "metadata": {},
   "outputs": [
    {
     "data": {
      "image/png": "[encoded data removed]",
      "text/plain": [
       "<Figure size 720x576 with 2 Axes>"
      ]
     },
     "metadata": {
      "needs_background": "light"
     },
     "output_type": "display_data"
    }
   ],
   "source": [
    "viz = visualization()\n",
    "viz.draw_confusion_matrix(y_pd, predictions_class_LSTM[:,14])"
   ]
  },
  {
   "cell_type": "code",
   "execution_count": 250,
   "metadata": {},
   "outputs": [],
   "source": [
    "test_timedelta.reset_index(inplace=True)"
   ]
  },
  {
   "cell_type": "code",
   "execution_count": 251,
   "metadata": {},
   "outputs": [],
   "source": [
    "predictions_class_LSTM_pd = pd.concat([test_timedelta, predictions_class_LSTM_pd], axis = 1 , join = \"inner\")"
   ]
  },
  {
   "cell_type": "code",
   "execution_count": 252,
   "metadata": {},
   "outputs": [],
   "source": [
    "anomalies_LSTM = predictions_class_LSTM_pd.loc[predictions_class_LSTM_pd['class'] == 1.0,['timedelta']]"
   ]
  },
  {
   "cell_type": "code",
   "execution_count": 253,
   "metadata": {},
   "outputs": [
    {
     "data": {
      "text/html": [
       "<div>\n",
       "<style scoped>\n",
       "    .dataframe tbody tr th:only-of-type {\n",
       "        vertical-align: middle;\n",
       "    }\n",
       "\n",
       "    .dataframe tbody tr th {\n",
       "        vertical-align: top;\n",
       "    }\n",
       "\n",
       "    .dataframe thead th {\n",
       "        text-align: right;\n",
       "    }\n",
       "</style>\n",
       "<table border=\"1\" class=\"dataframe\">\n",
       "  <thead>\n",
       "    <tr style=\"text-align: right;\">\n",
       "      <th></th>\n",
       "      <th>timedelta</th>\n",
       "    </tr>\n",
       "  </thead>\n",
       "  <tbody>\n",
       "    <tr>\n",
       "      <th>46</th>\n",
       "      <td>0 days 05:18:00</td>\n",
       "    </tr>\n",
       "    <tr>\n",
       "      <th>108</th>\n",
       "      <td>0 days 11:11:00</td>\n",
       "    </tr>\n",
       "    <tr>\n",
       "      <th>109</th>\n",
       "      <td>0 days 11:12:00</td>\n",
       "    </tr>\n",
       "    <tr>\n",
       "      <th>166</th>\n",
       "      <td>0 days 20:46:00</td>\n",
       "    </tr>\n",
       "    <tr>\n",
       "      <th>223</th>\n",
       "      <td>1 days 00:47:00</td>\n",
       "    </tr>\n",
       "    <tr>\n",
       "      <th>...</th>\n",
       "      <td>...</td>\n",
       "    </tr>\n",
       "    <tr>\n",
       "      <th>278780</th>\n",
       "      <td>1200 days 12:21:00</td>\n",
       "    </tr>\n",
       "    <tr>\n",
       "      <th>278781</th>\n",
       "      <td>1200 days 12:22:00</td>\n",
       "    </tr>\n",
       "    <tr>\n",
       "      <th>278817</th>\n",
       "      <td>1200 days 15:28:00</td>\n",
       "    </tr>\n",
       "    <tr>\n",
       "      <th>278887</th>\n",
       "      <td>1200 days 21:23:00</td>\n",
       "    </tr>\n",
       "    <tr>\n",
       "      <th>278898</th>\n",
       "      <td>1200 days 22:23:00</td>\n",
       "    </tr>\n",
       "  </tbody>\n",
       "</table>\n",
       "<p>11443 rows × 1 columns</p>\n",
       "</div>"
      ],
      "text/plain": [
       "                 timedelta\n",
       "46         0 days 05:18:00\n",
       "108        0 days 11:11:00\n",
       "109        0 days 11:12:00\n",
       "166        0 days 20:46:00\n",
       "223        1 days 00:47:00\n",
       "...                    ...\n",
       "278780  1200 days 12:21:00\n",
       "278781  1200 days 12:22:00\n",
       "278817  1200 days 15:28:00\n",
       "278887  1200 days 21:23:00\n",
       "278898  1200 days 22:23:00\n",
       "\n",
       "[11443 rows x 1 columns]"
      ]
     },
     "execution_count": 253,
     "metadata": {},
     "output_type": "execute_result"
    }
   ],
   "source": [
    "anomalies_LSTM"
   ]
  },
  {
   "attachments": {},
   "cell_type": "markdown",
   "metadata": {},
   "source": [
    "### RBM"
   ]
  },
  {
   "attachments": {},
   "cell_type": "markdown",
   "metadata": {},
   "source": [
    "Creación del modelo"
   ]
  },
  {
   "attachments": {},
   "cell_type": "markdown",
   "metadata": {},
   "source": [
    "Entreno el modelo Restricted Boltzmann Machine"
   ]
  },
  {
   "cell_type": "code",
   "execution_count": 393,
   "metadata": {},
   "outputs": [
    {
     "name": "stdout",
     "output_type": "stream",
     "text": [
      "8716/8716 [==============================] - 5s 585us/step\n"
     ]
    }
   ],
   "source": [
    "predictions_rbm = model_rbm.predict(test_data)"
   ]
  },
  {
   "attachments": {},
   "cell_type": "markdown",
   "metadata": {},
   "source": [
    "Evaluación del modelo rbm"
   ]
  },
  {
   "cell_type": "code",
   "execution_count": 401,
   "metadata": {},
   "outputs": [],
   "source": [
    "threshold_rbm = float(input(\"Modelo Restricted Boltzmann Machine. Ingrese el Threshold a utilizar: \"))\n",
    "#threshold_rbm = 0.8\n",
    "predictions_rbm[predictions_rbm >= threshold_rbm] = 1\n",
    "predictions_rbm[predictions_rbm < threshold_rbm] = 0"
   ]
  },
  {
   "cell_type": "code",
   "execution_count": 399,
   "metadata": {},
   "outputs": [
    {
     "name": "stdout",
     "output_type": "stream",
     "text": [
      "Predicted     0.0   1.0\n",
      "Actual                 \n",
      "0.0        267732  2812\n",
      "1.0          2402  5965\n"
     ]
    }
   ],
   "source": [
    "#y_full = y_full.to_numpy()\n",
    "confusion_matrix = pd.crosstab(y_full[:, -1], predictions_rbm[:, 10], rownames=['Actual'], colnames=['Predicted'])\n",
    "print(confusion_matrix)"
   ]
  },
  {
   "cell_type": "code",
   "execution_count": 259,
   "metadata": {},
   "outputs": [],
   "source": [
    "pd_predictions = pd.DataFrame(predictions_rbm)\n",
    "column_10_rbm = predictions_rbm[:, 10]\n",
    "is_one_rbm = column_10_rbm ==1\n",
    "# Asignar 1 a los elementos que sean True y 0 a los elementos que sean False\n",
    "has_ones_rbm = np.where(is_one_rbm, 1, 0)"
   ]
  },
  {
   "cell_type": "code",
   "execution_count": 260,
   "metadata": {},
   "outputs": [
    {
     "name": "stdout",
     "output_type": "stream",
     "text": [
      "El número de anomalias predecidas es 8777 y 270134 son valores normales\n"
     ]
    }
   ],
   "source": [
    "has_ones_rbm_pd = pd.DataFrame(has_ones_rbm, columns=['class'])\n",
    "count = (has_ones_rbm_pd['class'] == 1).sum()\n",
    "count1 = (has_ones_rbm_pd['class'] == 0).sum()\n",
    "print(f'El número de anomalias predecidas es {count} y {count1} son valores normales')"
   ]
  },
  {
   "cell_type": "code",
   "execution_count": 261,
   "metadata": {},
   "outputs": [
    {
     "data": {
      "text/plain": [
       "(278911,)"
      ]
     },
     "execution_count": 261,
     "metadata": {},
     "output_type": "execute_result"
    }
   ],
   "source": [
    "new_column_rbm = has_ones_rbm\n",
    "new_column_rbm.shape"
   ]
  },
  {
   "cell_type": "code",
   "execution_count": 262,
   "metadata": {},
   "outputs": [],
   "source": [
    "predictions_class_rbm = np.hstack((predictions_rbm, new_column_rbm.reshape(-1, 1)))"
   ]
  },
  {
   "cell_type": "code",
   "execution_count": 263,
   "metadata": {},
   "outputs": [],
   "source": [
    "pd_predictions_rbm = pd.DataFrame(predictions_class_rbm)"
   ]
  },
  {
   "cell_type": "code",
   "execution_count": 264,
   "metadata": {},
   "outputs": [
    {
     "name": "stdout",
     "output_type": "stream",
     "text": [
      "              precision    recall  f1-score   support\n",
      "\n",
      "         0.0       0.99      0.99      0.99    270134\n",
      "         1.0       0.71      0.68      0.70      8777\n",
      "\n",
      "    accuracy                           0.98    278911\n",
      "   macro avg       0.85      0.84      0.84    278911\n",
      "weighted avg       0.98      0.98      0.98    278911\n",
      "\n"
     ]
    }
   ],
   "source": [
    "from sklearn.metrics import classification_report\n",
    " \n",
    "print(classification_report(predictions_class_rbm[:,14], y))"
   ]
  },
  {
   "cell_type": "code",
   "execution_count": 265,
   "metadata": {},
   "outputs": [
    {
     "name": "stdout",
     "output_type": "stream",
     "text": [
      "El número de anomalias predecidas es 8777\n"
     ]
    }
   ],
   "source": [
    "predictions_class_rbm_pd  = pd.DataFrame(predictions_class_rbm, columns = ['1','2','3','4','5','6','7','8','9','10','11','12','13','14','class'])\n",
    "count = (predictions_class_rbm_pd['class'] == 1).sum()\n",
    "print(f'El número de anomalias predecidas es {count}')"
   ]
  },
  {
   "cell_type": "code",
   "execution_count": 266,
   "metadata": {},
   "outputs": [
    {
     "data": {
      "text/plain": [
       "array([[0., 0., 0., ..., 0., 0., 0.],\n",
       "       [0., 0., 0., ..., 0., 0., 0.],\n",
       "       [0., 0., 0., ..., 0., 0., 0.],\n",
       "       ...,\n",
       "       [0., 0., 0., ..., 0., 0., 0.],\n",
       "       [0., 0., 0., ..., 0., 0., 0.],\n",
       "       [0., 0., 0., ..., 0., 0., 0.]])"
      ]
     },
     "execution_count": 266,
     "metadata": {},
     "output_type": "execute_result"
    }
   ],
   "source": [
    "predictions_class_rbm"
   ]
  },
  {
   "cell_type": "code",
   "execution_count": 366,
   "metadata": {},
   "outputs": [],
   "source": [
    "import matplotlib.pyplot as plt \n",
    "import seaborn as sns\n",
    "from sklearn.metrics import confusion_matrix\n",
    "class visualization:\n",
    "  labels = [\"Normal\",\"Anomal\"]\n",
    "  def draw_confusion_matrix(self, y, ypred):\n",
    "    matrix = confusion_matrix(y, ypred)\n",
    "\n",
    "    plt.figure(figsize=(10,8))\n",
    "    colors=[\"orange\", \"green\"]\n",
    "    sns.heatmap(matrix, xticklabels=self.labels, yticklabels=self.labels, cmap=colors, annot=True, fmt=\"d\")\n",
    "    plt.title(\"Confusion Matrix\")\n",
    "    plt.ylabel(\"Realidad\")\n",
    "    plt.xlabel(\"Predicción\")\n",
    "    plt.savefig(\"confusion_matrix.jpg\", dpi=300, bbox_inches='tight')\n",
    "    plt.show()"
   ]
  },
  {
   "cell_type": "code",
   "execution_count": 367,
   "metadata": {},
   "outputs": [
    {
     "data": {
      "image/png": "[encoded data removed]",
      "text/plain": [
       "<Figure size 720x576 with 2 Axes>"
      ]
     },
     "metadata": {
      "needs_background": "light"
     },
     "output_type": "display_data"
    }
   ],
   "source": [
    "viz = visualization()\n",
    "viz.draw_confusion_matrix(y_pd, predictions_class_rbm[:,14])"
   ]
  },
  {
   "cell_type": "code",
   "execution_count": 269,
   "metadata": {},
   "outputs": [],
   "source": [
    "predictions_class_rbm_pd = pd.concat([test_timedelta, predictions_class_rbm_pd], axis = 1 , join = \"inner\")"
   ]
  },
  {
   "cell_type": "code",
   "execution_count": 270,
   "metadata": {},
   "outputs": [],
   "source": [
    "anomalies_rbm = predictions_class_rbm_pd.loc[predictions_class_rbm_pd['class'] == 1.0,['timedelta']]"
   ]
  },
  {
   "cell_type": "code",
   "execution_count": 271,
   "metadata": {},
   "outputs": [
    {
     "data": {
      "text/html": [
       "<div>\n",
       "<style scoped>\n",
       "    .dataframe tbody tr th:only-of-type {\n",
       "        vertical-align: middle;\n",
       "    }\n",
       "\n",
       "    .dataframe tbody tr th {\n",
       "        vertical-align: top;\n",
       "    }\n",
       "\n",
       "    .dataframe thead th {\n",
       "        text-align: right;\n",
       "    }\n",
       "</style>\n",
       "<table border=\"1\" class=\"dataframe\">\n",
       "  <thead>\n",
       "    <tr style=\"text-align: right;\">\n",
       "      <th></th>\n",
       "      <th>timedelta</th>\n",
       "    </tr>\n",
       "  </thead>\n",
       "  <tbody>\n",
       "    <tr>\n",
       "      <th>46</th>\n",
       "      <td>0 days 05:18:00</td>\n",
       "    </tr>\n",
       "    <tr>\n",
       "      <th>108</th>\n",
       "      <td>0 days 11:11:00</td>\n",
       "    </tr>\n",
       "    <tr>\n",
       "      <th>109</th>\n",
       "      <td>0 days 11:12:00</td>\n",
       "    </tr>\n",
       "    <tr>\n",
       "      <th>166</th>\n",
       "      <td>0 days 20:46:00</td>\n",
       "    </tr>\n",
       "    <tr>\n",
       "      <th>223</th>\n",
       "      <td>1 days 00:47:00</td>\n",
       "    </tr>\n",
       "    <tr>\n",
       "      <th>...</th>\n",
       "      <td>...</td>\n",
       "    </tr>\n",
       "    <tr>\n",
       "      <th>278780</th>\n",
       "      <td>1200 days 12:21:00</td>\n",
       "    </tr>\n",
       "    <tr>\n",
       "      <th>278781</th>\n",
       "      <td>1200 days 12:22:00</td>\n",
       "    </tr>\n",
       "    <tr>\n",
       "      <th>278817</th>\n",
       "      <td>1200 days 15:28:00</td>\n",
       "    </tr>\n",
       "    <tr>\n",
       "      <th>278887</th>\n",
       "      <td>1200 days 21:23:00</td>\n",
       "    </tr>\n",
       "    <tr>\n",
       "      <th>278898</th>\n",
       "      <td>1200 days 22:23:00</td>\n",
       "    </tr>\n",
       "  </tbody>\n",
       "</table>\n",
       "<p>8777 rows × 1 columns</p>\n",
       "</div>"
      ],
      "text/plain": [
       "                 timedelta\n",
       "46         0 days 05:18:00\n",
       "108        0 days 11:11:00\n",
       "109        0 days 11:12:00\n",
       "166        0 days 20:46:00\n",
       "223        1 days 00:47:00\n",
       "...                    ...\n",
       "278780  1200 days 12:21:00\n",
       "278781  1200 days 12:22:00\n",
       "278817  1200 days 15:28:00\n",
       "278887  1200 days 21:23:00\n",
       "278898  1200 days 22:23:00\n",
       "\n",
       "[8777 rows x 1 columns]"
      ]
     },
     "execution_count": 271,
     "metadata": {},
     "output_type": "execute_result"
    }
   ],
   "source": [
    "anomalies_rbm"
   ]
  },
  {
   "attachments": {},
   "cell_type": "markdown",
   "metadata": {},
   "source": [
    "### Isolation Forest"
   ]
  },
  {
   "attachments": {},
   "cell_type": "markdown",
   "metadata": {},
   "source": [
    "Creación del modelo"
   ]
  },
  {
   "attachments": {},
   "cell_type": "markdown",
   "metadata": {},
   "source": [
    "Entreno el modelo"
   ]
  },
  {
   "cell_type": "code",
   "execution_count": 291,
   "metadata": {},
   "outputs": [],
   "source": [
    "predictions_if = model_if.predict(test_data)"
   ]
  },
  {
   "attachments": {},
   "cell_type": "markdown",
   "metadata": {},
   "source": [
    "Evaluación del modelo Isolation Forest"
   ]
  },
  {
   "cell_type": "code",
   "execution_count": 292,
   "metadata": {},
   "outputs": [],
   "source": [
    "threshold_if = 0.5\n",
    "predictions_if[predictions_if >= threshold_if] = 1\n",
    "predictions_if[predictions_if < threshold_if] = 0"
   ]
  },
  {
   "cell_type": "code",
   "execution_count": 293,
   "metadata": {},
   "outputs": [
    {
     "name": "stdout",
     "output_type": "stream",
     "text": [
      "Predicted      0       1\n",
      "Actual                  \n",
      "0.0        23362  247182\n",
      "1.0         1785    6582\n"
     ]
    }
   ],
   "source": [
    "#y_full = y_full.to_numpy()\n",
    "confusion_matrix = pd.crosstab(y_full[:, -1], predictions_if, rownames=['Actual'], colnames=['Predicted'])\n",
    "print(confusion_matrix)"
   ]
  },
  {
   "cell_type": "code",
   "execution_count": 294,
   "metadata": {},
   "outputs": [
    {
     "name": "stdout",
     "output_type": "stream",
     "text": [
      "El número de anomalias predecidas es 253764 y 25147 valores normales\n"
     ]
    }
   ],
   "source": [
    "pd_predictions_if = pd.DataFrame(predictions_if, columns=['class'])\n",
    "count = (pd_predictions_if['class'] == 1).sum()\n",
    "count1 = (pd_predictions_if['class'] == 0).sum()\n",
    "print(f'El número de anomalias predecidas es {count} y {count1} valores normales')"
   ]
  },
  {
   "cell_type": "code",
   "execution_count": 295,
   "metadata": {},
   "outputs": [
    {
     "name": "stdout",
     "output_type": "stream",
     "text": [
      "              precision    recall  f1-score   support\n",
      "\n",
      "           0       0.09      0.93      0.16     25147\n",
      "           1       0.79      0.03      0.05    253764\n",
      "\n",
      "    accuracy                           0.11    278911\n",
      "   macro avg       0.44      0.48      0.10    278911\n",
      "weighted avg       0.72      0.11      0.06    278911\n",
      "\n"
     ]
    }
   ],
   "source": [
    "print(classification_report(pd_predictions_if, y))"
   ]
  },
  {
   "cell_type": "code",
   "execution_count": 296,
   "metadata": {},
   "outputs": [
    {
     "name": "stdout",
     "output_type": "stream",
     "text": [
      "El número de anomalias reales es 8367\n"
     ]
    }
   ],
   "source": [
    "y_pd = pd.DataFrame(y, columns = ['class'])\n",
    "count = (y_pd['class'] == 1).sum()\n",
    "print(f'El número de anomalias reales es {count}')"
   ]
  },
  {
   "cell_type": "code",
   "execution_count": 297,
   "metadata": {},
   "outputs": [
    {
     "name": "stdout",
     "output_type": "stream",
     "text": [
      "El número de anomalias predecidas es 253764\n"
     ]
    }
   ],
   "source": [
    "count = (pd_predictions_if['class'] == 1).sum()\n",
    "print(f'El número de anomalias predecidas es {count}')"
   ]
  },
  {
   "cell_type": "code",
   "execution_count": 298,
   "metadata": {},
   "outputs": [],
   "source": [
    "import matplotlib.pyplot as plt \n",
    "import seaborn as sns\n",
    "from sklearn.metrics import confusion_matrix\n",
    "class visualization:\n",
    "  labels = [\"Normal\",\"Anomal\"]\n",
    "  def draw_confusion_matrix(self, y, ypred):\n",
    "    matrix = confusion_matrix(y, ypred)\n",
    "\n",
    "    plt.figure(figsize=(10,8))\n",
    "    colors=[\"orange\", \"green\"]\n",
    "    sns.heatmap(matrix, xticklabels=self.labels, yticklabels=self.labels, cmap=colors, annot=True, fmt=\"d\")\n",
    "    plt.title(\"Confusion Matrix\")\n",
    "    plt.ylabel(\"Realidad\")\n",
    "    plt.xlabel(\"Predicción\")\n",
    "    plt.savefig(\"confusion_matrix.jpg\", dpi=300, bbox_inches='tight')\n",
    "    plt.show()"
   ]
  },
  {
   "cell_type": "code",
   "execution_count": 299,
   "metadata": {},
   "outputs": [
    {
     "data": {
      "image/png": "[encoded data removed]",
      "text/plain": [
       "<Figure size 720x576 with 2 Axes>"
      ]
     },
     "metadata": {
      "needs_background": "light"
     },
     "output_type": "display_data"
    }
   ],
   "source": [
    "viz = visualization()\n",
    "viz.draw_confusion_matrix(y_pd, pd_predictions_if)"
   ]
  },
  {
   "cell_type": "code",
   "execution_count": 300,
   "metadata": {},
   "outputs": [],
   "source": [
    "predictions_class_if_pd = pd.concat([test_timedelta, pd_predictions_if], axis = 1 , join = \"inner\")"
   ]
  },
  {
   "cell_type": "code",
   "execution_count": 301,
   "metadata": {},
   "outputs": [
    {
     "data": {
      "text/html": [
       "<div>\n",
       "<style scoped>\n",
       "    .dataframe tbody tr th:only-of-type {\n",
       "        vertical-align: middle;\n",
       "    }\n",
       "\n",
       "    .dataframe tbody tr th {\n",
       "        vertical-align: top;\n",
       "    }\n",
       "\n",
       "    .dataframe thead th {\n",
       "        text-align: right;\n",
       "    }\n",
       "</style>\n",
       "<table border=\"1\" class=\"dataframe\">\n",
       "  <thead>\n",
       "    <tr style=\"text-align: right;\">\n",
       "      <th></th>\n",
       "      <th>index</th>\n",
       "      <th>timedelta</th>\n",
       "      <th>class</th>\n",
       "    </tr>\n",
       "  </thead>\n",
       "  <tbody>\n",
       "    <tr>\n",
       "      <th>0</th>\n",
       "      <td>3</td>\n",
       "      <td>0 days 00:03:00</td>\n",
       "      <td>1</td>\n",
       "    </tr>\n",
       "    <tr>\n",
       "      <th>1</th>\n",
       "      <td>4</td>\n",
       "      <td>0 days 00:04:00</td>\n",
       "      <td>1</td>\n",
       "    </tr>\n",
       "    <tr>\n",
       "      <th>2</th>\n",
       "      <td>11</td>\n",
       "      <td>0 days 00:11:00</td>\n",
       "      <td>1</td>\n",
       "    </tr>\n",
       "    <tr>\n",
       "      <th>3</th>\n",
       "      <td>16</td>\n",
       "      <td>0 days 00:16:00</td>\n",
       "      <td>1</td>\n",
       "    </tr>\n",
       "    <tr>\n",
       "      <th>4</th>\n",
       "      <td>27</td>\n",
       "      <td>0 days 00:27:00</td>\n",
       "      <td>1</td>\n",
       "    </tr>\n",
       "    <tr>\n",
       "      <th>...</th>\n",
       "      <td>...</td>\n",
       "      <td>...</td>\n",
       "      <td>...</td>\n",
       "    </tr>\n",
       "    <tr>\n",
       "      <th>278906</th>\n",
       "      <td>1729419</td>\n",
       "      <td>1200 days 23:39:00</td>\n",
       "      <td>1</td>\n",
       "    </tr>\n",
       "    <tr>\n",
       "      <th>278907</th>\n",
       "      <td>1729427</td>\n",
       "      <td>1200 days 23:47:00</td>\n",
       "      <td>1</td>\n",
       "    </tr>\n",
       "    <tr>\n",
       "      <th>278908</th>\n",
       "      <td>1729429</td>\n",
       "      <td>1200 days 23:49:00</td>\n",
       "      <td>1</td>\n",
       "    </tr>\n",
       "    <tr>\n",
       "      <th>278909</th>\n",
       "      <td>1729434</td>\n",
       "      <td>1200 days 23:54:00</td>\n",
       "      <td>1</td>\n",
       "    </tr>\n",
       "    <tr>\n",
       "      <th>278910</th>\n",
       "      <td>1729437</td>\n",
       "      <td>1200 days 23:57:00</td>\n",
       "      <td>1</td>\n",
       "    </tr>\n",
       "  </tbody>\n",
       "</table>\n",
       "<p>278911 rows × 3 columns</p>\n",
       "</div>"
      ],
      "text/plain": [
       "          index           timedelta  class\n",
       "0             3     0 days 00:03:00      1\n",
       "1             4     0 days 00:04:00      1\n",
       "2            11     0 days 00:11:00      1\n",
       "3            16     0 days 00:16:00      1\n",
       "4            27     0 days 00:27:00      1\n",
       "...         ...                 ...    ...\n",
       "278906  1729419  1200 days 23:39:00      1\n",
       "278907  1729427  1200 days 23:47:00      1\n",
       "278908  1729429  1200 days 23:49:00      1\n",
       "278909  1729434  1200 days 23:54:00      1\n",
       "278910  1729437  1200 days 23:57:00      1\n",
       "\n",
       "[278911 rows x 3 columns]"
      ]
     },
     "execution_count": 301,
     "metadata": {},
     "output_type": "execute_result"
    }
   ],
   "source": [
    "predictions_class_if_pd"
   ]
  },
  {
   "cell_type": "code",
   "execution_count": 302,
   "metadata": {},
   "outputs": [],
   "source": [
    "anomalies_if = predictions_class_if_pd.loc[predictions_class_if_pd['class'] == 1.0,['timedelta']]"
   ]
  },
  {
   "cell_type": "code",
   "execution_count": 303,
   "metadata": {},
   "outputs": [
    {
     "data": {
      "text/html": [
       "<div>\n",
       "<style scoped>\n",
       "    .dataframe tbody tr th:only-of-type {\n",
       "        vertical-align: middle;\n",
       "    }\n",
       "\n",
       "    .dataframe tbody tr th {\n",
       "        vertical-align: top;\n",
       "    }\n",
       "\n",
       "    .dataframe thead th {\n",
       "        text-align: right;\n",
       "    }\n",
       "</style>\n",
       "<table border=\"1\" class=\"dataframe\">\n",
       "  <thead>\n",
       "    <tr style=\"text-align: right;\">\n",
       "      <th></th>\n",
       "      <th>timedelta</th>\n",
       "    </tr>\n",
       "  </thead>\n",
       "  <tbody>\n",
       "    <tr>\n",
       "      <th>0</th>\n",
       "      <td>0 days 00:03:00</td>\n",
       "    </tr>\n",
       "    <tr>\n",
       "      <th>1</th>\n",
       "      <td>0 days 00:04:00</td>\n",
       "    </tr>\n",
       "    <tr>\n",
       "      <th>2</th>\n",
       "      <td>0 days 00:11:00</td>\n",
       "    </tr>\n",
       "    <tr>\n",
       "      <th>3</th>\n",
       "      <td>0 days 00:16:00</td>\n",
       "    </tr>\n",
       "    <tr>\n",
       "      <th>4</th>\n",
       "      <td>0 days 00:27:00</td>\n",
       "    </tr>\n",
       "    <tr>\n",
       "      <th>...</th>\n",
       "      <td>...</td>\n",
       "    </tr>\n",
       "    <tr>\n",
       "      <th>278906</th>\n",
       "      <td>1200 days 23:39:00</td>\n",
       "    </tr>\n",
       "    <tr>\n",
       "      <th>278907</th>\n",
       "      <td>1200 days 23:47:00</td>\n",
       "    </tr>\n",
       "    <tr>\n",
       "      <th>278908</th>\n",
       "      <td>1200 days 23:49:00</td>\n",
       "    </tr>\n",
       "    <tr>\n",
       "      <th>278909</th>\n",
       "      <td>1200 days 23:54:00</td>\n",
       "    </tr>\n",
       "    <tr>\n",
       "      <th>278910</th>\n",
       "      <td>1200 days 23:57:00</td>\n",
       "    </tr>\n",
       "  </tbody>\n",
       "</table>\n",
       "<p>253764 rows × 1 columns</p>\n",
       "</div>"
      ],
      "text/plain": [
       "                 timedelta\n",
       "0          0 days 00:03:00\n",
       "1          0 days 00:04:00\n",
       "2          0 days 00:11:00\n",
       "3          0 days 00:16:00\n",
       "4          0 days 00:27:00\n",
       "...                    ...\n",
       "278906  1200 days 23:39:00\n",
       "278907  1200 days 23:47:00\n",
       "278908  1200 days 23:49:00\n",
       "278909  1200 days 23:54:00\n",
       "278910  1200 days 23:57:00\n",
       "\n",
       "[253764 rows x 1 columns]"
      ]
     },
     "execution_count": 303,
     "metadata": {},
     "output_type": "execute_result"
    }
   ],
   "source": [
    "anomalies_if"
   ]
  },
  {
   "attachments": {},
   "cell_type": "markdown",
   "metadata": {},
   "source": [
    "### Support Vector Machines"
   ]
  },
  {
   "attachments": {},
   "cell_type": "markdown",
   "metadata": {},
   "source": [
    "Creación del modelo"
   ]
  },
  {
   "attachments": {},
   "cell_type": "markdown",
   "metadata": {},
   "source": [
    "Entreno el modelo"
   ]
  },
  {
   "cell_type": "code",
   "execution_count": 306,
   "metadata": {},
   "outputs": [],
   "source": [
    "predictions_svm = model_svm.predict(test_data)"
   ]
  },
  {
   "attachments": {},
   "cell_type": "markdown",
   "metadata": {},
   "source": [
    "Evaluación del Modelo Support Vector Machines"
   ]
  },
  {
   "cell_type": "code",
   "execution_count": 307,
   "metadata": {},
   "outputs": [],
   "source": [
    "predictions_svm[predictions_svm == 1] = 0\n",
    "predictions_svm[predictions_svm == -1] = 1"
   ]
  },
  {
   "cell_type": "code",
   "execution_count": 308,
   "metadata": {},
   "outputs": [
    {
     "name": "stdout",
     "output_type": "stream",
     "text": [
      "Predicted       0     1\n",
      "Actual                 \n",
      "0.0        268180  2364\n",
      "1.0          8204   163\n"
     ]
    }
   ],
   "source": [
    "confusion_matrix = pd.crosstab(y_full[:, -1], predictions_svm, rownames=['Actual'], colnames=['Predicted'])\n",
    "print(confusion_matrix)"
   ]
  },
  {
   "cell_type": "code",
   "execution_count": 309,
   "metadata": {},
   "outputs": [
    {
     "name": "stdout",
     "output_type": "stream",
     "text": [
      "El número de anomalias predecidas es 2527 y 276384 valores normales\n"
     ]
    }
   ],
   "source": [
    "pd_predictions_svm = pd.DataFrame(predictions_svm, columns=['class'])\n",
    "count = (pd_predictions_svm['class'] == 1).sum()\n",
    "count1 = (pd_predictions_svm['class'] == 0).sum()\n",
    "print(f'El número de anomalias predecidas es {count} y {count1} valores normales')"
   ]
  },
  {
   "cell_type": "code",
   "execution_count": 310,
   "metadata": {},
   "outputs": [
    {
     "name": "stdout",
     "output_type": "stream",
     "text": [
      "              precision    recall  f1-score   support\n",
      "\n",
      "           0       0.99      0.97      0.98    276384\n",
      "           1       0.02      0.06      0.03      2527\n",
      "\n",
      "    accuracy                           0.96    278911\n",
      "   macro avg       0.51      0.52      0.51    278911\n",
      "weighted avg       0.98      0.96      0.97    278911\n",
      "\n"
     ]
    }
   ],
   "source": [
    "print(classification_report(pd_predictions_svm, y))"
   ]
  },
  {
   "cell_type": "code",
   "execution_count": 311,
   "metadata": {},
   "outputs": [
    {
     "name": "stdout",
     "output_type": "stream",
     "text": [
      "El número de anomalias reales es 8367\n"
     ]
    }
   ],
   "source": [
    "y_pd = pd.DataFrame(y, columns = ['class'])\n",
    "count = (y_pd['class'] == 1).sum()\n",
    "print(f'El número de anomalias reales es {count}')"
   ]
  },
  {
   "cell_type": "code",
   "execution_count": 312,
   "metadata": {},
   "outputs": [
    {
     "name": "stdout",
     "output_type": "stream",
     "text": [
      "El número de anomalias predecidas es 2527\n"
     ]
    }
   ],
   "source": [
    "count = (pd_predictions_svm['class'] == 1).sum()\n",
    "print(f'El número de anomalias predecidas es {count}')"
   ]
  },
  {
   "cell_type": "code",
   "execution_count": 313,
   "metadata": {},
   "outputs": [],
   "source": [
    "import matplotlib.pyplot as plt \n",
    "import seaborn as sns\n",
    "from sklearn.metrics import confusion_matrix\n",
    "class visualization:\n",
    "  labels = [\"Normal\",\"Anomal\"]\n",
    "  def draw_confusion_matrix(self, y, ypred):\n",
    "    matrix = confusion_matrix(y, ypred)\n",
    "\n",
    "    plt.figure(figsize=(10,8))\n",
    "    colors=[\"orange\", \"green\"]\n",
    "    sns.heatmap(matrix, xticklabels=self.labels, yticklabels=self.labels, cmap=colors, annot=True, fmt=\"d\")\n",
    "    plt.title(\"Confusion Matrix\")\n",
    "    plt.ylabel(\"Realidad\")\n",
    "    plt.xlabel(\"Predicción\")\n",
    "    plt.savefig(\"confusion_matrix.jpg\", dpi=300, bbox_inches='tight')\n",
    "    plt.show()"
   ]
  },
  {
   "cell_type": "code",
   "execution_count": 314,
   "metadata": {},
   "outputs": [
    {
     "data": {
      "image/png": "[encoded data removed]",
      "text/plain": [
       "<Figure size 720x576 with 2 Axes>"
      ]
     },
     "metadata": {
      "needs_background": "light"
     },
     "output_type": "display_data"
    }
   ],
   "source": [
    "viz = visualization()\n",
    "viz.draw_confusion_matrix(y_pd, pd_predictions_svm)"
   ]
  },
  {
   "cell_type": "code",
   "execution_count": 315,
   "metadata": {},
   "outputs": [],
   "source": [
    "anomalies_svm = pd.concat([test_timedelta, pd_predictions_svm], axis = 1 , join = \"inner\")"
   ]
  },
  {
   "cell_type": "code",
   "execution_count": 316,
   "metadata": {},
   "outputs": [
    {
     "data": {
      "text/html": [
       "<div>\n",
       "<style scoped>\n",
       "    .dataframe tbody tr th:only-of-type {\n",
       "        vertical-align: middle;\n",
       "    }\n",
       "\n",
       "    .dataframe tbody tr th {\n",
       "        vertical-align: top;\n",
       "    }\n",
       "\n",
       "    .dataframe thead th {\n",
       "        text-align: right;\n",
       "    }\n",
       "</style>\n",
       "<table border=\"1\" class=\"dataframe\">\n",
       "  <thead>\n",
       "    <tr style=\"text-align: right;\">\n",
       "      <th></th>\n",
       "      <th>index</th>\n",
       "      <th>timedelta</th>\n",
       "      <th>class</th>\n",
       "    </tr>\n",
       "  </thead>\n",
       "  <tbody>\n",
       "    <tr>\n",
       "      <th>0</th>\n",
       "      <td>3</td>\n",
       "      <td>0 days 00:03:00</td>\n",
       "      <td>0</td>\n",
       "    </tr>\n",
       "    <tr>\n",
       "      <th>1</th>\n",
       "      <td>4</td>\n",
       "      <td>0 days 00:04:00</td>\n",
       "      <td>0</td>\n",
       "    </tr>\n",
       "    <tr>\n",
       "      <th>2</th>\n",
       "      <td>11</td>\n",
       "      <td>0 days 00:11:00</td>\n",
       "      <td>0</td>\n",
       "    </tr>\n",
       "    <tr>\n",
       "      <th>3</th>\n",
       "      <td>16</td>\n",
       "      <td>0 days 00:16:00</td>\n",
       "      <td>0</td>\n",
       "    </tr>\n",
       "    <tr>\n",
       "      <th>4</th>\n",
       "      <td>27</td>\n",
       "      <td>0 days 00:27:00</td>\n",
       "      <td>0</td>\n",
       "    </tr>\n",
       "    <tr>\n",
       "      <th>...</th>\n",
       "      <td>...</td>\n",
       "      <td>...</td>\n",
       "      <td>...</td>\n",
       "    </tr>\n",
       "    <tr>\n",
       "      <th>278906</th>\n",
       "      <td>1729419</td>\n",
       "      <td>1200 days 23:39:00</td>\n",
       "      <td>0</td>\n",
       "    </tr>\n",
       "    <tr>\n",
       "      <th>278907</th>\n",
       "      <td>1729427</td>\n",
       "      <td>1200 days 23:47:00</td>\n",
       "      <td>0</td>\n",
       "    </tr>\n",
       "    <tr>\n",
       "      <th>278908</th>\n",
       "      <td>1729429</td>\n",
       "      <td>1200 days 23:49:00</td>\n",
       "      <td>0</td>\n",
       "    </tr>\n",
       "    <tr>\n",
       "      <th>278909</th>\n",
       "      <td>1729434</td>\n",
       "      <td>1200 days 23:54:00</td>\n",
       "      <td>0</td>\n",
       "    </tr>\n",
       "    <tr>\n",
       "      <th>278910</th>\n",
       "      <td>1729437</td>\n",
       "      <td>1200 days 23:57:00</td>\n",
       "      <td>0</td>\n",
       "    </tr>\n",
       "  </tbody>\n",
       "</table>\n",
       "<p>278911 rows × 3 columns</p>\n",
       "</div>"
      ],
      "text/plain": [
       "          index           timedelta  class\n",
       "0             3     0 days 00:03:00      0\n",
       "1             4     0 days 00:04:00      0\n",
       "2            11     0 days 00:11:00      0\n",
       "3            16     0 days 00:16:00      0\n",
       "4            27     0 days 00:27:00      0\n",
       "...         ...                 ...    ...\n",
       "278906  1729419  1200 days 23:39:00      0\n",
       "278907  1729427  1200 days 23:47:00      0\n",
       "278908  1729429  1200 days 23:49:00      0\n",
       "278909  1729434  1200 days 23:54:00      0\n",
       "278910  1729437  1200 days 23:57:00      0\n",
       "\n",
       "[278911 rows x 3 columns]"
      ]
     },
     "execution_count": 316,
     "metadata": {},
     "output_type": "execute_result"
    }
   ],
   "source": [
    "anomalies_svm"
   ]
  },
  {
   "attachments": {},
   "cell_type": "markdown",
   "metadata": {},
   "source": [
    "## Gráficos y evaluación con AUC"
   ]
  },
  {
   "cell_type": "code",
   "execution_count": 317,
   "metadata": {},
   "outputs": [],
   "source": [
    "clase = y_full[:,-1].astype(int)"
   ]
  },
  {
   "cell_type": "code",
   "execution_count": 318,
   "metadata": {},
   "outputs": [
    {
     "name": "stdout",
     "output_type": "stream",
     "text": [
      "AUC de LSTM Autoencoder: 0.8666660678086269\n",
      "AUC de Restricted Bolztmann Machine: 0.851262965453267\n",
      "AUC de Isolation Forest: 0.4365069143665093\n",
      "AUC de Suport Vector Machines: 0.5053716726809401\n"
     ]
    }
   ],
   "source": [
    "from sklearn.metrics import roc_auc_score\n",
    "\n",
    "# Calcular el AUC para cada modelo utilizando la función roc_auc_score() de la biblioteca scikit-learn\n",
    "LSTM_auc = roc_auc_score(clase, predictions_class_LSTM[:,14])\n",
    "rbm_auc = roc_auc_score(clase, predictions_class_rbm[:,14])\n",
    "if_auc = roc_auc_score(clase, predictions_if)\n",
    "svm_auc = roc_auc_score(clase, predictions_svm)\n",
    "print(\"AUC de LSTM Autoencoder:\", LSTM_auc)\n",
    "print(\"AUC de Restricted Bolztmann Machine:\", rbm_auc)\n",
    "print(\"AUC de Isolation Forest:\", if_auc)\n",
    "print(\"AUC de Suport Vector Machines:\", svm_auc)"
   ]
  },
  {
   "cell_type": "code",
   "execution_count": 319,
   "metadata": {},
   "outputs": [],
   "source": [
    "from sklearn.metrics import roc_curve, auc\n",
    "import matplotlib.pyplot as plt"
   ]
  },
  {
   "cell_type": "code",
   "execution_count": 320,
   "metadata": {},
   "outputs": [],
   "source": [
    "rbm_fpr, rbm_tpr, _ = roc_curve(clase, predictions_class_rbm[:,14])\n",
    "rbm_auc = auc(rbm_fpr, rbm_tpr)"
   ]
  },
  {
   "cell_type": "code",
   "execution_count": 321,
   "metadata": {},
   "outputs": [],
   "source": [
    "LSTM_fpr, LSTM_tpr, _ = roc_curve(clase, predictions_class_LSTM[:,14])\n",
    "LSTM_auc = auc(LSTM_fpr, LSTM_tpr)"
   ]
  },
  {
   "cell_type": "code",
   "execution_count": 322,
   "metadata": {},
   "outputs": [],
   "source": [
    "if_fpr, if_tpr, _ = roc_curve(clase, predictions_if)\n",
    "if_auc = auc(if_fpr, if_tpr)"
   ]
  },
  {
   "cell_type": "code",
   "execution_count": 323,
   "metadata": {},
   "outputs": [],
   "source": [
    "svm_fpr, svm_tpr, _ = roc_curve(clase, predictions_svm)\n",
    "svm_auc = auc(svm_fpr, svm_tpr)"
   ]
  },
  {
   "cell_type": "code",
   "execution_count": 324,
   "metadata": {},
   "outputs": [
    {
     "data": {
      "image/png": "[encoded data removed]",
      "text/plain": [
       "<Figure size 432x288 with 1 Axes>"
      ]
     },
     "metadata": {
      "needs_background": "light"
     },
     "output_type": "display_data"
    }
   ],
   "source": [
    "plt.figure()\n",
    "plt.plot(LSTM_fpr, LSTM_tpr, color='darkorange', lw=1, label='LSTM Autoencoder (AUC = %0.2f)' % LSTM_auc)\n",
    "plt.plot(rbm_fpr, rbm_tpr, color='green', lw=1, label='RBM (AUC = %0.2f)' % rbm_auc)\n",
    "plt.plot(if_fpr, if_tpr, color='blue', lw=1, label='Isolation Forest (AUC = %0.2f)' % if_auc)\n",
    "plt.plot(svm_fpr, svm_tpr, color='red', lw=1, label='Support Vector Machines (AUC = %0.2f)' % svm_auc)\n",
    "plt.plot([0, 1], [0, 1], color='navy', lw=2, linestyle='--')\n",
    "plt.xlim([0.0, 1.0])\n",
    "plt.ylim([0.0, 1.05])\n",
    "plt.xlabel('False Positive Rate')\n",
    "plt.ylabel('True Positive Rate')\n",
    "plt.title('Curvas ROC de los modelos de detección de anomalías')\n",
    "plt.legend(loc=\"lower right\")\n",
    "plt.show()"
   ]
  },
  {
   "attachments": {},
   "cell_type": "markdown",
   "metadata": {},
   "source": [
    "## Reporte en PDF"
   ]
  },
  {
   "cell_type": "code",
   "execution_count": 326,
   "metadata": {},
   "outputs": [],
   "source": [
    "test_data_pd = pd.DataFrame(test_data, columns=['bx_gse', 'by_gse', 'bz_gse', 'theta_gse',\n",
    "       'phi_gse', 'bx_gsm', 'by_gsm', 'bz_gsm', 'theta_gsm', 'phi_gsm', 'bt',\n",
    "       'density', 'speed', 'temperature'])\n",
    "test_data_pd = pd.concat([test_timedelta, test_data_pd], axis = 1 , join = \"inner\")"
   ]
  },
  {
   "cell_type": "code",
   "execution_count": 333,
   "metadata": {},
   "outputs": [],
   "source": [
    "output = test_data_pd[test_data_pd['timedelta'].isin(anomalies_rbm['timedelta'])]\n",
    "output = output.round(3)"
   ]
  },
  {
   "cell_type": "code",
   "execution_count": 336,
   "metadata": {},
   "outputs": [],
   "source": [
    "output = output.drop(['index'], axis=1)"
   ]
  },
  {
   "cell_type": "code",
   "execution_count": 392,
   "metadata": {},
   "outputs": [],
   "source": [
    "from reportlab.lib.pagesizes import A4\n",
    "from reportlab.lib.units import inch\n",
    "from reportlab.pdfgen import canvas\n",
    "from reportlab.lib import colors\n",
    "from reportlab.lib.styles import getSampleStyleSheet\n",
    "from reportlab.platypus import Table, TableStyle\n",
    "\n",
    "pdf = canvas.Canvas(\"Reporte de Anomalías.pdf\", pagesize=A4)\n",
    "page_width, page_height = A4\n",
    "inch = 72  #32\n",
    "df = output\n",
    "\n",
    "data = [df.columns.tolist()] + df.values.tolist()\n",
    "\n",
    "styles = getSampleStyleSheet()\n",
    "style_table = TableStyle([\n",
    "    ('BACKGROUND', (0, 0), (-1, 0), colors.grey),\n",
    "    ('TEXTCOLOR', (0, 0), (-1, 0), colors.whitesmoke),\n",
    "    ('FONTNAME', (0, 0), (-1, 0), 'Helvetica-Bold'),\n",
    "    ('FONTSIZE', (0, 0), (-1, 0), 6),\n",
    "    ('BOTTOMPADDING', (0, 0), (-1, 0),12),\n",
    "    ('BACKGROUND', (0, 1), (-1, -1), colors.lightgreen),\n",
    "    ('GRID', (0, 0), (-1, -1), 1, colors.black),\n",
    "    ('ALIGN', (0, 0), (-1, -1), 'CENTER'),\n",
    "    ('VALIGN', (0, 0), (-1, -1), 'MIDDLE'),\n",
    "    ('FONTNAME', (0, 1), (-1, -1), 'Helvetica'),\n",
    "    ('FONTSIZE', (0, 1), (-1, -1), 6),\n",
    "    ('BOTTOMPADDING', (0, 1), (-1, -1), 6),\n",
    "])\n",
    "\n",
    "num_rows = len(data)\n",
    "num_cols = len(data[0])\n",
    "\n",
    "max_rows_per_page = int((page_height - 5.5 * inch) / (12 * 1.2)) - 1\n",
    "\n",
    "num_pages = int(num_rows / max_rows_per_page) + 1\n",
    "\n",
    "for page in range(num_pages):\n",
    "    # Título en la primera página\n",
    "    if page == 0:\n",
    "        pdf.setFont(\"Helvetica-Bold\", 16)\n",
    "        pdf.drawString(inch, page_height - inch, \"Reporte de anomalías detectadas\")\n",
    "        pdf.drawString(inch, page_height - inch+18, \"INVAP\")\n",
    "\n",
    "    # Agrego la matriz de confusión\n",
    "        pdf.setFont(\"Helvetica\", 11)\n",
    "        pdf.drawString(inch, page_height - inch-20, \"La matriz de confusión obtenida con el modelo seleccionado es la siguiente:\")\n",
    "        pdf.drawImage(\"confusion_matrix.jpg\", 100, 360, width=5*inch, height=5*inch)\n",
    "        #pdf.drawImage(\"confusion_matrix.jpg\", 100, 400, width=350, height=350) #, width=3*inch, height=3*inch)\n",
    "\n",
    "    # Agrego resultados de AUC\n",
    "        pdf.drawString(inch, 300, f\"AUC de Restricted Bolztmann Machine: {rbm_auc}\")\n",
    "        pdf.setFont(\"Helvetica\", 8)\n",
    "        pdf.drawString(inch, inch+24, \"Informe de anormalidades detectadas\")\n",
    "        pdf.drawString(inch, inch+12, \"Especialización en Inteligencia Artificial\")\n",
    "        pdf.drawString(inch, inch, \"Ing. Raúl Blanco Elicabe\")\n",
    "        pdf.drawString(inch+420, inch, f\"Página {page+1}\")\n",
    "        pdf.showPage()\n",
    "    if page > 0:\n",
    "    # Pie de página en todas las páginas\n",
    "        pdf.setFont(\"Helvetica\", 8)\n",
    "        pdf.drawString(inch, inch+24, \"Informe de anormalidades detectadas\")\n",
    "        pdf.drawString(inch, inch+12, \"Especialización en Inteligencia Artificial\")\n",
    "        pdf.drawString(inch, inch, \"Ing. Raúl Blanco Elicabe\")\n",
    "        pdf.drawString(inch+420, inch, f\"Página {page+1}\")\n",
    "\n",
    "\n",
    "        start_row = (page-1) * max_rows_per_page\n",
    "        end_row = min((page) * max_rows_per_page, num_rows)\n",
    "\n",
    "        page_data = data[start_row:end_row]\n",
    "\n",
    "        table = Table(page_data,colWidths=[0.75 * inch, 0.4 * inch, 0.4 * inch, 0.4 * inch, 0.4 * inch, 0.4 * inch, 0.4 * inch, 0.4 * inch, 0.4 * inch, 0.4 * inch, 0.4 * inch, 0.4 * inch, 0.4 * inch, 0.4 * inch, 0.4 * inch])\n",
    "        \n",
    "        table.setStyle(style_table)\n",
    "\n",
    "        table.wrapOn(pdf, page_width - 2 * inch, page_height - 2 * inch)\n",
    "        table.drawOn(pdf, inch, page_height - 10 * inch - 12 * 1.2)\n",
    "\n",
    "        if page < num_pages - 1:\n",
    "            pdf.showPage()\n",
    "\n",
    "pdf.save()\n"
   ]
  },
  {
   "cell_type": "code",
   "execution_count": 339,
   "metadata": {},
   "outputs": [],
   "source": [
    "output.to_csv('output_anomalies.csv')"
   ]
  }
 ],
 "metadata": {
  "kernelspec": {
   "display_name": "base",
   "language": "python",
   "name": "python3"
  },
  "language_info": {
   "codemirror_mode": {
    "name": "ipython",
    "version": 3
   },
   "file_extension": ".py",
   "mimetype": "text/x-python",
   "name": "python",
   "nbconvert_exporter": "python",
   "pygments_lexer": "ipython3",
   "version": "3.9.12"
  },
  "orig_nbformat": 4
 },
 "nbformat": 4,
 "nbformat_minor": 2
}
