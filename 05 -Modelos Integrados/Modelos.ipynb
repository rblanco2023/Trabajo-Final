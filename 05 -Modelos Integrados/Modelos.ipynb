{
 "cells": [
  {
   "cell_type": "code",
   "execution_count": 19,
   "metadata": {},
   "outputs": [],
   "source": [
    "import numpy as np\n",
    "import pandas as pd\n",
    "from sklearn.preprocessing import StandardScaler\n",
    "from keras.layers import Input, LSTM, RepeatVector\n",
    "from keras.models import Model\n",
    "\n",
    "from keras.models import Sequential\n",
    "from keras.layers import Dense\n",
    "from keras.optimizers import Adam\n",
    "\n",
    "from sklearn.ensemble import IsolationForest\n",
    "\n",
    "from sklearn.svm import OneClassSVM"
   ]
  },
  {
   "attachments": {},
   "cell_type": "markdown",
   "metadata": {},
   "source": [
    "### Cargar el Dataset"
   ]
  },
  {
   "cell_type": "code",
   "execution_count": 20,
   "metadata": {},
   "outputs": [],
   "source": [
    "filePath = \"C:/Users/raul.blanco/Documents/4 - Personales/UBA/Repositorios/IA/Trabajo-Final/solar_wind.csv\"\n",
    "dF = pd.read_csv(filepath_or_buffer=filePath, header=0, sep=\",\")\n",
    "\n",
    "df_A = dF.loc[dF['period']=='train_a']\n",
    "df_A = df_A.dropna()"
   ]
  },
  {
   "cell_type": "code",
   "execution_count": 21,
   "metadata": {},
   "outputs": [
    {
     "data": {
      "text/html": [
       "<div>\n",
       "<style scoped>\n",
       "    .dataframe tbody tr th:only-of-type {\n",
       "        vertical-align: middle;\n",
       "    }\n",
       "\n",
       "    .dataframe tbody tr th {\n",
       "        vertical-align: top;\n",
       "    }\n",
       "\n",
       "    .dataframe thead th {\n",
       "        text-align: right;\n",
       "    }\n",
       "</style>\n",
       "<table border=\"1\" class=\"dataframe\">\n",
       "  <thead>\n",
       "    <tr style=\"text-align: right;\">\n",
       "      <th></th>\n",
       "      <th>bx_gse</th>\n",
       "      <th>by_gse</th>\n",
       "      <th>bz_gse</th>\n",
       "      <th>theta_gse</th>\n",
       "      <th>phi_gse</th>\n",
       "      <th>bx_gsm</th>\n",
       "      <th>by_gsm</th>\n",
       "      <th>bz_gsm</th>\n",
       "      <th>theta_gsm</th>\n",
       "      <th>phi_gsm</th>\n",
       "      <th>bt</th>\n",
       "      <th>density</th>\n",
       "      <th>speed</th>\n",
       "      <th>temperature</th>\n",
       "    </tr>\n",
       "  </thead>\n",
       "  <tbody>\n",
       "    <tr>\n",
       "      <th>count</th>\n",
       "      <td>1.394555e+06</td>\n",
       "      <td>1.394555e+06</td>\n",
       "      <td>1.394555e+06</td>\n",
       "      <td>1.394555e+06</td>\n",
       "      <td>1.394555e+06</td>\n",
       "      <td>1.394555e+06</td>\n",
       "      <td>1.394555e+06</td>\n",
       "      <td>1.394555e+06</td>\n",
       "      <td>1.394555e+06</td>\n",
       "      <td>1.394555e+06</td>\n",
       "      <td>1.394555e+06</td>\n",
       "      <td>1.394555e+06</td>\n",
       "      <td>1.394555e+06</td>\n",
       "      <td>1.394555e+06</td>\n",
       "    </tr>\n",
       "    <tr>\n",
       "      <th>mean</th>\n",
       "      <td>-1.800583e+00</td>\n",
       "      <td>3.966949e-01</td>\n",
       "      <td>-1.998417e-01</td>\n",
       "      <td>-9.255569e-01</td>\n",
       "      <td>1.896923e+02</td>\n",
       "      <td>-1.800628e+00</td>\n",
       "      <td>3.517462e-01</td>\n",
       "      <td>-2.199138e-01</td>\n",
       "      <td>-1.035288e+00</td>\n",
       "      <td>1.895481e+02</td>\n",
       "      <td>7.069054e+00</td>\n",
       "      <td>4.898932e+00</td>\n",
       "      <td>4.372335e+02</td>\n",
       "      <td>1.059033e+05</td>\n",
       "    </tr>\n",
       "    <tr>\n",
       "      <th>std</th>\n",
       "      <td>4.293035e+00</td>\n",
       "      <td>4.768893e+00</td>\n",
       "      <td>4.339669e+00</td>\n",
       "      <td>3.461554e+01</td>\n",
       "      <td>8.778546e+01</td>\n",
       "      <td>4.293178e+00</td>\n",
       "      <td>4.730183e+00</td>\n",
       "      <td>4.384533e+00</td>\n",
       "      <td>3.509333e+01</td>\n",
       "      <td>8.793808e+01</td>\n",
       "      <td>3.693071e+00</td>\n",
       "      <td>4.834451e+00</td>\n",
       "      <td>9.460213e+01</td>\n",
       "      <td>1.001220e+05</td>\n",
       "    </tr>\n",
       "    <tr>\n",
       "      <th>min</th>\n",
       "      <td>-5.463000e+01</td>\n",
       "      <td>-5.169000e+01</td>\n",
       "      <td>-5.305000e+01</td>\n",
       "      <td>-8.989000e+01</td>\n",
       "      <td>0.000000e+00</td>\n",
       "      <td>-5.463000e+01</td>\n",
       "      <td>-5.268000e+01</td>\n",
       "      <td>-5.352000e+01</td>\n",
       "      <td>-8.968000e+01</td>\n",
       "      <td>0.000000e+00</td>\n",
       "      <td>1.400000e-01</td>\n",
       "      <td>0.000000e+00</td>\n",
       "      <td>2.358000e+02</td>\n",
       "      <td>1.000000e+04</td>\n",
       "    </tr>\n",
       "    <tr>\n",
       "      <th>25%</th>\n",
       "      <td>-4.940000e+00</td>\n",
       "      <td>-2.760000e+00</td>\n",
       "      <td>-2.660000e+00</td>\n",
       "      <td>-2.563000e+01</td>\n",
       "      <td>1.303800e+02</td>\n",
       "      <td>-4.940000e+00</td>\n",
       "      <td>-2.740000e+00</td>\n",
       "      <td>-2.700000e+00</td>\n",
       "      <td>-2.622500e+01</td>\n",
       "      <td>1.304100e+02</td>\n",
       "      <td>4.920000e+00</td>\n",
       "      <td>2.300000e+00</td>\n",
       "      <td>3.709200e+02</td>\n",
       "      <td>4.363800e+04</td>\n",
       "    </tr>\n",
       "    <tr>\n",
       "      <th>50%</th>\n",
       "      <td>-2.020000e+00</td>\n",
       "      <td>5.200000e-01</td>\n",
       "      <td>-1.700000e-01</td>\n",
       "      <td>-1.690000e+00</td>\n",
       "      <td>1.709000e+02</td>\n",
       "      <td>-2.020000e+00</td>\n",
       "      <td>4.600000e-01</td>\n",
       "      <td>-1.700000e-01</td>\n",
       "      <td>-1.760000e+00</td>\n",
       "      <td>1.716600e+02</td>\n",
       "      <td>6.310000e+00</td>\n",
       "      <td>3.630000e+00</td>\n",
       "      <td>4.184600e+02</td>\n",
       "      <td>7.922100e+04</td>\n",
       "    </tr>\n",
       "    <tr>\n",
       "      <th>75%</th>\n",
       "      <td>1.500000e+00</td>\n",
       "      <td>3.400000e+00</td>\n",
       "      <td>2.290000e+00</td>\n",
       "      <td>2.352000e+01</td>\n",
       "      <td>2.687400e+02</td>\n",
       "      <td>1.500000e+00</td>\n",
       "      <td>3.310000e+00</td>\n",
       "      <td>2.340000e+00</td>\n",
       "      <td>2.362000e+01</td>\n",
       "      <td>2.680800e+02</td>\n",
       "      <td>8.190000e+00</td>\n",
       "      <td>5.810000e+00</td>\n",
       "      <td>4.847600e+02</td>\n",
       "      <td>1.324900e+05</td>\n",
       "    </tr>\n",
       "    <tr>\n",
       "      <th>max</th>\n",
       "      <td>3.289000e+01</td>\n",
       "      <td>4.941000e+01</td>\n",
       "      <td>5.086000e+01</td>\n",
       "      <td>8.987000e+01</td>\n",
       "      <td>3.600000e+02</td>\n",
       "      <td>3.289000e+01</td>\n",
       "      <td>5.291000e+01</td>\n",
       "      <td>4.758000e+01</td>\n",
       "      <td>8.989000e+01</td>\n",
       "      <td>3.600000e+02</td>\n",
       "      <td>7.369000e+01</td>\n",
       "      <td>1.849300e+02</td>\n",
       "      <td>1.011500e+03</td>\n",
       "      <td>6.223700e+06</td>\n",
       "    </tr>\n",
       "  </tbody>\n",
       "</table>\n",
       "</div>"
      ],
      "text/plain": [
       "             bx_gse        by_gse        bz_gse     theta_gse       phi_gse  \\\n",
       "count  1.394555e+06  1.394555e+06  1.394555e+06  1.394555e+06  1.394555e+06   \n",
       "mean  -1.800583e+00  3.966949e-01 -1.998417e-01 -9.255569e-01  1.896923e+02   \n",
       "std    4.293035e+00  4.768893e+00  4.339669e+00  3.461554e+01  8.778546e+01   \n",
       "min   -5.463000e+01 -5.169000e+01 -5.305000e+01 -8.989000e+01  0.000000e+00   \n",
       "25%   -4.940000e+00 -2.760000e+00 -2.660000e+00 -2.563000e+01  1.303800e+02   \n",
       "50%   -2.020000e+00  5.200000e-01 -1.700000e-01 -1.690000e+00  1.709000e+02   \n",
       "75%    1.500000e+00  3.400000e+00  2.290000e+00  2.352000e+01  2.687400e+02   \n",
       "max    3.289000e+01  4.941000e+01  5.086000e+01  8.987000e+01  3.600000e+02   \n",
       "\n",
       "             bx_gsm        by_gsm        bz_gsm     theta_gsm       phi_gsm  \\\n",
       "count  1.394555e+06  1.394555e+06  1.394555e+06  1.394555e+06  1.394555e+06   \n",
       "mean  -1.800628e+00  3.517462e-01 -2.199138e-01 -1.035288e+00  1.895481e+02   \n",
       "std    4.293178e+00  4.730183e+00  4.384533e+00  3.509333e+01  8.793808e+01   \n",
       "min   -5.463000e+01 -5.268000e+01 -5.352000e+01 -8.968000e+01  0.000000e+00   \n",
       "25%   -4.940000e+00 -2.740000e+00 -2.700000e+00 -2.622500e+01  1.304100e+02   \n",
       "50%   -2.020000e+00  4.600000e-01 -1.700000e-01 -1.760000e+00  1.716600e+02   \n",
       "75%    1.500000e+00  3.310000e+00  2.340000e+00  2.362000e+01  2.680800e+02   \n",
       "max    3.289000e+01  5.291000e+01  4.758000e+01  8.989000e+01  3.600000e+02   \n",
       "\n",
       "                 bt       density         speed   temperature  \n",
       "count  1.394555e+06  1.394555e+06  1.394555e+06  1.394555e+06  \n",
       "mean   7.069054e+00  4.898932e+00  4.372335e+02  1.059033e+05  \n",
       "std    3.693071e+00  4.834451e+00  9.460213e+01  1.001220e+05  \n",
       "min    1.400000e-01  0.000000e+00  2.358000e+02  1.000000e+04  \n",
       "25%    4.920000e+00  2.300000e+00  3.709200e+02  4.363800e+04  \n",
       "50%    6.310000e+00  3.630000e+00  4.184600e+02  7.922100e+04  \n",
       "75%    8.190000e+00  5.810000e+00  4.847600e+02  1.324900e+05  \n",
       "max    7.369000e+01  1.849300e+02  1.011500e+03  6.223700e+06  "
      ]
     },
     "execution_count": 21,
     "metadata": {},
     "output_type": "execute_result"
    }
   ],
   "source": [
    "df_A.describe()"
   ]
  },
  {
   "attachments": {},
   "cell_type": "markdown",
   "metadata": {},
   "source": [
    "### Preprocesamiento"
   ]
  },
  {
   "attachments": {},
   "cell_type": "markdown",
   "metadata": {},
   "source": [
    "Partiendo de la hipótesis de que el dataset no contiene valores anómalos, se deben ingresar manualmente.\n",
    "Para esto, se selecciona la variable \"bt\" que corresponde con la magnitud total del campo magnético interplanetario [nT].\n",
    "\n",
    "Se define la variable \"anomaly_factor\" para determinar la cantidad de valores anómalos a incorporar al dataset.\n",
    "\n",
    "Al dataset se le agrega un feature \"class\" cuyo valor será 1 si el registro contiene un valor anómalo y 0 si el valor del registro es el original del dataset."
   ]
  },
  {
   "cell_type": "code",
   "execution_count": 22,
   "metadata": {},
   "outputs": [],
   "source": [
    "features = ['bt']\n",
    "anomaly_factor = 0.17\n",
    "# Crear una copia del DataFrame para no modificar el original\n",
    "df_new = df_A.copy()\n",
    "\n",
    "for a in features:\n",
    "  num_replace = int(df_A[a].size * anomaly_factor)\n",
    "\n",
    "  # Obtener una muestra aleatoria de índices de fila para reemplazar\n",
    "  replace_idx = np.random.choice(df_A.index, size=num_replace, replace=False)\n",
    "\n",
    "  # Reemplazar los valores seleccionados con valores aleatorios entre -90 y 1050\n",
    "  #new_values = np.random.uniform(-90, 1050, size=num_replace)\n",
    "  new_values = np.random.uniform(0, 75, size=num_replace)\n",
    "  df_new.loc[replace_idx, a] = new_values\n",
    "\n",
    "  # Crear la columna \"class\" con los valores correspondientes\n",
    "  df_new.loc[df_A[a] != df_new[a], 'class'] = 1\n",
    "  df_new.loc[df_A[a] == df_new[a], 'class'] = 0"
   ]
  },
  {
   "attachments": {},
   "cell_type": "markdown",
   "metadata": {},
   "source": [
    "#### Verificación de registros con anomalidades introducidas"
   ]
  },
  {
   "cell_type": "code",
   "execution_count": 23,
   "metadata": {},
   "outputs": [
    {
     "name": "stdout",
     "output_type": "stream",
     "text": [
      "En el todo el dataset:\n",
      "El número de anomalias es 237074 y 1157481 son valores normales\n",
      "La relacion de anomalias es 0.16999974902388218\n"
     ]
    }
   ],
   "source": [
    "print('En el todo el dataset:')\n",
    "count = (df_new['class'] == 1).sum()\n",
    "count2 = (df_new['class'] != 1).sum()\n",
    "print(f'El número de anomalias es {count} y {count2} son valores normales')\n",
    "cociente = count / (count + count2)\n",
    "print(f'La relacion de anomalias es {cociente}')"
   ]
  },
  {
   "attachments": {},
   "cell_type": "markdown",
   "metadata": {},
   "source": [
    "Se divide el Dataset en Train y Test"
   ]
  },
  {
   "cell_type": "code",
   "execution_count": 24,
   "metadata": {},
   "outputs": [],
   "source": [
    "train_data = df_new.sample(frac=0.8, random_state=0)\n",
    "test_data = df_new.drop(train_data.index)"
   ]
  },
  {
   "attachments": {},
   "cell_type": "markdown",
   "metadata": {},
   "source": [
    "#### Train"
   ]
  },
  {
   "cell_type": "code",
   "execution_count": 25,
   "metadata": {},
   "outputs": [
    {
     "name": "stdout",
     "output_type": "stream",
     "text": [
      "En el train set:\n",
      "El número de anomalias es 189560 y 926084 son valores normales\n",
      "La relacion de anomalias es 0.16991083177070823\n"
     ]
    }
   ],
   "source": [
    "train_df = pd.DataFrame(train_data, columns = ['1','2','3','4','5','6','7','8','9','10','11','12','13','14','class'])\n",
    "print('En el train set:')\n",
    "count = (train_df['class'] == 1).sum()\n",
    "count2 = (train_df['class'] != 1).sum()\n",
    "print(f'El número de anomalias es {count} y {count2} son valores normales')\n",
    "cociente = count / (count + count2)\n",
    "print(f'La relacion de anomalias es {cociente}')"
   ]
  },
  {
   "attachments": {},
   "cell_type": "markdown",
   "metadata": {},
   "source": [
    "#### Test"
   ]
  },
  {
   "cell_type": "code",
   "execution_count": 26,
   "metadata": {},
   "outputs": [
    {
     "name": "stdout",
     "output_type": "stream",
     "text": [
      "En el test:\n",
      "El número de anomalias es 47514 y 231397 son valores normales\n",
      "La relacion de anomalias es 0.17035541803657797\n"
     ]
    }
   ],
   "source": [
    "test_df = pd.DataFrame(test_data, columns = ['1','2','3','4','5','6','7','8','9','10','11','12','13','14','class'])\n",
    "print('En el test:')\n",
    "count = (test_df['class'] == 1).sum()\n",
    "count2 = (test_df['class'] != 1).sum()\n",
    "print(f'El número de anomalias es {count} y {count2} son valores normales')\n",
    "cociente = count / (count + count2)\n",
    "print(f'La relacion de anomalias es {cociente}')"
   ]
  },
  {
   "attachments": {},
   "cell_type": "markdown",
   "metadata": {},
   "source": [
    "Se eliminan los features que no se tendran en cuenta en el entrenamiento del modelo"
   ]
  },
  {
   "cell_type": "code",
   "execution_count": 27,
   "metadata": {},
   "outputs": [],
   "source": [
    "y = test_data['class']\n",
    "y_full = test_data\n",
    "train_data = train_data.drop([\"timedelta\", \"period\", \"source\", 'class'], axis=1)\n",
    "test_data = test_data.drop([\"timedelta\", \"period\", \"source\", 'class'], axis=1)"
   ]
  },
  {
   "attachments": {},
   "cell_type": "markdown",
   "metadata": {},
   "source": [
    "Normalización del dataset"
   ]
  },
  {
   "cell_type": "code",
   "execution_count": 28,
   "metadata": {},
   "outputs": [],
   "source": [
    "scaler = StandardScaler()\n",
    "train_data = scaler.fit_transform(train_data)\n",
    "test_data = scaler.transform(test_data)"
   ]
  },
  {
   "cell_type": "code",
   "execution_count": 29,
   "metadata": {},
   "outputs": [],
   "source": [
    "train_data_LSTM = train_data.reshape(train_data.shape[0],1,train_data.shape[1])\n",
    "test_data_LSTM = test_data.reshape(test_data.shape[0],1,test_data.shape[1])\n",
    "#train_data_LSTM.shape\n",
    "#test_data_LSTM.shape"
   ]
  },
  {
   "attachments": {},
   "cell_type": "markdown",
   "metadata": {},
   "source": [
    "## Modelos"
   ]
  },
  {
   "attachments": {},
   "cell_type": "markdown",
   "metadata": {},
   "source": [
    "### LSTM Autoencoder"
   ]
  },
  {
   "attachments": {},
   "cell_type": "markdown",
   "metadata": {},
   "source": [
    "Creación del modelo"
   ]
  },
  {
   "cell_type": "code",
   "execution_count": 31,
   "metadata": {},
   "outputs": [],
   "source": [
    "input_dim = train_data_LSTM.shape[2]\n",
    "timesteps = 1\n",
    "\n",
    "inputs = Input(shape=(timesteps, input_dim))\n",
    "encoded = LSTM(64, activation='relu', return_sequences=True)(inputs)\n",
    "encoded = LSTM(32, activation='relu', return_sequences=True)(inputs)\n",
    "encoded = LSTM(16, activation='relu', return_sequences=False)(encoded)\n",
    "decoded = RepeatVector(timesteps)(encoded)\n",
    "decoded = LSTM(16, activation='relu', return_sequences=True)(decoded)\n",
    "decoded = LSTM(32, activation='relu', return_sequences=True)(decoded)\n",
    "decoded = LSTM(64, activation='relu', return_sequences=True)(decoded)\n",
    "decoded = LSTM(input_dim, activation='linear', return_sequences=True)(decoded)\n",
    "\n",
    "autoencoder = Model(inputs, decoded)\n",
    "autoencoder.compile(optimizer='adam', loss='mse')"
   ]
  },
  {
   "attachments": {},
   "cell_type": "markdown",
   "metadata": {},
   "source": [
    "Entrenamiento del LSTM Autoencoder"
   ]
  },
  {
   "cell_type": "code",
   "execution_count": 32,
   "metadata": {},
   "outputs": [
    {
     "name": "stdout",
     "output_type": "stream",
     "text": [
      "Epoch 1/10\n",
      "3138/3138 [==============================] - 27s 6ms/step - loss: 0.1546 - val_loss: 0.0198\n",
      "Epoch 2/10\n",
      "3138/3138 [==============================] - 19s 6ms/step - loss: 0.0112 - val_loss: 0.0065\n",
      "Epoch 3/10\n",
      "3138/3138 [==============================] - 19s 6ms/step - loss: 0.0030 - val_loss: 0.0020\n",
      "Epoch 4/10\n",
      "3138/3138 [==============================] - 21s 7ms/step - loss: 0.0018 - val_loss: 0.0016\n",
      "Epoch 5/10\n",
      "3138/3138 [==============================] - 20s 6ms/step - loss: 0.0015 - val_loss: 0.0013\n",
      "Epoch 6/10\n",
      "3138/3138 [==============================] - 21s 7ms/step - loss: 0.0013 - val_loss: 0.0011\n",
      "Epoch 7/10\n",
      "3138/3138 [==============================] - 22s 7ms/step - loss: 0.0012 - val_loss: 9.1330e-04\n",
      "Epoch 8/10\n",
      "3138/3138 [==============================] - 22s 7ms/step - loss: 0.0010 - val_loss: 0.0010\n",
      "Epoch 9/10\n",
      "3138/3138 [==============================] - 20s 6ms/step - loss: 9.3301e-04 - val_loss: 7.0839e-04\n",
      "Epoch 10/10\n",
      "3138/3138 [==============================] - 20s 6ms/step - loss: 8.3139e-04 - val_loss: 8.9899e-04\n"
     ]
    },
    {
     "data": {
      "text/plain": [
       "<keras.callbacks.History at 0x1dd9db41ac0>"
      ]
     },
     "execution_count": 32,
     "metadata": {},
     "output_type": "execute_result"
    }
   ],
   "source": [
    "autoencoder.fit(train_data_LSTM, train_data_LSTM, epochs=10, batch_size=320, validation_split=0.1)"
   ]
  },
  {
   "cell_type": "code",
   "execution_count": 33,
   "metadata": {},
   "outputs": [
    {
     "name": "stdout",
     "output_type": "stream",
     "text": [
      "8716/8716 [==============================] - 15s 2ms/step\n"
     ]
    }
   ],
   "source": [
    "predictions_LSTM = autoencoder.predict(test_data_LSTM)"
   ]
  },
  {
   "attachments": {},
   "cell_type": "markdown",
   "metadata": {},
   "source": [
    "Evaluación del modelo LSTM Autoencoder"
   ]
  },
  {
   "attachments": {},
   "cell_type": "markdown",
   "metadata": {},
   "source": [
    "Se comparan las predicciones con los valores reales de \"class\" para generar una matriz de confusión para evaluar el modelo"
   ]
  },
  {
   "cell_type": "code",
   "execution_count": 34,
   "metadata": {},
   "outputs": [],
   "source": [
    "threshold_LSTM = 0.01\n",
    "predictions_LSTM[predictions_LSTM >= threshold_LSTM] = 1\n",
    "predictions_LSTM[predictions_LSTM < threshold_LSTM] = 0"
   ]
  },
  {
   "cell_type": "code",
   "execution_count": 36,
   "metadata": {},
   "outputs": [
    {
     "name": "stdout",
     "output_type": "stream",
     "text": [
      "Predicted     0.0    1.0\n",
      "Actual                  \n",
      "0.0        216267  15130\n",
      "1.0          8033  39481\n"
     ]
    }
   ],
   "source": [
    "predictions_LSTM = predictions_LSTM.reshape(predictions_LSTM.shape[0], predictions_LSTM.shape[2])\n",
    "test_data = test_data.reshape(test_data_LSTM.shape[0], test_data_LSTM.shape[2])\n",
    "y_full = y_full.to_numpy()\n",
    "confusion_matrix = pd.crosstab(y_full[:, -1], predictions_LSTM[:, 10], rownames=['Actual'], colnames=['Predicted'])\n",
    "print(confusion_matrix)"
   ]
  },
  {
   "cell_type": "code",
   "execution_count": 37,
   "metadata": {},
   "outputs": [],
   "source": [
    "pd_predictions_LSTM = pd.DataFrame(predictions_LSTM)\n",
    "column_10 = predictions_LSTM[:, 10]\n",
    "is_one_LSTM = column_10 ==1\n",
    "# Asignar 1 a los elementos que sean True y 0 a los elementos que sean False\n",
    "has_ones_LSTM = np.where(is_one_LSTM, 1, 0)"
   ]
  },
  {
   "cell_type": "code",
   "execution_count": 38,
   "metadata": {},
   "outputs": [
    {
     "name": "stdout",
     "output_type": "stream",
     "text": [
      "El número de anomalias es 54611 y 224300 son valores normales\n"
     ]
    }
   ],
   "source": [
    "has_ones_LSTM_pd = pd.DataFrame(has_ones_LSTM, columns=['class'])\n",
    "count = (has_ones_LSTM_pd['class'] == 1).sum()\n",
    "count1 = (has_ones_LSTM_pd['class'] == 0).sum()\n",
    "print(f'El número de anomalias es {count} y {count1} son valores normales')"
   ]
  },
  {
   "cell_type": "code",
   "execution_count": 42,
   "metadata": {},
   "outputs": [],
   "source": [
    "new_column_LSTM = has_ones_LSTM\n",
    "# Agregar la nueva columna al final del ndarray original\n",
    "predictions_class_LSTM = np.hstack((predictions_LSTM, new_column_LSTM.reshape(-1, 1)))"
   ]
  },
  {
   "cell_type": "code",
   "execution_count": 43,
   "metadata": {},
   "outputs": [
    {
     "name": "stdout",
     "output_type": "stream",
     "text": [
      "El número de anomalias es 54611 y 224300 son valores normales\n"
     ]
    }
   ],
   "source": [
    "new_column_LSTM_df = pd.DataFrame(new_column_LSTM, columns =['class'])\n",
    "count3 = (new_column_LSTM_df['class'] == True).sum()\n",
    "count4 = (new_column_LSTM_df['class'] == False).sum()\n",
    "print(f'El número de anomalias es {count3} y {count4} son valores normales')"
   ]
  },
  {
   "cell_type": "code",
   "execution_count": 44,
   "metadata": {},
   "outputs": [],
   "source": [
    "pd_predictions_LSTM = pd.DataFrame(predictions_class_LSTM)"
   ]
  },
  {
   "cell_type": "code",
   "execution_count": 47,
   "metadata": {},
   "outputs": [],
   "source": [
    "pd_test_data = pd.DataFrame(test_data)"
   ]
  },
  {
   "cell_type": "code",
   "execution_count": 48,
   "metadata": {},
   "outputs": [
    {
     "name": "stdout",
     "output_type": "stream",
     "text": [
      "              precision    recall  f1-score   support\n",
      "\n",
      "         0.0       0.93      0.96      0.95    224300\n",
      "         1.0       0.83      0.72      0.77     54611\n",
      "\n",
      "    accuracy                           0.92    278911\n",
      "   macro avg       0.88      0.84      0.86    278911\n",
      "weighted avg       0.91      0.92      0.91    278911\n",
      "\n"
     ]
    }
   ],
   "source": [
    "from sklearn.metrics import classification_report\n",
    " \n",
    "print(classification_report(predictions_class_LSTM[:,14], y))"
   ]
  },
  {
   "cell_type": "code",
   "execution_count": 49,
   "metadata": {},
   "outputs": [],
   "source": [
    "import matplotlib.pyplot as plt \n",
    "import seaborn as sns\n",
    "from sklearn.metrics import confusion_matrix\n",
    "class visualization:\n",
    "  labels = [\"Normal\",\"Anomal\"]\n",
    "  def draw_confusion_matrix(self, y, ypred):\n",
    "    matrix = confusion_matrix(y, ypred)\n",
    "\n",
    "    plt.figure(figsize=(10,8))\n",
    "    colors=[\"orange\", \"green\"]\n",
    "    sns.heatmap(matrix, xticklabels=self.labels, yticklabels=self.labels, cmap=colors, annot=True, fmt=\"d\")\n",
    "    plt.title(\"Confusion Matrix\")\n",
    "    plt.ylabel(\"Realidad\")\n",
    "    plt.xlabel(\"Predicción\")\n",
    "    plt.show()"
   ]
  },
  {
   "cell_type": "code",
   "execution_count": 50,
   "metadata": {},
   "outputs": [
    {
     "name": "stdout",
     "output_type": "stream",
     "text": [
      "El número de anomalias reales es 47514\n"
     ]
    }
   ],
   "source": [
    "y_pd = pd.DataFrame(y, columns = ['class'])\n",
    "count = (y_pd['class'] == 1).sum()\n",
    "print(f'El número de anomalias reales es {count}')"
   ]
  },
  {
   "cell_type": "code",
   "execution_count": 51,
   "metadata": {},
   "outputs": [
    {
     "name": "stdout",
     "output_type": "stream",
     "text": [
      "El número de anomalias predecidas es 54611\n"
     ]
    }
   ],
   "source": [
    "predictions_class__LSTM_pd  = pd.DataFrame(predictions_class_LSTM, columns = ['1','2','3','4','5','6','7','8','9','10','11','12','13','14','class'])\n",
    "count = (predictions_class__LSTM_pd['class'] == 1).sum()\n",
    "print(f'El número de anomalias predecidas es {count}')"
   ]
  },
  {
   "cell_type": "code",
   "execution_count": 52,
   "metadata": {},
   "outputs": [
    {
     "data": {
      "image/png": "[encoded data removed]",
      "text/plain": [
       "<Figure size 720x576 with 2 Axes>"
      ]
     },
     "metadata": {
      "needs_background": "light"
     },
     "output_type": "display_data"
    }
   ],
   "source": [
    "viz = visualization()\n",
    "viz.draw_confusion_matrix(y_pd, predictions_class_LSTM[:,14])"
   ]
  },
  {
   "attachments": {},
   "cell_type": "markdown",
   "metadata": {},
   "source": [
    "### RBM"
   ]
  },
  {
   "attachments": {},
   "cell_type": "markdown",
   "metadata": {},
   "source": [
    "Creación del modelo"
   ]
  },
  {
   "cell_type": "code",
   "execution_count": 53,
   "metadata": {},
   "outputs": [],
   "source": [
    "model_rbm = Sequential()\n",
    "model_rbm.add(Dense(20, input_shape=(train_data.shape[1],), activation='sigmoid'))\n",
    "model_rbm.add(Dense(train_data.shape[1], activation='sigmoid'))\n",
    "model_rbm.compile(optimizer=Adam(learning_rate=0.01), loss='mse')"
   ]
  },
  {
   "attachments": {},
   "cell_type": "markdown",
   "metadata": {},
   "source": [
    "Entreno el modelo Restricted Boltzmann Machine"
   ]
  },
  {
   "cell_type": "code",
   "execution_count": 54,
   "metadata": {},
   "outputs": [
    {
     "name": "stdout",
     "output_type": "stream",
     "text": [
      "Epoch 1/20\n",
      "31378/31378 [==============================] - 39s 1ms/step - loss: 0.5777 - val_loss: 0.5753\n",
      "Epoch 2/20\n",
      "31378/31378 [==============================] - 35s 1ms/step - loss: 0.5742 - val_loss: 0.5749\n",
      "Epoch 3/20\n",
      "31378/31378 [==============================] - 38s 1ms/step - loss: 0.5739 - val_loss: 0.5749\n",
      "Epoch 4/20\n",
      "31378/31378 [==============================] - 40s 1ms/step - loss: 0.5739 - val_loss: 0.5748\n",
      "Epoch 5/20\n",
      "31378/31378 [==============================] - 39s 1ms/step - loss: 0.5739 - val_loss: 0.5748\n",
      "Epoch 6/20\n",
      "31378/31378 [==============================] - 34s 1ms/step - loss: 0.5739 - val_loss: 0.5747\n",
      "Epoch 7/20\n",
      "31378/31378 [==============================] - 37s 1ms/step - loss: 0.5739 - val_loss: 0.5748\n",
      "Epoch 8/20\n",
      "31378/31378 [==============================] - 36s 1ms/step - loss: 0.5739 - val_loss: 0.5748\n",
      "Epoch 9/20\n",
      "31378/31378 [==============================] - 37s 1ms/step - loss: 0.5739 - val_loss: 0.5748\n",
      "Epoch 10/20\n",
      "31378/31378 [==============================] - 34s 1ms/step - loss: 0.5738 - val_loss: 0.5749\n",
      "Epoch 11/20\n",
      "31378/31378 [==============================] - 38s 1ms/step - loss: 0.5738 - val_loss: 0.5747\n",
      "Epoch 12/20\n",
      "31378/31378 [==============================] - 37s 1ms/step - loss: 0.5737 - val_loss: 0.5746\n",
      "Epoch 13/20\n",
      "31378/31378 [==============================] - 32s 1ms/step - loss: 0.5737 - val_loss: 0.5747\n",
      "Epoch 14/20\n",
      "31378/31378 [==============================] - 33s 1ms/step - loss: 0.5737 - val_loss: 0.5746\n",
      "Epoch 15/20\n",
      "31378/31378 [==============================] - 37s 1ms/step - loss: 0.5736 - val_loss: 0.5746\n",
      "Epoch 16/20\n",
      "31378/31378 [==============================] - 37s 1ms/step - loss: 0.5736 - val_loss: 0.5745\n",
      "Epoch 17/20\n",
      "31378/31378 [==============================] - 37s 1ms/step - loss: 0.5736 - val_loss: 0.5746\n",
      "Epoch 18/20\n",
      "31378/31378 [==============================] - 38s 1ms/step - loss: 0.5736 - val_loss: 0.5746\n",
      "Epoch 19/20\n",
      "31378/31378 [==============================] - 35s 1ms/step - loss: 0.5736 - val_loss: 0.5747\n",
      "Epoch 20/20\n",
      "31378/31378 [==============================] - 38s 1ms/step - loss: 0.5736 - val_loss: 0.5745\n"
     ]
    },
    {
     "data": {
      "text/plain": [
       "<keras.callbacks.History at 0x1dda8a48580>"
      ]
     },
     "execution_count": 54,
     "metadata": {},
     "output_type": "execute_result"
    }
   ],
   "source": [
    "model_rbm.fit(train_data, train_data, epochs=20, batch_size=32, verbose=1, validation_split=0.1)"
   ]
  },
  {
   "cell_type": "code",
   "execution_count": 55,
   "metadata": {},
   "outputs": [
    {
     "name": "stdout",
     "output_type": "stream",
     "text": [
      "8716/8716 [==============================] - 8s 877us/step\n"
     ]
    }
   ],
   "source": [
    "predictions_rbm = model_rbm.predict(test_data)"
   ]
  },
  {
   "attachments": {},
   "cell_type": "markdown",
   "metadata": {},
   "source": [
    "Evaluación del modelo rbm"
   ]
  },
  {
   "cell_type": "code",
   "execution_count": 56,
   "metadata": {},
   "outputs": [],
   "source": [
    "threshold_rbm = 0.05\n",
    "predictions_rbm[predictions_rbm >= threshold_rbm] = 1\n",
    "predictions_rbm[predictions_rbm < threshold_rbm] = 0"
   ]
  },
  {
   "cell_type": "code",
   "execution_count": 58,
   "metadata": {},
   "outputs": [
    {
     "name": "stdout",
     "output_type": "stream",
     "text": [
      "Predicted     0.0    1.0\n",
      "Actual                  \n",
      "0.0        218912  12485\n",
      "1.0          8355  39159\n"
     ]
    }
   ],
   "source": [
    "#y_full = y_full.to_numpy()\n",
    "confusion_matrix = pd.crosstab(y_full[:, -1], predictions_rbm[:, 10], rownames=['Actual'], colnames=['Predicted'])\n",
    "print(confusion_matrix)"
   ]
  },
  {
   "cell_type": "code",
   "execution_count": 59,
   "metadata": {},
   "outputs": [],
   "source": [
    "pd_predictions = pd.DataFrame(predictions_rbm)\n",
    "column_10_rbm = predictions_rbm[:, 10]\n",
    "is_one_rbm = column_10_rbm ==1\n",
    "# Asignar 1 a los elementos que sean True y 0 a los elementos que sean False\n",
    "has_ones_rbm = np.where(is_one_rbm, 1, 0)"
   ]
  },
  {
   "cell_type": "code",
   "execution_count": 60,
   "metadata": {},
   "outputs": [
    {
     "name": "stdout",
     "output_type": "stream",
     "text": [
      "El número de anomalias predecidas es 51644 y 227267 son valores normales\n"
     ]
    }
   ],
   "source": [
    "has_ones_rbm_pd = pd.DataFrame(has_ones_rbm, columns=['class'])\n",
    "count = (has_ones_rbm_pd['class'] == 1).sum()\n",
    "count1 = (has_ones_rbm_pd['class'] == 0).sum()\n",
    "print(f'El número de anomalias predecidas es {count} y {count1} son valores normales')"
   ]
  },
  {
   "cell_type": "code",
   "execution_count": 61,
   "metadata": {},
   "outputs": [
    {
     "data": {
      "text/plain": [
       "(278911,)"
      ]
     },
     "execution_count": 61,
     "metadata": {},
     "output_type": "execute_result"
    }
   ],
   "source": [
    "new_column_rbm = has_ones_rbm\n",
    "new_column_rbm.shape"
   ]
  },
  {
   "cell_type": "code",
   "execution_count": 62,
   "metadata": {},
   "outputs": [],
   "source": [
    "predictions_class_rbm = np.hstack((predictions_rbm, new_column_rbm.reshape(-1, 1)))"
   ]
  },
  {
   "cell_type": "code",
   "execution_count": 63,
   "metadata": {},
   "outputs": [],
   "source": [
    "pd_predictions_rbm = pd.DataFrame(predictions_class_rbm)"
   ]
  },
  {
   "cell_type": "code",
   "execution_count": 64,
   "metadata": {},
   "outputs": [
    {
     "name": "stdout",
     "output_type": "stream",
     "text": [
      "              precision    recall  f1-score   support\n",
      "\n",
      "         0.0       0.95      0.96      0.95    227267\n",
      "         1.0       0.82      0.76      0.79     51644\n",
      "\n",
      "    accuracy                           0.93    278911\n",
      "   macro avg       0.89      0.86      0.87    278911\n",
      "weighted avg       0.92      0.93      0.92    278911\n",
      "\n"
     ]
    }
   ],
   "source": [
    "from sklearn.metrics import classification_report\n",
    " \n",
    "print(classification_report(predictions_class_rbm[:,14], y))"
   ]
  },
  {
   "cell_type": "code",
   "execution_count": 65,
   "metadata": {},
   "outputs": [
    {
     "name": "stdout",
     "output_type": "stream",
     "text": [
      "El número de anomalias predecidas es 51644\n"
     ]
    }
   ],
   "source": [
    "predictions_class_rbm_pd  = pd.DataFrame(predictions_class_rbm, columns = ['1','2','3','4','5','6','7','8','9','10','11','12','13','14','class'])\n",
    "count = (predictions_class_rbm_pd['class'] == 1).sum()\n",
    "print(f'El número de anomalias predecidas es {count}')"
   ]
  },
  {
   "cell_type": "code",
   "execution_count": 78,
   "metadata": {},
   "outputs": [
    {
     "data": {
      "text/plain": [
       "array([[0., 1., 1., ..., 0., 0., 0.],\n",
       "       [0., 1., 1., ..., 0., 0., 1.],\n",
       "       [0., 1., 1., ..., 0., 0., 0.],\n",
       "       ...,\n",
       "       [0., 1., 0., ..., 0., 0., 0.],\n",
       "       [0., 1., 0., ..., 0., 0., 1.],\n",
       "       [0., 1., 0., ..., 0., 0., 0.]])"
      ]
     },
     "execution_count": 78,
     "metadata": {},
     "output_type": "execute_result"
    }
   ],
   "source": [
    "predictions_class_rbm"
   ]
  },
  {
   "cell_type": "code",
   "execution_count": 81,
   "metadata": {},
   "outputs": [
    {
     "data": {
      "text/html": [
       "<div>\n",
       "<style scoped>\n",
       "    .dataframe tbody tr th:only-of-type {\n",
       "        vertical-align: middle;\n",
       "    }\n",
       "\n",
       "    .dataframe tbody tr th {\n",
       "        vertical-align: top;\n",
       "    }\n",
       "\n",
       "    .dataframe thead th {\n",
       "        text-align: right;\n",
       "    }\n",
       "</style>\n",
       "<table border=\"1\" class=\"dataframe\">\n",
       "  <thead>\n",
       "    <tr style=\"text-align: right;\">\n",
       "      <th></th>\n",
       "      <th>class</th>\n",
       "    </tr>\n",
       "  </thead>\n",
       "  <tbody>\n",
       "    <tr>\n",
       "      <th>3</th>\n",
       "      <td>0.0</td>\n",
       "    </tr>\n",
       "    <tr>\n",
       "      <th>4</th>\n",
       "      <td>1.0</td>\n",
       "    </tr>\n",
       "    <tr>\n",
       "      <th>11</th>\n",
       "      <td>0.0</td>\n",
       "    </tr>\n",
       "    <tr>\n",
       "      <th>16</th>\n",
       "      <td>1.0</td>\n",
       "    </tr>\n",
       "    <tr>\n",
       "      <th>27</th>\n",
       "      <td>0.0</td>\n",
       "    </tr>\n",
       "    <tr>\n",
       "      <th>...</th>\n",
       "      <td>...</td>\n",
       "    </tr>\n",
       "    <tr>\n",
       "      <th>1729419</th>\n",
       "      <td>0.0</td>\n",
       "    </tr>\n",
       "    <tr>\n",
       "      <th>1729427</th>\n",
       "      <td>0.0</td>\n",
       "    </tr>\n",
       "    <tr>\n",
       "      <th>1729429</th>\n",
       "      <td>0.0</td>\n",
       "    </tr>\n",
       "    <tr>\n",
       "      <th>1729434</th>\n",
       "      <td>1.0</td>\n",
       "    </tr>\n",
       "    <tr>\n",
       "      <th>1729437</th>\n",
       "      <td>0.0</td>\n",
       "    </tr>\n",
       "  </tbody>\n",
       "</table>\n",
       "<p>278911 rows × 1 columns</p>\n",
       "</div>"
      ],
      "text/plain": [
       "         class\n",
       "3          0.0\n",
       "4          1.0\n",
       "11         0.0\n",
       "16         1.0\n",
       "27         0.0\n",
       "...        ...\n",
       "1729419    0.0\n",
       "1729427    0.0\n",
       "1729429    0.0\n",
       "1729434    1.0\n",
       "1729437    0.0\n",
       "\n",
       "[278911 rows x 1 columns]"
      ]
     },
     "execution_count": 81,
     "metadata": {},
     "output_type": "execute_result"
    }
   ],
   "source": [
    "y_pd"
   ]
  },
  {
   "cell_type": "code",
   "execution_count": 83,
   "metadata": {},
   "outputs": [],
   "source": [
    "import matplotlib.pyplot as plt \n",
    "import seaborn as sns\n",
    "from sklearn.metrics import confusion_matrix\n",
    "class visualization:\n",
    "  labels = [\"Normal\",\"Anomal\"]\n",
    "  def draw_confusion_matrix(self, y, ypred):\n",
    "    matrix = confusion_matrix(y, ypred)\n",
    "\n",
    "    plt.figure(figsize=(10,8))\n",
    "    colors=[\"orange\", \"green\"]\n",
    "    sns.heatmap(matrix, xticklabels=self.labels, yticklabels=self.labels, cmap=colors, annot=True, fmt=\"d\")\n",
    "    plt.title(\"Confusion Matrix\")\n",
    "    plt.ylabel(\"Realidad\")\n",
    "    plt.xlabel(\"Predicción\")\n",
    "    plt.show()"
   ]
  },
  {
   "cell_type": "code",
   "execution_count": 84,
   "metadata": {},
   "outputs": [
    {
     "data": {
      "image/png": "[encoded data removed]",
      "text/plain": [
       "<Figure size 720x576 with 2 Axes>"
      ]
     },
     "metadata": {
      "needs_background": "light"
     },
     "output_type": "display_data"
    }
   ],
   "source": [
    "viz = visualization()\n",
    "viz.draw_confusion_matrix(y_pd, predictions_class_rbm[:,14])"
   ]
  },
  {
   "attachments": {},
   "cell_type": "markdown",
   "metadata": {},
   "source": [
    "### Isolation Forest"
   ]
  },
  {
   "attachments": {},
   "cell_type": "markdown",
   "metadata": {},
   "source": [
    "Creación del modelo"
   ]
  },
  {
   "cell_type": "code",
   "execution_count": 130,
   "metadata": {},
   "outputs": [],
   "source": [
    "model_if = IsolationForest(n_estimators=100, contamination='auto', random_state=0)"
   ]
  },
  {
   "attachments": {},
   "cell_type": "markdown",
   "metadata": {},
   "source": [
    "Entreno el modelo"
   ]
  },
  {
   "cell_type": "code",
   "execution_count": 131,
   "metadata": {},
   "outputs": [
    {
     "data": {
      "text/html": [
       "<style>#sk-container-id-1 {color: black;background-color: white;}#sk-container-id-1 pre{padding: 0;}#sk-container-id-1 div.sk-toggleable {background-color: white;}#sk-container-id-1 label.sk-toggleable__label {cursor: pointer;display: block;width: 100%;margin-bottom: 0;padding: 0.3em;box-sizing: border-box;text-align: center;}#sk-container-id-1 label.sk-toggleable__label-arrow:before {content: \"▸\";float: left;margin-right: 0.25em;color: #696969;}#sk-container-id-1 label.sk-toggleable__label-arrow:hover:before {color: black;}#sk-container-id-1 div.sk-estimator:hover label.sk-toggleable__label-arrow:before {color: black;}#sk-container-id-1 div.sk-toggleable__content {max-height: 0;max-width: 0;overflow: hidden;text-align: left;background-color: #f0f8ff;}#sk-container-id-1 div.sk-toggleable__content pre {margin: 0.2em;color: black;border-radius: 0.25em;background-color: #f0f8ff;}#sk-container-id-1 input.sk-toggleable__control:checked~div.sk-toggleable__content {max-height: 200px;max-width: 100%;overflow: auto;}#sk-container-id-1 input.sk-toggleable__control:checked~label.sk-toggleable__label-arrow:before {content: \"▾\";}#sk-container-id-1 div.sk-estimator input.sk-toggleable__control:checked~label.sk-toggleable__label {background-color: #d4ebff;}#sk-container-id-1 div.sk-label input.sk-toggleable__control:checked~label.sk-toggleable__label {background-color: #d4ebff;}#sk-container-id-1 input.sk-hidden--visually {border: 0;clip: rect(1px 1px 1px 1px);clip: rect(1px, 1px, 1px, 1px);height: 1px;margin: -1px;overflow: hidden;padding: 0;position: absolute;width: 1px;}#sk-container-id-1 div.sk-estimator {font-family: monospace;background-color: #f0f8ff;border: 1px dotted black;border-radius: 0.25em;box-sizing: border-box;margin-bottom: 0.5em;}#sk-container-id-1 div.sk-estimator:hover {background-color: #d4ebff;}#sk-container-id-1 div.sk-parallel-item::after {content: \"\";width: 100%;border-bottom: 1px solid gray;flex-grow: 1;}#sk-container-id-1 div.sk-label:hover label.sk-toggleable__label {background-color: #d4ebff;}#sk-container-id-1 div.sk-serial::before {content: \"\";position: absolute;border-left: 1px solid gray;box-sizing: border-box;top: 0;bottom: 0;left: 50%;z-index: 0;}#sk-container-id-1 div.sk-serial {display: flex;flex-direction: column;align-items: center;background-color: white;padding-right: 0.2em;padding-left: 0.2em;position: relative;}#sk-container-id-1 div.sk-item {position: relative;z-index: 1;}#sk-container-id-1 div.sk-parallel {display: flex;align-items: stretch;justify-content: center;background-color: white;position: relative;}#sk-container-id-1 div.sk-item::before, #sk-container-id-1 div.sk-parallel-item::before {content: \"\";position: absolute;border-left: 1px solid gray;box-sizing: border-box;top: 0;bottom: 0;left: 50%;z-index: -1;}#sk-container-id-1 div.sk-parallel-item {display: flex;flex-direction: column;z-index: 1;position: relative;background-color: white;}#sk-container-id-1 div.sk-parallel-item:first-child::after {align-self: flex-end;width: 50%;}#sk-container-id-1 div.sk-parallel-item:last-child::after {align-self: flex-start;width: 50%;}#sk-container-id-1 div.sk-parallel-item:only-child::after {width: 0;}#sk-container-id-1 div.sk-dashed-wrapped {border: 1px dashed gray;margin: 0 0.4em 0.5em 0.4em;box-sizing: border-box;padding-bottom: 0.4em;background-color: white;}#sk-container-id-1 div.sk-label label {font-family: monospace;font-weight: bold;display: inline-block;line-height: 1.2em;}#sk-container-id-1 div.sk-label-container {text-align: center;}#sk-container-id-1 div.sk-container {/* jupyter's `normalize.less` sets `[hidden] { display: none; }` but bootstrap.min.css set `[hidden] { display: none !important; }` so we also need the `!important` here to be able to override the default hidden behavior on the sphinx rendered scikit-learn.org. See: https://github.com/scikit-learn/scikit-learn/issues/21755 */display: inline-block !important;position: relative;}#sk-container-id-1 div.sk-text-repr-fallback {display: none;}</style><div id=\"sk-container-id-1\" class=\"sk-top-container\"><div class=\"sk-text-repr-fallback\"><pre>IsolationForest(random_state=0)</pre><b>In a Jupyter environment, please rerun this cell to show the HTML representation or trust the notebook. <br />On GitHub, the HTML representation is unable to render, please try loading this page with nbviewer.org.</b></div><div class=\"sk-container\" hidden><div class=\"sk-item\"><div class=\"sk-estimator sk-toggleable\"><input class=\"sk-toggleable__control sk-hidden--visually\" id=\"sk-estimator-id-1\" type=\"checkbox\" checked><label for=\"sk-estimator-id-1\" class=\"sk-toggleable__label sk-toggleable__label-arrow\">IsolationForest</label><div class=\"sk-toggleable__content\"><pre>IsolationForest(random_state=0)</pre></div></div></div></div></div>"
      ],
      "text/plain": [
       "IsolationForest(random_state=0)"
      ]
     },
     "execution_count": 131,
     "metadata": {},
     "output_type": "execute_result"
    }
   ],
   "source": [
    "model_if.fit(train_data,train_data)"
   ]
  },
  {
   "cell_type": "code",
   "execution_count": 132,
   "metadata": {},
   "outputs": [],
   "source": [
    "predictions_if = model_if.predict(test_data)"
   ]
  },
  {
   "attachments": {},
   "cell_type": "markdown",
   "metadata": {},
   "source": [
    "Evaluación del modelo Isolation Forest"
   ]
  },
  {
   "cell_type": "code",
   "execution_count": 133,
   "metadata": {},
   "outputs": [],
   "source": [
    "threshold_if = 0.05\n",
    "predictions_if[predictions_if >= threshold_if] = 1\n",
    "predictions_if[predictions_if < threshold_if] = 0"
   ]
  },
  {
   "cell_type": "code",
   "execution_count": 135,
   "metadata": {},
   "outputs": [
    {
     "name": "stdout",
     "output_type": "stream",
     "text": [
      "Predicted      0       1\n",
      "Actual                  \n",
      "0.0        19940  211457\n",
      "1.0        10079   37435\n"
     ]
    }
   ],
   "source": [
    "#y_full = y_full.to_numpy()\n",
    "confusion_matrix = pd.crosstab(y_full[:, -1], predictions_if, rownames=['Actual'], colnames=['Predicted'])\n",
    "print(confusion_matrix)"
   ]
  },
  {
   "cell_type": "code",
   "execution_count": 136,
   "metadata": {},
   "outputs": [
    {
     "name": "stdout",
     "output_type": "stream",
     "text": [
      "El número de anomalias predecidas es 248892 y 30019 valores normales\n"
     ]
    }
   ],
   "source": [
    "pd_predictions_if = pd.DataFrame(predictions_if, columns=['class'])\n",
    "count = (pd_predictions_if['class'] == 1).sum()\n",
    "count1 = (pd_predictions_if['class'] == 0).sum()\n",
    "print(f'El número de anomalias predecidas es {count} y {count1} valores normales')"
   ]
  },
  {
   "cell_type": "code",
   "execution_count": 137,
   "metadata": {},
   "outputs": [
    {
     "name": "stdout",
     "output_type": "stream",
     "text": [
      "              precision    recall  f1-score   support\n",
      "\n",
      "           0       0.09      0.66      0.15     30019\n",
      "           1       0.79      0.15      0.25    248892\n",
      "\n",
      "    accuracy                           0.21    278911\n",
      "   macro avg       0.44      0.41      0.20    278911\n",
      "weighted avg       0.71      0.21      0.24    278911\n",
      "\n"
     ]
    }
   ],
   "source": [
    "print(classification_report(pd_predictions_if, y))"
   ]
  },
  {
   "cell_type": "code",
   "execution_count": 138,
   "metadata": {},
   "outputs": [
    {
     "name": "stdout",
     "output_type": "stream",
     "text": [
      "El número de anomalias reales es 47514\n"
     ]
    }
   ],
   "source": [
    "y_pd = pd.DataFrame(y, columns = ['class'])\n",
    "count = (y_pd['class'] == 1).sum()\n",
    "print(f'El número de anomalias reales es {count}')"
   ]
  },
  {
   "cell_type": "code",
   "execution_count": 139,
   "metadata": {},
   "outputs": [
    {
     "name": "stdout",
     "output_type": "stream",
     "text": [
      "El número de anomalias predecidas es 248892\n"
     ]
    }
   ],
   "source": [
    "count = (pd_predictions_if['class'] == 1).sum()\n",
    "print(f'El número de anomalias predecidas es {count}')"
   ]
  },
  {
   "cell_type": "code",
   "execution_count": 141,
   "metadata": {},
   "outputs": [],
   "source": [
    "import matplotlib.pyplot as plt \n",
    "import seaborn as sns\n",
    "from sklearn.metrics import confusion_matrix\n",
    "class visualization:\n",
    "  labels = [\"Normal\",\"Anomal\"]\n",
    "  def draw_confusion_matrix(self, y, ypred):\n",
    "    matrix = confusion_matrix(y, ypred)\n",
    "\n",
    "    plt.figure(figsize=(10,8))\n",
    "    colors=[\"orange\", \"green\"]\n",
    "    sns.heatmap(matrix, xticklabels=self.labels, yticklabels=self.labels, cmap=colors, annot=True, fmt=\"d\")\n",
    "    plt.title(\"Confusion Matrix\")\n",
    "    plt.ylabel(\"Realidad\")\n",
    "    plt.xlabel(\"Predicción\")\n",
    "    plt.show()"
   ]
  },
  {
   "cell_type": "code",
   "execution_count": 142,
   "metadata": {},
   "outputs": [
    {
     "data": {
      "image/png": "[encoded data removed]",
      "text/plain": [
       "<Figure size 720x576 with 2 Axes>"
      ]
     },
     "metadata": {
      "needs_background": "light"
     },
     "output_type": "display_data"
    }
   ],
   "source": [
    "viz = visualization()\n",
    "viz.draw_confusion_matrix(y_pd, pd_predictions_if)"
   ]
  },
  {
   "attachments": {},
   "cell_type": "markdown",
   "metadata": {},
   "source": [
    "### Support Vector Machines"
   ]
  },
  {
   "attachments": {},
   "cell_type": "markdown",
   "metadata": {},
   "source": [
    "Creación del modelo"
   ]
  },
  {
   "cell_type": "code",
   "execution_count": 149,
   "metadata": {},
   "outputs": [],
   "source": [
    "model_svm = OneClassSVM(kernel='rbf', nu=0.01)"
   ]
  },
  {
   "attachments": {},
   "cell_type": "markdown",
   "metadata": {},
   "source": [
    "Entreno el modelo"
   ]
  },
  {
   "cell_type": "code",
   "execution_count": 150,
   "metadata": {},
   "outputs": [
    {
     "data": {
      "text/html": [
       "<style>#sk-container-id-2 {color: black;background-color: white;}#sk-container-id-2 pre{padding: 0;}#sk-container-id-2 div.sk-toggleable {background-color: white;}#sk-container-id-2 label.sk-toggleable__label {cursor: pointer;display: block;width: 100%;margin-bottom: 0;padding: 0.3em;box-sizing: border-box;text-align: center;}#sk-container-id-2 label.sk-toggleable__label-arrow:before {content: \"▸\";float: left;margin-right: 0.25em;color: #696969;}#sk-container-id-2 label.sk-toggleable__label-arrow:hover:before {color: black;}#sk-container-id-2 div.sk-estimator:hover label.sk-toggleable__label-arrow:before {color: black;}#sk-container-id-2 div.sk-toggleable__content {max-height: 0;max-width: 0;overflow: hidden;text-align: left;background-color: #f0f8ff;}#sk-container-id-2 div.sk-toggleable__content pre {margin: 0.2em;color: black;border-radius: 0.25em;background-color: #f0f8ff;}#sk-container-id-2 input.sk-toggleable__control:checked~div.sk-toggleable__content {max-height: 200px;max-width: 100%;overflow: auto;}#sk-container-id-2 input.sk-toggleable__control:checked~label.sk-toggleable__label-arrow:before {content: \"▾\";}#sk-container-id-2 div.sk-estimator input.sk-toggleable__control:checked~label.sk-toggleable__label {background-color: #d4ebff;}#sk-container-id-2 div.sk-label input.sk-toggleable__control:checked~label.sk-toggleable__label {background-color: #d4ebff;}#sk-container-id-2 input.sk-hidden--visually {border: 0;clip: rect(1px 1px 1px 1px);clip: rect(1px, 1px, 1px, 1px);height: 1px;margin: -1px;overflow: hidden;padding: 0;position: absolute;width: 1px;}#sk-container-id-2 div.sk-estimator {font-family: monospace;background-color: #f0f8ff;border: 1px dotted black;border-radius: 0.25em;box-sizing: border-box;margin-bottom: 0.5em;}#sk-container-id-2 div.sk-estimator:hover {background-color: #d4ebff;}#sk-container-id-2 div.sk-parallel-item::after {content: \"\";width: 100%;border-bottom: 1px solid gray;flex-grow: 1;}#sk-container-id-2 div.sk-label:hover label.sk-toggleable__label {background-color: #d4ebff;}#sk-container-id-2 div.sk-serial::before {content: \"\";position: absolute;border-left: 1px solid gray;box-sizing: border-box;top: 0;bottom: 0;left: 50%;z-index: 0;}#sk-container-id-2 div.sk-serial {display: flex;flex-direction: column;align-items: center;background-color: white;padding-right: 0.2em;padding-left: 0.2em;position: relative;}#sk-container-id-2 div.sk-item {position: relative;z-index: 1;}#sk-container-id-2 div.sk-parallel {display: flex;align-items: stretch;justify-content: center;background-color: white;position: relative;}#sk-container-id-2 div.sk-item::before, #sk-container-id-2 div.sk-parallel-item::before {content: \"\";position: absolute;border-left: 1px solid gray;box-sizing: border-box;top: 0;bottom: 0;left: 50%;z-index: -1;}#sk-container-id-2 div.sk-parallel-item {display: flex;flex-direction: column;z-index: 1;position: relative;background-color: white;}#sk-container-id-2 div.sk-parallel-item:first-child::after {align-self: flex-end;width: 50%;}#sk-container-id-2 div.sk-parallel-item:last-child::after {align-self: flex-start;width: 50%;}#sk-container-id-2 div.sk-parallel-item:only-child::after {width: 0;}#sk-container-id-2 div.sk-dashed-wrapped {border: 1px dashed gray;margin: 0 0.4em 0.5em 0.4em;box-sizing: border-box;padding-bottom: 0.4em;background-color: white;}#sk-container-id-2 div.sk-label label {font-family: monospace;font-weight: bold;display: inline-block;line-height: 1.2em;}#sk-container-id-2 div.sk-label-container {text-align: center;}#sk-container-id-2 div.sk-container {/* jupyter's `normalize.less` sets `[hidden] { display: none; }` but bootstrap.min.css set `[hidden] { display: none !important; }` so we also need the `!important` here to be able to override the default hidden behavior on the sphinx rendered scikit-learn.org. See: https://github.com/scikit-learn/scikit-learn/issues/21755 */display: inline-block !important;position: relative;}#sk-container-id-2 div.sk-text-repr-fallback {display: none;}</style><div id=\"sk-container-id-2\" class=\"sk-top-container\"><div class=\"sk-text-repr-fallback\"><pre>OneClassSVM(nu=0.01)</pre><b>In a Jupyter environment, please rerun this cell to show the HTML representation or trust the notebook. <br />On GitHub, the HTML representation is unable to render, please try loading this page with nbviewer.org.</b></div><div class=\"sk-container\" hidden><div class=\"sk-item\"><div class=\"sk-estimator sk-toggleable\"><input class=\"sk-toggleable__control sk-hidden--visually\" id=\"sk-estimator-id-2\" type=\"checkbox\" checked><label for=\"sk-estimator-id-2\" class=\"sk-toggleable__label sk-toggleable__label-arrow\">OneClassSVM</label><div class=\"sk-toggleable__content\"><pre>OneClassSVM(nu=0.01)</pre></div></div></div></div></div>"
      ],
      "text/plain": [
       "OneClassSVM(nu=0.01)"
      ]
     },
     "execution_count": 150,
     "metadata": {},
     "output_type": "execute_result"
    }
   ],
   "source": [
    "model_svm.fit(train_data)"
   ]
  },
  {
   "cell_type": "code",
   "execution_count": 151,
   "metadata": {},
   "outputs": [],
   "source": [
    "predictions_svm = model_svm.predict(test_data)"
   ]
  },
  {
   "attachments": {},
   "cell_type": "markdown",
   "metadata": {},
   "source": [
    "Evaluación del Modelo Support Vector Machines"
   ]
  },
  {
   "cell_type": "code",
   "execution_count": 152,
   "metadata": {},
   "outputs": [],
   "source": [
    "predictions_svm[predictions_svm == 1] = 0\n",
    "predictions_svm[predictions_svm == -1] = 1"
   ]
  },
  {
   "cell_type": "code",
   "execution_count": 153,
   "metadata": {},
   "outputs": [
    {
     "name": "stdout",
     "output_type": "stream",
     "text": [
      "Predicted       0     1\n",
      "Actual                 \n",
      "0.0        229372  2025\n",
      "1.0         46604   910\n"
     ]
    }
   ],
   "source": [
    "confusion_matrix = pd.crosstab(y_full[:, -1], predictions_svm, rownames=['Actual'], colnames=['Predicted'])\n",
    "print(confusion_matrix)"
   ]
  },
  {
   "cell_type": "code",
   "execution_count": 154,
   "metadata": {},
   "outputs": [
    {
     "name": "stdout",
     "output_type": "stream",
     "text": [
      "El número de anomalias predecidas es 2935 y 275976 valores normales\n"
     ]
    }
   ],
   "source": [
    "pd_predictions_svm = pd.DataFrame(predictions_svm, columns=['class'])\n",
    "count = (pd_predictions_svm['class'] == 1).sum()\n",
    "count1 = (pd_predictions_svm['class'] == 0).sum()\n",
    "print(f'El número de anomalias predecidas es {count} y {count1} valores normales')"
   ]
  },
  {
   "cell_type": "code",
   "execution_count": 155,
   "metadata": {},
   "outputs": [
    {
     "name": "stdout",
     "output_type": "stream",
     "text": [
      "              precision    recall  f1-score   support\n",
      "\n",
      "           0       0.99      0.83      0.90    275976\n",
      "           1       0.02      0.31      0.04      2935\n",
      "\n",
      "    accuracy                           0.83    278911\n",
      "   macro avg       0.51      0.57      0.47    278911\n",
      "weighted avg       0.98      0.83      0.90    278911\n",
      "\n"
     ]
    }
   ],
   "source": [
    "print(classification_report(pd_predictions_svm, y))"
   ]
  },
  {
   "cell_type": "code",
   "execution_count": 156,
   "metadata": {},
   "outputs": [
    {
     "name": "stdout",
     "output_type": "stream",
     "text": [
      "El número de anomalias reales es 47514\n"
     ]
    }
   ],
   "source": [
    "y_pd = pd.DataFrame(y, columns = ['class'])\n",
    "count = (y_pd['class'] == 1).sum()\n",
    "print(f'El número de anomalias reales es {count}')"
   ]
  },
  {
   "cell_type": "code",
   "execution_count": 157,
   "metadata": {},
   "outputs": [
    {
     "name": "stdout",
     "output_type": "stream",
     "text": [
      "El número de anomalias predecidas es 2935\n"
     ]
    }
   ],
   "source": [
    "count = (pd_predictions_svm['class'] == 1).sum()\n",
    "print(f'El número de anomalias predecidas es {count}')"
   ]
  },
  {
   "cell_type": "code",
   "execution_count": 159,
   "metadata": {},
   "outputs": [],
   "source": [
    "import matplotlib.pyplot as plt \n",
    "import seaborn as sns\n",
    "from sklearn.metrics import confusion_matrix\n",
    "class visualization:\n",
    "  labels = [\"Normal\",\"Anomal\"]\n",
    "  def draw_confusion_matrix(self, y, ypred):\n",
    "    matrix = confusion_matrix(y, ypred)\n",
    "\n",
    "    plt.figure(figsize=(10,8))\n",
    "    colors=[\"orange\", \"green\"]\n",
    "    sns.heatmap(matrix, xticklabels=self.labels, yticklabels=self.labels, cmap=colors, annot=True, fmt=\"d\")\n",
    "    plt.title(\"Confusion Matrix\")\n",
    "    plt.ylabel(\"Realidad\")\n",
    "    plt.xlabel(\"Predicción\")\n",
    "    plt.show()"
   ]
  },
  {
   "cell_type": "code",
   "execution_count": 160,
   "metadata": {},
   "outputs": [
    {
     "data": {
      "image/png": "[encoded data removed]",
      "text/plain": [
       "<Figure size 720x576 with 2 Axes>"
      ]
     },
     "metadata": {
      "needs_background": "light"
     },
     "output_type": "display_data"
    }
   ],
   "source": [
    "viz = visualization()\n",
    "viz.draw_confusion_matrix(y_pd, pd_predictions_svm)"
   ]
  },
  {
   "attachments": {},
   "cell_type": "markdown",
   "metadata": {},
   "source": [
    "## Gráficos y evaluación con AUC"
   ]
  },
  {
   "cell_type": "code",
   "execution_count": 161,
   "metadata": {},
   "outputs": [],
   "source": [
    "clase = y_full[:,-1].astype(int)"
   ]
  },
  {
   "cell_type": "code",
   "execution_count": 189,
   "metadata": {},
   "outputs": [
    {
     "name": "stdout",
     "output_type": "stream",
     "text": [
      "AUC de LSTM Autoencoder: 0.8827742887073616\n",
      "AUC de Restricted Bolztmann Machine: 0.885101099582289\n",
      "AUC de Isolation Forest: 0.43702264868395685\n",
      "AUC de Suport Vector Machines: 0.5052005280137479\n"
     ]
    }
   ],
   "source": [
    "from sklearn.metrics import roc_auc_score\n",
    "\n",
    "# Calcular el AUC para cada modelo utilizando la función roc_auc_score() de la biblioteca scikit-learn\n",
    "LSTM_auc = roc_auc_score(clase, predictions_class_LSTM[:,14])\n",
    "rbm_auc = roc_auc_score(clase, predictions_class_rbm[:,14])\n",
    "if_auc = roc_auc_score(clase, predictions_if)\n",
    "svm_auc = roc_auc_score(clase, predictions_svm)\n",
    "print(\"AUC de LSTM Autoencoder:\", LSTM_auc)\n",
    "print(\"AUC de Restricted Bolztmann Machine:\", rbm_auc)\n",
    "print(\"AUC de Isolation Forest:\", if_auc)\n",
    "print(\"AUC de Suport Vector Machines:\", svm_auc)"
   ]
  },
  {
   "cell_type": "code",
   "execution_count": 176,
   "metadata": {},
   "outputs": [],
   "source": [
    "from sklearn.metrics import roc_curve, auc\n",
    "import matplotlib.pyplot as plt"
   ]
  },
  {
   "cell_type": "code",
   "execution_count": 177,
   "metadata": {},
   "outputs": [],
   "source": [
    "rbm_fpr, rbm_tpr, _ = roc_curve(clase, predictions_class_rbm[:,14])\n",
    "rbm_auc = auc(rbm_fpr, rbm_tpr)"
   ]
  },
  {
   "cell_type": "code",
   "execution_count": 178,
   "metadata": {},
   "outputs": [],
   "source": [
    "LSTM_fpr, LSTM_tpr, _ = roc_curve(clase, predictions_class_LSTM[:,14])\n",
    "LSTM_auc = auc(LSTM_fpr, LSTM_tpr)"
   ]
  },
  {
   "cell_type": "code",
   "execution_count": 179,
   "metadata": {},
   "outputs": [],
   "source": [
    "if_fpr, if_tpr, _ = roc_curve(clase, predictions_if)\n",
    "if_auc = auc(if_fpr, if_tpr)"
   ]
  },
  {
   "cell_type": "code",
   "execution_count": 180,
   "metadata": {},
   "outputs": [],
   "source": [
    "svm_fpr, svm_tpr, _ = roc_curve(clase, predictions_svm)\n",
    "svm_auc = auc(svm_fpr, svm_tpr)"
   ]
  },
  {
   "cell_type": "code",
   "execution_count": 181,
   "metadata": {},
   "outputs": [
    {
     "data": {
      "image/png": "[encoded data removed]",
      "text/plain": [
       "<Figure size 432x288 with 1 Axes>"
      ]
     },
     "metadata": {
      "needs_background": "light"
     },
     "output_type": "display_data"
    }
   ],
   "source": [
    "plt.figure()\n",
    "plt.plot(LSTM_fpr, LSTM_tpr, color='darkorange', lw=2, label='LSTM Autoencoder (AUC = %0.2f)' % LSTM_auc)\n",
    "plt.plot(rbm_fpr, rbm_tpr, color='green', lw=2, label='RBM (AUC = %0.2f)' % rbm_auc)\n",
    "plt.plot(if_fpr, if_tpr, color='blue', lw=2, label='Isolation Forest (AUC = %0.2f)' % if_auc)\n",
    "plt.plot(svm_fpr, svm_tpr, color='red', lw=2, label='Support Vector Machines (AUC = %0.2f)' % svm_auc)\n",
    "plt.plot([0, 1], [0, 1], color='navy', lw=2, linestyle='--')\n",
    "plt.xlim([0.0, 1.0])\n",
    "plt.ylim([0.0, 1.05])\n",
    "plt.xlabel('False Positive Rate')\n",
    "plt.ylabel('True Positive Rate')\n",
    "plt.title('Curvas ROC de los modelos de detección de anomalías')\n",
    "plt.legend(loc=\"lower right\")\n",
    "plt.show()"
   ]
  }
 ],
 "metadata": {
  "kernelspec": {
   "display_name": "base",
   "language": "python",
   "name": "python3"
  },
  "language_info": {
   "codemirror_mode": {
    "name": "ipython",
    "version": 3
   },
   "file_extension": ".py",
   "mimetype": "text/x-python",
   "name": "python",
   "nbconvert_exporter": "python",
   "pygments_lexer": "ipython3",
   "version": "3.9.12"
  },
  "orig_nbformat": 4
 },
 "nbformat": 4,
 "nbformat_minor": 2
}
