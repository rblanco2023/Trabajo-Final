{
 "cells": [
  {
   "cell_type": "code",
   "execution_count": 1,
   "metadata": {},
   "outputs": [],
   "source": [
    "import numpy as np\n",
    "import pandas as pd\n",
    "from sklearn.preprocessing import StandardScaler\n",
    "from keras.layers import Input, LSTM, RepeatVector\n",
    "from keras.models import Model\n",
    "\n",
    "from keras.models import Sequential\n",
    "from keras.layers import Dense\n",
    "from keras.optimizers import Adam\n",
    "\n",
    "from sklearn.ensemble import IsolationForest\n",
    "\n",
    "from sklearn.svm import OneClassSVM"
   ]
  },
  {
   "attachments": {},
   "cell_type": "markdown",
   "metadata": {},
   "source": [
    "### Cargar el Dataset"
   ]
  },
  {
   "cell_type": "code",
   "execution_count": 2,
   "metadata": {},
   "outputs": [],
   "source": [
    "filePath = \"C:/Users/raul.blanco/Documents/4 - Personales/UBA/Repositorios/IA/Trabajo-Final/solar_wind.csv\"\n",
    "dF = pd.read_csv(filepath_or_buffer=filePath, header=0, sep=\",\")\n",
    "\n",
    "df_A = dF.loc[dF['period']=='train_a']\n",
    "df_A = df_A.dropna()"
   ]
  },
  {
   "attachments": {},
   "cell_type": "markdown",
   "metadata": {},
   "source": [
    "### Preprocesamiento"
   ]
  },
  {
   "attachments": {},
   "cell_type": "markdown",
   "metadata": {},
   "source": [
    "Partiendo de la hipótesis de que el dataset no contiene valores anómalos, se deben ingresar manualmente.\n",
    "Para esto, se selecciona la variable \"bt\" que corresponde con la magnitud total del campo magnético interplanetario [nT].\n",
    "\n",
    "Se define la variable \"anomaly_factor\" para determinar la cantidad de valores anómalos a incorporar al dataset.\n",
    "\n",
    "Al dataset se le agrega un feature \"class\" cuyo valor será 1 si el registro contiene un valor anómalo y 0 si el valor del registro es el original del dataset."
   ]
  },
  {
   "cell_type": "code",
   "execution_count": 3,
   "metadata": {},
   "outputs": [],
   "source": [
    "features = ['bt']\n",
    "anomaly_factor = 0.17\n",
    "# Crear una copia del DataFrame para no modificar el original\n",
    "df_new = df_A.copy()\n",
    "\n",
    "for a in features:\n",
    "  num_replace = int(df_A[a].size * anomaly_factor)\n",
    "\n",
    "  # Obtener una muestra aleatoria de índices de fila para reemplazar\n",
    "  replace_idx = np.random.choice(df_A.index, size=num_replace, replace=False)\n",
    "\n",
    "  # Reemplazar los valores seleccionados con valores aleatorios entre -90 y 1050\n",
    "  #new_values = np.random.uniform(-90, 1050, size=num_replace)\n",
    "  new_values = np.random.uniform(0, 75, size=num_replace)\n",
    "  df_new.loc[replace_idx, a] = new_values\n",
    "\n",
    "  # Crear la columna \"class\" con los valores correspondientes\n",
    "  df_new.loc[df_A[a] != df_new[a], 'class'] = 1\n",
    "  df_new.loc[df_A[a] == df_new[a], 'class'] = 0"
   ]
  },
  {
   "cell_type": "code",
   "execution_count": 4,
   "metadata": {},
   "outputs": [
    {
     "data": {
      "text/html": [
       "<div>\n",
       "<style scoped>\n",
       "    .dataframe tbody tr th:only-of-type {\n",
       "        vertical-align: middle;\n",
       "    }\n",
       "\n",
       "    .dataframe tbody tr th {\n",
       "        vertical-align: top;\n",
       "    }\n",
       "\n",
       "    .dataframe thead th {\n",
       "        text-align: right;\n",
       "    }\n",
       "</style>\n",
       "<table border=\"1\" class=\"dataframe\">\n",
       "  <thead>\n",
       "    <tr style=\"text-align: right;\">\n",
       "      <th></th>\n",
       "      <th>period</th>\n",
       "      <th>timedelta</th>\n",
       "      <th>bx_gse</th>\n",
       "      <th>by_gse</th>\n",
       "      <th>bz_gse</th>\n",
       "      <th>theta_gse</th>\n",
       "      <th>phi_gse</th>\n",
       "      <th>bx_gsm</th>\n",
       "      <th>by_gsm</th>\n",
       "      <th>bz_gsm</th>\n",
       "      <th>theta_gsm</th>\n",
       "      <th>phi_gsm</th>\n",
       "      <th>bt</th>\n",
       "      <th>density</th>\n",
       "      <th>speed</th>\n",
       "      <th>temperature</th>\n",
       "      <th>source</th>\n",
       "      <th>class</th>\n",
       "    </tr>\n",
       "  </thead>\n",
       "  <tbody>\n",
       "    <tr>\n",
       "      <th>0</th>\n",
       "      <td>train_a</td>\n",
       "      <td>0 days 00:00:00</td>\n",
       "      <td>-5.55</td>\n",
       "      <td>3.00</td>\n",
       "      <td>1.25</td>\n",
       "      <td>11.09</td>\n",
       "      <td>153.37</td>\n",
       "      <td>-5.55</td>\n",
       "      <td>3.00</td>\n",
       "      <td>1.25</td>\n",
       "      <td>11.09</td>\n",
       "      <td>153.37</td>\n",
       "      <td>12.293715</td>\n",
       "      <td>1.53</td>\n",
       "      <td>383.92</td>\n",
       "      <td>110237.0</td>\n",
       "      <td>ac</td>\n",
       "      <td>1.0</td>\n",
       "    </tr>\n",
       "    <tr>\n",
       "      <th>1</th>\n",
       "      <td>train_a</td>\n",
       "      <td>0 days 00:01:00</td>\n",
       "      <td>-5.58</td>\n",
       "      <td>3.16</td>\n",
       "      <td>1.17</td>\n",
       "      <td>10.10</td>\n",
       "      <td>151.91</td>\n",
       "      <td>-5.58</td>\n",
       "      <td>3.16</td>\n",
       "      <td>1.17</td>\n",
       "      <td>10.10</td>\n",
       "      <td>151.91</td>\n",
       "      <td>6.830000</td>\n",
       "      <td>1.69</td>\n",
       "      <td>381.79</td>\n",
       "      <td>123825.0</td>\n",
       "      <td>ac</td>\n",
       "      <td>0.0</td>\n",
       "    </tr>\n",
       "    <tr>\n",
       "      <th>2</th>\n",
       "      <td>train_a</td>\n",
       "      <td>0 days 00:02:00</td>\n",
       "      <td>-5.15</td>\n",
       "      <td>3.66</td>\n",
       "      <td>0.85</td>\n",
       "      <td>7.87</td>\n",
       "      <td>146.04</td>\n",
       "      <td>-5.15</td>\n",
       "      <td>3.66</td>\n",
       "      <td>0.85</td>\n",
       "      <td>7.87</td>\n",
       "      <td>146.04</td>\n",
       "      <td>6.770000</td>\n",
       "      <td>1.97</td>\n",
       "      <td>389.11</td>\n",
       "      <td>82548.0</td>\n",
       "      <td>ac</td>\n",
       "      <td>0.0</td>\n",
       "    </tr>\n",
       "    <tr>\n",
       "      <th>3</th>\n",
       "      <td>train_a</td>\n",
       "      <td>0 days 00:03:00</td>\n",
       "      <td>-5.20</td>\n",
       "      <td>3.68</td>\n",
       "      <td>0.68</td>\n",
       "      <td>6.17</td>\n",
       "      <td>146.17</td>\n",
       "      <td>-5.20</td>\n",
       "      <td>3.68</td>\n",
       "      <td>0.68</td>\n",
       "      <td>6.17</td>\n",
       "      <td>146.17</td>\n",
       "      <td>6.740000</td>\n",
       "      <td>1.97</td>\n",
       "      <td>389.11</td>\n",
       "      <td>82548.0</td>\n",
       "      <td>ac</td>\n",
       "      <td>0.0</td>\n",
       "    </tr>\n",
       "    <tr>\n",
       "      <th>4</th>\n",
       "      <td>train_a</td>\n",
       "      <td>0 days 00:04:00</td>\n",
       "      <td>-5.12</td>\n",
       "      <td>3.68</td>\n",
       "      <td>0.49</td>\n",
       "      <td>4.62</td>\n",
       "      <td>145.72</td>\n",
       "      <td>-5.12</td>\n",
       "      <td>3.68</td>\n",
       "      <td>0.49</td>\n",
       "      <td>4.62</td>\n",
       "      <td>145.72</td>\n",
       "      <td>6.650000</td>\n",
       "      <td>1.77</td>\n",
       "      <td>384.26</td>\n",
       "      <td>94269.0</td>\n",
       "      <td>ac</td>\n",
       "      <td>0.0</td>\n",
       "    </tr>\n",
       "    <tr>\n",
       "      <th>...</th>\n",
       "      <td>...</td>\n",
       "      <td>...</td>\n",
       "      <td>...</td>\n",
       "      <td>...</td>\n",
       "      <td>...</td>\n",
       "      <td>...</td>\n",
       "      <td>...</td>\n",
       "      <td>...</td>\n",
       "      <td>...</td>\n",
       "      <td>...</td>\n",
       "      <td>...</td>\n",
       "      <td>...</td>\n",
       "      <td>...</td>\n",
       "      <td>...</td>\n",
       "      <td>...</td>\n",
       "      <td>...</td>\n",
       "      <td>...</td>\n",
       "      <td>...</td>\n",
       "    </tr>\n",
       "    <tr>\n",
       "      <th>1729434</th>\n",
       "      <td>train_a</td>\n",
       "      <td>1200 days 23:54:00</td>\n",
       "      <td>-3.62</td>\n",
       "      <td>3.25</td>\n",
       "      <td>-1.51</td>\n",
       "      <td>-17.23</td>\n",
       "      <td>138.15</td>\n",
       "      <td>-3.62</td>\n",
       "      <td>3.56</td>\n",
       "      <td>-0.39</td>\n",
       "      <td>-4.33</td>\n",
       "      <td>135.51</td>\n",
       "      <td>5.090000</td>\n",
       "      <td>5.50</td>\n",
       "      <td>338.48</td>\n",
       "      <td>45889.0</td>\n",
       "      <td>ac</td>\n",
       "      <td>0.0</td>\n",
       "    </tr>\n",
       "    <tr>\n",
       "      <th>1729435</th>\n",
       "      <td>train_a</td>\n",
       "      <td>1200 days 23:55:00</td>\n",
       "      <td>-4.07</td>\n",
       "      <td>3.06</td>\n",
       "      <td>-1.54</td>\n",
       "      <td>-16.78</td>\n",
       "      <td>143.08</td>\n",
       "      <td>-4.07</td>\n",
       "      <td>3.39</td>\n",
       "      <td>-0.47</td>\n",
       "      <td>-5.09</td>\n",
       "      <td>140.20</td>\n",
       "      <td>5.320000</td>\n",
       "      <td>6.05</td>\n",
       "      <td>339.02</td>\n",
       "      <td>43507.0</td>\n",
       "      <td>ac</td>\n",
       "      <td>0.0</td>\n",
       "    </tr>\n",
       "    <tr>\n",
       "      <th>1729436</th>\n",
       "      <td>train_a</td>\n",
       "      <td>1200 days 23:56:00</td>\n",
       "      <td>-3.35</td>\n",
       "      <td>3.40</td>\n",
       "      <td>-1.43</td>\n",
       "      <td>-16.63</td>\n",
       "      <td>134.59</td>\n",
       "      <td>-3.35</td>\n",
       "      <td>3.68</td>\n",
       "      <td>-0.26</td>\n",
       "      <td>-2.98</td>\n",
       "      <td>132.32</td>\n",
       "      <td>4.980000</td>\n",
       "      <td>5.37</td>\n",
       "      <td>338.51</td>\n",
       "      <td>42298.0</td>\n",
       "      <td>ac</td>\n",
       "      <td>0.0</td>\n",
       "    </tr>\n",
       "    <tr>\n",
       "      <th>1729437</th>\n",
       "      <td>train_a</td>\n",
       "      <td>1200 days 23:57:00</td>\n",
       "      <td>-3.27</td>\n",
       "      <td>3.42</td>\n",
       "      <td>-1.29</td>\n",
       "      <td>-15.22</td>\n",
       "      <td>133.66</td>\n",
       "      <td>-3.27</td>\n",
       "      <td>3.65</td>\n",
       "      <td>-0.12</td>\n",
       "      <td>-1.42</td>\n",
       "      <td>131.78</td>\n",
       "      <td>4.900000</td>\n",
       "      <td>5.18</td>\n",
       "      <td>342.72</td>\n",
       "      <td>38547.0</td>\n",
       "      <td>ac</td>\n",
       "      <td>0.0</td>\n",
       "    </tr>\n",
       "    <tr>\n",
       "      <th>1729438</th>\n",
       "      <td>train_a</td>\n",
       "      <td>1200 days 23:58:00</td>\n",
       "      <td>-3.26</td>\n",
       "      <td>3.47</td>\n",
       "      <td>-1.07</td>\n",
       "      <td>-12.72</td>\n",
       "      <td>133.19</td>\n",
       "      <td>-3.25</td>\n",
       "      <td>3.63</td>\n",
       "      <td>0.09</td>\n",
       "      <td>1.11</td>\n",
       "      <td>131.87</td>\n",
       "      <td>26.074942</td>\n",
       "      <td>5.60</td>\n",
       "      <td>338.74</td>\n",
       "      <td>42813.0</td>\n",
       "      <td>ac</td>\n",
       "      <td>1.0</td>\n",
       "    </tr>\n",
       "  </tbody>\n",
       "</table>\n",
       "<p>1394555 rows × 18 columns</p>\n",
       "</div>"
      ],
      "text/plain": [
       "          period           timedelta  bx_gse  by_gse  bz_gse  theta_gse  \\\n",
       "0        train_a     0 days 00:00:00   -5.55    3.00    1.25      11.09   \n",
       "1        train_a     0 days 00:01:00   -5.58    3.16    1.17      10.10   \n",
       "2        train_a     0 days 00:02:00   -5.15    3.66    0.85       7.87   \n",
       "3        train_a     0 days 00:03:00   -5.20    3.68    0.68       6.17   \n",
       "4        train_a     0 days 00:04:00   -5.12    3.68    0.49       4.62   \n",
       "...          ...                 ...     ...     ...     ...        ...   \n",
       "1729434  train_a  1200 days 23:54:00   -3.62    3.25   -1.51     -17.23   \n",
       "1729435  train_a  1200 days 23:55:00   -4.07    3.06   -1.54     -16.78   \n",
       "1729436  train_a  1200 days 23:56:00   -3.35    3.40   -1.43     -16.63   \n",
       "1729437  train_a  1200 days 23:57:00   -3.27    3.42   -1.29     -15.22   \n",
       "1729438  train_a  1200 days 23:58:00   -3.26    3.47   -1.07     -12.72   \n",
       "\n",
       "         phi_gse  bx_gsm  by_gsm  bz_gsm  theta_gsm  phi_gsm         bt  \\\n",
       "0         153.37   -5.55    3.00    1.25      11.09   153.37  12.293715   \n",
       "1         151.91   -5.58    3.16    1.17      10.10   151.91   6.830000   \n",
       "2         146.04   -5.15    3.66    0.85       7.87   146.04   6.770000   \n",
       "3         146.17   -5.20    3.68    0.68       6.17   146.17   6.740000   \n",
       "4         145.72   -5.12    3.68    0.49       4.62   145.72   6.650000   \n",
       "...          ...     ...     ...     ...        ...      ...        ...   \n",
       "1729434   138.15   -3.62    3.56   -0.39      -4.33   135.51   5.090000   \n",
       "1729435   143.08   -4.07    3.39   -0.47      -5.09   140.20   5.320000   \n",
       "1729436   134.59   -3.35    3.68   -0.26      -2.98   132.32   4.980000   \n",
       "1729437   133.66   -3.27    3.65   -0.12      -1.42   131.78   4.900000   \n",
       "1729438   133.19   -3.25    3.63    0.09       1.11   131.87  26.074942   \n",
       "\n",
       "         density   speed  temperature source  class  \n",
       "0           1.53  383.92     110237.0     ac    1.0  \n",
       "1           1.69  381.79     123825.0     ac    0.0  \n",
       "2           1.97  389.11      82548.0     ac    0.0  \n",
       "3           1.97  389.11      82548.0     ac    0.0  \n",
       "4           1.77  384.26      94269.0     ac    0.0  \n",
       "...          ...     ...          ...    ...    ...  \n",
       "1729434     5.50  338.48      45889.0     ac    0.0  \n",
       "1729435     6.05  339.02      43507.0     ac    0.0  \n",
       "1729436     5.37  338.51      42298.0     ac    0.0  \n",
       "1729437     5.18  342.72      38547.0     ac    0.0  \n",
       "1729438     5.60  338.74      42813.0     ac    1.0  \n",
       "\n",
       "[1394555 rows x 18 columns]"
      ]
     },
     "execution_count": 4,
     "metadata": {},
     "output_type": "execute_result"
    }
   ],
   "source": [
    "df_new"
   ]
  },
  {
   "attachments": {},
   "cell_type": "markdown",
   "metadata": {},
   "source": [
    "#### Verificación de registros con anomalidades introducidas"
   ]
  },
  {
   "attachments": {},
   "cell_type": "markdown",
   "metadata": {},
   "source": [
    "Se divide el Dataset en Train y Test"
   ]
  },
  {
   "cell_type": "code",
   "execution_count": 5,
   "metadata": {},
   "outputs": [],
   "source": [
    "train_data = df_new.sample(frac=0.8, random_state=0)\n",
    "test_data = df_new.drop(train_data.index)"
   ]
  },
  {
   "cell_type": "code",
   "execution_count": 6,
   "metadata": {},
   "outputs": [],
   "source": [
    "train_timedelta = train_data[['timedelta']]\n",
    "test_timedelta = test_data[['timedelta']]"
   ]
  },
  {
   "attachments": {},
   "cell_type": "markdown",
   "metadata": {},
   "source": [
    "Se eliminan los features que no se tendran en cuenta en el entrenamiento del modelo"
   ]
  },
  {
   "cell_type": "code",
   "execution_count": 7,
   "metadata": {},
   "outputs": [],
   "source": [
    "y = test_data['class']\n",
    "y_full = test_data\n",
    "train_data = train_data.drop([\"timedelta\", \"period\", \"source\", 'class'], axis=1)\n",
    "test_data = test_data.drop([\"timedelta\", \"period\", \"source\", 'class'], axis=1)"
   ]
  },
  {
   "attachments": {},
   "cell_type": "markdown",
   "metadata": {},
   "source": [
    "Normalización del dataset"
   ]
  },
  {
   "cell_type": "code",
   "execution_count": 8,
   "metadata": {},
   "outputs": [],
   "source": [
    "scaler = StandardScaler()\n",
    "train_data = scaler.fit_transform(train_data)\n",
    "test_data = scaler.transform(test_data)"
   ]
  },
  {
   "cell_type": "code",
   "execution_count": 9,
   "metadata": {},
   "outputs": [],
   "source": [
    "#train_data = np.concatenate([train_timedelta,train_data], axis=1)\n",
    "#test_data = np.concatenate([test_timedelta,test_data], axis=1)"
   ]
  },
  {
   "cell_type": "code",
   "execution_count": 10,
   "metadata": {},
   "outputs": [],
   "source": [
    "train_data_LSTM = train_data.reshape(train_data.shape[0],1,train_data.shape[1])\n",
    "test_data_LSTM = test_data.reshape(test_data.shape[0],1,test_data.shape[1])\n",
    "#train_data_LSTM.shape\n",
    "#test_data_LSTM.shape"
   ]
  },
  {
   "attachments": {},
   "cell_type": "markdown",
   "metadata": {},
   "source": [
    "## Modelos"
   ]
  },
  {
   "attachments": {},
   "cell_type": "markdown",
   "metadata": {},
   "source": [
    "### LSTM Autoencoder"
   ]
  },
  {
   "attachments": {},
   "cell_type": "markdown",
   "metadata": {},
   "source": [
    "Creación del modelo"
   ]
  },
  {
   "cell_type": "code",
   "execution_count": 11,
   "metadata": {},
   "outputs": [],
   "source": [
    "input_dim = train_data_LSTM.shape[2]\n",
    "timesteps = 1\n",
    "\n",
    "inputs = Input(shape=(timesteps, input_dim))\n",
    "encoded = LSTM(64, activation='relu', return_sequences=True)(inputs)\n",
    "encoded = LSTM(32, activation='relu', return_sequences=True)(inputs)\n",
    "encoded = LSTM(16, activation='relu', return_sequences=False)(encoded)\n",
    "decoded = RepeatVector(timesteps)(encoded)\n",
    "decoded = LSTM(16, activation='relu', return_sequences=True)(decoded)\n",
    "decoded = LSTM(32, activation='relu', return_sequences=True)(decoded)\n",
    "decoded = LSTM(64, activation='relu', return_sequences=True)(decoded)\n",
    "decoded = LSTM(input_dim, activation='linear', return_sequences=True)(decoded)\n",
    "\n",
    "autoencoder = Model(inputs, decoded)\n",
    "autoencoder.compile(optimizer='adam', loss='mse')"
   ]
  },
  {
   "attachments": {},
   "cell_type": "markdown",
   "metadata": {},
   "source": [
    "Entrenamiento del LSTM Autoencoder"
   ]
  },
  {
   "cell_type": "code",
   "execution_count": 12,
   "metadata": {},
   "outputs": [
    {
     "name": "stdout",
     "output_type": "stream",
     "text": [
      "Epoch 1/10\n",
      "3138/3138 [==============================] - 26s 6ms/step - loss: 0.1695 - val_loss: 0.0287\n",
      "Epoch 2/10\n",
      "3138/3138 [==============================] - 18s 6ms/step - loss: 0.0185 - val_loss: 0.0101\n",
      "Epoch 3/10\n",
      "3138/3138 [==============================] - 19s 6ms/step - loss: 0.0060 - val_loss: 0.0038\n",
      "Epoch 4/10\n",
      "3138/3138 [==============================] - 19s 6ms/step - loss: 0.0030 - val_loss: 0.0023\n",
      "Epoch 5/10\n",
      "3138/3138 [==============================] - 19s 6ms/step - loss: 0.0021 - val_loss: 0.0018\n",
      "Epoch 6/10\n",
      "3138/3138 [==============================] - 19s 6ms/step - loss: 0.0017 - val_loss: 0.0014\n",
      "Epoch 7/10\n",
      "3138/3138 [==============================] - 19s 6ms/step - loss: 0.0015 - val_loss: 0.0014\n",
      "Epoch 8/10\n",
      "3138/3138 [==============================] - 18s 6ms/step - loss: 0.0014 - val_loss: 0.0012\n",
      "Epoch 9/10\n",
      "3138/3138 [==============================] - 18s 6ms/step - loss: 0.0013 - val_loss: 0.0013\n",
      "Epoch 10/10\n",
      "3138/3138 [==============================] - 19s 6ms/step - loss: 0.0012 - val_loss: 0.0011\n"
     ]
    },
    {
     "data": {
      "text/plain": [
       "<keras.callbacks.History at 0x16525b8e340>"
      ]
     },
     "execution_count": 12,
     "metadata": {},
     "output_type": "execute_result"
    }
   ],
   "source": [
    "autoencoder.fit(train_data_LSTM, train_data_LSTM, epochs=10, batch_size=320, validation_split=0.1)"
   ]
  },
  {
   "cell_type": "code",
   "execution_count": 13,
   "metadata": {},
   "outputs": [
    {
     "name": "stdout",
     "output_type": "stream",
     "text": [
      "8716/8716 [==============================] - 14s 2ms/step\n"
     ]
    }
   ],
   "source": [
    "predictions_LSTM = autoencoder.predict(test_data_LSTM)"
   ]
  },
  {
   "attachments": {},
   "cell_type": "markdown",
   "metadata": {},
   "source": [
    "Evaluación del modelo LSTM Autoencoder"
   ]
  },
  {
   "attachments": {},
   "cell_type": "markdown",
   "metadata": {},
   "source": [
    "Se comparan las predicciones con los valores reales de \"class\" para generar una matriz de confusión para evaluar el modelo"
   ]
  },
  {
   "cell_type": "code",
   "execution_count": 14,
   "metadata": {},
   "outputs": [],
   "source": [
    "threshold_LSTM = 0.01\n",
    "predictions_LSTM[predictions_LSTM >= threshold_LSTM] = 1\n",
    "predictions_LSTM[predictions_LSTM < threshold_LSTM] = 0"
   ]
  },
  {
   "cell_type": "code",
   "execution_count": 15,
   "metadata": {},
   "outputs": [
    {
     "name": "stdout",
     "output_type": "stream",
     "text": [
      "Predicted     0.0    1.0\n",
      "Actual                  \n",
      "0.0        215630  16024\n",
      "1.0          7948  39309\n"
     ]
    }
   ],
   "source": [
    "predictions_LSTM = predictions_LSTM.reshape(predictions_LSTM.shape[0], predictions_LSTM.shape[2])\n",
    "test_data = test_data.reshape(test_data_LSTM.shape[0], test_data_LSTM.shape[2])\n",
    "y_full = y_full.to_numpy()\n",
    "confusion_matrix = pd.crosstab(y_full[:, -1], predictions_LSTM[:, 10], rownames=['Actual'], colnames=['Predicted'])\n",
    "print(confusion_matrix)"
   ]
  },
  {
   "cell_type": "code",
   "execution_count": 16,
   "metadata": {},
   "outputs": [],
   "source": [
    "pd_predictions_LSTM = pd.DataFrame(predictions_LSTM)\n",
    "column_10 = predictions_LSTM[:, 10]\n",
    "is_one_LSTM = column_10 ==1\n",
    "# Asignar 1 a los elementos que sean True y 0 a los elementos que sean False\n",
    "has_ones_LSTM = np.where(is_one_LSTM, 1, 0)"
   ]
  },
  {
   "cell_type": "code",
   "execution_count": 17,
   "metadata": {},
   "outputs": [
    {
     "name": "stdout",
     "output_type": "stream",
     "text": [
      "El número de anomalias es 55333 y 223578 son valores normales\n"
     ]
    }
   ],
   "source": [
    "has_ones_LSTM_pd = pd.DataFrame(has_ones_LSTM, columns=['class'])\n",
    "count = (has_ones_LSTM_pd['class'] == 1).sum()\n",
    "count1 = (has_ones_LSTM_pd['class'] == 0).sum()\n",
    "print(f'El número de anomalias es {count} y {count1} son valores normales')"
   ]
  },
  {
   "cell_type": "code",
   "execution_count": 18,
   "metadata": {},
   "outputs": [],
   "source": [
    "new_column_LSTM = has_ones_LSTM\n",
    "# Agregar la nueva columna al final del ndarray original\n",
    "predictions_class_LSTM = np.hstack((predictions_LSTM, new_column_LSTM.reshape(-1, 1)))"
   ]
  },
  {
   "cell_type": "code",
   "execution_count": 19,
   "metadata": {},
   "outputs": [
    {
     "name": "stdout",
     "output_type": "stream",
     "text": [
      "El número de anomalias es 55333 y 223578 son valores normales\n"
     ]
    }
   ],
   "source": [
    "new_column_LSTM_df = pd.DataFrame(new_column_LSTM, columns =['class'])\n",
    "count3 = (new_column_LSTM_df['class'] == True).sum()\n",
    "count4 = (new_column_LSTM_df['class'] == False).sum()\n",
    "print(f'El número de anomalias es {count3} y {count4} son valores normales')"
   ]
  },
  {
   "cell_type": "code",
   "execution_count": 20,
   "metadata": {},
   "outputs": [],
   "source": [
    "pd_predictions_LSTM = pd.DataFrame(predictions_class_LSTM)"
   ]
  },
  {
   "cell_type": "code",
   "execution_count": 21,
   "metadata": {},
   "outputs": [],
   "source": [
    "pd_test_data = pd.DataFrame(test_data)"
   ]
  },
  {
   "cell_type": "code",
   "execution_count": 22,
   "metadata": {},
   "outputs": [
    {
     "name": "stdout",
     "output_type": "stream",
     "text": [
      "              precision    recall  f1-score   support\n",
      "\n",
      "         0.0       0.93      0.96      0.95    223578\n",
      "         1.0       0.83      0.71      0.77     55333\n",
      "\n",
      "    accuracy                           0.91    278911\n",
      "   macro avg       0.88      0.84      0.86    278911\n",
      "weighted avg       0.91      0.91      0.91    278911\n",
      "\n"
     ]
    }
   ],
   "source": [
    "from sklearn.metrics import classification_report\n",
    " \n",
    "print(classification_report(predictions_class_LSTM[:,14], y))"
   ]
  },
  {
   "cell_type": "code",
   "execution_count": 23,
   "metadata": {},
   "outputs": [],
   "source": [
    "import matplotlib.pyplot as plt \n",
    "import seaborn as sns\n",
    "from sklearn.metrics import confusion_matrix\n",
    "class visualization:\n",
    "  labels = [\"Normal\",\"Anomal\"]\n",
    "  def draw_confusion_matrix(self, y, ypred):\n",
    "    matrix = confusion_matrix(y, ypred)\n",
    "\n",
    "    plt.figure(figsize=(10,8))\n",
    "    colors=[\"orange\", \"green\"]\n",
    "    sns.heatmap(matrix, xticklabels=self.labels, yticklabels=self.labels, cmap=colors, annot=True, fmt=\"d\")\n",
    "    plt.title(\"Confusion Matrix\")\n",
    "    plt.ylabel(\"Realidad\")\n",
    "    plt.xlabel(\"Predicción\")\n",
    "    plt.show()"
   ]
  },
  {
   "cell_type": "code",
   "execution_count": 24,
   "metadata": {},
   "outputs": [
    {
     "name": "stdout",
     "output_type": "stream",
     "text": [
      "El número de anomalias reales es 47257\n"
     ]
    }
   ],
   "source": [
    "y_pd = pd.DataFrame(y, columns = ['class'])\n",
    "count = (y_pd['class'] == 1).sum()\n",
    "print(f'El número de anomalias reales es {count}')"
   ]
  },
  {
   "cell_type": "code",
   "execution_count": 25,
   "metadata": {},
   "outputs": [
    {
     "name": "stdout",
     "output_type": "stream",
     "text": [
      "El número de anomalias predecidas es 55333\n"
     ]
    }
   ],
   "source": [
    "predictions_class_LSTM_pd  = pd.DataFrame(predictions_class_LSTM, columns = ['1','2','3','4','5','6','7','8','9','10','11','12','13','14','class'])\n",
    "count = (predictions_class_LSTM_pd['class'] == 1).sum()\n",
    "print(f'El número de anomalias predecidas es {count}')"
   ]
  },
  {
   "cell_type": "code",
   "execution_count": 26,
   "metadata": {},
   "outputs": [
    {
     "data": {
      "image/png": "[encoded data removed]",
      "text/plain": [
       "<Figure size 720x576 with 2 Axes>"
      ]
     },
     "metadata": {
      "needs_background": "light"
     },
     "output_type": "display_data"
    }
   ],
   "source": [
    "viz = visualization()\n",
    "viz.draw_confusion_matrix(y_pd, predictions_class_LSTM[:,14])"
   ]
  },
  {
   "cell_type": "code",
   "execution_count": 27,
   "metadata": {},
   "outputs": [],
   "source": [
    "test_timedelta.reset_index(inplace=True)"
   ]
  },
  {
   "cell_type": "code",
   "execution_count": 28,
   "metadata": {},
   "outputs": [],
   "source": [
    "predictions_class_LSTM_pd = pd.concat([test_timedelta, predictions_class_LSTM_pd], axis = 1 , join = \"inner\")"
   ]
  },
  {
   "cell_type": "code",
   "execution_count": 29,
   "metadata": {},
   "outputs": [],
   "source": [
    "anomalies_LSTM = predictions_class_LSTM_pd.loc[predictions_class_LSTM_pd['class'] == 1.0,['timedelta']]"
   ]
  },
  {
   "cell_type": "code",
   "execution_count": 31,
   "metadata": {},
   "outputs": [
    {
     "data": {
      "text/html": [
       "<div>\n",
       "<style scoped>\n",
       "    .dataframe tbody tr th:only-of-type {\n",
       "        vertical-align: middle;\n",
       "    }\n",
       "\n",
       "    .dataframe tbody tr th {\n",
       "        vertical-align: top;\n",
       "    }\n",
       "\n",
       "    .dataframe thead th {\n",
       "        text-align: right;\n",
       "    }\n",
       "</style>\n",
       "<table border=\"1\" class=\"dataframe\">\n",
       "  <thead>\n",
       "    <tr style=\"text-align: right;\">\n",
       "      <th></th>\n",
       "      <th>timedelta</th>\n",
       "    </tr>\n",
       "  </thead>\n",
       "  <tbody>\n",
       "    <tr>\n",
       "      <th>2</th>\n",
       "      <td>0 days 00:11:00</td>\n",
       "    </tr>\n",
       "    <tr>\n",
       "      <th>6</th>\n",
       "      <td>0 days 00:41:00</td>\n",
       "    </tr>\n",
       "    <tr>\n",
       "      <th>11</th>\n",
       "      <td>0 days 01:18:00</td>\n",
       "    </tr>\n",
       "    <tr>\n",
       "      <th>19</th>\n",
       "      <td>0 days 02:12:00</td>\n",
       "    </tr>\n",
       "    <tr>\n",
       "      <th>24</th>\n",
       "      <td>0 days 03:01:00</td>\n",
       "    </tr>\n",
       "    <tr>\n",
       "      <th>...</th>\n",
       "      <td>...</td>\n",
       "    </tr>\n",
       "    <tr>\n",
       "      <th>278898</th>\n",
       "      <td>1200 days 22:23:00</td>\n",
       "    </tr>\n",
       "    <tr>\n",
       "      <th>278904</th>\n",
       "      <td>1200 days 23:07:00</td>\n",
       "    </tr>\n",
       "    <tr>\n",
       "      <th>278905</th>\n",
       "      <td>1200 days 23:21:00</td>\n",
       "    </tr>\n",
       "    <tr>\n",
       "      <th>278906</th>\n",
       "      <td>1200 days 23:39:00</td>\n",
       "    </tr>\n",
       "    <tr>\n",
       "      <th>278908</th>\n",
       "      <td>1200 days 23:49:00</td>\n",
       "    </tr>\n",
       "  </tbody>\n",
       "</table>\n",
       "<p>55333 rows × 1 columns</p>\n",
       "</div>"
      ],
      "text/plain": [
       "                 timedelta\n",
       "2          0 days 00:11:00\n",
       "6          0 days 00:41:00\n",
       "11         0 days 01:18:00\n",
       "19         0 days 02:12:00\n",
       "24         0 days 03:01:00\n",
       "...                    ...\n",
       "278898  1200 days 22:23:00\n",
       "278904  1200 days 23:07:00\n",
       "278905  1200 days 23:21:00\n",
       "278906  1200 days 23:39:00\n",
       "278908  1200 days 23:49:00\n",
       "\n",
       "[55333 rows x 1 columns]"
      ]
     },
     "execution_count": 31,
     "metadata": {},
     "output_type": "execute_result"
    }
   ],
   "source": [
    "anomalies_LSTM"
   ]
  },
  {
   "attachments": {},
   "cell_type": "markdown",
   "metadata": {},
   "source": [
    "### RBM"
   ]
  },
  {
   "attachments": {},
   "cell_type": "markdown",
   "metadata": {},
   "source": [
    "Creación del modelo"
   ]
  },
  {
   "cell_type": "code",
   "execution_count": 32,
   "metadata": {},
   "outputs": [],
   "source": [
    "model_rbm = Sequential()\n",
    "model_rbm.add(Dense(20, input_shape=(train_data.shape[1],), activation='sigmoid'))\n",
    "model_rbm.add(Dense(train_data.shape[1], activation='sigmoid'))\n",
    "model_rbm.compile(optimizer=Adam(learning_rate=0.01), loss='mse')"
   ]
  },
  {
   "attachments": {},
   "cell_type": "markdown",
   "metadata": {},
   "source": [
    "Entreno el modelo Restricted Boltzmann Machine"
   ]
  },
  {
   "cell_type": "code",
   "execution_count": 33,
   "metadata": {},
   "outputs": [
    {
     "name": "stdout",
     "output_type": "stream",
     "text": [
      "Epoch 1/20\n",
      "31378/31378 [==============================] - 36s 1ms/step - loss: 0.5774 - val_loss: 0.5755\n",
      "Epoch 2/20\n",
      "31378/31378 [==============================] - 61s 2ms/step - loss: 0.5742 - val_loss: 0.5751\n",
      "Epoch 3/20\n",
      "31378/31378 [==============================] - 28s 888us/step - loss: 0.5740 - val_loss: 0.5750\n",
      "Epoch 4/20\n",
      "31378/31378 [==============================] - 28s 896us/step - loss: 0.5738 - val_loss: 0.5748\n",
      "Epoch 5/20\n",
      "31378/31378 [==============================] - 29s 912us/step - loss: 0.5738 - val_loss: 0.5749\n",
      "Epoch 6/20\n",
      "31378/31378 [==============================] - 35s 1ms/step - loss: 0.5738 - val_loss: 0.5747\n",
      "Epoch 7/20\n",
      "31378/31378 [==============================] - 32s 1ms/step - loss: 0.5736 - val_loss: 0.5749\n",
      "Epoch 8/20\n",
      "31378/31378 [==============================] - 33s 1ms/step - loss: 0.5736 - val_loss: 0.5746\n",
      "Epoch 9/20\n",
      "31378/31378 [==============================] - 32s 1ms/step - loss: 0.5735 - val_loss: 0.5745\n",
      "Epoch 10/20\n",
      "31378/31378 [==============================] - 34s 1ms/step - loss: 0.5735 - val_loss: 0.5747\n",
      "Epoch 11/20\n",
      "31378/31378 [==============================] - 34s 1ms/step - loss: 0.5735 - val_loss: 0.5745\n",
      "Epoch 12/20\n",
      "31378/31378 [==============================] - 33s 1ms/step - loss: 0.5735 - val_loss: 0.5745\n",
      "Epoch 13/20\n",
      "31378/31378 [==============================] - 35s 1ms/step - loss: 0.5734 - val_loss: 0.5745\n",
      "Epoch 14/20\n",
      "31378/31378 [==============================] - 34s 1ms/step - loss: 0.5734 - val_loss: 0.5746\n",
      "Epoch 15/20\n",
      "31378/31378 [==============================] - 34s 1ms/step - loss: 0.5734 - val_loss: 0.5745\n",
      "Epoch 16/20\n",
      "31378/31378 [==============================] - 35s 1ms/step - loss: 0.5734 - val_loss: 0.5745\n",
      "Epoch 17/20\n",
      "31378/31378 [==============================] - 34s 1ms/step - loss: 0.5734 - val_loss: 0.5745\n",
      "Epoch 18/20\n",
      "31378/31378 [==============================] - 39s 1ms/step - loss: 0.5734 - val_loss: 0.5745\n",
      "Epoch 19/20\n",
      "31378/31378 [==============================] - 34s 1ms/step - loss: 0.5734 - val_loss: 0.5746\n",
      "Epoch 20/20\n",
      "31378/31378 [==============================] - 37s 1ms/step - loss: 0.5734 - val_loss: 0.5745\n"
     ]
    },
    {
     "data": {
      "text/plain": [
       "<keras.callbacks.History at 0x165d8b58190>"
      ]
     },
     "execution_count": 33,
     "metadata": {},
     "output_type": "execute_result"
    }
   ],
   "source": [
    "model_rbm.fit(train_data, train_data, epochs=20, batch_size=32, verbose=1, validation_split=0.1)"
   ]
  },
  {
   "cell_type": "code",
   "execution_count": 34,
   "metadata": {},
   "outputs": [
    {
     "name": "stdout",
     "output_type": "stream",
     "text": [
      "8716/8716 [==============================] - 5s 572us/step\n"
     ]
    }
   ],
   "source": [
    "predictions_rbm = model_rbm.predict(test_data)"
   ]
  },
  {
   "attachments": {},
   "cell_type": "markdown",
   "metadata": {},
   "source": [
    "Evaluación del modelo rbm"
   ]
  },
  {
   "cell_type": "code",
   "execution_count": 35,
   "metadata": {},
   "outputs": [],
   "source": [
    "threshold_rbm = 0.05\n",
    "predictions_rbm[predictions_rbm >= threshold_rbm] = 1\n",
    "predictions_rbm[predictions_rbm < threshold_rbm] = 0"
   ]
  },
  {
   "cell_type": "code",
   "execution_count": 36,
   "metadata": {},
   "outputs": [
    {
     "name": "stdout",
     "output_type": "stream",
     "text": [
      "Predicted     0.0    1.0\n",
      "Actual                  \n",
      "0.0        219064  12590\n",
      "1.0          8375  38882\n"
     ]
    }
   ],
   "source": [
    "#y_full = y_full.to_numpy()\n",
    "confusion_matrix = pd.crosstab(y_full[:, -1], predictions_rbm[:, 10], rownames=['Actual'], colnames=['Predicted'])\n",
    "print(confusion_matrix)"
   ]
  },
  {
   "cell_type": "code",
   "execution_count": 37,
   "metadata": {},
   "outputs": [],
   "source": [
    "pd_predictions = pd.DataFrame(predictions_rbm)\n",
    "column_10_rbm = predictions_rbm[:, 10]\n",
    "is_one_rbm = column_10_rbm ==1\n",
    "# Asignar 1 a los elementos que sean True y 0 a los elementos que sean False\n",
    "has_ones_rbm = np.where(is_one_rbm, 1, 0)"
   ]
  },
  {
   "cell_type": "code",
   "execution_count": 38,
   "metadata": {},
   "outputs": [
    {
     "name": "stdout",
     "output_type": "stream",
     "text": [
      "El número de anomalias predecidas es 51472 y 227439 son valores normales\n"
     ]
    }
   ],
   "source": [
    "has_ones_rbm_pd = pd.DataFrame(has_ones_rbm, columns=['class'])\n",
    "count = (has_ones_rbm_pd['class'] == 1).sum()\n",
    "count1 = (has_ones_rbm_pd['class'] == 0).sum()\n",
    "print(f'El número de anomalias predecidas es {count} y {count1} son valores normales')"
   ]
  },
  {
   "cell_type": "code",
   "execution_count": 39,
   "metadata": {},
   "outputs": [
    {
     "data": {
      "text/plain": [
       "(278911,)"
      ]
     },
     "execution_count": 39,
     "metadata": {},
     "output_type": "execute_result"
    }
   ],
   "source": [
    "new_column_rbm = has_ones_rbm\n",
    "new_column_rbm.shape"
   ]
  },
  {
   "cell_type": "code",
   "execution_count": 40,
   "metadata": {},
   "outputs": [],
   "source": [
    "predictions_class_rbm = np.hstack((predictions_rbm, new_column_rbm.reshape(-1, 1)))"
   ]
  },
  {
   "cell_type": "code",
   "execution_count": 41,
   "metadata": {},
   "outputs": [],
   "source": [
    "pd_predictions_rbm = pd.DataFrame(predictions_class_rbm)"
   ]
  },
  {
   "cell_type": "code",
   "execution_count": 42,
   "metadata": {},
   "outputs": [
    {
     "name": "stdout",
     "output_type": "stream",
     "text": [
      "              precision    recall  f1-score   support\n",
      "\n",
      "         0.0       0.95      0.96      0.95    227439\n",
      "         1.0       0.82      0.76      0.79     51472\n",
      "\n",
      "    accuracy                           0.92    278911\n",
      "   macro avg       0.88      0.86      0.87    278911\n",
      "weighted avg       0.92      0.92      0.92    278911\n",
      "\n"
     ]
    }
   ],
   "source": [
    "from sklearn.metrics import classification_report\n",
    " \n",
    "print(classification_report(predictions_class_rbm[:,14], y))"
   ]
  },
  {
   "cell_type": "code",
   "execution_count": 43,
   "metadata": {},
   "outputs": [
    {
     "name": "stdout",
     "output_type": "stream",
     "text": [
      "El número de anomalias predecidas es 51472\n"
     ]
    }
   ],
   "source": [
    "predictions_class_rbm_pd  = pd.DataFrame(predictions_class_rbm, columns = ['1','2','3','4','5','6','7','8','9','10','11','12','13','14','class'])\n",
    "count = (predictions_class_rbm_pd['class'] == 1).sum()\n",
    "print(f'El número de anomalias predecidas es {count}')"
   ]
  },
  {
   "cell_type": "code",
   "execution_count": 44,
   "metadata": {},
   "outputs": [
    {
     "data": {
      "text/plain": [
       "array([[0., 1., 1., ..., 0., 0., 0.],\n",
       "       [0., 1., 1., ..., 0., 0., 0.],\n",
       "       [0., 1., 1., ..., 0., 0., 1.],\n",
       "       ...,\n",
       "       [0., 1., 0., ..., 0., 0., 1.],\n",
       "       [0., 1., 0., ..., 0., 0., 0.],\n",
       "       [0., 1., 0., ..., 0., 0., 0.]])"
      ]
     },
     "execution_count": 44,
     "metadata": {},
     "output_type": "execute_result"
    }
   ],
   "source": [
    "predictions_class_rbm"
   ]
  },
  {
   "cell_type": "code",
   "execution_count": 45,
   "metadata": {},
   "outputs": [],
   "source": [
    "import matplotlib.pyplot as plt \n",
    "import seaborn as sns\n",
    "from sklearn.metrics import confusion_matrix\n",
    "class visualization:\n",
    "  labels = [\"Normal\",\"Anomal\"]\n",
    "  def draw_confusion_matrix(self, y, ypred):\n",
    "    matrix = confusion_matrix(y, ypred)\n",
    "\n",
    "    plt.figure(figsize=(10,8))\n",
    "    colors=[\"orange\", \"green\"]\n",
    "    sns.heatmap(matrix, xticklabels=self.labels, yticklabels=self.labels, cmap=colors, annot=True, fmt=\"d\")\n",
    "    plt.title(\"Confusion Matrix\")\n",
    "    plt.ylabel(\"Realidad\")\n",
    "    plt.xlabel(\"Predicción\")\n",
    "    plt.show()"
   ]
  },
  {
   "cell_type": "code",
   "execution_count": 46,
   "metadata": {},
   "outputs": [
    {
     "data": {
      "image/png": "[encoded data removed]",
      "text/plain": [
       "<Figure size 720x576 with 2 Axes>"
      ]
     },
     "metadata": {
      "needs_background": "light"
     },
     "output_type": "display_data"
    }
   ],
   "source": [
    "viz = visualization()\n",
    "viz.draw_confusion_matrix(y_pd, predictions_class_rbm[:,14])"
   ]
  },
  {
   "cell_type": "code",
   "execution_count": 47,
   "metadata": {},
   "outputs": [],
   "source": [
    "predictions_class_rbm_pd = pd.concat([test_timedelta, predictions_class_rbm_pd], axis = 1 , join = \"inner\")"
   ]
  },
  {
   "cell_type": "code",
   "execution_count": 62,
   "metadata": {},
   "outputs": [],
   "source": [
    "anomalies_rbm = predictions_class_rbm_pd.loc[predictions_class_rbm_pd['class'] == 1.0,['timedelta']]"
   ]
  },
  {
   "cell_type": "code",
   "execution_count": 63,
   "metadata": {},
   "outputs": [
    {
     "data": {
      "text/html": [
       "<div>\n",
       "<style scoped>\n",
       "    .dataframe tbody tr th:only-of-type {\n",
       "        vertical-align: middle;\n",
       "    }\n",
       "\n",
       "    .dataframe tbody tr th {\n",
       "        vertical-align: top;\n",
       "    }\n",
       "\n",
       "    .dataframe thead th {\n",
       "        text-align: right;\n",
       "    }\n",
       "</style>\n",
       "<table border=\"1\" class=\"dataframe\">\n",
       "  <thead>\n",
       "    <tr style=\"text-align: right;\">\n",
       "      <th></th>\n",
       "      <th>timedelta</th>\n",
       "    </tr>\n",
       "  </thead>\n",
       "  <tbody>\n",
       "    <tr>\n",
       "      <th>2</th>\n",
       "      <td>0 days 00:11:00</td>\n",
       "    </tr>\n",
       "    <tr>\n",
       "      <th>6</th>\n",
       "      <td>0 days 00:41:00</td>\n",
       "    </tr>\n",
       "    <tr>\n",
       "      <th>11</th>\n",
       "      <td>0 days 01:18:00</td>\n",
       "    </tr>\n",
       "    <tr>\n",
       "      <th>19</th>\n",
       "      <td>0 days 02:12:00</td>\n",
       "    </tr>\n",
       "    <tr>\n",
       "      <th>24</th>\n",
       "      <td>0 days 03:01:00</td>\n",
       "    </tr>\n",
       "    <tr>\n",
       "      <th>...</th>\n",
       "      <td>...</td>\n",
       "    </tr>\n",
       "    <tr>\n",
       "      <th>278898</th>\n",
       "      <td>1200 days 22:23:00</td>\n",
       "    </tr>\n",
       "    <tr>\n",
       "      <th>278904</th>\n",
       "      <td>1200 days 23:07:00</td>\n",
       "    </tr>\n",
       "    <tr>\n",
       "      <th>278905</th>\n",
       "      <td>1200 days 23:21:00</td>\n",
       "    </tr>\n",
       "    <tr>\n",
       "      <th>278906</th>\n",
       "      <td>1200 days 23:39:00</td>\n",
       "    </tr>\n",
       "    <tr>\n",
       "      <th>278908</th>\n",
       "      <td>1200 days 23:49:00</td>\n",
       "    </tr>\n",
       "  </tbody>\n",
       "</table>\n",
       "<p>51472 rows × 1 columns</p>\n",
       "</div>"
      ],
      "text/plain": [
       "                 timedelta\n",
       "2          0 days 00:11:00\n",
       "6          0 days 00:41:00\n",
       "11         0 days 01:18:00\n",
       "19         0 days 02:12:00\n",
       "24         0 days 03:01:00\n",
       "...                    ...\n",
       "278898  1200 days 22:23:00\n",
       "278904  1200 days 23:07:00\n",
       "278905  1200 days 23:21:00\n",
       "278906  1200 days 23:39:00\n",
       "278908  1200 days 23:49:00\n",
       "\n",
       "[51472 rows x 1 columns]"
      ]
     },
     "execution_count": 63,
     "metadata": {},
     "output_type": "execute_result"
    }
   ],
   "source": [
    "anomalies_rbm"
   ]
  },
  {
   "attachments": {},
   "cell_type": "markdown",
   "metadata": {},
   "source": [
    "### Isolation Forest"
   ]
  },
  {
   "attachments": {},
   "cell_type": "markdown",
   "metadata": {},
   "source": [
    "Creación del modelo"
   ]
  },
  {
   "cell_type": "code",
   "execution_count": 50,
   "metadata": {},
   "outputs": [],
   "source": [
    "model_if = IsolationForest(n_estimators=100, contamination='auto', random_state=0)"
   ]
  },
  {
   "attachments": {},
   "cell_type": "markdown",
   "metadata": {},
   "source": [
    "Entreno el modelo"
   ]
  },
  {
   "cell_type": "code",
   "execution_count": 51,
   "metadata": {},
   "outputs": [
    {
     "data": {
      "text/html": [
       "<style>#sk-container-id-1 {color: black;background-color: white;}#sk-container-id-1 pre{padding: 0;}#sk-container-id-1 div.sk-toggleable {background-color: white;}#sk-container-id-1 label.sk-toggleable__label {cursor: pointer;display: block;width: 100%;margin-bottom: 0;padding: 0.3em;box-sizing: border-box;text-align: center;}#sk-container-id-1 label.sk-toggleable__label-arrow:before {content: \"▸\";float: left;margin-right: 0.25em;color: #696969;}#sk-container-id-1 label.sk-toggleable__label-arrow:hover:before {color: black;}#sk-container-id-1 div.sk-estimator:hover label.sk-toggleable__label-arrow:before {color: black;}#sk-container-id-1 div.sk-toggleable__content {max-height: 0;max-width: 0;overflow: hidden;text-align: left;background-color: #f0f8ff;}#sk-container-id-1 div.sk-toggleable__content pre {margin: 0.2em;color: black;border-radius: 0.25em;background-color: #f0f8ff;}#sk-container-id-1 input.sk-toggleable__control:checked~div.sk-toggleable__content {max-height: 200px;max-width: 100%;overflow: auto;}#sk-container-id-1 input.sk-toggleable__control:checked~label.sk-toggleable__label-arrow:before {content: \"▾\";}#sk-container-id-1 div.sk-estimator input.sk-toggleable__control:checked~label.sk-toggleable__label {background-color: #d4ebff;}#sk-container-id-1 div.sk-label input.sk-toggleable__control:checked~label.sk-toggleable__label {background-color: #d4ebff;}#sk-container-id-1 input.sk-hidden--visually {border: 0;clip: rect(1px 1px 1px 1px);clip: rect(1px, 1px, 1px, 1px);height: 1px;margin: -1px;overflow: hidden;padding: 0;position: absolute;width: 1px;}#sk-container-id-1 div.sk-estimator {font-family: monospace;background-color: #f0f8ff;border: 1px dotted black;border-radius: 0.25em;box-sizing: border-box;margin-bottom: 0.5em;}#sk-container-id-1 div.sk-estimator:hover {background-color: #d4ebff;}#sk-container-id-1 div.sk-parallel-item::after {content: \"\";width: 100%;border-bottom: 1px solid gray;flex-grow: 1;}#sk-container-id-1 div.sk-label:hover label.sk-toggleable__label {background-color: #d4ebff;}#sk-container-id-1 div.sk-serial::before {content: \"\";position: absolute;border-left: 1px solid gray;box-sizing: border-box;top: 0;bottom: 0;left: 50%;z-index: 0;}#sk-container-id-1 div.sk-serial {display: flex;flex-direction: column;align-items: center;background-color: white;padding-right: 0.2em;padding-left: 0.2em;position: relative;}#sk-container-id-1 div.sk-item {position: relative;z-index: 1;}#sk-container-id-1 div.sk-parallel {display: flex;align-items: stretch;justify-content: center;background-color: white;position: relative;}#sk-container-id-1 div.sk-item::before, #sk-container-id-1 div.sk-parallel-item::before {content: \"\";position: absolute;border-left: 1px solid gray;box-sizing: border-box;top: 0;bottom: 0;left: 50%;z-index: -1;}#sk-container-id-1 div.sk-parallel-item {display: flex;flex-direction: column;z-index: 1;position: relative;background-color: white;}#sk-container-id-1 div.sk-parallel-item:first-child::after {align-self: flex-end;width: 50%;}#sk-container-id-1 div.sk-parallel-item:last-child::after {align-self: flex-start;width: 50%;}#sk-container-id-1 div.sk-parallel-item:only-child::after {width: 0;}#sk-container-id-1 div.sk-dashed-wrapped {border: 1px dashed gray;margin: 0 0.4em 0.5em 0.4em;box-sizing: border-box;padding-bottom: 0.4em;background-color: white;}#sk-container-id-1 div.sk-label label {font-family: monospace;font-weight: bold;display: inline-block;line-height: 1.2em;}#sk-container-id-1 div.sk-label-container {text-align: center;}#sk-container-id-1 div.sk-container {/* jupyter's `normalize.less` sets `[hidden] { display: none; }` but bootstrap.min.css set `[hidden] { display: none !important; }` so we also need the `!important` here to be able to override the default hidden behavior on the sphinx rendered scikit-learn.org. See: https://github.com/scikit-learn/scikit-learn/issues/21755 */display: inline-block !important;position: relative;}#sk-container-id-1 div.sk-text-repr-fallback {display: none;}</style><div id=\"sk-container-id-1\" class=\"sk-top-container\"><div class=\"sk-text-repr-fallback\"><pre>IsolationForest(random_state=0)</pre><b>In a Jupyter environment, please rerun this cell to show the HTML representation or trust the notebook. <br />On GitHub, the HTML representation is unable to render, please try loading this page with nbviewer.org.</b></div><div class=\"sk-container\" hidden><div class=\"sk-item\"><div class=\"sk-estimator sk-toggleable\"><input class=\"sk-toggleable__control sk-hidden--visually\" id=\"sk-estimator-id-1\" type=\"checkbox\" checked><label for=\"sk-estimator-id-1\" class=\"sk-toggleable__label sk-toggleable__label-arrow\">IsolationForest</label><div class=\"sk-toggleable__content\"><pre>IsolationForest(random_state=0)</pre></div></div></div></div></div>"
      ],
      "text/plain": [
       "IsolationForest(random_state=0)"
      ]
     },
     "execution_count": 51,
     "metadata": {},
     "output_type": "execute_result"
    }
   ],
   "source": [
    "model_if.fit(train_data,train_data)"
   ]
  },
  {
   "cell_type": "code",
   "execution_count": 52,
   "metadata": {},
   "outputs": [],
   "source": [
    "predictions_if = model_if.predict(test_data)"
   ]
  },
  {
   "attachments": {},
   "cell_type": "markdown",
   "metadata": {},
   "source": [
    "Evaluación del modelo Isolation Forest"
   ]
  },
  {
   "cell_type": "code",
   "execution_count": 53,
   "metadata": {},
   "outputs": [],
   "source": [
    "threshold_if = 0.05\n",
    "predictions_if[predictions_if >= threshold_if] = 1\n",
    "predictions_if[predictions_if < threshold_if] = 0"
   ]
  },
  {
   "cell_type": "code",
   "execution_count": 54,
   "metadata": {},
   "outputs": [
    {
     "name": "stdout",
     "output_type": "stream",
     "text": [
      "Predicted      0       1\n",
      "Actual                  \n",
      "0.0        20351  211303\n",
      "1.0        10298   36959\n"
     ]
    }
   ],
   "source": [
    "#y_full = y_full.to_numpy()\n",
    "confusion_matrix = pd.crosstab(y_full[:, -1], predictions_if, rownames=['Actual'], colnames=['Predicted'])\n",
    "print(confusion_matrix)"
   ]
  },
  {
   "cell_type": "code",
   "execution_count": 55,
   "metadata": {},
   "outputs": [
    {
     "name": "stdout",
     "output_type": "stream",
     "text": [
      "El número de anomalias predecidas es 248262 y 30649 valores normales\n"
     ]
    }
   ],
   "source": [
    "pd_predictions_if = pd.DataFrame(predictions_if, columns=['class'])\n",
    "count = (pd_predictions_if['class'] == 1).sum()\n",
    "count1 = (pd_predictions_if['class'] == 0).sum()\n",
    "print(f'El número de anomalias predecidas es {count} y {count1} valores normales')"
   ]
  },
  {
   "cell_type": "code",
   "execution_count": 56,
   "metadata": {},
   "outputs": [
    {
     "name": "stdout",
     "output_type": "stream",
     "text": [
      "              precision    recall  f1-score   support\n",
      "\n",
      "           0       0.09      0.66      0.16     30649\n",
      "           1       0.78      0.15      0.25    248262\n",
      "\n",
      "    accuracy                           0.21    278911\n",
      "   macro avg       0.43      0.41      0.20    278911\n",
      "weighted avg       0.71      0.21      0.24    278911\n",
      "\n"
     ]
    }
   ],
   "source": [
    "print(classification_report(pd_predictions_if, y))"
   ]
  },
  {
   "cell_type": "code",
   "execution_count": 57,
   "metadata": {},
   "outputs": [
    {
     "name": "stdout",
     "output_type": "stream",
     "text": [
      "El número de anomalias reales es 47257\n"
     ]
    }
   ],
   "source": [
    "y_pd = pd.DataFrame(y, columns = ['class'])\n",
    "count = (y_pd['class'] == 1).sum()\n",
    "print(f'El número de anomalias reales es {count}')"
   ]
  },
  {
   "cell_type": "code",
   "execution_count": 58,
   "metadata": {},
   "outputs": [
    {
     "name": "stdout",
     "output_type": "stream",
     "text": [
      "El número de anomalias predecidas es 248262\n"
     ]
    }
   ],
   "source": [
    "count = (pd_predictions_if['class'] == 1).sum()\n",
    "print(f'El número de anomalias predecidas es {count}')"
   ]
  },
  {
   "cell_type": "code",
   "execution_count": 59,
   "metadata": {},
   "outputs": [],
   "source": [
    "import matplotlib.pyplot as plt \n",
    "import seaborn as sns\n",
    "from sklearn.metrics import confusion_matrix\n",
    "class visualization:\n",
    "  labels = [\"Normal\",\"Anomal\"]\n",
    "  def draw_confusion_matrix(self, y, ypred):\n",
    "    matrix = confusion_matrix(y, ypred)\n",
    "\n",
    "    plt.figure(figsize=(10,8))\n",
    "    colors=[\"orange\", \"green\"]\n",
    "    sns.heatmap(matrix, xticklabels=self.labels, yticklabels=self.labels, cmap=colors, annot=True, fmt=\"d\")\n",
    "    plt.title(\"Confusion Matrix\")\n",
    "    plt.ylabel(\"Realidad\")\n",
    "    plt.xlabel(\"Predicción\")\n",
    "    plt.show()"
   ]
  },
  {
   "cell_type": "code",
   "execution_count": 60,
   "metadata": {},
   "outputs": [
    {
     "data": {
      "image/png": "[encoded data removed]",
      "text/plain": [
       "<Figure size 720x576 with 2 Axes>"
      ]
     },
     "metadata": {
      "needs_background": "light"
     },
     "output_type": "display_data"
    }
   ],
   "source": [
    "viz = visualization()\n",
    "viz.draw_confusion_matrix(y_pd, pd_predictions_if)"
   ]
  },
  {
   "cell_type": "code",
   "execution_count": 61,
   "metadata": {},
   "outputs": [],
   "source": [
    "predictions_class_if_pd = pd.concat([test_timedelta, pd_predictions_if], axis = 1 , join = \"inner\")"
   ]
  },
  {
   "cell_type": "code",
   "execution_count": 66,
   "metadata": {},
   "outputs": [
    {
     "data": {
      "text/html": [
       "<div>\n",
       "<style scoped>\n",
       "    .dataframe tbody tr th:only-of-type {\n",
       "        vertical-align: middle;\n",
       "    }\n",
       "\n",
       "    .dataframe tbody tr th {\n",
       "        vertical-align: top;\n",
       "    }\n",
       "\n",
       "    .dataframe thead th {\n",
       "        text-align: right;\n",
       "    }\n",
       "</style>\n",
       "<table border=\"1\" class=\"dataframe\">\n",
       "  <thead>\n",
       "    <tr style=\"text-align: right;\">\n",
       "      <th></th>\n",
       "      <th>index</th>\n",
       "      <th>timedelta</th>\n",
       "      <th>class</th>\n",
       "    </tr>\n",
       "  </thead>\n",
       "  <tbody>\n",
       "    <tr>\n",
       "      <th>0</th>\n",
       "      <td>3</td>\n",
       "      <td>0 days 00:03:00</td>\n",
       "      <td>1</td>\n",
       "    </tr>\n",
       "    <tr>\n",
       "      <th>1</th>\n",
       "      <td>4</td>\n",
       "      <td>0 days 00:04:00</td>\n",
       "      <td>1</td>\n",
       "    </tr>\n",
       "    <tr>\n",
       "      <th>2</th>\n",
       "      <td>11</td>\n",
       "      <td>0 days 00:11:00</td>\n",
       "      <td>1</td>\n",
       "    </tr>\n",
       "    <tr>\n",
       "      <th>3</th>\n",
       "      <td>16</td>\n",
       "      <td>0 days 00:16:00</td>\n",
       "      <td>1</td>\n",
       "    </tr>\n",
       "    <tr>\n",
       "      <th>4</th>\n",
       "      <td>27</td>\n",
       "      <td>0 days 00:27:00</td>\n",
       "      <td>1</td>\n",
       "    </tr>\n",
       "    <tr>\n",
       "      <th>...</th>\n",
       "      <td>...</td>\n",
       "      <td>...</td>\n",
       "      <td>...</td>\n",
       "    </tr>\n",
       "    <tr>\n",
       "      <th>278906</th>\n",
       "      <td>1729419</td>\n",
       "      <td>1200 days 23:39:00</td>\n",
       "      <td>1</td>\n",
       "    </tr>\n",
       "    <tr>\n",
       "      <th>278907</th>\n",
       "      <td>1729427</td>\n",
       "      <td>1200 days 23:47:00</td>\n",
       "      <td>1</td>\n",
       "    </tr>\n",
       "    <tr>\n",
       "      <th>278908</th>\n",
       "      <td>1729429</td>\n",
       "      <td>1200 days 23:49:00</td>\n",
       "      <td>1</td>\n",
       "    </tr>\n",
       "    <tr>\n",
       "      <th>278909</th>\n",
       "      <td>1729434</td>\n",
       "      <td>1200 days 23:54:00</td>\n",
       "      <td>1</td>\n",
       "    </tr>\n",
       "    <tr>\n",
       "      <th>278910</th>\n",
       "      <td>1729437</td>\n",
       "      <td>1200 days 23:57:00</td>\n",
       "      <td>1</td>\n",
       "    </tr>\n",
       "  </tbody>\n",
       "</table>\n",
       "<p>278911 rows × 3 columns</p>\n",
       "</div>"
      ],
      "text/plain": [
       "          index           timedelta  class\n",
       "0             3     0 days 00:03:00      1\n",
       "1             4     0 days 00:04:00      1\n",
       "2            11     0 days 00:11:00      1\n",
       "3            16     0 days 00:16:00      1\n",
       "4            27     0 days 00:27:00      1\n",
       "...         ...                 ...    ...\n",
       "278906  1729419  1200 days 23:39:00      1\n",
       "278907  1729427  1200 days 23:47:00      1\n",
       "278908  1729429  1200 days 23:49:00      1\n",
       "278909  1729434  1200 days 23:54:00      1\n",
       "278910  1729437  1200 days 23:57:00      1\n",
       "\n",
       "[278911 rows x 3 columns]"
      ]
     },
     "execution_count": 66,
     "metadata": {},
     "output_type": "execute_result"
    }
   ],
   "source": [
    "predictions_class_if_pd"
   ]
  },
  {
   "cell_type": "code",
   "execution_count": 70,
   "metadata": {},
   "outputs": [],
   "source": [
    "anomalies_if = predictions_class_if_pd.loc[predictions_class_if_pd['class'] == 1.0,['timedelta']]"
   ]
  },
  {
   "cell_type": "code",
   "execution_count": 71,
   "metadata": {},
   "outputs": [
    {
     "data": {
      "text/html": [
       "<div>\n",
       "<style scoped>\n",
       "    .dataframe tbody tr th:only-of-type {\n",
       "        vertical-align: middle;\n",
       "    }\n",
       "\n",
       "    .dataframe tbody tr th {\n",
       "        vertical-align: top;\n",
       "    }\n",
       "\n",
       "    .dataframe thead th {\n",
       "        text-align: right;\n",
       "    }\n",
       "</style>\n",
       "<table border=\"1\" class=\"dataframe\">\n",
       "  <thead>\n",
       "    <tr style=\"text-align: right;\">\n",
       "      <th></th>\n",
       "      <th>timedelta</th>\n",
       "    </tr>\n",
       "  </thead>\n",
       "  <tbody>\n",
       "    <tr>\n",
       "      <th>0</th>\n",
       "      <td>0 days 00:03:00</td>\n",
       "    </tr>\n",
       "    <tr>\n",
       "      <th>1</th>\n",
       "      <td>0 days 00:04:00</td>\n",
       "    </tr>\n",
       "    <tr>\n",
       "      <th>2</th>\n",
       "      <td>0 days 00:11:00</td>\n",
       "    </tr>\n",
       "    <tr>\n",
       "      <th>3</th>\n",
       "      <td>0 days 00:16:00</td>\n",
       "    </tr>\n",
       "    <tr>\n",
       "      <th>4</th>\n",
       "      <td>0 days 00:27:00</td>\n",
       "    </tr>\n",
       "    <tr>\n",
       "      <th>...</th>\n",
       "      <td>...</td>\n",
       "    </tr>\n",
       "    <tr>\n",
       "      <th>278906</th>\n",
       "      <td>1200 days 23:39:00</td>\n",
       "    </tr>\n",
       "    <tr>\n",
       "      <th>278907</th>\n",
       "      <td>1200 days 23:47:00</td>\n",
       "    </tr>\n",
       "    <tr>\n",
       "      <th>278908</th>\n",
       "      <td>1200 days 23:49:00</td>\n",
       "    </tr>\n",
       "    <tr>\n",
       "      <th>278909</th>\n",
       "      <td>1200 days 23:54:00</td>\n",
       "    </tr>\n",
       "    <tr>\n",
       "      <th>278910</th>\n",
       "      <td>1200 days 23:57:00</td>\n",
       "    </tr>\n",
       "  </tbody>\n",
       "</table>\n",
       "<p>248262 rows × 1 columns</p>\n",
       "</div>"
      ],
      "text/plain": [
       "                 timedelta\n",
       "0          0 days 00:03:00\n",
       "1          0 days 00:04:00\n",
       "2          0 days 00:11:00\n",
       "3          0 days 00:16:00\n",
       "4          0 days 00:27:00\n",
       "...                    ...\n",
       "278906  1200 days 23:39:00\n",
       "278907  1200 days 23:47:00\n",
       "278908  1200 days 23:49:00\n",
       "278909  1200 days 23:54:00\n",
       "278910  1200 days 23:57:00\n",
       "\n",
       "[248262 rows x 1 columns]"
      ]
     },
     "execution_count": 71,
     "metadata": {},
     "output_type": "execute_result"
    }
   ],
   "source": [
    "anomalies_if"
   ]
  },
  {
   "attachments": {},
   "cell_type": "markdown",
   "metadata": {},
   "source": [
    "### Support Vector Machines"
   ]
  },
  {
   "attachments": {},
   "cell_type": "markdown",
   "metadata": {},
   "source": [
    "Creación del modelo"
   ]
  },
  {
   "cell_type": "code",
   "execution_count": 69,
   "metadata": {},
   "outputs": [],
   "source": [
    "model_svm = OneClassSVM(kernel='rbf', nu=0.01)"
   ]
  },
  {
   "attachments": {},
   "cell_type": "markdown",
   "metadata": {},
   "source": [
    "Entreno el modelo"
   ]
  },
  {
   "cell_type": "code",
   "execution_count": 72,
   "metadata": {},
   "outputs": [
    {
     "data": {
      "text/html": [
       "<style>#sk-container-id-2 {color: black;background-color: white;}#sk-container-id-2 pre{padding: 0;}#sk-container-id-2 div.sk-toggleable {background-color: white;}#sk-container-id-2 label.sk-toggleable__label {cursor: pointer;display: block;width: 100%;margin-bottom: 0;padding: 0.3em;box-sizing: border-box;text-align: center;}#sk-container-id-2 label.sk-toggleable__label-arrow:before {content: \"▸\";float: left;margin-right: 0.25em;color: #696969;}#sk-container-id-2 label.sk-toggleable__label-arrow:hover:before {color: black;}#sk-container-id-2 div.sk-estimator:hover label.sk-toggleable__label-arrow:before {color: black;}#sk-container-id-2 div.sk-toggleable__content {max-height: 0;max-width: 0;overflow: hidden;text-align: left;background-color: #f0f8ff;}#sk-container-id-2 div.sk-toggleable__content pre {margin: 0.2em;color: black;border-radius: 0.25em;background-color: #f0f8ff;}#sk-container-id-2 input.sk-toggleable__control:checked~div.sk-toggleable__content {max-height: 200px;max-width: 100%;overflow: auto;}#sk-container-id-2 input.sk-toggleable__control:checked~label.sk-toggleable__label-arrow:before {content: \"▾\";}#sk-container-id-2 div.sk-estimator input.sk-toggleable__control:checked~label.sk-toggleable__label {background-color: #d4ebff;}#sk-container-id-2 div.sk-label input.sk-toggleable__control:checked~label.sk-toggleable__label {background-color: #d4ebff;}#sk-container-id-2 input.sk-hidden--visually {border: 0;clip: rect(1px 1px 1px 1px);clip: rect(1px, 1px, 1px, 1px);height: 1px;margin: -1px;overflow: hidden;padding: 0;position: absolute;width: 1px;}#sk-container-id-2 div.sk-estimator {font-family: monospace;background-color: #f0f8ff;border: 1px dotted black;border-radius: 0.25em;box-sizing: border-box;margin-bottom: 0.5em;}#sk-container-id-2 div.sk-estimator:hover {background-color: #d4ebff;}#sk-container-id-2 div.sk-parallel-item::after {content: \"\";width: 100%;border-bottom: 1px solid gray;flex-grow: 1;}#sk-container-id-2 div.sk-label:hover label.sk-toggleable__label {background-color: #d4ebff;}#sk-container-id-2 div.sk-serial::before {content: \"\";position: absolute;border-left: 1px solid gray;box-sizing: border-box;top: 0;bottom: 0;left: 50%;z-index: 0;}#sk-container-id-2 div.sk-serial {display: flex;flex-direction: column;align-items: center;background-color: white;padding-right: 0.2em;padding-left: 0.2em;position: relative;}#sk-container-id-2 div.sk-item {position: relative;z-index: 1;}#sk-container-id-2 div.sk-parallel {display: flex;align-items: stretch;justify-content: center;background-color: white;position: relative;}#sk-container-id-2 div.sk-item::before, #sk-container-id-2 div.sk-parallel-item::before {content: \"\";position: absolute;border-left: 1px solid gray;box-sizing: border-box;top: 0;bottom: 0;left: 50%;z-index: -1;}#sk-container-id-2 div.sk-parallel-item {display: flex;flex-direction: column;z-index: 1;position: relative;background-color: white;}#sk-container-id-2 div.sk-parallel-item:first-child::after {align-self: flex-end;width: 50%;}#sk-container-id-2 div.sk-parallel-item:last-child::after {align-self: flex-start;width: 50%;}#sk-container-id-2 div.sk-parallel-item:only-child::after {width: 0;}#sk-container-id-2 div.sk-dashed-wrapped {border: 1px dashed gray;margin: 0 0.4em 0.5em 0.4em;box-sizing: border-box;padding-bottom: 0.4em;background-color: white;}#sk-container-id-2 div.sk-label label {font-family: monospace;font-weight: bold;display: inline-block;line-height: 1.2em;}#sk-container-id-2 div.sk-label-container {text-align: center;}#sk-container-id-2 div.sk-container {/* jupyter's `normalize.less` sets `[hidden] { display: none; }` but bootstrap.min.css set `[hidden] { display: none !important; }` so we also need the `!important` here to be able to override the default hidden behavior on the sphinx rendered scikit-learn.org. See: https://github.com/scikit-learn/scikit-learn/issues/21755 */display: inline-block !important;position: relative;}#sk-container-id-2 div.sk-text-repr-fallback {display: none;}</style><div id=\"sk-container-id-2\" class=\"sk-top-container\"><div class=\"sk-text-repr-fallback\"><pre>OneClassSVM(nu=0.01)</pre><b>In a Jupyter environment, please rerun this cell to show the HTML representation or trust the notebook. <br />On GitHub, the HTML representation is unable to render, please try loading this page with nbviewer.org.</b></div><div class=\"sk-container\" hidden><div class=\"sk-item\"><div class=\"sk-estimator sk-toggleable\"><input class=\"sk-toggleable__control sk-hidden--visually\" id=\"sk-estimator-id-2\" type=\"checkbox\" checked><label for=\"sk-estimator-id-2\" class=\"sk-toggleable__label sk-toggleable__label-arrow\">OneClassSVM</label><div class=\"sk-toggleable__content\"><pre>OneClassSVM(nu=0.01)</pre></div></div></div></div></div>"
      ],
      "text/plain": [
       "OneClassSVM(nu=0.01)"
      ]
     },
     "execution_count": 72,
     "metadata": {},
     "output_type": "execute_result"
    }
   ],
   "source": [
    "model_svm.fit(train_data)"
   ]
  },
  {
   "cell_type": "code",
   "execution_count": 73,
   "metadata": {},
   "outputs": [],
   "source": [
    "predictions_svm = model_svm.predict(test_data)"
   ]
  },
  {
   "attachments": {},
   "cell_type": "markdown",
   "metadata": {},
   "source": [
    "Evaluación del Modelo Support Vector Machines"
   ]
  },
  {
   "cell_type": "code",
   "execution_count": 74,
   "metadata": {},
   "outputs": [],
   "source": [
    "predictions_svm[predictions_svm == 1] = 0\n",
    "predictions_svm[predictions_svm == -1] = 1"
   ]
  },
  {
   "cell_type": "code",
   "execution_count": 75,
   "metadata": {},
   "outputs": [
    {
     "name": "stdout",
     "output_type": "stream",
     "text": [
      "Predicted       0     1\n",
      "Actual                 \n",
      "0.0        229637  2017\n",
      "1.0         46353   904\n"
     ]
    }
   ],
   "source": [
    "confusion_matrix = pd.crosstab(y_full[:, -1], predictions_svm, rownames=['Actual'], colnames=['Predicted'])\n",
    "print(confusion_matrix)"
   ]
  },
  {
   "cell_type": "code",
   "execution_count": 76,
   "metadata": {},
   "outputs": [
    {
     "name": "stdout",
     "output_type": "stream",
     "text": [
      "El número de anomalias predecidas es 2921 y 275990 valores normales\n"
     ]
    }
   ],
   "source": [
    "pd_predictions_svm = pd.DataFrame(predictions_svm, columns=['class'])\n",
    "count = (pd_predictions_svm['class'] == 1).sum()\n",
    "count1 = (pd_predictions_svm['class'] == 0).sum()\n",
    "print(f'El número de anomalias predecidas es {count} y {count1} valores normales')"
   ]
  },
  {
   "cell_type": "code",
   "execution_count": 77,
   "metadata": {},
   "outputs": [
    {
     "name": "stdout",
     "output_type": "stream",
     "text": [
      "              precision    recall  f1-score   support\n",
      "\n",
      "           0       0.99      0.83      0.90    275990\n",
      "           1       0.02      0.31      0.04      2921\n",
      "\n",
      "    accuracy                           0.83    278911\n",
      "   macro avg       0.51      0.57      0.47    278911\n",
      "weighted avg       0.98      0.83      0.90    278911\n",
      "\n"
     ]
    }
   ],
   "source": [
    "print(classification_report(pd_predictions_svm, y))"
   ]
  },
  {
   "cell_type": "code",
   "execution_count": 78,
   "metadata": {},
   "outputs": [
    {
     "name": "stdout",
     "output_type": "stream",
     "text": [
      "El número de anomalias reales es 47257\n"
     ]
    }
   ],
   "source": [
    "y_pd = pd.DataFrame(y, columns = ['class'])\n",
    "count = (y_pd['class'] == 1).sum()\n",
    "print(f'El número de anomalias reales es {count}')"
   ]
  },
  {
   "cell_type": "code",
   "execution_count": 79,
   "metadata": {},
   "outputs": [
    {
     "name": "stdout",
     "output_type": "stream",
     "text": [
      "El número de anomalias predecidas es 2921\n"
     ]
    }
   ],
   "source": [
    "count = (pd_predictions_svm['class'] == 1).sum()\n",
    "print(f'El número de anomalias predecidas es {count}')"
   ]
  },
  {
   "cell_type": "code",
   "execution_count": 80,
   "metadata": {},
   "outputs": [],
   "source": [
    "import matplotlib.pyplot as plt \n",
    "import seaborn as sns\n",
    "from sklearn.metrics import confusion_matrix\n",
    "class visualization:\n",
    "  labels = [\"Normal\",\"Anomal\"]\n",
    "  def draw_confusion_matrix(self, y, ypred):\n",
    "    matrix = confusion_matrix(y, ypred)\n",
    "\n",
    "    plt.figure(figsize=(10,8))\n",
    "    colors=[\"orange\", \"green\"]\n",
    "    sns.heatmap(matrix, xticklabels=self.labels, yticklabels=self.labels, cmap=colors, annot=True, fmt=\"d\")\n",
    "    plt.title(\"Confusion Matrix\")\n",
    "    plt.ylabel(\"Realidad\")\n",
    "    plt.xlabel(\"Predicción\")\n",
    "    plt.show()"
   ]
  },
  {
   "cell_type": "code",
   "execution_count": 81,
   "metadata": {},
   "outputs": [
    {
     "data": {
      "image/png": "[encoded data removed]",
      "text/plain": [
       "<Figure size 720x576 with 2 Axes>"
      ]
     },
     "metadata": {
      "needs_background": "light"
     },
     "output_type": "display_data"
    }
   ],
   "source": [
    "viz = visualization()\n",
    "viz.draw_confusion_matrix(y_pd, pd_predictions_svm)"
   ]
  },
  {
   "cell_type": "code",
   "execution_count": 146,
   "metadata": {},
   "outputs": [],
   "source": [
    "anomalies_svm = pd.concat([test_timedelta, pd_predictions_svm], axis = 1 , join = \"inner\")"
   ]
  },
  {
   "cell_type": "code",
   "execution_count": 147,
   "metadata": {},
   "outputs": [
    {
     "data": {
      "text/html": [
       "<div>\n",
       "<style scoped>\n",
       "    .dataframe tbody tr th:only-of-type {\n",
       "        vertical-align: middle;\n",
       "    }\n",
       "\n",
       "    .dataframe tbody tr th {\n",
       "        vertical-align: top;\n",
       "    }\n",
       "\n",
       "    .dataframe thead th {\n",
       "        text-align: right;\n",
       "    }\n",
       "</style>\n",
       "<table border=\"1\" class=\"dataframe\">\n",
       "  <thead>\n",
       "    <tr style=\"text-align: right;\">\n",
       "      <th></th>\n",
       "      <th>index</th>\n",
       "      <th>timedelta</th>\n",
       "      <th>index</th>\n",
       "      <th>timedelta</th>\n",
       "      <th>class</th>\n",
       "    </tr>\n",
       "  </thead>\n",
       "  <tbody>\n",
       "    <tr>\n",
       "      <th>0</th>\n",
       "      <td>3</td>\n",
       "      <td>0 days 00:03:00</td>\n",
       "      <td>3</td>\n",
       "      <td>0 days 00:03:00</td>\n",
       "      <td>0</td>\n",
       "    </tr>\n",
       "    <tr>\n",
       "      <th>1</th>\n",
       "      <td>4</td>\n",
       "      <td>0 days 00:04:00</td>\n",
       "      <td>4</td>\n",
       "      <td>0 days 00:04:00</td>\n",
       "      <td>0</td>\n",
       "    </tr>\n",
       "    <tr>\n",
       "      <th>2</th>\n",
       "      <td>11</td>\n",
       "      <td>0 days 00:11:00</td>\n",
       "      <td>11</td>\n",
       "      <td>0 days 00:11:00</td>\n",
       "      <td>0</td>\n",
       "    </tr>\n",
       "    <tr>\n",
       "      <th>3</th>\n",
       "      <td>16</td>\n",
       "      <td>0 days 00:16:00</td>\n",
       "      <td>16</td>\n",
       "      <td>0 days 00:16:00</td>\n",
       "      <td>0</td>\n",
       "    </tr>\n",
       "    <tr>\n",
       "      <th>4</th>\n",
       "      <td>27</td>\n",
       "      <td>0 days 00:27:00</td>\n",
       "      <td>27</td>\n",
       "      <td>0 days 00:27:00</td>\n",
       "      <td>0</td>\n",
       "    </tr>\n",
       "    <tr>\n",
       "      <th>...</th>\n",
       "      <td>...</td>\n",
       "      <td>...</td>\n",
       "      <td>...</td>\n",
       "      <td>...</td>\n",
       "      <td>...</td>\n",
       "    </tr>\n",
       "    <tr>\n",
       "      <th>278906</th>\n",
       "      <td>1729419</td>\n",
       "      <td>1200 days 23:39:00</td>\n",
       "      <td>1729419</td>\n",
       "      <td>1200 days 23:39:00</td>\n",
       "      <td>0</td>\n",
       "    </tr>\n",
       "    <tr>\n",
       "      <th>278907</th>\n",
       "      <td>1729427</td>\n",
       "      <td>1200 days 23:47:00</td>\n",
       "      <td>1729427</td>\n",
       "      <td>1200 days 23:47:00</td>\n",
       "      <td>0</td>\n",
       "    </tr>\n",
       "    <tr>\n",
       "      <th>278908</th>\n",
       "      <td>1729429</td>\n",
       "      <td>1200 days 23:49:00</td>\n",
       "      <td>1729429</td>\n",
       "      <td>1200 days 23:49:00</td>\n",
       "      <td>0</td>\n",
       "    </tr>\n",
       "    <tr>\n",
       "      <th>278909</th>\n",
       "      <td>1729434</td>\n",
       "      <td>1200 days 23:54:00</td>\n",
       "      <td>1729434</td>\n",
       "      <td>1200 days 23:54:00</td>\n",
       "      <td>0</td>\n",
       "    </tr>\n",
       "    <tr>\n",
       "      <th>278910</th>\n",
       "      <td>1729437</td>\n",
       "      <td>1200 days 23:57:00</td>\n",
       "      <td>1729437</td>\n",
       "      <td>1200 days 23:57:00</td>\n",
       "      <td>0</td>\n",
       "    </tr>\n",
       "  </tbody>\n",
       "</table>\n",
       "<p>278911 rows × 5 columns</p>\n",
       "</div>"
      ],
      "text/plain": [
       "          index           timedelta    index           timedelta  class\n",
       "0             3     0 days 00:03:00        3     0 days 00:03:00      0\n",
       "1             4     0 days 00:04:00        4     0 days 00:04:00      0\n",
       "2            11     0 days 00:11:00       11     0 days 00:11:00      0\n",
       "3            16     0 days 00:16:00       16     0 days 00:16:00      0\n",
       "4            27     0 days 00:27:00       27     0 days 00:27:00      0\n",
       "...         ...                 ...      ...                 ...    ...\n",
       "278906  1729419  1200 days 23:39:00  1729419  1200 days 23:39:00      0\n",
       "278907  1729427  1200 days 23:47:00  1729427  1200 days 23:47:00      0\n",
       "278908  1729429  1200 days 23:49:00  1729429  1200 days 23:49:00      0\n",
       "278909  1729434  1200 days 23:54:00  1729434  1200 days 23:54:00      0\n",
       "278910  1729437  1200 days 23:57:00  1729437  1200 days 23:57:00      0\n",
       "\n",
       "[278911 rows x 5 columns]"
      ]
     },
     "execution_count": 147,
     "metadata": {},
     "output_type": "execute_result"
    }
   ],
   "source": [
    "anomalies_svm"
   ]
  },
  {
   "attachments": {},
   "cell_type": "markdown",
   "metadata": {},
   "source": [
    "## Gráficos y evaluación con AUC"
   ]
  },
  {
   "cell_type": "code",
   "execution_count": 82,
   "metadata": {},
   "outputs": [],
   "source": [
    "clase = y_full[:,-1].astype(int)"
   ]
  },
  {
   "cell_type": "code",
   "execution_count": 83,
   "metadata": {},
   "outputs": [
    {
     "name": "stdout",
     "output_type": "stream",
     "text": [
      "AUC de LSTM Autoencoder: 0.8813205744715598\n",
      "AUC de Restricted Bolztmann Machine: 0.8842146413112433\n",
      "AUC de Isolation Forest: 0.434968020124509\n",
      "AUC de Suport Vector Machines: 0.5052112451286748\n"
     ]
    }
   ],
   "source": [
    "from sklearn.metrics import roc_auc_score\n",
    "\n",
    "# Calcular el AUC para cada modelo utilizando la función roc_auc_score() de la biblioteca scikit-learn\n",
    "LSTM_auc = roc_auc_score(clase, predictions_class_LSTM[:,14])\n",
    "rbm_auc = roc_auc_score(clase, predictions_class_rbm[:,14])\n",
    "if_auc = roc_auc_score(clase, predictions_if)\n",
    "svm_auc = roc_auc_score(clase, predictions_svm)\n",
    "print(\"AUC de LSTM Autoencoder:\", LSTM_auc)\n",
    "print(\"AUC de Restricted Bolztmann Machine:\", rbm_auc)\n",
    "print(\"AUC de Isolation Forest:\", if_auc)\n",
    "print(\"AUC de Suport Vector Machines:\", svm_auc)"
   ]
  },
  {
   "cell_type": "code",
   "execution_count": 84,
   "metadata": {},
   "outputs": [],
   "source": [
    "from sklearn.metrics import roc_curve, auc\n",
    "import matplotlib.pyplot as plt"
   ]
  },
  {
   "cell_type": "code",
   "execution_count": 85,
   "metadata": {},
   "outputs": [],
   "source": [
    "rbm_fpr, rbm_tpr, _ = roc_curve(clase, predictions_class_rbm[:,14])\n",
    "rbm_auc = auc(rbm_fpr, rbm_tpr)"
   ]
  },
  {
   "cell_type": "code",
   "execution_count": 86,
   "metadata": {},
   "outputs": [],
   "source": [
    "LSTM_fpr, LSTM_tpr, _ = roc_curve(clase, predictions_class_LSTM[:,14])\n",
    "LSTM_auc = auc(LSTM_fpr, LSTM_tpr)"
   ]
  },
  {
   "cell_type": "code",
   "execution_count": 87,
   "metadata": {},
   "outputs": [],
   "source": [
    "if_fpr, if_tpr, _ = roc_curve(clase, predictions_if)\n",
    "if_auc = auc(if_fpr, if_tpr)"
   ]
  },
  {
   "cell_type": "code",
   "execution_count": 88,
   "metadata": {},
   "outputs": [],
   "source": [
    "svm_fpr, svm_tpr, _ = roc_curve(clase, predictions_svm)\n",
    "svm_auc = auc(svm_fpr, svm_tpr)"
   ]
  },
  {
   "cell_type": "code",
   "execution_count": 89,
   "metadata": {},
   "outputs": [
    {
     "data": {
      "image/png": "[encoded data removed]",
      "text/plain": [
       "<Figure size 432x288 with 1 Axes>"
      ]
     },
     "metadata": {
      "needs_background": "light"
     },
     "output_type": "display_data"
    }
   ],
   "source": [
    "plt.figure()\n",
    "plt.plot(LSTM_fpr, LSTM_tpr, color='darkorange', lw=1, label='LSTM Autoencoder (AUC = %0.2f)' % LSTM_auc)\n",
    "plt.plot(rbm_fpr, rbm_tpr, color='green', lw=1, label='RBM (AUC = %0.2f)' % rbm_auc)\n",
    "plt.plot(if_fpr, if_tpr, color='blue', lw=1, label='Isolation Forest (AUC = %0.2f)' % if_auc)\n",
    "plt.plot(svm_fpr, svm_tpr, color='red', lw=1, label='Support Vector Machines (AUC = %0.2f)' % svm_auc)\n",
    "plt.plot([0, 1], [0, 1], color='navy', lw=2, linestyle='--')\n",
    "plt.xlim([0.0, 1.0])\n",
    "plt.ylim([0.0, 1.05])\n",
    "plt.xlabel('False Positive Rate')\n",
    "plt.ylabel('True Positive Rate')\n",
    "plt.title('Curvas ROC de los modelos de detección de anomalías')\n",
    "plt.legend(loc=\"lower right\")\n",
    "plt.show()"
   ]
  },
  {
   "attachments": {},
   "cell_type": "markdown",
   "metadata": {},
   "source": [
    "## Reporte en PDF"
   ]
  },
  {
   "cell_type": "code",
   "execution_count": 155,
   "metadata": {},
   "outputs": [],
   "source": [
    "from reportlab.lib.pagesizes import A4\n",
    "from reportlab.lib.units import inch\n",
    "from reportlab.pdfgen import canvas\n",
    "from reportlab.lib import colors\n",
    "from reportlab.lib.styles import getSampleStyleSheet\n",
    "from reportlab.platypus import Table, TableStyle\n",
    "\n",
    "pdf = canvas.Canvas(\"Reporte de Anomalías.pdf\", pagesize=A4)\n",
    "page_width, page_height = A4\n",
    "inch = 72\n",
    "df = anomalies_rbm\n",
    "\n",
    "data = [df.columns.tolist()] + df.values.tolist()\n",
    "\n",
    "styles = getSampleStyleSheet()\n",
    "style_table = TableStyle([\n",
    "    ('BACKGROUND', (0, 0), (-1, 0), colors.grey),\n",
    "    ('TEXTCOLOR', (0, 0), (-1, 0), colors.whitesmoke),\n",
    "    ('FONTNAME', (0, 0), (-1, 0), 'Helvetica-Bold'),\n",
    "    ('FONTSIZE', (0, 0), (-1, 0), 12),\n",
    "    ('BOTTOMPADDING', (0, 0), (-1, 0), 12),\n",
    "    ('BACKGROUND', (0, 1), (-1, -1), colors.beige),\n",
    "    ('GRID', (0, 0), (-1, -1), 1, colors.black),\n",
    "    ('ALIGN', (0, 0), (-1, -1), 'CENTER'),\n",
    "    ('VALIGN', (0, 0), (-1, -1), 'MIDDLE'),\n",
    "    ('FONTNAME', (0, 1), (-1, -1), 'Helvetica'),\n",
    "    ('FONTSIZE', (0, 1), (-1, -1), 12),\n",
    "    ('BOTTOMPADDING', (0, 1), (-1, -1), 6),\n",
    "])\n",
    "\n",
    "num_rows = len(data)\n",
    "num_cols = len(data[0])\n",
    "\n",
    "max_rows_per_page = int((page_height - 5.5 * inch) / (12 * 1.2)) - 1\n",
    "\n",
    "num_pages = int(num_rows / max_rows_per_page) + 1\n",
    "\n",
    "for page in range(num_pages):\n",
    "    # Título en la primera página\n",
    "    if page == 0:\n",
    "        pdf.setFont(\"Helvetica-Bold\", 16)\n",
    "        pdf.drawString(inch, page_height - inch, \"Reporte de anomalías detectadas\")\n",
    "        pdf.drawString(inch, page_height - inch+18, \"INVAP\")\n",
    "\n",
    "    # Pie de página en todas las páginas\n",
    "    pdf.setFont(\"Helvetica\", 8)\n",
    "    pdf.drawString(inch, inch+12, \"Especialización en Inteligencia Artificial\")\n",
    "    pdf.drawString(inch, inch, \"Ing. Raúl Blanco Elicabe\")\n",
    "\n",
    "    start_row = page * max_rows_per_page\n",
    "    end_row = min((page + 1) * max_rows_per_page, num_rows)\n",
    "\n",
    "    page_data = data[start_row:end_row]\n",
    "\n",
    "    table = Table(page_data, colWidths=[1.5 * inch] * num_cols)\n",
    "    table.setStyle(style_table)\n",
    "\n",
    "    table.wrapOn(pdf, page_width - 2 * inch, page_height - 2 * inch)\n",
    "    table.drawOn(pdf, inch, page_height - 10 * inch - 12 * 1.2)\n",
    "\n",
    "    if page < num_pages - 1:\n",
    "        pdf.showPage()\n",
    "\n",
    "pdf.save()\n"
   ]
  }
 ],
 "metadata": {
  "kernelspec": {
   "display_name": "base",
   "language": "python",
   "name": "python3"
  },
  "language_info": {
   "codemirror_mode": {
    "name": "ipython",
    "version": 3
   },
   "file_extension": ".py",
   "mimetype": "text/x-python",
   "name": "python",
   "nbconvert_exporter": "python",
   "pygments_lexer": "ipython3",
   "version": "3.9.12"
  },
  "orig_nbformat": 4
 },
 "nbformat": 4,
 "nbformat_minor": 2
}
