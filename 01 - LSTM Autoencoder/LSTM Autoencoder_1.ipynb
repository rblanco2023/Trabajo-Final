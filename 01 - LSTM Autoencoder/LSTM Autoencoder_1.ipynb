{
 "cells": [
  {
   "cell_type": "code",
   "execution_count": 1,
   "metadata": {},
   "outputs": [],
   "source": [
    "import numpy as np\n",
    "import pandas as pd\n",
    "from sklearn.preprocessing import StandardScaler\n",
    "from keras.layers import Input, LSTM, RepeatVector\n",
    "from keras.models import Model"
   ]
  },
  {
   "cell_type": "code",
   "execution_count": 151,
   "metadata": {},
   "outputs": [],
   "source": [
    "# Cargar el dataset\n",
    "\n",
    "filePath = \"C:/Users/raul.blanco/Documents/4 - Personales/UBA/Repositorios/IA/Trabajo-Final/solar_wind.csv\"\n",
    "dF = pd.read_csv(filepath_or_buffer=filePath, header=0, sep=\",\")\n",
    "\n",
    "df_A = dF.loc[dF['period']=='train_a']\n",
    "df_A = df_A.dropna()"
   ]
  },
  {
   "cell_type": "code",
   "execution_count": 152,
   "metadata": {},
   "outputs": [
    {
     "data": {
      "text/html": [
       "<div>\n",
       "<style scoped>\n",
       "    .dataframe tbody tr th:only-of-type {\n",
       "        vertical-align: middle;\n",
       "    }\n",
       "\n",
       "    .dataframe tbody tr th {\n",
       "        vertical-align: top;\n",
       "    }\n",
       "\n",
       "    .dataframe thead th {\n",
       "        text-align: right;\n",
       "    }\n",
       "</style>\n",
       "<table border=\"1\" class=\"dataframe\">\n",
       "  <thead>\n",
       "    <tr style=\"text-align: right;\">\n",
       "      <th></th>\n",
       "      <th>bx_gse</th>\n",
       "      <th>by_gse</th>\n",
       "      <th>bz_gse</th>\n",
       "      <th>theta_gse</th>\n",
       "      <th>phi_gse</th>\n",
       "      <th>bx_gsm</th>\n",
       "      <th>by_gsm</th>\n",
       "      <th>bz_gsm</th>\n",
       "      <th>theta_gsm</th>\n",
       "      <th>phi_gsm</th>\n",
       "      <th>bt</th>\n",
       "      <th>density</th>\n",
       "      <th>speed</th>\n",
       "      <th>temperature</th>\n",
       "    </tr>\n",
       "  </thead>\n",
       "  <tbody>\n",
       "    <tr>\n",
       "      <th>count</th>\n",
       "      <td>1.394555e+06</td>\n",
       "      <td>1.394555e+06</td>\n",
       "      <td>1.394555e+06</td>\n",
       "      <td>1.394555e+06</td>\n",
       "      <td>1.394555e+06</td>\n",
       "      <td>1.394555e+06</td>\n",
       "      <td>1.394555e+06</td>\n",
       "      <td>1.394555e+06</td>\n",
       "      <td>1.394555e+06</td>\n",
       "      <td>1.394555e+06</td>\n",
       "      <td>1.394555e+06</td>\n",
       "      <td>1.394555e+06</td>\n",
       "      <td>1.394555e+06</td>\n",
       "      <td>1.394555e+06</td>\n",
       "    </tr>\n",
       "    <tr>\n",
       "      <th>mean</th>\n",
       "      <td>-1.800583e+00</td>\n",
       "      <td>3.966949e-01</td>\n",
       "      <td>-1.998417e-01</td>\n",
       "      <td>-9.255569e-01</td>\n",
       "      <td>1.896923e+02</td>\n",
       "      <td>-1.800628e+00</td>\n",
       "      <td>3.517462e-01</td>\n",
       "      <td>-2.199138e-01</td>\n",
       "      <td>-1.035288e+00</td>\n",
       "      <td>1.895481e+02</td>\n",
       "      <td>7.069054e+00</td>\n",
       "      <td>4.898932e+00</td>\n",
       "      <td>4.372335e+02</td>\n",
       "      <td>1.059033e+05</td>\n",
       "    </tr>\n",
       "    <tr>\n",
       "      <th>std</th>\n",
       "      <td>4.293035e+00</td>\n",
       "      <td>4.768893e+00</td>\n",
       "      <td>4.339669e+00</td>\n",
       "      <td>3.461554e+01</td>\n",
       "      <td>8.778546e+01</td>\n",
       "      <td>4.293178e+00</td>\n",
       "      <td>4.730183e+00</td>\n",
       "      <td>4.384533e+00</td>\n",
       "      <td>3.509333e+01</td>\n",
       "      <td>8.793808e+01</td>\n",
       "      <td>3.693071e+00</td>\n",
       "      <td>4.834451e+00</td>\n",
       "      <td>9.460213e+01</td>\n",
       "      <td>1.001220e+05</td>\n",
       "    </tr>\n",
       "    <tr>\n",
       "      <th>min</th>\n",
       "      <td>-5.463000e+01</td>\n",
       "      <td>-5.169000e+01</td>\n",
       "      <td>-5.305000e+01</td>\n",
       "      <td>-8.989000e+01</td>\n",
       "      <td>0.000000e+00</td>\n",
       "      <td>-5.463000e+01</td>\n",
       "      <td>-5.268000e+01</td>\n",
       "      <td>-5.352000e+01</td>\n",
       "      <td>-8.968000e+01</td>\n",
       "      <td>0.000000e+00</td>\n",
       "      <td>1.400000e-01</td>\n",
       "      <td>0.000000e+00</td>\n",
       "      <td>2.358000e+02</td>\n",
       "      <td>1.000000e+04</td>\n",
       "    </tr>\n",
       "    <tr>\n",
       "      <th>25%</th>\n",
       "      <td>-4.940000e+00</td>\n",
       "      <td>-2.760000e+00</td>\n",
       "      <td>-2.660000e+00</td>\n",
       "      <td>-2.563000e+01</td>\n",
       "      <td>1.303800e+02</td>\n",
       "      <td>-4.940000e+00</td>\n",
       "      <td>-2.740000e+00</td>\n",
       "      <td>-2.700000e+00</td>\n",
       "      <td>-2.622500e+01</td>\n",
       "      <td>1.304100e+02</td>\n",
       "      <td>4.920000e+00</td>\n",
       "      <td>2.300000e+00</td>\n",
       "      <td>3.709200e+02</td>\n",
       "      <td>4.363800e+04</td>\n",
       "    </tr>\n",
       "    <tr>\n",
       "      <th>50%</th>\n",
       "      <td>-2.020000e+00</td>\n",
       "      <td>5.200000e-01</td>\n",
       "      <td>-1.700000e-01</td>\n",
       "      <td>-1.690000e+00</td>\n",
       "      <td>1.709000e+02</td>\n",
       "      <td>-2.020000e+00</td>\n",
       "      <td>4.600000e-01</td>\n",
       "      <td>-1.700000e-01</td>\n",
       "      <td>-1.760000e+00</td>\n",
       "      <td>1.716600e+02</td>\n",
       "      <td>6.310000e+00</td>\n",
       "      <td>3.630000e+00</td>\n",
       "      <td>4.184600e+02</td>\n",
       "      <td>7.922100e+04</td>\n",
       "    </tr>\n",
       "    <tr>\n",
       "      <th>75%</th>\n",
       "      <td>1.500000e+00</td>\n",
       "      <td>3.400000e+00</td>\n",
       "      <td>2.290000e+00</td>\n",
       "      <td>2.352000e+01</td>\n",
       "      <td>2.687400e+02</td>\n",
       "      <td>1.500000e+00</td>\n",
       "      <td>3.310000e+00</td>\n",
       "      <td>2.340000e+00</td>\n",
       "      <td>2.362000e+01</td>\n",
       "      <td>2.680800e+02</td>\n",
       "      <td>8.190000e+00</td>\n",
       "      <td>5.810000e+00</td>\n",
       "      <td>4.847600e+02</td>\n",
       "      <td>1.324900e+05</td>\n",
       "    </tr>\n",
       "    <tr>\n",
       "      <th>max</th>\n",
       "      <td>3.289000e+01</td>\n",
       "      <td>4.941000e+01</td>\n",
       "      <td>5.086000e+01</td>\n",
       "      <td>8.987000e+01</td>\n",
       "      <td>3.600000e+02</td>\n",
       "      <td>3.289000e+01</td>\n",
       "      <td>5.291000e+01</td>\n",
       "      <td>4.758000e+01</td>\n",
       "      <td>8.989000e+01</td>\n",
       "      <td>3.600000e+02</td>\n",
       "      <td>7.369000e+01</td>\n",
       "      <td>1.849300e+02</td>\n",
       "      <td>1.011500e+03</td>\n",
       "      <td>6.223700e+06</td>\n",
       "    </tr>\n",
       "  </tbody>\n",
       "</table>\n",
       "</div>"
      ],
      "text/plain": [
       "             bx_gse        by_gse        bz_gse     theta_gse       phi_gse  \\\n",
       "count  1.394555e+06  1.394555e+06  1.394555e+06  1.394555e+06  1.394555e+06   \n",
       "mean  -1.800583e+00  3.966949e-01 -1.998417e-01 -9.255569e-01  1.896923e+02   \n",
       "std    4.293035e+00  4.768893e+00  4.339669e+00  3.461554e+01  8.778546e+01   \n",
       "min   -5.463000e+01 -5.169000e+01 -5.305000e+01 -8.989000e+01  0.000000e+00   \n",
       "25%   -4.940000e+00 -2.760000e+00 -2.660000e+00 -2.563000e+01  1.303800e+02   \n",
       "50%   -2.020000e+00  5.200000e-01 -1.700000e-01 -1.690000e+00  1.709000e+02   \n",
       "75%    1.500000e+00  3.400000e+00  2.290000e+00  2.352000e+01  2.687400e+02   \n",
       "max    3.289000e+01  4.941000e+01  5.086000e+01  8.987000e+01  3.600000e+02   \n",
       "\n",
       "             bx_gsm        by_gsm        bz_gsm     theta_gsm       phi_gsm  \\\n",
       "count  1.394555e+06  1.394555e+06  1.394555e+06  1.394555e+06  1.394555e+06   \n",
       "mean  -1.800628e+00  3.517462e-01 -2.199138e-01 -1.035288e+00  1.895481e+02   \n",
       "std    4.293178e+00  4.730183e+00  4.384533e+00  3.509333e+01  8.793808e+01   \n",
       "min   -5.463000e+01 -5.268000e+01 -5.352000e+01 -8.968000e+01  0.000000e+00   \n",
       "25%   -4.940000e+00 -2.740000e+00 -2.700000e+00 -2.622500e+01  1.304100e+02   \n",
       "50%   -2.020000e+00  4.600000e-01 -1.700000e-01 -1.760000e+00  1.716600e+02   \n",
       "75%    1.500000e+00  3.310000e+00  2.340000e+00  2.362000e+01  2.680800e+02   \n",
       "max    3.289000e+01  5.291000e+01  4.758000e+01  8.989000e+01  3.600000e+02   \n",
       "\n",
       "                 bt       density         speed   temperature  \n",
       "count  1.394555e+06  1.394555e+06  1.394555e+06  1.394555e+06  \n",
       "mean   7.069054e+00  4.898932e+00  4.372335e+02  1.059033e+05  \n",
       "std    3.693071e+00  4.834451e+00  9.460213e+01  1.001220e+05  \n",
       "min    1.400000e-01  0.000000e+00  2.358000e+02  1.000000e+04  \n",
       "25%    4.920000e+00  2.300000e+00  3.709200e+02  4.363800e+04  \n",
       "50%    6.310000e+00  3.630000e+00  4.184600e+02  7.922100e+04  \n",
       "75%    8.190000e+00  5.810000e+00  4.847600e+02  1.324900e+05  \n",
       "max    7.369000e+01  1.849300e+02  1.011500e+03  6.223700e+06  "
      ]
     },
     "execution_count": 152,
     "metadata": {},
     "output_type": "execute_result"
    }
   ],
   "source": [
    "df_A.describe()"
   ]
  },
  {
   "cell_type": "code",
   "execution_count": 153,
   "metadata": {},
   "outputs": [],
   "source": [
    "# Calcular el número de valores a reemplazar\n",
    "#features = ['bx_gse', 'by_gse', 'bz_gse', 'theta_gse', 'phi_gse', 'bx_gsm', 'by_gsm', 'bz_gsm', 'theta_gsm', 'phi_gsm', 'bt', 'density', 'speed', 'temperature']\n",
    "features = ['bt']\n",
    "anomaly_factor = 0.17\n",
    "# Crear una copia del DataFrame para no modificar el original\n",
    "df_new = df_A.copy()\n",
    "\n",
    "for a in features:\n",
    "  num_replace = int(df_A[a].size * anomaly_factor)\n",
    "\n",
    "  # Obtener una muestra aleatoria de índices de fila para reemplazar\n",
    "  replace_idx = np.random.choice(df_A.index, size=num_replace, replace=False)\n",
    "\n",
    "  # Reemplazar los valores seleccionados con valores aleatorios entre -90 y 1050\n",
    "  #new_values = np.random.uniform(-90, 1050, size=num_replace)\n",
    "  new_values = np.random.uniform(0, 75, size=num_replace)\n",
    "  df_new.loc[replace_idx, a] = new_values\n",
    "\n",
    "  # Crear la columna \"class\" con los valores correspondientes\n",
    "  df_new.loc[df_A[a] != df_new[a], 'class'] = 1\n",
    "  df_new.loc[df_A[a] == df_new[a], 'class'] = 0"
   ]
  },
  {
   "cell_type": "code",
   "execution_count": 154,
   "metadata": {},
   "outputs": [
    {
     "name": "stdout",
     "output_type": "stream",
     "text": [
      "En el todo el dataset:\n",
      "El número de anomalias es 237074 de 1157481 valores normales\n",
      "La relacion de anomalias es 0.20481891279424888\n"
     ]
    }
   ],
   "source": [
    "print('En el todo el dataset:')\n",
    "count = (df_new['class'] == 1).sum()\n",
    "count2 = (df_new['class'] != 1).sum()\n",
    "print(f'El número de anomalias es {count} de {count2} valores normales')\n",
    "cociente = count / count2\n",
    "print(f'La relacion de anomalias es {cociente}')"
   ]
  },
  {
   "cell_type": "code",
   "execution_count": 155,
   "metadata": {},
   "outputs": [],
   "source": [
    "# Dividir el conjunto de datos en conjuntos de entrenamiento y prueba\n",
    "train_data = df_new.sample(frac=0.8, random_state=0)\n",
    "test_data = df_new.drop(train_data.index)"
   ]
  },
  {
   "cell_type": "code",
   "execution_count": 156,
   "metadata": {},
   "outputs": [
    {
     "name": "stdout",
     "output_type": "stream",
     "text": [
      "En el train set:\n",
      "El número de anomalias es 189524 de 926120 valores normales\n",
      "La relacion de anomalias es 0.2046430268215782\n"
     ]
    }
   ],
   "source": [
    "train_df = pd.DataFrame(train_data, columns = ['1','2','3','4','5','6','7','8','9','10','11','12','13','14','class'])\n",
    "print('En el train set:')\n",
    "count = (train_df['class'] == 1).sum()\n",
    "count2 = (train_df['class'] != 1).sum()\n",
    "print(f'El número de anomalias es {count} de {count2} valores normales')\n",
    "cociente = count / count2\n",
    "print(f'La relacion de anomalias es {cociente}')"
   ]
  },
  {
   "cell_type": "code",
   "execution_count": 157,
   "metadata": {},
   "outputs": [
    {
     "name": "stdout",
     "output_type": "stream",
     "text": [
      "En el test:\n",
      "El número de anomalias es 47550 de 231361 valores normales\n",
      "La relacion de anomalias es 0.20552297059573568\n"
     ]
    }
   ],
   "source": [
    "test_df = pd.DataFrame(test_data, columns = ['1','2','3','4','5','6','7','8','9','10','11','12','13','14','class'])\n",
    "print('En el test:')\n",
    "count = (test_df['class'] == 1).sum()\n",
    "count2 = (test_df['class'] != 1).sum()\n",
    "print(f'El número de anomalias es {count} de {count2} valores normales')\n",
    "cociente = count / count2\n",
    "print(f'La relacion de anomalias es {cociente}')\n"
   ]
  },
  {
   "cell_type": "code",
   "execution_count": 158,
   "metadata": {},
   "outputs": [],
   "source": [
    "# Preparo el dataset en X e y y elimino columnas no necesarias\n",
    "y = test_data['class']\n",
    "y_full = test_data\n",
    "train_data = train_data.drop([\"timedelta\", \"period\", \"source\", 'class'], axis=1)\n",
    "test_data = test_data.drop([\"timedelta\", \"period\", \"source\", 'class'], axis=1)"
   ]
  },
  {
   "cell_type": "code",
   "execution_count": 159,
   "metadata": {},
   "outputs": [],
   "source": [
    "# Normalizar los datos utilizando StandardScaler()\n",
    "scaler = StandardScaler()\n",
    "train_data = scaler.fit_transform(train_data)\n",
    "test_data = scaler.transform(test_data)"
   ]
  },
  {
   "cell_type": "code",
   "execution_count": 160,
   "metadata": {},
   "outputs": [
    {
     "data": {
      "text/plain": [
       "(1115644, 1, 14)"
      ]
     },
     "execution_count": 160,
     "metadata": {},
     "output_type": "execute_result"
    }
   ],
   "source": [
    "train_data = train_data.reshape(train_data.shape[0],1,train_data.shape[1])\n",
    "train_data.shape"
   ]
  },
  {
   "cell_type": "code",
   "execution_count": 161,
   "metadata": {},
   "outputs": [
    {
     "data": {
      "text/plain": [
       "(278911, 1, 14)"
      ]
     },
     "execution_count": 161,
     "metadata": {},
     "output_type": "execute_result"
    }
   ],
   "source": [
    "test_data = test_data.reshape(test_data.shape[0],1,test_data.shape[1])\n",
    "test_data.shape"
   ]
  },
  {
   "attachments": {},
   "cell_type": "markdown",
   "metadata": {},
   "source": [
    "The entire network is usually trained as a whole. The loss function is usually either\n",
    "the mean-squared error or cross-entropy between the output and the input, known as\n",
    "the reconstruction loss, which penalizes the network for creating outputs different from\n",
    "the input. Since the encoding (which is simply the output of the hidden layer in\n",
    "the middle) has far less units than the input, the encoder must choose to discard\n",
    "information. The encoder learns to preserve as much of the relevant information as\n",
    "possible in the limited encoding and intelligently discards the irrelevant parts. The\n",
    "decoder learns to take the encoding and properly reconstruct it back into the input."
   ]
  },
  {
   "cell_type": "code",
   "execution_count": 162,
   "metadata": {},
   "outputs": [],
   "source": [
    "# Crear un modelo de autoencoder con LSTM\n",
    "input_dim = train_data.shape[2]\n",
    "timesteps = 1\n",
    "\n",
    "inputs = Input(shape=(timesteps, input_dim))\n",
    "encoded = LSTM(64, activation='relu', return_sequences=True)(inputs)\n",
    "encoded = LSTM(32, activation='relu', return_sequences=True)(inputs)\n",
    "encoded = LSTM(16, activation='relu', return_sequences=False)(encoded)\n",
    "decoded = RepeatVector(timesteps)(encoded)\n",
    "decoded = LSTM(16, activation='relu', return_sequences=True)(decoded)\n",
    "decoded = LSTM(32, activation='relu', return_sequences=True)(decoded)\n",
    "decoded = LSTM(64, activation='relu', return_sequences=True)(decoded)\n",
    "decoded = LSTM(input_dim, activation='linear', return_sequences=True)(decoded)\n",
    "\n",
    "autoencoder = Model(inputs, decoded)\n",
    "autoencoder.compile(optimizer='adam', loss='mse')"
   ]
  },
  {
   "cell_type": "code",
   "execution_count": 163,
   "metadata": {},
   "outputs": [
    {
     "name": "stdout",
     "output_type": "stream",
     "text": [
      "Epoch 1/10\n",
      "3138/3138 [==============================] - 27s 7ms/step - loss: 0.1724 - val_loss: 0.0210\n",
      "Epoch 2/10\n",
      "3138/3138 [==============================] - 23s 7ms/step - loss: 0.0157 - val_loss: 0.0120\n",
      "Epoch 3/10\n",
      "3138/3138 [==============================] - 26s 8ms/step - loss: 0.0080 - val_loss: 0.0048\n",
      "Epoch 4/10\n",
      "3138/3138 [==============================] - 26s 8ms/step - loss: 0.0030 - val_loss: 0.0020\n",
      "Epoch 5/10\n",
      "3138/3138 [==============================] - 30s 10ms/step - loss: 0.0021 - val_loss: 0.0017\n",
      "Epoch 6/10\n",
      "3138/3138 [==============================] - 35s 11ms/step - loss: 0.0016 - val_loss: 0.0012\n",
      "Epoch 7/10\n",
      "3138/3138 [==============================] - 28s 9ms/step - loss: 0.0013 - val_loss: 0.0010\n",
      "Epoch 8/10\n",
      "3138/3138 [==============================] - 29s 9ms/step - loss: 0.0012 - val_loss: 8.7303e-04\n",
      "Epoch 9/10\n",
      "3138/3138 [==============================] - 28s 9ms/step - loss: 9.3647e-04 - val_loss: 8.3979e-04\n",
      "Epoch 10/10\n",
      "3138/3138 [==============================] - 27s 9ms/step - loss: 9.6418e-04 - val_loss: 7.2281e-04\n"
     ]
    },
    {
     "data": {
      "text/plain": [
       "<keras.callbacks.History at 0x1d35bf83ee0>"
      ]
     },
     "execution_count": 163,
     "metadata": {},
     "output_type": "execute_result"
    }
   ],
   "source": [
    "# Entrenar el modelo utilizando los datos de entrenamiento\n",
    "autoencoder.fit(train_data, train_data, epochs=10, batch_size=320, validation_split=0.1)"
   ]
  },
  {
   "cell_type": "code",
   "execution_count": 164,
   "metadata": {},
   "outputs": [
    {
     "name": "stdout",
     "output_type": "stream",
     "text": [
      "8716/8716 [==============================] - 17s 2ms/step\n"
     ]
    }
   ],
   "source": [
    "# Utilizar el modelo para hacer predicciones en los datos de prueba\n",
    "predictions = autoencoder.predict(test_data)"
   ]
  },
  {
   "cell_type": "code",
   "execution_count": 165,
   "metadata": {},
   "outputs": [],
   "source": [
    "# Comparar las predicciones con los valores reales de \"class\" y generar una matriz de confusión para evaluar el modelo\n",
    "threshold = 0.01\n",
    "predictions[predictions >= threshold] = 1\n",
    "predictions[predictions < threshold] = 0"
   ]
  },
  {
   "cell_type": "code",
   "execution_count": 166,
   "metadata": {},
   "outputs": [
    {
     "name": "stdout",
     "output_type": "stream",
     "text": [
      "Predicted     0.0    1.0\n",
      "Actual                  \n",
      "0.0        215500  15861\n",
      "1.0          7939  39611\n"
     ]
    }
   ],
   "source": [
    "predictions = predictions.reshape(predictions.shape[0], predictions.shape[2])\n",
    "test_data = test_data.reshape(test_data.shape[0], test_data.shape[2])\n",
    "y_full = y_full.to_numpy()\n",
    "confusion_matrix = pd.crosstab(y_full[:, -1], predictions[:, 10], rownames=['Actual'], colnames=['Predicted'])\n",
    "print(confusion_matrix)"
   ]
  },
  {
   "cell_type": "code",
   "execution_count": 167,
   "metadata": {},
   "outputs": [],
   "source": [
    "pd_predictions = pd.DataFrame(predictions)\n",
    "column_10 = predictions[:, 10]\n",
    "is_one = column_10 ==1\n",
    "# Asignar 1 a los elementos que sean True y 0 a los elementos que sean False\n",
    "has_ones = np.where(is_one, 1, 0)"
   ]
  },
  {
   "cell_type": "code",
   "execution_count": 168,
   "metadata": {},
   "outputs": [
    {
     "name": "stdout",
     "output_type": "stream",
     "text": [
      "El número de anomalias es 55472 de 223439 valores normales\n"
     ]
    }
   ],
   "source": [
    "has_ones_pd = pd.DataFrame(has_ones, columns=['class'])\n",
    "count = (has_ones_pd['class'] == 1).sum()\n",
    "count1 = (has_ones_pd['class'] == 0).sum()\n",
    "print(f'El número de anomalias es {count} de {count1} valores normales')"
   ]
  },
  {
   "cell_type": "code",
   "execution_count": 169,
   "metadata": {},
   "outputs": [],
   "source": [
    "new_column = has_ones\n",
    "# Agregar la nueva columna al final del ndarray original\n",
    "predictions_class = np.hstack((predictions, new_column.reshape(-1, 1)))"
   ]
  },
  {
   "cell_type": "code",
   "execution_count": 170,
   "metadata": {},
   "outputs": [
    {
     "name": "stdout",
     "output_type": "stream",
     "text": [
      "El número de anomalias es 55472 de 223439 valores normales\n"
     ]
    }
   ],
   "source": [
    "new_column_df = pd.DataFrame(new_column, columns =['class'])\n",
    "count3 = (new_column_df['class'] == True).sum()\n",
    "count4 = (new_column_df['class'] == False).sum()\n",
    "print(f'El número de anomalias es {count3} de {count4} valores normales')"
   ]
  },
  {
   "cell_type": "code",
   "execution_count": 171,
   "metadata": {},
   "outputs": [],
   "source": [
    "pd_predictions = pd.DataFrame(predictions_class)"
   ]
  },
  {
   "cell_type": "code",
   "execution_count": 172,
   "metadata": {},
   "outputs": [],
   "source": [
    "pd_test_data = pd.DataFrame(test_data)"
   ]
  },
  {
   "cell_type": "code",
   "execution_count": 173,
   "metadata": {},
   "outputs": [
    {
     "data": {
      "text/plain": [
       "array([1., 0., 0., ..., 0., 0., 0.])"
      ]
     },
     "execution_count": 173,
     "metadata": {},
     "output_type": "execute_result"
    }
   ],
   "source": [
    "predictions_class[:,14]"
   ]
  },
  {
   "cell_type": "code",
   "execution_count": 174,
   "metadata": {},
   "outputs": [
    {
     "name": "stdout",
     "output_type": "stream",
     "text": [
      "              precision    recall  f1-score   support\n",
      "\n",
      "         0.0       0.93      0.96      0.95    223439\n",
      "         1.0       0.83      0.71      0.77     55472\n",
      "\n",
      "    accuracy                           0.91    278911\n",
      "   macro avg       0.88      0.84      0.86    278911\n",
      "weighted avg       0.91      0.91      0.91    278911\n",
      "\n"
     ]
    }
   ],
   "source": [
    "from sklearn.metrics import classification_report\n",
    " \n",
    "print(classification_report(predictions_class[:,14], y))"
   ]
  },
  {
   "cell_type": "code",
   "execution_count": 175,
   "metadata": {},
   "outputs": [],
   "source": [
    "import matplotlib.pyplot as plt \n",
    "import seaborn as sns\n",
    "from sklearn.metrics import confusion_matrix\n",
    "class visualization:\n",
    "  labels = [\"Normal\",\"Anomal\"]\n",
    "  def draw_confusion_matrix(self, y, ypred):\n",
    "    matrix = confusion_matrix(y, ypred)\n",
    "\n",
    "    plt.figure(figsize=(10,8))\n",
    "    colors=[\"orange\", \"green\"]\n",
    "    sns.heatmap(matrix, xticklabels=self.labels, yticklabels=self.labels, cmap=colors, annot=True, fmt=\"d\")\n",
    "    plt.title(\"Confusion Matrix\")\n",
    "    plt.ylabel(\"Realidad\")\n",
    "    plt.xlabel(\"Predicción\")\n",
    "    plt.show()"
   ]
  },
  {
   "cell_type": "code",
   "execution_count": 176,
   "metadata": {},
   "outputs": [
    {
     "name": "stdout",
     "output_type": "stream",
     "text": [
      "El número de anomalias reales es 47550\n"
     ]
    }
   ],
   "source": [
    "y_pd = pd.DataFrame(y, columns = ['class'])\n",
    "count = (y_pd['class'] == 1).sum()\n",
    "print(f'El número de anomalias reales es {count}')"
   ]
  },
  {
   "cell_type": "code",
   "execution_count": 177,
   "metadata": {},
   "outputs": [
    {
     "name": "stdout",
     "output_type": "stream",
     "text": [
      "El número de anomalias predecidas es 55472\n"
     ]
    }
   ],
   "source": [
    "predictions_class_pd  = pd.DataFrame(predictions_class, columns = ['1','2','3','4','5','6','7','8','9','10','11','12','13','14','class'])\n",
    "count = (predictions_class_pd['class'] == 1).sum()\n",
    "print(f'El número de anomalias predecidas es {count}')"
   ]
  },
  {
   "cell_type": "code",
   "execution_count": 178,
   "metadata": {},
   "outputs": [
    {
     "data": {
      "image/png": "[encoded data removed]",
      "text/plain": [
       "<Figure size 720x576 with 2 Axes>"
      ]
     },
     "metadata": {
      "needs_background": "light"
     },
     "output_type": "display_data"
    }
   ],
   "source": [
    "viz = visualization()\n",
    "viz.draw_confusion_matrix(y_pd, predictions_class[:,14])"
   ]
  }
 ],
 "metadata": {
  "kernelspec": {
   "display_name": "base",
   "language": "python",
   "name": "python3"
  },
  "language_info": {
   "codemirror_mode": {
    "name": "ipython",
    "version": 3
   },
   "file_extension": ".py",
   "mimetype": "text/x-python",
   "name": "python",
   "nbconvert_exporter": "python",
   "pygments_lexer": "ipython3",
   "version": "3.9.12"
  },
  "orig_nbformat": 4
 },
 "nbformat": 4,
 "nbformat_minor": 2
}
